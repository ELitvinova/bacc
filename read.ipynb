{
 "cells": [
  {
   "cell_type": "code",
   "execution_count": 1,
   "id": "58522e68",
   "metadata": {},
   "outputs": [],
   "source": [
    "import pickle\n",
    "import gzip\n",
    "import json\n",
    "import pandas as pd\n",
    "\n",
    "import numpy as np\n",
    "import networkx as nx\n",
    "from tqdm import tqdm\n",
    "from joblib import Parallel, delayed"
   ]
  },
  {
   "cell_type": "code",
   "execution_count": 2,
   "id": "e7da8dd6",
   "metadata": {},
   "outputs": [
    {
     "name": "stdout",
     "output_type": "stream",
     "text": [
      "argon2-cffi @ file:///tmp/build/80754af9/argon2-cffi_1613037499734/work\r\n",
      "ase==3.22.1\r\n",
      "async-generator @ file:///home/ktietz/src/ci/async_generator_1611927993394/work\r\n",
      "attrs @ file:///opt/conda/conda-bld/attrs_1642510447205/work\r\n",
      "backcall @ file:///home/ktietz/src/ci/backcall_1611930011877/work\r\n",
      "bleach @ file:///opt/conda/conda-bld/bleach_1641577558959/work\r\n",
      "certifi==2021.10.8\r\n",
      "cffi @ file:///opt/conda/conda-bld/cffi_1642701102775/work\r\n",
      "charset-normalizer==2.0.11\r\n",
      "cycler==0.11.0\r\n",
      "Cython==0.29.27\r\n",
      "debugpy @ file:///tmp/build/80754af9/debugpy_1637091799509/work\r\n",
      "decorator @ file:///opt/conda/conda-bld/decorator_1643638310831/work\r\n",
      "defusedxml @ file:///tmp/build/80754af9/defusedxml_1615228127516/work\r\n",
      "entrypoints==0.3\r\n",
      "fonttools==4.29.1\r\n",
      "future==0.18.2\r\n",
      "idna==3.3\r\n",
      "importlib-metadata @ file:///tmp/build/80754af9/importlib-metadata_1638542770237/work\r\n",
      "ipykernel @ file:///tmp/build/80754af9/ipykernel_1633534655931/work/dist/ipykernel-6.4.1-py3-none-any.whl\r\n",
      "ipython @ file:///tmp/build/80754af9/ipython_1643818145072/work\r\n",
      "ipython-genutils @ file:///tmp/build/80754af9/ipython_genutils_1606773439826/work\r\n",
      "ipywidgets @ file:///tmp/build/80754af9/ipywidgets_1634143127070/work\r\n",
      "jedi @ file:///tmp/build/80754af9/jedi_1644297102865/work\r\n",
      "Jinja2 @ file:///tmp/build/80754af9/jinja2_1635780242639/work\r\n",
      "joblib==1.1.0\r\n",
      "jsonschema @ file:///Users/ktietz/demo/mc3/conda-bld/jsonschema_1630511932244/work\r\n",
      "jupyter @ file:///tmp/build/80754af9/jupyter_1607700846274/work\r\n",
      "jupyter-client @ file:///opt/conda/conda-bld/jupyter_client_1643638337975/work\r\n",
      "jupyter-console @ file:///tmp/build/80754af9/jupyter_console_1616615302928/work\r\n",
      "jupyter-contrib-core==0.3.3\r\n",
      "jupyter-contrib-nbextensions==0.5.1\r\n",
      "jupyter-core @ file:///tmp/build/80754af9/jupyter_core_1636537028672/work\r\n",
      "jupyter-highlight-selected-word==0.2.0\r\n",
      "jupyter-latex-envs==1.4.6\r\n",
      "jupyter-nbextensions-configurator==0.4.1\r\n",
      "jupyterlab-pygments @ file:///tmp/build/80754af9/jupyterlab_pygments_1601490720602/work\r\n",
      "jupyterlab-widgets @ file:///tmp/build/80754af9/jupyterlab_widgets_1609884341231/work\r\n",
      "kiwisolver==1.3.2\r\n",
      "latexcodec==2.0.1\r\n",
      "lxml==4.7.1\r\n",
      "MarkupSafe @ file:///tmp/build/80754af9/markupsafe_1621523467000/work\r\n",
      "matplotlib==3.5.1\r\n",
      "matplotlib-inline @ file:///tmp/build/80754af9/matplotlib-inline_1628242447089/work\r\n",
      "mistune @ file:///tmp/build/80754af9/mistune_1607364877025/work\r\n",
      "monty==2022.1.19\r\n",
      "mpmath==1.2.1\r\n",
      "nb-conda==2.2.1\r\n",
      "nb-conda-kernels @ file:///tmp/build/80754af9/nb_conda_kernels_1636035787744/work\r\n",
      "nbclient @ file:///tmp/build/80754af9/nbclient_1614364831625/work\r\n",
      "nbconvert @ file:///opt/conda/conda-bld/nbconvert_1641309195684/work\r\n",
      "nbformat @ file:///tmp/build/80754af9/nbformat_1617383369282/work\r\n",
      "nest-asyncio @ file:///tmp/build/80754af9/nest-asyncio_1613680548246/work\r\n",
      "networkx==2.6.3\r\n",
      "nglview==3.0.3\r\n",
      "notebook @ file:///tmp/build/80754af9/notebook_1637161762562/work\r\n",
      "numpy==1.22.2\r\n",
      "packaging @ file:///tmp/build/80754af9/packaging_1637314298585/work\r\n",
      "palettable==3.3.0\r\n",
      "pandas==1.4.0\r\n",
      "pandocfilters @ file:///opt/conda/conda-bld/pandocfilters_1643405455980/work\r\n",
      "parso @ file:///opt/conda/conda-bld/parso_1641458642106/work\r\n",
      "pexpect @ file:///tmp/build/80754af9/pexpect_1605563209008/work\r\n",
      "pickleshare @ file:///tmp/build/80754af9/pickleshare_1606932040724/work\r\n",
      "Pillow==9.0.1\r\n",
      "plotly==5.6.0\r\n",
      "prometheus-client @ file:///opt/conda/conda-bld/prometheus_client_1643788673601/work\r\n",
      "prompt-toolkit @ file:///tmp/build/80754af9/prompt-toolkit_1633440160888/work\r\n",
      "ptyprocess @ file:///tmp/build/80754af9/ptyprocess_1609355006118/work/dist/ptyprocess-0.7.0-py2.py3-none-any.whl\r\n",
      "pybtex==0.24.0\r\n",
      "pycparser @ file:///tmp/build/80754af9/pycparser_1636541352034/work\r\n",
      "Pygments @ file:///opt/conda/conda-bld/pygments_1644249106324/work\r\n",
      "pymatgen==2022.2.7\r\n",
      "pyparsing @ file:///tmp/build/80754af9/pyparsing_1635766073266/work\r\n",
      "pyrsistent @ file:///tmp/build/80754af9/pyrsistent_1636110951836/work\r\n",
      "python-dateutil @ file:///tmp/build/80754af9/python-dateutil_1626374649649/work\r\n",
      "pytz==2021.3\r\n",
      "PyYAML==6.0\r\n",
      "pyzmq @ file:///tmp/build/80754af9/pyzmq_1638434985866/work\r\n",
      "qtconsole @ file:///opt/conda/conda-bld/qtconsole_1643819126524/work\r\n",
      "QtPy @ file:///opt/conda/conda-bld/qtpy_1643087291789/work\r\n",
      "requests==2.27.1\r\n",
      "ruamel.yaml==0.17.20\r\n",
      "ruamel.yaml.clib==0.2.6\r\n",
      "scipy==1.8.0\r\n",
      "Send2Trash @ file:///tmp/build/80754af9/send2trash_1632406701022/work\r\n",
      "sip==4.19.13\r\n",
      "six @ file:///tmp/build/80754af9/six_1623709665295/work\r\n",
      "spglib==1.16.3\r\n",
      "sympy==1.9\r\n",
      "tabulate==0.8.9\r\n",
      "tenacity==8.0.1\r\n",
      "terminado @ file:///tmp/build/80754af9/terminado_1644322582718/work\r\n",
      "testpath @ file:///tmp/build/80754af9/testpath_1624638946665/work\r\n",
      "tornado @ file:///tmp/build/80754af9/tornado_1606942317143/work\r\n",
      "tqdm==4.62.3\r\n",
      "traitlets @ file:///tmp/build/80754af9/traitlets_1636710298902/work\r\n",
      "uncertainties==3.1.6\r\n",
      "urllib3==1.26.8\r\n",
      "wcwidth @ file:///Users/ktietz/demo/mc3/conda-bld/wcwidth_1629357192024/work\r\n",
      "webencodings==0.5.1\r\n",
      "widgetsnbextension @ file:///tmp/build/80754af9/widgetsnbextension_1607531506226/work\r\n",
      "zipp @ file:///opt/conda/conda-bld/zipp_1641824620731/work\r\n"
     ]
    }
   ],
   "source": [
    "!pip freeze"
   ]
  },
  {
   "cell_type": "code",
   "execution_count": 2,
   "id": "9aa604d8",
   "metadata": {},
   "outputs": [
    {
     "name": "stderr",
     "output_type": "stream",
     "text": [
      "/home/user/anaconda3/envs/bacc/lib/python3.9/site-packages/pymatgen/core/__init__.py:49: UserWarning: Error loading .pmgrc.yaml: [Errno 2] No such file or directory: '/home/user/.pmgrc.yaml'. You may need to reconfigure your yaml file.\n",
      "  warnings.warn(f\"Error loading .pmgrc.yaml: {ex}. You may need to reconfigure your yaml file.\")\n"
     ]
    }
   ],
   "source": [
    "from pymatgen.transformations.site_transformations import (\n",
    "    ReplaceSiteSpeciesTransformation,\n",
    "    InsertSitesTransformation,\n",
    "    RemoveSitesTransformation\n",
    ")\n",
    "from pymatgen.symmetry.analyzer import SpacegroupAnalyzer, SpacegroupOperations\n",
    "from pymatgen.core.sites import PeriodicSite"
   ]
  },
  {
   "cell_type": "code",
   "execution_count": 3,
   "id": "2d82341d",
   "metadata": {},
   "outputs": [],
   "source": [
    "with gzip.open('data.pickle.gz', 'rb') as fh:\n",
    "    data = pickle.load(fh, )"
   ]
  },
  {
   "cell_type": "code",
   "execution_count": 4,
   "id": "be6d25e3",
   "metadata": {},
   "outputs": [
    {
     "data": {
      "text/plain": [
       "(5933, 11)"
      ]
     },
     "execution_count": 4,
     "metadata": {},
     "output_type": "execute_result"
    }
   ],
   "source": [
    "data.shape"
   ]
  },
  {
   "cell_type": "code",
   "execution_count": 5,
   "id": "6d086a04",
   "metadata": {},
   "outputs": [],
   "source": [
    "data[\"idx\"] = np.arange(len(data))"
   ]
  },
  {
   "cell_type": "code",
   "execution_count": 6,
   "id": "12ed6627",
   "metadata": {},
   "outputs": [
    {
     "data": {
      "text/html": [
       "<div>\n",
       "<style scoped>\n",
       "    .dataframe tbody tr th:only-of-type {\n",
       "        vertical-align: middle;\n",
       "    }\n",
       "\n",
       "    .dataframe tbody tr th {\n",
       "        vertical-align: top;\n",
       "    }\n",
       "\n",
       "    .dataframe thead th {\n",
       "        text-align: right;\n",
       "    }\n",
       "</style>\n",
       "<table border=\"1\" class=\"dataframe\">\n",
       "  <thead>\n",
       "    <tr style=\"text-align: right;\">\n",
       "      <th></th>\n",
       "      <th>descriptor_id</th>\n",
       "      <th>energy</th>\n",
       "      <th>energy_per_atom</th>\n",
       "      <th>fermi_level</th>\n",
       "      <th>homo</th>\n",
       "      <th>lumo</th>\n",
       "      <th>initial_structure</th>\n",
       "      <th>defect_representation</th>\n",
       "      <th>formation_energy</th>\n",
       "      <th>formation_energy_per_site</th>\n",
       "      <th>band_gap</th>\n",
       "      <th>idx</th>\n",
       "    </tr>\n",
       "    <tr>\n",
       "      <th>_id</th>\n",
       "      <th></th>\n",
       "      <th></th>\n",
       "      <th></th>\n",
       "      <th></th>\n",
       "      <th></th>\n",
       "      <th></th>\n",
       "      <th></th>\n",
       "      <th></th>\n",
       "      <th></th>\n",
       "      <th></th>\n",
       "      <th></th>\n",
       "      <th></th>\n",
       "    </tr>\n",
       "  </thead>\n",
       "  <tbody>\n",
       "    <tr>\n",
       "      <th>6141cf0efbfd4bd9ab2c2f7e</th>\n",
       "      <td>6141cf0efbfd4bd9ab2c2f7c</td>\n",
       "      <td>-1391.3404</td>\n",
       "      <td>-7.284505</td>\n",
       "      <td>-0.199707</td>\n",
       "      <td>-0.6754</td>\n",
       "      <td>0.4698</td>\n",
       "      <td>[[1.27612629e-07 1.84192955e+00 3.71975100e+00...</td>\n",
       "      <td>[[-7.98855051 17.50569919  5.28204642] X0+]</td>\n",
       "      <td>2.6457</td>\n",
       "      <td>2.64570</td>\n",
       "      <td>1.1452</td>\n",
       "      <td>0</td>\n",
       "    </tr>\n",
       "    <tr>\n",
       "      <th>6141cf0f51c1cbd9654b8870</th>\n",
       "      <td>6141cf0e51c1cbd9654b886e</td>\n",
       "      <td>-1384.5528</td>\n",
       "      <td>-7.287120</td>\n",
       "      <td>-0.220627</td>\n",
       "      <td>-0.6852</td>\n",
       "      <td>0.3991</td>\n",
       "      <td>[[1.27612629e-07 1.84192955e+00 3.71975100e+00...</td>\n",
       "      <td>[[14.34365939  6.45412142  2.15745558] X0+, [9...</td>\n",
       "      <td>5.3063</td>\n",
       "      <td>2.65315</td>\n",
       "      <td>1.0843</td>\n",
       "      <td>1</td>\n",
       "    </tr>\n",
       "    <tr>\n",
       "      <th>6141cf0fe689ecc4c43cdd4b</th>\n",
       "      <td>6141cf0fe689ecc4c43cdd49</td>\n",
       "      <td>-1397.1961</td>\n",
       "      <td>-7.277063</td>\n",
       "      <td>-0.183537</td>\n",
       "      <td>-0.6931</td>\n",
       "      <td>1.1102</td>\n",
       "      <td>[[1.27612629e-07 1.84192955e+00 3.71975100e+00...</td>\n",
       "      <td>[[ 4.78547342 17.49833154  2.15486663] Se]</td>\n",
       "      <td>0.2790</td>\n",
       "      <td>0.27900</td>\n",
       "      <td>1.8033</td>\n",
       "      <td>2</td>\n",
       "    </tr>\n",
       "    <tr>\n",
       "      <th>6141cf10b842c2e72e2f2d44</th>\n",
       "      <td>6141cf10b842c2e72e2f2d42</td>\n",
       "      <td>-1396.2576</td>\n",
       "      <td>-7.272175</td>\n",
       "      <td>-0.179802</td>\n",
       "      <td>-0.6916</td>\n",
       "      <td>1.1179</td>\n",
       "      <td>[[1.27612629e-07 1.84192955e+00 3.71975100e+00...</td>\n",
       "      <td>[[ 9.57094697 20.26122598  2.15486663] Se, [20...</td>\n",
       "      <td>0.5795</td>\n",
       "      <td>0.28975</td>\n",
       "      <td>1.8095</td>\n",
       "      <td>3</td>\n",
       "    </tr>\n",
       "    <tr>\n",
       "      <th>6141cf1051c1cbd9654b8872</th>\n",
       "      <td>6141cf0e51c1cbd9654b886e</td>\n",
       "      <td>-1384.5327</td>\n",
       "      <td>-7.287014</td>\n",
       "      <td>-0.213190</td>\n",
       "      <td>-0.6718</td>\n",
       "      <td>0.4384</td>\n",
       "      <td>[[1.27612629e-07 1.84192955e+00 3.71975100e+00...</td>\n",
       "      <td>[[ 7.96302799 17.50569919  2.15745558] X0+, [-...</td>\n",
       "      <td>5.3264</td>\n",
       "      <td>2.66320</td>\n",
       "      <td>1.1102</td>\n",
       "      <td>4</td>\n",
       "    </tr>\n",
       "  </tbody>\n",
       "</table>\n",
       "</div>"
      ],
      "text/plain": [
       "                                     descriptor_id     energy  \\\n",
       "_id                                                             \n",
       "6141cf0efbfd4bd9ab2c2f7e  6141cf0efbfd4bd9ab2c2f7c -1391.3404   \n",
       "6141cf0f51c1cbd9654b8870  6141cf0e51c1cbd9654b886e -1384.5528   \n",
       "6141cf0fe689ecc4c43cdd4b  6141cf0fe689ecc4c43cdd49 -1397.1961   \n",
       "6141cf10b842c2e72e2f2d44  6141cf10b842c2e72e2f2d42 -1396.2576   \n",
       "6141cf1051c1cbd9654b8872  6141cf0e51c1cbd9654b886e -1384.5327   \n",
       "\n",
       "                          energy_per_atom  fermi_level    homo    lumo  \\\n",
       "_id                                                                      \n",
       "6141cf0efbfd4bd9ab2c2f7e        -7.284505    -0.199707 -0.6754  0.4698   \n",
       "6141cf0f51c1cbd9654b8870        -7.287120    -0.220627 -0.6852  0.3991   \n",
       "6141cf0fe689ecc4c43cdd4b        -7.277063    -0.183537 -0.6931  1.1102   \n",
       "6141cf10b842c2e72e2f2d44        -7.272175    -0.179802 -0.6916  1.1179   \n",
       "6141cf1051c1cbd9654b8872        -7.287014    -0.213190 -0.6718  0.4384   \n",
       "\n",
       "                                                          initial_structure  \\\n",
       "_id                                                                           \n",
       "6141cf0efbfd4bd9ab2c2f7e  [[1.27612629e-07 1.84192955e+00 3.71975100e+00...   \n",
       "6141cf0f51c1cbd9654b8870  [[1.27612629e-07 1.84192955e+00 3.71975100e+00...   \n",
       "6141cf0fe689ecc4c43cdd4b  [[1.27612629e-07 1.84192955e+00 3.71975100e+00...   \n",
       "6141cf10b842c2e72e2f2d44  [[1.27612629e-07 1.84192955e+00 3.71975100e+00...   \n",
       "6141cf1051c1cbd9654b8872  [[1.27612629e-07 1.84192955e+00 3.71975100e+00...   \n",
       "\n",
       "                                                      defect_representation  \\\n",
       "_id                                                                           \n",
       "6141cf0efbfd4bd9ab2c2f7e        [[-7.98855051 17.50569919  5.28204642] X0+]   \n",
       "6141cf0f51c1cbd9654b8870  [[14.34365939  6.45412142  2.15745558] X0+, [9...   \n",
       "6141cf0fe689ecc4c43cdd4b         [[ 4.78547342 17.49833154  2.15486663] Se]   \n",
       "6141cf10b842c2e72e2f2d44  [[ 9.57094697 20.26122598  2.15486663] Se, [20...   \n",
       "6141cf1051c1cbd9654b8872  [[ 7.96302799 17.50569919  2.15745558] X0+, [-...   \n",
       "\n",
       "                          formation_energy  formation_energy_per_site  \\\n",
       "_id                                                                     \n",
       "6141cf0efbfd4bd9ab2c2f7e            2.6457                    2.64570   \n",
       "6141cf0f51c1cbd9654b8870            5.3063                    2.65315   \n",
       "6141cf0fe689ecc4c43cdd4b            0.2790                    0.27900   \n",
       "6141cf10b842c2e72e2f2d44            0.5795                    0.28975   \n",
       "6141cf1051c1cbd9654b8872            5.3264                    2.66320   \n",
       "\n",
       "                          band_gap  idx  \n",
       "_id                                      \n",
       "6141cf0efbfd4bd9ab2c2f7e    1.1452    0  \n",
       "6141cf0f51c1cbd9654b8870    1.0843    1  \n",
       "6141cf0fe689ecc4c43cdd4b    1.8033    2  \n",
       "6141cf10b842c2e72e2f2d44    1.8095    3  \n",
       "6141cf1051c1cbd9654b8872    1.1102    4  "
      ]
     },
     "execution_count": 6,
     "metadata": {},
     "output_type": "execute_result"
    }
   ],
   "source": [
    "data.head()"
   ]
  },
  {
   "cell_type": "code",
   "execution_count": 7,
   "id": "3afa91ff",
   "metadata": {},
   "outputs": [
    {
     "data": {
      "text/plain": [
       "-7.297261052631578"
      ]
     },
     "execution_count": 7,
     "metadata": {},
     "output_type": "execute_result"
    }
   ],
   "source": [
    "data.energy_per_atom.min()"
   ]
  },
  {
   "cell_type": "code",
   "execution_count": 8,
   "id": "cdc0439c",
   "metadata": {},
   "outputs": [],
   "source": [
    "def get_element(defect_site):\n",
    "    return defect_site.as_dict()[\"species\"][0][\"element\"]"
   ]
  },
  {
   "cell_type": "code",
   "execution_count": 9,
   "id": "dded72fc",
   "metadata": {},
   "outputs": [],
   "source": [
    "def get_layer(defect_site, layers_coords, atol=1e-02):\n",
    "    \"\"\"\n",
    "    layers_coords - array/list of len 3\n",
    "    output:\n",
    "    -1 - S (bottom)\n",
    "     0 - Mo\n",
    "     1 - S (top)\n",
    "    \"\"\"\n",
    "    z = defect_site.frac_coords[2]\n",
    "    is_close = np.isclose(layers_coords, z, atol)\n",
    "    assert np.max(is_close) != 0\n",
    "    \n",
    "    return np.argmax(np.isclose(layers_coords, z, atol)) - 1"
   ]
  },
  {
   "cell_type": "code",
   "execution_count": 10,
   "id": "a10e1fe9",
   "metadata": {},
   "outputs": [],
   "source": [
    "def build_layers_coords(structure):\n",
    "    zs = [site.frac_coords[2] for site in structure.sites]\n",
    "    layer_coords = np.zeros(3)\n",
    "    layer_coords[0], layer_coords[2] = np.min(zs), np.max(zs)\n",
    "    layer_coords[1] = (layer_coords[0] + layer_coords[2]) / 2\n",
    "    return layer_coords"
   ]
  },
  {
   "cell_type": "code",
   "execution_count": 11,
   "id": "91652fba",
   "metadata": {},
   "outputs": [],
   "source": [
    "s0 = data.iloc[10].initial_structure"
   ]
  },
  {
   "cell_type": "code",
   "execution_count": 12,
   "id": "0e8c821b",
   "metadata": {},
   "outputs": [
    {
     "data": {
      "text/plain": [
       "array([0.144826, 0.25    , 0.355174])"
      ]
     },
     "execution_count": 12,
     "metadata": {},
     "output_type": "execute_result"
    }
   ],
   "source": [
    "layers_coords = build_layers_coords(s0)\n",
    "# [0.1448, 0.2500, 0.3552]\n",
    "layers_coords"
   ]
  },
  {
   "cell_type": "code",
   "execution_count": 13,
   "id": "9f545614",
   "metadata": {},
   "outputs": [
    {
     "data": {
      "text/plain": [
       "Structure Summary\n",
       "Lattice\n",
       "    abc : 25.5225256 25.5225256 14.879004\n",
       " angles : 90.0 90.0 119.99999999999999\n",
       " volume : 8393.668021812642\n",
       "      A : 25.5225256 0.0 1.5628039641098191e-15\n",
       "      B : -12.761262799999994 22.10315553833868 1.5628039641098191e-15\n",
       "      C : 0.0 0.0 14.879004\n",
       "PeriodicSite: X0+ (14.3437, 0.9283, 2.1575) [0.5830, 0.0420, 0.1450]\n",
       "PeriodicSite: Se (3.1903, 20.2612, 2.1549) [0.5833, 0.9167, 0.1448]"
      ]
     },
     "execution_count": 13,
     "metadata": {},
     "output_type": "execute_result"
    }
   ],
   "source": [
    "data.iloc[19].defect_representation"
   ]
  },
  {
   "cell_type": "code",
   "execution_count": 14,
   "id": "0c4d9f86",
   "metadata": {},
   "outputs": [
    {
     "data": {
      "text/plain": [
       "-1"
      ]
     },
     "execution_count": 14,
     "metadata": {},
     "output_type": "execute_result"
    }
   ],
   "source": [
    "get_layer(data.iloc[19].defect_representation.sites[1], layers_coords)"
   ]
  },
  {
   "cell_type": "code",
   "execution_count": 20,
   "id": "bee6a531",
   "metadata": {},
   "outputs": [],
   "source": [
    "def build_suffix(layer):\n",
    "    return \"bottom\" if layer == -1 else \"top\"\n",
    "\n",
    "def build_suffix_Svac_Ssub(elements, layers):\n",
    "    \"\"\"\n",
    "    both arguments of len 2\n",
    "    determine S-layers where vacancy and substition are\n",
    "    \"\"\"\n",
    "    assert len(elements) == 2\n",
    "    assert len(layers) == 2\n",
    "    \n",
    "    vac_idx = elements.index(\"X\")\n",
    "    suffix_vac = build_suffix(layers[vac_idx])\n",
    "    suffix_sub = build_suffix(layers[1-vac_idx])\n",
    "    return f\"X_{suffix_vac}_Se_{suffix_sub}\"\n",
    "\n",
    "def build_suffix_2_defects(elements, layers):\n",
    "    \"\"\"\n",
    "    both arguments of len 2\n",
    "    determine S-defects are on the same layer and which one\n",
    "    \"\"\"\n",
    "    assert len(elements) == 2\n",
    "    assert len(layers) == 2\n",
    "    \n",
    "    if layers[0] == layers[1]:\n",
    "        return \"same\"\n",
    "    return \"diff\" \n",
    "    \n",
    "def classify_X(elements, layers):\n",
    "    number, suffix = \"\", \"\"\n",
    "    if len(elements) == 1:\n",
    "        number = 3 if elements[0] == \"Se\" else 1\n",
    "    else:\n",
    "        suffix = build_suffix_2_defects(elements, layers)\n",
    "        if \"Se\" not in elements:\n",
    "            number = 2\n",
    "        elif \"X\" not in elements:\n",
    "            number = 4         \n",
    "        else: \n",
    "            number = 5\n",
    "    return number, suffix\n",
    "def classify_V_or_S(elements, layers):\n",
    "    number, suffix = \"\", \"\"\n",
    "    if len(elements) == 1:\n",
    "        number = 1\n",
    "    else:\n",
    "        mo_w_idx = layers.index(0)\n",
    "        number, suffix = classify_X(elements[:mo_w_idx] + elements[mo_w_idx+1:],\n",
    "                                    layers[:mo_w_idx] + layers[mo_w_idx+1:])\n",
    "        number += 1\n",
    "    return number, suffix"
   ]
  },
  {
   "cell_type": "code",
   "execution_count": 21,
   "id": "5e010ee1",
   "metadata": {},
   "outputs": [],
   "source": [
    "def classify(defect_representation, layers_coords, atol=1e-02):\n",
    "    elements = [get_element(site) for site in defect_representation.sites]\n",
    "    layers = [get_layer(site, layers_coords) for site in defect_representation.sites]\n",
    "    prefix = \"\"\n",
    "    if 0 not in layers:\n",
    "        prefix = \"X\"\n",
    "        number, suffix = classify_X(elements, layers)\n",
    "    elif \"W\" in elements:\n",
    "        prefix = \"S\"\n",
    "        number, suffix = classify_V_or_S(elements, layers)\n",
    "    else:\n",
    "        number,suffix = classify_V_or_S(elements, layers)\n",
    "        prefix = \"V\"\n",
    "    return f\"{prefix}{number}_{suffix}\" if suffix else f\"{prefix}{number}\""
   ]
  },
  {
   "cell_type": "code",
   "execution_count": 22,
   "id": "c776db6e",
   "metadata": {},
   "outputs": [
    {
     "data": {
      "text/plain": [
       "'X5_same'"
      ]
     },
     "execution_count": 22,
     "metadata": {},
     "output_type": "execute_result"
    }
   ],
   "source": [
    "classify(data.iloc[19].defect_representation, layers_coords)"
   ]
  },
  {
   "cell_type": "code",
   "execution_count": 23,
   "id": "9743cdc6",
   "metadata": {},
   "outputs": [
    {
     "data": {
      "text/plain": [
       "'X2_diff'"
      ]
     },
     "execution_count": 23,
     "metadata": {},
     "output_type": "execute_result"
    }
   ],
   "source": [
    "classify(data.iloc[1].defect_representation, layers_coords)"
   ]
  },
  {
   "cell_type": "code",
   "execution_count": 24,
   "id": "5ed8e0ce",
   "metadata": {},
   "outputs": [],
   "source": [
    "data['subgroup'] = data.defect_representation.apply(lambda x: classify(x, layers_coords))"
   ]
  },
  {
   "cell_type": "code",
   "execution_count": 25,
   "id": "3f765508",
   "metadata": {
    "scrolled": true
   },
   "outputs": [
    {
     "data": {
      "text/html": [
       "<div>\n",
       "<style scoped>\n",
       "    .dataframe tbody tr th:only-of-type {\n",
       "        vertical-align: middle;\n",
       "    }\n",
       "\n",
       "    .dataframe tbody tr th {\n",
       "        vertical-align: top;\n",
       "    }\n",
       "\n",
       "    .dataframe thead th {\n",
       "        text-align: right;\n",
       "    }\n",
       "</style>\n",
       "<table border=\"1\" class=\"dataframe\">\n",
       "  <thead>\n",
       "    <tr style=\"text-align: right;\">\n",
       "      <th></th>\n",
       "      <th>descriptor_id</th>\n",
       "      <th>energy</th>\n",
       "      <th>energy_per_atom</th>\n",
       "      <th>fermi_level</th>\n",
       "      <th>homo</th>\n",
       "      <th>lumo</th>\n",
       "      <th>initial_structure</th>\n",
       "      <th>defect_representation</th>\n",
       "      <th>formation_energy</th>\n",
       "      <th>formation_energy_per_site</th>\n",
       "      <th>band_gap</th>\n",
       "      <th>idx</th>\n",
       "      <th>subgroup</th>\n",
       "    </tr>\n",
       "    <tr>\n",
       "      <th>_id</th>\n",
       "      <th></th>\n",
       "      <th></th>\n",
       "      <th></th>\n",
       "      <th></th>\n",
       "      <th></th>\n",
       "      <th></th>\n",
       "      <th></th>\n",
       "      <th></th>\n",
       "      <th></th>\n",
       "      <th></th>\n",
       "      <th></th>\n",
       "      <th></th>\n",
       "      <th></th>\n",
       "    </tr>\n",
       "  </thead>\n",
       "  <tbody>\n",
       "    <tr>\n",
       "      <th>6141cf0efbfd4bd9ab2c2f7e</th>\n",
       "      <td>6141cf0efbfd4bd9ab2c2f7c</td>\n",
       "      <td>-1391.3404</td>\n",
       "      <td>-7.284505</td>\n",
       "      <td>-0.199707</td>\n",
       "      <td>-0.6754</td>\n",
       "      <td>0.4698</td>\n",
       "      <td>[[1.27612629e-07 1.84192955e+00 3.71975100e+00...</td>\n",
       "      <td>[[-7.98855051 17.50569919  5.28204642] X0+]</td>\n",
       "      <td>2.6457</td>\n",
       "      <td>2.64570</td>\n",
       "      <td>1.1452</td>\n",
       "      <td>0</td>\n",
       "      <td>X1</td>\n",
       "    </tr>\n",
       "    <tr>\n",
       "      <th>6141cf0f51c1cbd9654b8870</th>\n",
       "      <td>6141cf0e51c1cbd9654b886e</td>\n",
       "      <td>-1384.5528</td>\n",
       "      <td>-7.287120</td>\n",
       "      <td>-0.220627</td>\n",
       "      <td>-0.6852</td>\n",
       "      <td>0.3991</td>\n",
       "      <td>[[1.27612629e-07 1.84192955e+00 3.71975100e+00...</td>\n",
       "      <td>[[14.34365939  6.45412142  2.15745558] X0+, [9...</td>\n",
       "      <td>5.3063</td>\n",
       "      <td>2.65315</td>\n",
       "      <td>1.0843</td>\n",
       "      <td>1</td>\n",
       "      <td>X2_diff</td>\n",
       "    </tr>\n",
       "    <tr>\n",
       "      <th>6141cf0fe689ecc4c43cdd4b</th>\n",
       "      <td>6141cf0fe689ecc4c43cdd49</td>\n",
       "      <td>-1397.1961</td>\n",
       "      <td>-7.277063</td>\n",
       "      <td>-0.183537</td>\n",
       "      <td>-0.6931</td>\n",
       "      <td>1.1102</td>\n",
       "      <td>[[1.27612629e-07 1.84192955e+00 3.71975100e+00...</td>\n",
       "      <td>[[ 4.78547342 17.49833154  2.15486663] Se]</td>\n",
       "      <td>0.2790</td>\n",
       "      <td>0.27900</td>\n",
       "      <td>1.8033</td>\n",
       "      <td>2</td>\n",
       "      <td>X3</td>\n",
       "    </tr>\n",
       "    <tr>\n",
       "      <th>6141cf10b842c2e72e2f2d44</th>\n",
       "      <td>6141cf10b842c2e72e2f2d42</td>\n",
       "      <td>-1396.2576</td>\n",
       "      <td>-7.272175</td>\n",
       "      <td>-0.179802</td>\n",
       "      <td>-0.6916</td>\n",
       "      <td>1.1179</td>\n",
       "      <td>[[1.27612629e-07 1.84192955e+00 3.71975100e+00...</td>\n",
       "      <td>[[ 9.57094697 20.26122598  2.15486663] Se, [20...</td>\n",
       "      <td>0.5795</td>\n",
       "      <td>0.28975</td>\n",
       "      <td>1.8095</td>\n",
       "      <td>3</td>\n",
       "      <td>X4_diff</td>\n",
       "    </tr>\n",
       "    <tr>\n",
       "      <th>6141cf1051c1cbd9654b8872</th>\n",
       "      <td>6141cf0e51c1cbd9654b886e</td>\n",
       "      <td>-1384.5327</td>\n",
       "      <td>-7.287014</td>\n",
       "      <td>-0.213190</td>\n",
       "      <td>-0.6718</td>\n",
       "      <td>0.4384</td>\n",
       "      <td>[[1.27612629e-07 1.84192955e+00 3.71975100e+00...</td>\n",
       "      <td>[[ 7.96302799 17.50569919  2.15745558] X0+, [-...</td>\n",
       "      <td>5.3264</td>\n",
       "      <td>2.66320</td>\n",
       "      <td>1.1102</td>\n",
       "      <td>4</td>\n",
       "      <td>X2_diff</td>\n",
       "    </tr>\n",
       "  </tbody>\n",
       "</table>\n",
       "</div>"
      ],
      "text/plain": [
       "                                     descriptor_id     energy  \\\n",
       "_id                                                             \n",
       "6141cf0efbfd4bd9ab2c2f7e  6141cf0efbfd4bd9ab2c2f7c -1391.3404   \n",
       "6141cf0f51c1cbd9654b8870  6141cf0e51c1cbd9654b886e -1384.5528   \n",
       "6141cf0fe689ecc4c43cdd4b  6141cf0fe689ecc4c43cdd49 -1397.1961   \n",
       "6141cf10b842c2e72e2f2d44  6141cf10b842c2e72e2f2d42 -1396.2576   \n",
       "6141cf1051c1cbd9654b8872  6141cf0e51c1cbd9654b886e -1384.5327   \n",
       "\n",
       "                          energy_per_atom  fermi_level    homo    lumo  \\\n",
       "_id                                                                      \n",
       "6141cf0efbfd4bd9ab2c2f7e        -7.284505    -0.199707 -0.6754  0.4698   \n",
       "6141cf0f51c1cbd9654b8870        -7.287120    -0.220627 -0.6852  0.3991   \n",
       "6141cf0fe689ecc4c43cdd4b        -7.277063    -0.183537 -0.6931  1.1102   \n",
       "6141cf10b842c2e72e2f2d44        -7.272175    -0.179802 -0.6916  1.1179   \n",
       "6141cf1051c1cbd9654b8872        -7.287014    -0.213190 -0.6718  0.4384   \n",
       "\n",
       "                                                          initial_structure  \\\n",
       "_id                                                                           \n",
       "6141cf0efbfd4bd9ab2c2f7e  [[1.27612629e-07 1.84192955e+00 3.71975100e+00...   \n",
       "6141cf0f51c1cbd9654b8870  [[1.27612629e-07 1.84192955e+00 3.71975100e+00...   \n",
       "6141cf0fe689ecc4c43cdd4b  [[1.27612629e-07 1.84192955e+00 3.71975100e+00...   \n",
       "6141cf10b842c2e72e2f2d44  [[1.27612629e-07 1.84192955e+00 3.71975100e+00...   \n",
       "6141cf1051c1cbd9654b8872  [[1.27612629e-07 1.84192955e+00 3.71975100e+00...   \n",
       "\n",
       "                                                      defect_representation  \\\n",
       "_id                                                                           \n",
       "6141cf0efbfd4bd9ab2c2f7e        [[-7.98855051 17.50569919  5.28204642] X0+]   \n",
       "6141cf0f51c1cbd9654b8870  [[14.34365939  6.45412142  2.15745558] X0+, [9...   \n",
       "6141cf0fe689ecc4c43cdd4b         [[ 4.78547342 17.49833154  2.15486663] Se]   \n",
       "6141cf10b842c2e72e2f2d44  [[ 9.57094697 20.26122598  2.15486663] Se, [20...   \n",
       "6141cf1051c1cbd9654b8872  [[ 7.96302799 17.50569919  2.15745558] X0+, [-...   \n",
       "\n",
       "                          formation_energy  formation_energy_per_site  \\\n",
       "_id                                                                     \n",
       "6141cf0efbfd4bd9ab2c2f7e            2.6457                    2.64570   \n",
       "6141cf0f51c1cbd9654b8870            5.3063                    2.65315   \n",
       "6141cf0fe689ecc4c43cdd4b            0.2790                    0.27900   \n",
       "6141cf10b842c2e72e2f2d44            0.5795                    0.28975   \n",
       "6141cf1051c1cbd9654b8872            5.3264                    2.66320   \n",
       "\n",
       "                          band_gap  idx subgroup  \n",
       "_id                                               \n",
       "6141cf0efbfd4bd9ab2c2f7e    1.1452    0       X1  \n",
       "6141cf0f51c1cbd9654b8870    1.0843    1  X2_diff  \n",
       "6141cf0fe689ecc4c43cdd4b    1.8033    2       X3  \n",
       "6141cf10b842c2e72e2f2d44    1.8095    3  X4_diff  \n",
       "6141cf1051c1cbd9654b8872    1.1102    4  X2_diff  "
      ]
     },
     "execution_count": 25,
     "metadata": {},
     "output_type": "execute_result"
    }
   ],
   "source": [
    "data.head()"
   ]
  },
  {
   "cell_type": "code",
   "execution_count": 26,
   "id": "38cb3199",
   "metadata": {},
   "outputs": [
    {
     "data": {
      "text/plain": [
       "S1           1\n",
       "S2          15\n",
       "S3_diff    379\n",
       "S3_same    364\n",
       "S4          15\n",
       "S5_diff    379\n",
       "S5_same    364\n",
       "S6_diff    715\n",
       "S6_same    700\n",
       "V1           1\n",
       "V2          15\n",
       "V3_diff    379\n",
       "V3_same    364\n",
       "V4          15\n",
       "V5_diff    379\n",
       "V5_same    364\n",
       "V6_diff    715\n",
       "V6_same    700\n",
       "X1           1\n",
       "X2_diff     10\n",
       "X2_same      9\n",
       "X3           1\n",
       "X4_diff     10\n",
       "X4_same      9\n",
       "X5_diff     15\n",
       "X5_same     14\n",
       "Name: subgroup, dtype: int64"
      ]
     },
     "execution_count": 26,
     "metadata": {},
     "output_type": "execute_result"
    }
   ],
   "source": [
    "counts = data.subgroup.value_counts()\n",
    "counts.sort_index()"
   ]
  },
  {
   "cell_type": "code",
   "execution_count": 27,
   "id": "f9e330c7",
   "metadata": {},
   "outputs": [],
   "source": [
    "correct_groups = [\"X1\", \"X2\", \"X3\",\"X4\",\"X5\",\n",
    "                  \"V1\", \"V2\", \"V3\", \"V4\", \"V5\", \"V6\", \n",
    "                  \"S1\", \"S2\", \"S3\", \"S4\", \"S5\", \"S6\"]\n",
    "correct_groups_count = [1, 19, 1, 19, 29,\n",
    "                        1, 15, 743, 15, 743, 1415,\n",
    "                        1, 15, 743, 15, 743, 1415]\n",
    "correct_groups_series = pd.Series(correct_groups_count, correct_groups)"
   ]
  },
  {
   "cell_type": "code",
   "execution_count": 28,
   "id": "1c4bcfb7",
   "metadata": {},
   "outputs": [],
   "source": [
    "data['group'] = data.subgroup.apply(lambda x: x[:2])"
   ]
  },
  {
   "cell_type": "code",
   "execution_count": 29,
   "id": "5e239153",
   "metadata": {},
   "outputs": [],
   "source": [
    "pd.testing.assert_series_equal(correct_groups_series.sort_index(),\n",
    "                               data.group.value_counts().sort_index(),\n",
    "                               check_names=False)"
   ]
  },
  {
   "cell_type": "code",
   "execution_count": 30,
   "id": "99d50aac",
   "metadata": {},
   "outputs": [
    {
     "data": {
      "text/html": [
       "<div>\n",
       "<style scoped>\n",
       "    .dataframe tbody tr th:only-of-type {\n",
       "        vertical-align: middle;\n",
       "    }\n",
       "\n",
       "    .dataframe tbody tr th {\n",
       "        vertical-align: top;\n",
       "    }\n",
       "\n",
       "    .dataframe thead th {\n",
       "        text-align: right;\n",
       "    }\n",
       "</style>\n",
       "<table border=\"1\" class=\"dataframe\">\n",
       "  <thead>\n",
       "    <tr style=\"text-align: right;\">\n",
       "      <th></th>\n",
       "      <th>descriptor_id</th>\n",
       "      <th>energy</th>\n",
       "      <th>energy_per_atom</th>\n",
       "      <th>fermi_level</th>\n",
       "      <th>homo</th>\n",
       "      <th>lumo</th>\n",
       "      <th>initial_structure</th>\n",
       "      <th>defect_representation</th>\n",
       "      <th>formation_energy</th>\n",
       "      <th>formation_energy_per_site</th>\n",
       "      <th>band_gap</th>\n",
       "      <th>idx</th>\n",
       "      <th>subgroup</th>\n",
       "      <th>group</th>\n",
       "    </tr>\n",
       "    <tr>\n",
       "      <th>_id</th>\n",
       "      <th></th>\n",
       "      <th></th>\n",
       "      <th></th>\n",
       "      <th></th>\n",
       "      <th></th>\n",
       "      <th></th>\n",
       "      <th></th>\n",
       "      <th></th>\n",
       "      <th></th>\n",
       "      <th></th>\n",
       "      <th></th>\n",
       "      <th></th>\n",
       "      <th></th>\n",
       "      <th></th>\n",
       "    </tr>\n",
       "  </thead>\n",
       "  <tbody>\n",
       "    <tr>\n",
       "      <th>6141cf0efbfd4bd9ab2c2f7e</th>\n",
       "      <td>6141cf0efbfd4bd9ab2c2f7c</td>\n",
       "      <td>-1391.3404</td>\n",
       "      <td>-7.284505</td>\n",
       "      <td>-0.199707</td>\n",
       "      <td>-0.6754</td>\n",
       "      <td>0.4698</td>\n",
       "      <td>[[1.27612629e-07 1.84192955e+00 3.71975100e+00...</td>\n",
       "      <td>[[-7.98855051 17.50569919  5.28204642] X0+]</td>\n",
       "      <td>2.6457</td>\n",
       "      <td>2.64570</td>\n",
       "      <td>1.1452</td>\n",
       "      <td>0</td>\n",
       "      <td>X1</td>\n",
       "      <td>X1</td>\n",
       "    </tr>\n",
       "    <tr>\n",
       "      <th>6141cf0f51c1cbd9654b8870</th>\n",
       "      <td>6141cf0e51c1cbd9654b886e</td>\n",
       "      <td>-1384.5528</td>\n",
       "      <td>-7.287120</td>\n",
       "      <td>-0.220627</td>\n",
       "      <td>-0.6852</td>\n",
       "      <td>0.3991</td>\n",
       "      <td>[[1.27612629e-07 1.84192955e+00 3.71975100e+00...</td>\n",
       "      <td>[[14.34365939  6.45412142  2.15745558] X0+, [9...</td>\n",
       "      <td>5.3063</td>\n",
       "      <td>2.65315</td>\n",
       "      <td>1.0843</td>\n",
       "      <td>1</td>\n",
       "      <td>X2_diff</td>\n",
       "      <td>X2</td>\n",
       "    </tr>\n",
       "    <tr>\n",
       "      <th>6141cf0fe689ecc4c43cdd4b</th>\n",
       "      <td>6141cf0fe689ecc4c43cdd49</td>\n",
       "      <td>-1397.1961</td>\n",
       "      <td>-7.277063</td>\n",
       "      <td>-0.183537</td>\n",
       "      <td>-0.6931</td>\n",
       "      <td>1.1102</td>\n",
       "      <td>[[1.27612629e-07 1.84192955e+00 3.71975100e+00...</td>\n",
       "      <td>[[ 4.78547342 17.49833154  2.15486663] Se]</td>\n",
       "      <td>0.2790</td>\n",
       "      <td>0.27900</td>\n",
       "      <td>1.8033</td>\n",
       "      <td>2</td>\n",
       "      <td>X3</td>\n",
       "      <td>X3</td>\n",
       "    </tr>\n",
       "    <tr>\n",
       "      <th>6141cf10b842c2e72e2f2d44</th>\n",
       "      <td>6141cf10b842c2e72e2f2d42</td>\n",
       "      <td>-1396.2576</td>\n",
       "      <td>-7.272175</td>\n",
       "      <td>-0.179802</td>\n",
       "      <td>-0.6916</td>\n",
       "      <td>1.1179</td>\n",
       "      <td>[[1.27612629e-07 1.84192955e+00 3.71975100e+00...</td>\n",
       "      <td>[[ 9.57094697 20.26122598  2.15486663] Se, [20...</td>\n",
       "      <td>0.5795</td>\n",
       "      <td>0.28975</td>\n",
       "      <td>1.8095</td>\n",
       "      <td>3</td>\n",
       "      <td>X4_diff</td>\n",
       "      <td>X4</td>\n",
       "    </tr>\n",
       "    <tr>\n",
       "      <th>6141cf1051c1cbd9654b8872</th>\n",
       "      <td>6141cf0e51c1cbd9654b886e</td>\n",
       "      <td>-1384.5327</td>\n",
       "      <td>-7.287014</td>\n",
       "      <td>-0.213190</td>\n",
       "      <td>-0.6718</td>\n",
       "      <td>0.4384</td>\n",
       "      <td>[[1.27612629e-07 1.84192955e+00 3.71975100e+00...</td>\n",
       "      <td>[[ 7.96302799 17.50569919  2.15745558] X0+, [-...</td>\n",
       "      <td>5.3264</td>\n",
       "      <td>2.66320</td>\n",
       "      <td>1.1102</td>\n",
       "      <td>4</td>\n",
       "      <td>X2_diff</td>\n",
       "      <td>X2</td>\n",
       "    </tr>\n",
       "    <tr>\n",
       "      <th>6141cf10b842c2e72e2f2d46</th>\n",
       "      <td>6141cf10b842c2e72e2f2d42</td>\n",
       "      <td>-1396.2563</td>\n",
       "      <td>-7.272168</td>\n",
       "      <td>-0.180389</td>\n",
       "      <td>-0.6915</td>\n",
       "      <td>1.1178</td>\n",
       "      <td>[[1.27612629e-07 1.84192955e+00 3.71975100e+00...</td>\n",
       "      <td>[[-6.38063149 14.73543703  2.15486663] Se, [20...</td>\n",
       "      <td>0.5808</td>\n",
       "      <td>0.29040</td>\n",
       "      <td>1.8093</td>\n",
       "      <td>5</td>\n",
       "      <td>X4_same</td>\n",
       "      <td>X4</td>\n",
       "    </tr>\n",
       "    <tr>\n",
       "      <th>6141cf11cc0e69a0cf28ab35</th>\n",
       "      <td>6141cf10cc0e69a0cf28ab33</td>\n",
       "      <td>-1390.4044</td>\n",
       "      <td>-7.279604</td>\n",
       "      <td>-0.200633</td>\n",
       "      <td>-0.6706</td>\n",
       "      <td>0.4778</td>\n",
       "      <td>[[1.27612629e-07 1.84192955e+00 3.71975100e+00...</td>\n",
       "      <td>[[ 3.19031561 14.73543703  2.15486663] Se, [4....</td>\n",
       "      <td>2.9437</td>\n",
       "      <td>1.47185</td>\n",
       "      <td>1.1484</td>\n",
       "      <td>6</td>\n",
       "      <td>X5_diff</td>\n",
       "      <td>X5</td>\n",
       "    </tr>\n",
       "    <tr>\n",
       "      <th>6141cf11b842c2e72e2f2d48</th>\n",
       "      <td>6141cf10b842c2e72e2f2d42</td>\n",
       "      <td>-1396.2481</td>\n",
       "      <td>-7.272126</td>\n",
       "      <td>-0.179317</td>\n",
       "      <td>-0.6910</td>\n",
       "      <td>1.1158</td>\n",
       "      <td>[[1.27612629e-07 1.84192955e+00 3.71975100e+00...</td>\n",
       "      <td>[[14.35642052  0.92096489  5.28463537] Se, [17...</td>\n",
       "      <td>0.5890</td>\n",
       "      <td>0.29450</td>\n",
       "      <td>1.8068</td>\n",
       "      <td>7</td>\n",
       "      <td>X4_same</td>\n",
       "      <td>X4</td>\n",
       "    </tr>\n",
       "    <tr>\n",
       "      <th>6141cf11ae4fb853db2e3f14</th>\n",
       "      <td>6141cf11ae4fb853db2e3f12</td>\n",
       "      <td>-1380.0584</td>\n",
       "      <td>-7.225437</td>\n",
       "      <td>-0.310205</td>\n",
       "      <td>-0.4902</td>\n",
       "      <td>-0.1302</td>\n",
       "      <td>[[1.27612629e-07 1.84192955e+00 3.71975100e+00...</td>\n",
       "      <td>[[12.77402406 12.88613968  3.719751  ] X0+]</td>\n",
       "      <td>7.1215</td>\n",
       "      <td>7.12150</td>\n",
       "      <td>0.3600</td>\n",
       "      <td>8</td>\n",
       "      <td>V1</td>\n",
       "      <td>V1</td>\n",
       "    </tr>\n",
       "    <tr>\n",
       "      <th>6141cf11cc0e69a0cf28ab37</th>\n",
       "      <td>6141cf10cc0e69a0cf28ab33</td>\n",
       "      <td>-1390.4006</td>\n",
       "      <td>-7.279584</td>\n",
       "      <td>-0.200289</td>\n",
       "      <td>-0.6694</td>\n",
       "      <td>0.4781</td>\n",
       "      <td>[[1.27612629e-07 1.84192955e+00 3.71975100e+00...</td>\n",
       "      <td>[[1.59515772 6.44675377 2.15486663] Se, [-6.39...</td>\n",
       "      <td>2.9475</td>\n",
       "      <td>1.47375</td>\n",
       "      <td>1.1475</td>\n",
       "      <td>9</td>\n",
       "      <td>X5_diff</td>\n",
       "      <td>X5</td>\n",
       "    </tr>\n",
       "  </tbody>\n",
       "</table>\n",
       "</div>"
      ],
      "text/plain": [
       "                                     descriptor_id     energy  \\\n",
       "_id                                                             \n",
       "6141cf0efbfd4bd9ab2c2f7e  6141cf0efbfd4bd9ab2c2f7c -1391.3404   \n",
       "6141cf0f51c1cbd9654b8870  6141cf0e51c1cbd9654b886e -1384.5528   \n",
       "6141cf0fe689ecc4c43cdd4b  6141cf0fe689ecc4c43cdd49 -1397.1961   \n",
       "6141cf10b842c2e72e2f2d44  6141cf10b842c2e72e2f2d42 -1396.2576   \n",
       "6141cf1051c1cbd9654b8872  6141cf0e51c1cbd9654b886e -1384.5327   \n",
       "6141cf10b842c2e72e2f2d46  6141cf10b842c2e72e2f2d42 -1396.2563   \n",
       "6141cf11cc0e69a0cf28ab35  6141cf10cc0e69a0cf28ab33 -1390.4044   \n",
       "6141cf11b842c2e72e2f2d48  6141cf10b842c2e72e2f2d42 -1396.2481   \n",
       "6141cf11ae4fb853db2e3f14  6141cf11ae4fb853db2e3f12 -1380.0584   \n",
       "6141cf11cc0e69a0cf28ab37  6141cf10cc0e69a0cf28ab33 -1390.4006   \n",
       "\n",
       "                          energy_per_atom  fermi_level    homo    lumo  \\\n",
       "_id                                                                      \n",
       "6141cf0efbfd4bd9ab2c2f7e        -7.284505    -0.199707 -0.6754  0.4698   \n",
       "6141cf0f51c1cbd9654b8870        -7.287120    -0.220627 -0.6852  0.3991   \n",
       "6141cf0fe689ecc4c43cdd4b        -7.277063    -0.183537 -0.6931  1.1102   \n",
       "6141cf10b842c2e72e2f2d44        -7.272175    -0.179802 -0.6916  1.1179   \n",
       "6141cf1051c1cbd9654b8872        -7.287014    -0.213190 -0.6718  0.4384   \n",
       "6141cf10b842c2e72e2f2d46        -7.272168    -0.180389 -0.6915  1.1178   \n",
       "6141cf11cc0e69a0cf28ab35        -7.279604    -0.200633 -0.6706  0.4778   \n",
       "6141cf11b842c2e72e2f2d48        -7.272126    -0.179317 -0.6910  1.1158   \n",
       "6141cf11ae4fb853db2e3f14        -7.225437    -0.310205 -0.4902 -0.1302   \n",
       "6141cf11cc0e69a0cf28ab37        -7.279584    -0.200289 -0.6694  0.4781   \n",
       "\n",
       "                                                          initial_structure  \\\n",
       "_id                                                                           \n",
       "6141cf0efbfd4bd9ab2c2f7e  [[1.27612629e-07 1.84192955e+00 3.71975100e+00...   \n",
       "6141cf0f51c1cbd9654b8870  [[1.27612629e-07 1.84192955e+00 3.71975100e+00...   \n",
       "6141cf0fe689ecc4c43cdd4b  [[1.27612629e-07 1.84192955e+00 3.71975100e+00...   \n",
       "6141cf10b842c2e72e2f2d44  [[1.27612629e-07 1.84192955e+00 3.71975100e+00...   \n",
       "6141cf1051c1cbd9654b8872  [[1.27612629e-07 1.84192955e+00 3.71975100e+00...   \n",
       "6141cf10b842c2e72e2f2d46  [[1.27612629e-07 1.84192955e+00 3.71975100e+00...   \n",
       "6141cf11cc0e69a0cf28ab35  [[1.27612629e-07 1.84192955e+00 3.71975100e+00...   \n",
       "6141cf11b842c2e72e2f2d48  [[1.27612629e-07 1.84192955e+00 3.71975100e+00...   \n",
       "6141cf11ae4fb853db2e3f14  [[1.27612629e-07 1.84192955e+00 3.71975100e+00...   \n",
       "6141cf11cc0e69a0cf28ab37  [[1.27612629e-07 1.84192955e+00 3.71975100e+00...   \n",
       "\n",
       "                                                      defect_representation  \\\n",
       "_id                                                                           \n",
       "6141cf0efbfd4bd9ab2c2f7e        [[-7.98855051 17.50569919  5.28204642] X0+]   \n",
       "6141cf0f51c1cbd9654b8870  [[14.34365939  6.45412142  2.15745558] X0+, [9...   \n",
       "6141cf0fe689ecc4c43cdd4b         [[ 4.78547342 17.49833154  2.15486663] Se]   \n",
       "6141cf10b842c2e72e2f2d44  [[ 9.57094697 20.26122598  2.15486663] Se, [20...   \n",
       "6141cf1051c1cbd9654b8872  [[ 7.96302799 17.50569919  2.15745558] X0+, [-...   \n",
       "6141cf10b842c2e72e2f2d46  [[-6.38063149 14.73543703  2.15486663] Se, [20...   \n",
       "6141cf11cc0e69a0cf28ab35  [[ 3.19031561 14.73543703  2.15486663] Se, [4....   \n",
       "6141cf11b842c2e72e2f2d48  [[14.35642052  0.92096489  5.28463537] Se, [17...   \n",
       "6141cf11ae4fb853db2e3f14        [[12.77402406 12.88613968  3.719751  ] X0+]   \n",
       "6141cf11cc0e69a0cf28ab37  [[1.59515772 6.44675377 2.15486663] Se, [-6.39...   \n",
       "\n",
       "                          formation_energy  formation_energy_per_site  \\\n",
       "_id                                                                     \n",
       "6141cf0efbfd4bd9ab2c2f7e            2.6457                    2.64570   \n",
       "6141cf0f51c1cbd9654b8870            5.3063                    2.65315   \n",
       "6141cf0fe689ecc4c43cdd4b            0.2790                    0.27900   \n",
       "6141cf10b842c2e72e2f2d44            0.5795                    0.28975   \n",
       "6141cf1051c1cbd9654b8872            5.3264                    2.66320   \n",
       "6141cf10b842c2e72e2f2d46            0.5808                    0.29040   \n",
       "6141cf11cc0e69a0cf28ab35            2.9437                    1.47185   \n",
       "6141cf11b842c2e72e2f2d48            0.5890                    0.29450   \n",
       "6141cf11ae4fb853db2e3f14            7.1215                    7.12150   \n",
       "6141cf11cc0e69a0cf28ab37            2.9475                    1.47375   \n",
       "\n",
       "                          band_gap  idx subgroup group  \n",
       "_id                                                     \n",
       "6141cf0efbfd4bd9ab2c2f7e    1.1452    0       X1    X1  \n",
       "6141cf0f51c1cbd9654b8870    1.0843    1  X2_diff    X2  \n",
       "6141cf0fe689ecc4c43cdd4b    1.8033    2       X3    X3  \n",
       "6141cf10b842c2e72e2f2d44    1.8095    3  X4_diff    X4  \n",
       "6141cf1051c1cbd9654b8872    1.1102    4  X2_diff    X2  \n",
       "6141cf10b842c2e72e2f2d46    1.8093    5  X4_same    X4  \n",
       "6141cf11cc0e69a0cf28ab35    1.1484    6  X5_diff    X5  \n",
       "6141cf11b842c2e72e2f2d48    1.8068    7  X4_same    X4  \n",
       "6141cf11ae4fb853db2e3f14    0.3600    8       V1    V1  \n",
       "6141cf11cc0e69a0cf28ab37    1.1475    9  X5_diff    X5  "
      ]
     },
     "execution_count": 30,
     "metadata": {},
     "output_type": "execute_result"
    }
   ],
   "source": [
    "data.head(10)"
   ]
  },
  {
   "cell_type": "code",
   "execution_count": 27,
   "id": "e8e16018",
   "metadata": {},
   "outputs": [],
   "source": [
    "group0 = counts.index[0]\n",
    "data0 = data[data.group == group0]"
   ]
  },
  {
   "cell_type": "code",
   "execution_count": 28,
   "id": "63efc2e7",
   "metadata": {},
   "outputs": [
    {
     "data": {
      "text/plain": [
       "'V5'"
      ]
     },
     "execution_count": 28,
     "metadata": {},
     "output_type": "execute_result"
    }
   ],
   "source": [
    "group0"
   ]
  },
  {
   "cell_type": "code",
   "execution_count": 29,
   "id": "8a662372",
   "metadata": {},
   "outputs": [
    {
     "data": {
      "text/plain": [
       "Structure Summary\n",
       "Lattice\n",
       "    abc : 25.5225256 25.5225256 14.879004\n",
       " angles : 90.0 90.0 119.99999999999999\n",
       " volume : 8393.668021812642\n",
       "      A : 25.5225256 0.0 1.5628039641098191e-15\n",
       "      B : -12.761262799999994 22.10315553833868 1.5628039641098191e-15\n",
       "      C : 0.0 0.0 14.879004\n",
       "PeriodicSite: X0+ (15.9643, 7.3604, 3.7198) [0.7920, 0.3330, 0.2500]\n",
       "PeriodicSite: Se (6.3806, 14.7354, 5.2846) [0.5833, 0.6667, 0.3552]\n",
       "PeriodicSite: Se (20.7371, 6.4468, 5.2846) [0.9583, 0.2917, 0.3552]"
      ]
     },
     "execution_count": 29,
     "metadata": {},
     "output_type": "execute_result"
    }
   ],
   "source": [
    "data0.iloc[1].defect_representation"
   ]
  },
  {
   "cell_type": "code",
   "execution_count": 31,
   "id": "11594c9e",
   "metadata": {},
   "outputs": [],
   "source": [
    "j = s0.to_json()"
   ]
  },
  {
   "cell_type": "code",
   "execution_count": 32,
   "id": "5f7b9c7f",
   "metadata": {},
   "outputs": [],
   "source": [
    "with open(\"s0.json\", \"w\") as fh:\n",
    "    fh.write(j)"
   ]
  },
  {
   "cell_type": "code",
   "execution_count": 33,
   "id": "f0f960fe",
   "metadata": {},
   "outputs": [
    {
     "data": {
      "application/vnd.jupyter.widget-view+json": {
       "model_id": "749deb3bc0784d8796d159c42f398c14",
       "version_major": 2,
       "version_minor": 0
      },
      "text/plain": []
     },
     "metadata": {},
     "output_type": "display_data"
    }
   ],
   "source": [
    "import nglview"
   ]
  },
  {
   "cell_type": "code",
   "execution_count": 34,
   "id": "d672bd58",
   "metadata": {},
   "outputs": [],
   "source": [
    "# https://gist.github.com/lan496/3f60b6474750a6fd2b4237e820fbfea4\n",
    "def plot3d(structure, spacefill=True, show_axes=True):\n",
    "    from itertools import product\n",
    "    from pymatgen.core import Structure\n",
    "    from pymatgen.core.sites import PeriodicSite\n",
    "    \n",
    "    eps = 1e-8\n",
    "    sites = []\n",
    "    for site in structure:\n",
    "        species = site.species\n",
    "        frac_coords = np.remainder(site.frac_coords, 1)\n",
    "        for jimage in product([0, 1 - eps], repeat=3):\n",
    "            new_frac_coords = frac_coords + np.array(jimage)\n",
    "            if np.all(new_frac_coords < 1 + eps):\n",
    "                new_site = PeriodicSite(species=species, coords=new_frac_coords, lattice=structure.lattice)\n",
    "                sites.append(new_site)\n",
    "    structure_display = Structure.from_sites(sites)\n",
    "    \n",
    "    view = nglview.show_pymatgen(structure_display)\n",
    "    view.add_unitcell()\n",
    "    \n",
    "    if spacefill:\n",
    "        view.add_spacefill(radius_type='vdw', radius=0.5, color_scheme='element')\n",
    "        view.remove_ball_and_stick()\n",
    "    else:\n",
    "        view.add_ball_and_stick()\n",
    "        \n",
    "    if show_axes:\n",
    "        view.shape.add_arrow([-4, -4, -4], [0, -4, -4], [1, 0, 0], 0.5, \"x-axis\")\n",
    "        view.shape.add_arrow([-4, -4, -4], [-4, 0, -4], [0, 1, 0], 0.5, \"y-axis\")\n",
    "        view.shape.add_arrow([-4, -4, -4], [-4, -4, 0], [0, 0, 1], 0.5, \"z-axis\")\n",
    "        \n",
    "    view.camera = \"perspective\"\n",
    "    return view"
   ]
  },
  {
   "cell_type": "code",
   "execution_count": 35,
   "id": "565faf6d",
   "metadata": {},
   "outputs": [
    {
     "data": {
      "application/vnd.jupyter.widget-view+json": {
       "model_id": "52e9d5ddd236472eb6aafae0dfc41a34",
       "version_major": 2,
       "version_minor": 0
      },
      "text/plain": [
       "NGLWidget()"
      ]
     },
     "metadata": {},
     "output_type": "display_data"
    }
   ],
   "source": [
    "plot3d(s0)"
   ]
  },
  {
   "cell_type": "code",
   "execution_count": 36,
   "id": "61b2901a",
   "metadata": {},
   "outputs": [],
   "source": [
    "d10 = data.iloc[10].defect_representation\n",
    "s10 = data.iloc[10].initial_structure"
   ]
  },
  {
   "cell_type": "code",
   "execution_count": 37,
   "id": "44712ff8",
   "metadata": {},
   "outputs": [
    {
     "data": {
      "text/plain": [
       "Structure Summary\n",
       "Lattice\n",
       "    abc : 25.5225256 25.5225256 14.879004\n",
       " angles : 90.0 90.0 119.99999999999999\n",
       " volume : 8393.668021812642\n",
       "      A : 25.5225256 0.0 1.5628039641098191e-15\n",
       "      B : -12.761262799999994 22.10315553833868 1.5628039641098191e-15\n",
       "      C : 0.0 0.0 14.879004\n",
       "PeriodicSite: Mo (0.0000, 1.8419, 3.7198) [0.0417, 0.0833, 0.2500]\n",
       "PeriodicSite: Mo (-1.5952, 4.6048, 3.7198) [0.0417, 0.2083, 0.2500]\n",
       "PeriodicSite: Mo (-3.1903, 7.3677, 3.7198) [0.0417, 0.3333, 0.2500]\n",
       "PeriodicSite: Mo (-4.7855, 10.1306, 3.7198) [0.0417, 0.4583, 0.2500]\n",
       "PeriodicSite: Mo (-6.3806, 12.8935, 3.7198) [0.0417, 0.5833, 0.2500]\n",
       "PeriodicSite: Mo (-7.9758, 15.6564, 3.7198) [0.0417, 0.7083, 0.2500]\n",
       "PeriodicSite: Mo (-9.5709, 18.4193, 3.7198) [0.0417, 0.8333, 0.2500]\n",
       "PeriodicSite: Mo (-11.1661, 21.1822, 3.7198) [0.0417, 0.9583, 0.2500]\n",
       "PeriodicSite: Mo (3.1903, 1.8419, 3.7198) [0.1667, 0.0833, 0.2500]\n",
       "PeriodicSite: Mo (1.5952, 4.6048, 3.7198) [0.1667, 0.2083, 0.2500]\n",
       "PeriodicSite: Mo (0.0000, 7.3677, 3.7198) [0.1667, 0.3333, 0.2500]\n",
       "PeriodicSite: Mo (-1.5952, 10.1306, 3.7198) [0.1667, 0.4583, 0.2500]\n",
       "PeriodicSite: Mo (-3.1903, 12.8935, 3.7198) [0.1667, 0.5833, 0.2500]\n",
       "PeriodicSite: Mo (-4.7855, 15.6564, 3.7198) [0.1667, 0.7083, 0.2500]\n",
       "PeriodicSite: Mo (-6.3806, 18.4193, 3.7198) [0.1667, 0.8333, 0.2500]\n",
       "PeriodicSite: Mo (-7.9758, 21.1822, 3.7198) [0.1667, 0.9583, 0.2500]\n",
       "PeriodicSite: Mo (6.3806, 1.8419, 3.7198) [0.2917, 0.0833, 0.2500]\n",
       "PeriodicSite: Mo (4.7855, 4.6048, 3.7198) [0.2917, 0.2083, 0.2500]\n",
       "PeriodicSite: Mo (3.1903, 7.3677, 3.7198) [0.2917, 0.3333, 0.2500]\n",
       "PeriodicSite: Mo (1.5952, 10.1306, 3.7198) [0.2917, 0.4583, 0.2500]\n",
       "PeriodicSite: Mo (0.0000, 12.8935, 3.7198) [0.2917, 0.5833, 0.2500]\n",
       "PeriodicSite: Mo (-1.5952, 15.6564, 3.7198) [0.2917, 0.7083, 0.2500]\n",
       "PeriodicSite: Mo (-3.1903, 18.4193, 3.7198) [0.2917, 0.8333, 0.2500]\n",
       "PeriodicSite: Mo (-4.7855, 21.1822, 3.7198) [0.2917, 0.9583, 0.2500]\n",
       "PeriodicSite: Mo (9.5709, 1.8419, 3.7198) [0.4167, 0.0833, 0.2500]\n",
       "PeriodicSite: Mo (7.9758, 4.6048, 3.7198) [0.4167, 0.2083, 0.2500]\n",
       "PeriodicSite: Mo (6.3806, 7.3677, 3.7198) [0.4167, 0.3333, 0.2500]\n",
       "PeriodicSite: Mo (4.7855, 10.1306, 3.7198) [0.4167, 0.4583, 0.2500]\n",
       "PeriodicSite: Mo (3.1903, 12.8935, 3.7198) [0.4167, 0.5833, 0.2500]\n",
       "PeriodicSite: Mo (1.5952, 15.6564, 3.7198) [0.4167, 0.7083, 0.2500]\n",
       "PeriodicSite: Mo (0.0000, 18.4193, 3.7198) [0.4167, 0.8333, 0.2500]\n",
       "PeriodicSite: Mo (-1.5952, 21.1822, 3.7198) [0.4167, 0.9583, 0.2500]\n",
       "PeriodicSite: Mo (12.7613, 1.8419, 3.7198) [0.5417, 0.0833, 0.2500]\n",
       "PeriodicSite: Mo (11.1661, 4.6048, 3.7198) [0.5417, 0.2083, 0.2500]\n",
       "PeriodicSite: Mo (9.5709, 7.3677, 3.7198) [0.5417, 0.3333, 0.2500]\n",
       "PeriodicSite: Mo (7.9758, 10.1306, 3.7198) [0.5417, 0.4583, 0.2500]\n",
       "PeriodicSite: Mo (6.3806, 12.8935, 3.7198) [0.5417, 0.5833, 0.2500]\n",
       "PeriodicSite: Mo (4.7855, 15.6564, 3.7198) [0.5417, 0.7083, 0.2500]\n",
       "PeriodicSite: Mo (3.1903, 18.4193, 3.7198) [0.5417, 0.8333, 0.2500]\n",
       "PeriodicSite: Mo (1.5952, 21.1822, 3.7198) [0.5417, 0.9583, 0.2500]\n",
       "PeriodicSite: Mo (15.9516, 1.8419, 3.7198) [0.6667, 0.0833, 0.2500]\n",
       "PeriodicSite: Mo (14.3564, 4.6048, 3.7198) [0.6667, 0.2083, 0.2500]\n",
       "PeriodicSite: Mo (12.7613, 7.3677, 3.7198) [0.6667, 0.3333, 0.2500]\n",
       "PeriodicSite: Mo (11.1661, 10.1306, 3.7198) [0.6667, 0.4583, 0.2500]\n",
       "PeriodicSite: Mo (9.5709, 12.8935, 3.7198) [0.6667, 0.5833, 0.2500]\n",
       "PeriodicSite: Mo (7.9758, 15.6564, 3.7198) [0.6667, 0.7083, 0.2500]\n",
       "PeriodicSite: Mo (6.3806, 18.4193, 3.7198) [0.6667, 0.8333, 0.2500]\n",
       "PeriodicSite: Mo (4.7855, 21.1822, 3.7198) [0.6667, 0.9583, 0.2500]\n",
       "PeriodicSite: Mo (19.1419, 1.8419, 3.7198) [0.7917, 0.0833, 0.2500]\n",
       "PeriodicSite: Mo (17.5467, 4.6048, 3.7198) [0.7917, 0.2083, 0.2500]\n",
       "PeriodicSite: Mo (15.9516, 7.3677, 3.7198) [0.7917, 0.3333, 0.2500]\n",
       "PeriodicSite: Mo (14.3564, 10.1306, 3.7198) [0.7917, 0.4583, 0.2500]\n",
       "PeriodicSite: Mo (12.7613, 12.8935, 3.7198) [0.7917, 0.5833, 0.2500]\n",
       "PeriodicSite: Mo (11.1661, 15.6564, 3.7198) [0.7917, 0.7083, 0.2500]\n",
       "PeriodicSite: Mo (9.5709, 18.4193, 3.7198) [0.7917, 0.8333, 0.2500]\n",
       "PeriodicSite: Mo (7.9758, 21.1822, 3.7198) [0.7917, 0.9583, 0.2500]\n",
       "PeriodicSite: Mo (22.3322, 1.8419, 3.7198) [0.9167, 0.0833, 0.2500]\n",
       "PeriodicSite: Mo (20.7371, 4.6048, 3.7198) [0.9167, 0.2083, 0.2500]\n",
       "PeriodicSite: Mo (19.1419, 7.3677, 3.7198) [0.9167, 0.3333, 0.2500]\n",
       "PeriodicSite: Mo (17.5467, 10.1306, 3.7198) [0.9167, 0.4583, 0.2500]\n",
       "PeriodicSite: Mo (15.9516, 12.8935, 3.7198) [0.9167, 0.5833, 0.2500]\n",
       "PeriodicSite: Mo (14.3564, 15.6564, 3.7198) [0.9167, 0.7083, 0.2500]\n",
       "PeriodicSite: Mo (12.7613, 18.4193, 3.7198) [0.9167, 0.8333, 0.2500]\n",
       "PeriodicSite: Mo (11.1661, 21.1822, 3.7198) [0.9167, 0.9583, 0.2500]\n",
       "PeriodicSite: Se (17.5467, 11.9725, 5.2846) [0.9583, 0.5417, 0.3552]\n",
       "PeriodicSite: Se (-3.1903, 14.7354, 2.1549) [0.2083, 0.6667, 0.1448]\n",
       "PeriodicSite: S (1.5952, 0.9210, 2.1549) [0.0833, 0.0417, 0.1448]\n",
       "PeriodicSite: S (-0.0000, 3.6839, 2.1549) [0.0833, 0.1667, 0.1448]\n",
       "PeriodicSite: S (-1.5952, 6.4468, 2.1549) [0.0833, 0.2917, 0.1448]\n",
       "PeriodicSite: S (-3.1903, 9.2096, 2.1549) [0.0833, 0.4167, 0.1448]\n",
       "PeriodicSite: S (-4.7855, 11.9725, 2.1549) [0.0833, 0.5417, 0.1448]\n",
       "PeriodicSite: S (-6.3806, 14.7354, 2.1549) [0.0833, 0.6667, 0.1448]\n",
       "PeriodicSite: S (-7.9758, 17.4983, 2.1549) [0.0833, 0.7917, 0.1448]\n",
       "PeriodicSite: S (-9.5709, 20.2612, 2.1549) [0.0833, 0.9167, 0.1448]\n",
       "PeriodicSite: S (4.7855, 0.9210, 2.1549) [0.2083, 0.0417, 0.1448]\n",
       "PeriodicSite: S (3.1903, 3.6839, 2.1549) [0.2083, 0.1667, 0.1448]\n",
       "PeriodicSite: S (1.5952, 6.4468, 2.1549) [0.2083, 0.2917, 0.1448]\n",
       "PeriodicSite: S (-0.0000, 9.2096, 2.1549) [0.2083, 0.4167, 0.1448]\n",
       "PeriodicSite: S (-1.5952, 11.9725, 2.1549) [0.2083, 0.5417, 0.1448]\n",
       "PeriodicSite: S (-4.7855, 17.4983, 2.1549) [0.2083, 0.7917, 0.1448]\n",
       "PeriodicSite: S (-6.3806, 20.2612, 2.1549) [0.2083, 0.9167, 0.1448]\n",
       "PeriodicSite: S (7.9758, 0.9210, 2.1549) [0.3333, 0.0417, 0.1448]\n",
       "PeriodicSite: S (6.3806, 3.6839, 2.1549) [0.3333, 0.1667, 0.1448]\n",
       "PeriodicSite: S (4.7855, 6.4468, 2.1549) [0.3333, 0.2917, 0.1448]\n",
       "PeriodicSite: S (3.1903, 9.2096, 2.1549) [0.3333, 0.4167, 0.1448]\n",
       "PeriodicSite: S (1.5952, 11.9725, 2.1549) [0.3333, 0.5417, 0.1448]\n",
       "PeriodicSite: S (0.0000, 14.7354, 2.1549) [0.3333, 0.6667, 0.1448]\n",
       "PeriodicSite: S (-1.5952, 17.4983, 2.1549) [0.3333, 0.7917, 0.1448]\n",
       "PeriodicSite: S (-3.1903, 20.2612, 2.1549) [0.3333, 0.9167, 0.1448]\n",
       "PeriodicSite: S (11.1661, 0.9210, 2.1549) [0.4583, 0.0417, 0.1448]\n",
       "PeriodicSite: S (9.5709, 3.6839, 2.1549) [0.4583, 0.1667, 0.1448]\n",
       "PeriodicSite: S (7.9758, 6.4468, 2.1549) [0.4583, 0.2917, 0.1448]\n",
       "PeriodicSite: S (6.3806, 9.2096, 2.1549) [0.4583, 0.4167, 0.1448]\n",
       "PeriodicSite: S (4.7855, 11.9725, 2.1549) [0.4583, 0.5417, 0.1448]\n",
       "PeriodicSite: S (3.1903, 14.7354, 2.1549) [0.4583, 0.6667, 0.1448]\n",
       "PeriodicSite: S (1.5952, 17.4983, 2.1549) [0.4583, 0.7917, 0.1448]\n",
       "PeriodicSite: S (-0.0000, 20.2612, 2.1549) [0.4583, 0.9167, 0.1448]\n",
       "PeriodicSite: S (14.3564, 0.9210, 2.1549) [0.5833, 0.0417, 0.1448]\n",
       "PeriodicSite: S (12.7613, 3.6839, 2.1549) [0.5833, 0.1667, 0.1448]\n",
       "PeriodicSite: S (11.1661, 6.4468, 2.1549) [0.5833, 0.2917, 0.1448]\n",
       "PeriodicSite: S (9.5709, 9.2096, 2.1549) [0.5833, 0.4167, 0.1448]\n",
       "PeriodicSite: S (7.9758, 11.9725, 2.1549) [0.5833, 0.5417, 0.1448]\n",
       "PeriodicSite: S (6.3806, 14.7354, 2.1549) [0.5833, 0.6667, 0.1448]\n",
       "PeriodicSite: S (4.7855, 17.4983, 2.1549) [0.5833, 0.7917, 0.1448]\n",
       "PeriodicSite: S (3.1903, 20.2612, 2.1549) [0.5833, 0.9167, 0.1448]\n",
       "PeriodicSite: S (17.5467, 0.9210, 2.1549) [0.7083, 0.0417, 0.1448]\n",
       "PeriodicSite: S (15.9516, 3.6839, 2.1549) [0.7083, 0.1667, 0.1448]\n",
       "PeriodicSite: S (14.3564, 6.4468, 2.1549) [0.7083, 0.2917, 0.1448]\n",
       "PeriodicSite: S (12.7613, 9.2096, 2.1549) [0.7083, 0.4167, 0.1448]\n",
       "PeriodicSite: S (11.1661, 11.9725, 2.1549) [0.7083, 0.5417, 0.1448]\n",
       "PeriodicSite: S (9.5709, 14.7354, 2.1549) [0.7083, 0.6667, 0.1448]\n",
       "PeriodicSite: S (7.9758, 17.4983, 2.1549) [0.7083, 0.7917, 0.1448]\n",
       "PeriodicSite: S (6.3806, 20.2612, 2.1549) [0.7083, 0.9167, 0.1448]\n",
       "PeriodicSite: S (20.7371, 0.9210, 2.1549) [0.8333, 0.0417, 0.1448]\n",
       "PeriodicSite: S (19.1419, 3.6839, 2.1549) [0.8333, 0.1667, 0.1448]\n",
       "PeriodicSite: S (17.5467, 6.4468, 2.1549) [0.8333, 0.2917, 0.1448]\n",
       "PeriodicSite: S (15.9516, 9.2096, 2.1549) [0.8333, 0.4167, 0.1448]\n",
       "PeriodicSite: S (14.3564, 11.9725, 2.1549) [0.8333, 0.5417, 0.1448]\n",
       "PeriodicSite: S (12.7613, 14.7354, 2.1549) [0.8333, 0.6667, 0.1448]\n",
       "PeriodicSite: S (11.1661, 17.4983, 2.1549) [0.8333, 0.7917, 0.1448]\n",
       "PeriodicSite: S (9.5709, 20.2612, 2.1549) [0.8333, 0.9167, 0.1448]\n",
       "PeriodicSite: S (23.9274, 0.9210, 2.1549) [0.9583, 0.0417, 0.1448]\n",
       "PeriodicSite: S (22.3322, 3.6839, 2.1549) [0.9583, 0.1667, 0.1448]\n",
       "PeriodicSite: S (20.7371, 6.4468, 2.1549) [0.9583, 0.2917, 0.1448]\n",
       "PeriodicSite: S (19.1419, 9.2096, 2.1549) [0.9583, 0.4167, 0.1448]\n",
       "PeriodicSite: S (17.5467, 11.9725, 2.1549) [0.9583, 0.5417, 0.1448]\n",
       "PeriodicSite: S (15.9516, 14.7354, 2.1549) [0.9583, 0.6667, 0.1448]\n",
       "PeriodicSite: S (14.3564, 17.4983, 2.1549) [0.9583, 0.7917, 0.1448]\n",
       "PeriodicSite: S (12.7613, 20.2612, 2.1549) [0.9583, 0.9167, 0.1448]\n",
       "PeriodicSite: S (1.5952, 0.9210, 5.2846) [0.0833, 0.0417, 0.3552]\n",
       "PeriodicSite: S (-0.0000, 3.6839, 5.2846) [0.0833, 0.1667, 0.3552]\n",
       "PeriodicSite: S (-1.5952, 6.4468, 5.2846) [0.0833, 0.2917, 0.3552]\n",
       "PeriodicSite: S (-3.1903, 9.2096, 5.2846) [0.0833, 0.4167, 0.3552]\n",
       "PeriodicSite: S (-4.7855, 11.9725, 5.2846) [0.0833, 0.5417, 0.3552]\n",
       "PeriodicSite: S (-6.3806, 14.7354, 5.2846) [0.0833, 0.6667, 0.3552]\n",
       "PeriodicSite: S (-7.9758, 17.4983, 5.2846) [0.0833, 0.7917, 0.3552]\n",
       "PeriodicSite: S (-9.5709, 20.2612, 5.2846) [0.0833, 0.9167, 0.3552]\n",
       "PeriodicSite: S (4.7855, 0.9210, 5.2846) [0.2083, 0.0417, 0.3552]\n",
       "PeriodicSite: S (3.1903, 3.6839, 5.2846) [0.2083, 0.1667, 0.3552]\n",
       "PeriodicSite: S (1.5952, 6.4468, 5.2846) [0.2083, 0.2917, 0.3552]\n",
       "PeriodicSite: S (-0.0000, 9.2096, 5.2846) [0.2083, 0.4167, 0.3552]\n",
       "PeriodicSite: S (-1.5952, 11.9725, 5.2846) [0.2083, 0.5417, 0.3552]\n",
       "PeriodicSite: S (-3.1903, 14.7354, 5.2846) [0.2083, 0.6667, 0.3552]\n",
       "PeriodicSite: S (-4.7855, 17.4983, 5.2846) [0.2083, 0.7917, 0.3552]\n",
       "PeriodicSite: S (-6.3806, 20.2612, 5.2846) [0.2083, 0.9167, 0.3552]\n",
       "PeriodicSite: S (7.9758, 0.9210, 5.2846) [0.3333, 0.0417, 0.3552]\n",
       "PeriodicSite: S (6.3806, 3.6839, 5.2846) [0.3333, 0.1667, 0.3552]\n",
       "PeriodicSite: S (4.7855, 6.4468, 5.2846) [0.3333, 0.2917, 0.3552]\n",
       "PeriodicSite: S (3.1903, 9.2096, 5.2846) [0.3333, 0.4167, 0.3552]\n",
       "PeriodicSite: S (1.5952, 11.9725, 5.2846) [0.3333, 0.5417, 0.3552]\n",
       "PeriodicSite: S (0.0000, 14.7354, 5.2846) [0.3333, 0.6667, 0.3552]\n",
       "PeriodicSite: S (-1.5952, 17.4983, 5.2846) [0.3333, 0.7917, 0.3552]\n",
       "PeriodicSite: S (-3.1903, 20.2612, 5.2846) [0.3333, 0.9167, 0.3552]\n",
       "PeriodicSite: S (11.1661, 0.9210, 5.2846) [0.4583, 0.0417, 0.3552]\n",
       "PeriodicSite: S (9.5709, 3.6839, 5.2846) [0.4583, 0.1667, 0.3552]\n",
       "PeriodicSite: S (7.9758, 6.4468, 5.2846) [0.4583, 0.2917, 0.3552]\n",
       "PeriodicSite: S (6.3806, 9.2096, 5.2846) [0.4583, 0.4167, 0.3552]\n",
       "PeriodicSite: S (4.7855, 11.9725, 5.2846) [0.4583, 0.5417, 0.3552]\n",
       "PeriodicSite: S (3.1903, 14.7354, 5.2846) [0.4583, 0.6667, 0.3552]\n",
       "PeriodicSite: S (1.5952, 17.4983, 5.2846) [0.4583, 0.7917, 0.3552]\n",
       "PeriodicSite: S (-0.0000, 20.2612, 5.2846) [0.4583, 0.9167, 0.3552]\n",
       "PeriodicSite: S (14.3564, 0.9210, 5.2846) [0.5833, 0.0417, 0.3552]\n",
       "PeriodicSite: S (12.7613, 3.6839, 5.2846) [0.5833, 0.1667, 0.3552]\n",
       "PeriodicSite: S (11.1661, 6.4468, 5.2846) [0.5833, 0.2917, 0.3552]\n",
       "PeriodicSite: S (9.5709, 9.2096, 5.2846) [0.5833, 0.4167, 0.3552]\n",
       "PeriodicSite: S (7.9758, 11.9725, 5.2846) [0.5833, 0.5417, 0.3552]\n",
       "PeriodicSite: S (6.3806, 14.7354, 5.2846) [0.5833, 0.6667, 0.3552]\n",
       "PeriodicSite: S (4.7855, 17.4983, 5.2846) [0.5833, 0.7917, 0.3552]\n",
       "PeriodicSite: S (3.1903, 20.2612, 5.2846) [0.5833, 0.9167, 0.3552]\n",
       "PeriodicSite: S (17.5467, 0.9210, 5.2846) [0.7083, 0.0417, 0.3552]\n",
       "PeriodicSite: S (15.9516, 3.6839, 5.2846) [0.7083, 0.1667, 0.3552]\n",
       "PeriodicSite: S (14.3564, 6.4468, 5.2846) [0.7083, 0.2917, 0.3552]\n",
       "PeriodicSite: S (12.7613, 9.2096, 5.2846) [0.7083, 0.4167, 0.3552]\n",
       "PeriodicSite: S (11.1661, 11.9725, 5.2846) [0.7083, 0.5417, 0.3552]\n",
       "PeriodicSite: S (9.5709, 14.7354, 5.2846) [0.7083, 0.6667, 0.3552]\n",
       "PeriodicSite: S (7.9758, 17.4983, 5.2846) [0.7083, 0.7917, 0.3552]\n",
       "PeriodicSite: S (6.3806, 20.2612, 5.2846) [0.7083, 0.9167, 0.3552]\n",
       "PeriodicSite: S (20.7371, 0.9210, 5.2846) [0.8333, 0.0417, 0.3552]\n",
       "PeriodicSite: S (19.1419, 3.6839, 5.2846) [0.8333, 0.1667, 0.3552]\n",
       "PeriodicSite: S (17.5467, 6.4468, 5.2846) [0.8333, 0.2917, 0.3552]\n",
       "PeriodicSite: S (15.9516, 9.2096, 5.2846) [0.8333, 0.4167, 0.3552]\n",
       "PeriodicSite: S (14.3564, 11.9725, 5.2846) [0.8333, 0.5417, 0.3552]\n",
       "PeriodicSite: S (12.7613, 14.7354, 5.2846) [0.8333, 0.6667, 0.3552]\n",
       "PeriodicSite: S (11.1661, 17.4983, 5.2846) [0.8333, 0.7917, 0.3552]\n",
       "PeriodicSite: S (9.5709, 20.2612, 5.2846) [0.8333, 0.9167, 0.3552]\n",
       "PeriodicSite: S (23.9274, 0.9210, 5.2846) [0.9583, 0.0417, 0.3552]\n",
       "PeriodicSite: S (22.3322, 3.6839, 5.2846) [0.9583, 0.1667, 0.3552]\n",
       "PeriodicSite: S (20.7371, 6.4468, 5.2846) [0.9583, 0.2917, 0.3552]\n",
       "PeriodicSite: S (19.1419, 9.2096, 5.2846) [0.9583, 0.4167, 0.3552]\n",
       "PeriodicSite: S (15.9516, 14.7354, 5.2846) [0.9583, 0.6667, 0.3552]\n",
       "PeriodicSite: S (14.3564, 17.4983, 5.2846) [0.9583, 0.7917, 0.3552]\n",
       "PeriodicSite: S (12.7613, 20.2612, 5.2846) [0.9583, 0.9167, 0.3552]"
      ]
     },
     "execution_count": 37,
     "metadata": {},
     "output_type": "execute_result"
    }
   ],
   "source": [
    "s10"
   ]
  },
  {
   "cell_type": "code",
   "execution_count": 38,
   "id": "46728262",
   "metadata": {},
   "outputs": [],
   "source": [
    "def get_x_y_dist(structure, size=(8,8)):\n",
    "    ls = structure.lattice.lengths\n",
    "    return ls[0] / size[0], ls[1] / size[1]"
   ]
  },
  {
   "cell_type": "code",
   "execution_count": 39,
   "id": "b3684ee7",
   "metadata": {},
   "outputs": [],
   "source": [
    "def sites_equal(s1, s2, atol=1e-2):\n",
    "    return np.allclose(s1.coords, s2.coords, atol)\n",
    "\n",
    "def find_site(structure, site, atol=1e-2):\n",
    "    for i, s in enumerate(structure):\n",
    "        if sites_equal(s, site, atol):\n",
    "            return i\n",
    "    raise ValueError(f\"{site} not found in structure with atol={atol}\")\n",
    "    \n",
    "def safe_find_site(sites, site, atol=1e-2):\n",
    "    for i, s in enumerate(sites):\n",
    "        if sites_equal(s, site, atol):\n",
    "            return True, i\n",
    "    return False, -1"
   ]
  },
  {
   "cell_type": "code",
   "execution_count": 40,
   "id": "4a45d9f7",
   "metadata": {},
   "outputs": [],
   "source": [
    "def get_nn(structure, site, atol=1e-1):\n",
    "    \"\"\"\n",
    "    returns indicies of neighbouring sites in structure for given site.\n",
    "    \"\"\"\n",
    "    layer_coords = build_layers_coords(structure)\n",
    "    layer = get_layer(site, layer_coords)\n",
    "    nearest_neighbor_ids = []\n",
    "    dx, dy = get_x_y_dist(structure)\n",
    "    for i,s in enumerate(structure):\n",
    "        if max(np.isclose(site.distance(s), [dx, dy], atol=atol)) == 1 and get_layer(s, layer_coords) == layer:\n",
    "            nearest_neighbor_ids.append(i)    \n",
    "    return nearest_neighbor_ids"
   ]
  },
  {
   "cell_type": "code",
   "execution_count": 69,
   "id": "82543b68",
   "metadata": {},
   "outputs": [],
   "source": [
    "def save_adj_dict(adj_dict, name):\n",
    "    with open(f\"{name}.json\", \"w\") as json_file:\n",
    "        json.dump(adj_dict, json_file)\n",
    "        \n",
    "def restore_adj_dict(group_name):\n",
    "    def jsonKeys2int(x):\n",
    "        if isinstance(x, dict):\n",
    "            return {int(k):v for k,v in x.items()}\n",
    "        return x\n",
    "\n",
    "    adj_dct = {}\n",
    "    with open(f\"{group_name}.json\", \"r\") as json_file:\n",
    "         adj_dct = json.load(json_file, object_hook=jsonKeys2int)\n",
    "    return adj_dct"
   ]
  },
  {
   "cell_type": "code",
   "execution_count": 42,
   "id": "c1a588e2",
   "metadata": {},
   "outputs": [],
   "source": [
    "def swap_sites(structure, defect_site, idx):\n",
    "    defect_species = defect_site.species_string\n",
    "    site_species = structure[idx].species_string\n",
    "    if defect_species == site_species:\n",
    "        return structure.copy(), defect_site\n",
    "    new_defect_site = PeriodicSite(defect_site.species, \n",
    "                                   structure[idx].frac_coords, \n",
    "                                   structure[idx].lattice)\n",
    "    if defect_species != \"X0+\":\n",
    "        defect_idx = find_site(structure, defect_site)\n",
    "        indices_species_map = {idx: defect_species, defect_idx: site_species}\n",
    "        transformation = ReplaceSiteSpeciesTransformation(indices_species_map)\n",
    "        return transformation.apply_transformation(structure), new_defect_site\n",
    "    insert_transf = InsertSitesTransformation([site_species],\n",
    "                                              [defect_site.frac_coords])\n",
    "    remove_transf = RemoveSitesTransformation([idx])\n",
    "    removed_s = remove_transf.apply_transformation(structure)\n",
    "    return insert_transf.apply_transformation(removed_s), new_defect_site"
   ]
  },
  {
   "cell_type": "code",
   "execution_count": 43,
   "id": "94ce82d5",
   "metadata": {},
   "outputs": [
    {
     "data": {
      "text/plain": [
       "PeriodicSite: Se (-4.7855, 17.4983, 2.1549) [0.2083, 0.7917, 0.1448]"
      ]
     },
     "execution_count": 43,
     "metadata": {},
     "output_type": "execute_result"
    }
   ],
   "source": [
    "swap_sites(s10, d10[0], get_nn(s10, d10[0])[3])[1]"
   ]
  },
  {
   "cell_type": "code",
   "execution_count": 44,
   "id": "64d7aad7",
   "metadata": {},
   "outputs": [
    {
     "data": {
      "text/plain": [
       "PeriodicSite: Se (-3.1903, 14.7354, 2.1549) [0.2083, 0.6667, 0.1448]"
      ]
     },
     "execution_count": 44,
     "metadata": {},
     "output_type": "execute_result"
    }
   ],
   "source": [
    "d10[0]"
   ]
  },
  {
   "cell_type": "code",
   "execution_count": 45,
   "id": "76a856c9",
   "metadata": {},
   "outputs": [],
   "source": [
    "s0 = data.iloc[0].initial_structure"
   ]
  },
  {
   "cell_type": "code",
   "execution_count": 46,
   "id": "fbe0eb40",
   "metadata": {},
   "outputs": [],
   "source": [
    "d0 = data.iloc[0].defect_representation"
   ]
  },
  {
   "cell_type": "code",
   "execution_count": 47,
   "id": "affeddae",
   "metadata": {},
   "outputs": [],
   "source": [
    "def build_full_structure(s0, d0):\n",
    "    site_species = \"S\"\n",
    "    defect_site = d0[0]\n",
    "    insert_transf = InsertSitesTransformation([site_species],\n",
    "                                              [defect_site.frac_coords])\n",
    "    return insert_transf.apply_transformation(s0)\n",
    "\n",
    "full_structure = build_full_structure(s0, d0)"
   ]
  },
  {
   "cell_type": "code",
   "execution_count": 49,
   "id": "7d975213",
   "metadata": {},
   "outputs": [
    {
     "data": {
      "text/plain": [
       "Structure Summary\n",
       "Lattice\n",
       "    abc : 25.5225256 25.5225256 14.879004\n",
       " angles : 90.0 90.0 119.99999999999999\n",
       " volume : 8393.668021812642\n",
       "      A : 25.5225256 0.0 1.5628039641098191e-15\n",
       "      B : -12.761262799999994 22.10315553833868 1.5628039641098191e-15\n",
       "      C : 0.0 0.0 14.879004\n",
       "PeriodicSite: Se (4.7855, 17.4983, 2.1549) [0.5833, 0.7917, 0.1448]"
      ]
     },
     "execution_count": 49,
     "metadata": {},
     "output_type": "execute_result"
    }
   ],
   "source": [
    " data.iloc[2].defect_representation"
   ]
  },
  {
   "cell_type": "code",
   "execution_count": 50,
   "id": "c1502d55",
   "metadata": {},
   "outputs": [
    {
     "data": {
      "text/plain": [
       "Structure Summary\n",
       "Lattice\n",
       "    abc : 25.5225256 25.5225256 14.879004\n",
       " angles : 90.0 90.0 119.99999999999999\n",
       " volume : 8393.668021812642\n",
       "      A : 25.5225256 0.0 1.5628039641098191e-15\n",
       "      B : -12.761262799999994 22.10315553833868 1.5628039641098191e-15\n",
       "      C : 0.0 0.0 14.879004\n",
       "PeriodicSite: Se (4.7855, 17.4983, 2.1549) [0.5833, 0.7917, 0.1448]"
      ]
     },
     "execution_count": 50,
     "metadata": {},
     "output_type": "execute_result"
    }
   ],
   "source": [
    "d2 = data.iloc[2].defect_representation\n",
    "d2"
   ]
  },
  {
   "cell_type": "code",
   "execution_count": 51,
   "id": "0ce145b4",
   "metadata": {},
   "outputs": [
    {
     "data": {
      "text/plain": [
       "PeriodicSite: Se (4.7855, 17.4983, 5.2846) [0.5833, 0.7917, 0.3552]"
      ]
     },
     "execution_count": 51,
     "metadata": {},
     "output_type": "execute_result"
    }
   ],
   "source": [
    "refl_coords = d2[0].frac_coords.copy()\n",
    "refl_coords[-1] = layers_coords[2]\n",
    "refl_site = PeriodicSite(d2[0].species, refl_coords, d2[0].lattice)\n",
    "refl_site"
   ]
  },
  {
   "cell_type": "code",
   "execution_count": 52,
   "id": "b1f06e5e",
   "metadata": {},
   "outputs": [
    {
     "data": {
      "text/plain": [
       "Structure Summary\n",
       "Lattice\n",
       "    abc : 25.5225256 25.5225256 14.879004\n",
       " angles : 90.0 90.0 119.99999999999999\n",
       " volume : 8393.668021812642\n",
       "      A : 25.5225256 0.0 1.5628039641098191e-15\n",
       "      B : -12.761262799999994 22.10315553833868 1.5628039641098191e-15\n",
       "      C : 0.0 0.0 14.879004\n",
       "PeriodicSite: Se (4.7855, 17.4983, 2.1549) [0.5833, 0.7917, 0.1448]"
      ]
     },
     "execution_count": 52,
     "metadata": {},
     "output_type": "execute_result"
    }
   ],
   "source": [
    "d2"
   ]
  },
  {
   "cell_type": "code",
   "execution_count": 51,
   "id": "5b9a89e6",
   "metadata": {},
   "outputs": [
    {
     "ename": "NameError",
     "evalue": "name 'checker' is not defined",
     "output_type": "error",
     "traceback": [
      "\u001b[0;31m---------------------------------------------------------------------------\u001b[0m",
      "\u001b[0;31mNameError\u001b[0m                                 Traceback (most recent call last)",
      "\u001b[0;32m/tmp/ipykernel_124662/2409533395.py\u001b[0m in \u001b[0;36m<module>\u001b[0;34m\u001b[0m\n\u001b[0;32m----> 1\u001b[0;31m \u001b[0mchecker\u001b[0m\u001b[0;34m.\u001b[0m\u001b[0mare_symmetrically_equivalent\u001b[0m\u001b[0;34m(\u001b[0m\u001b[0;34m[\u001b[0m\u001b[0md2\u001b[0m\u001b[0;34m[\u001b[0m\u001b[0;36m0\u001b[0m\u001b[0;34m]\u001b[0m\u001b[0;34m]\u001b[0m\u001b[0;34m,\u001b[0m \u001b[0;34m[\u001b[0m\u001b[0mrefl_site\u001b[0m\u001b[0;34m]\u001b[0m\u001b[0;34m)\u001b[0m\u001b[0;34m\u001b[0m\u001b[0;34m\u001b[0m\u001b[0m\n\u001b[0m",
      "\u001b[0;31mNameError\u001b[0m: name 'checker' is not defined"
     ]
    }
   ],
   "source": [
    "checker.are_symmetrically_equivalent([d2[0]], [refl_site])\n"
   ]
  },
  {
   "cell_type": "code",
   "execution_count": null,
   "id": "70cc3812",
   "metadata": {},
   "outputs": [],
   "source": [
    "finder = SpacegroupAnalyzer(cur.initial_structure)\n",
    "print(\"The spacegroup is {}\".format(finder.get_space_group_symbol()))"
   ]
  },
  {
   "cell_type": "code",
   "execution_count": 49,
   "id": "4478aa9f",
   "metadata": {},
   "outputs": [],
   "source": [
    "finder = SpacegroupAnalyzer(full_structure, symprec=1e-1)\n",
    "checker = finder.get_space_group_operations()"
   ]
  },
  {
   "cell_type": "code",
   "execution_count": null,
   "id": "9a286333",
   "metadata": {},
   "outputs": [],
   "source": [
    " %time checker.are_symmetrically_equivalent(s0, swap_sites(s0, d0[0], get_nn(s0, d0[0])[0]))"
   ]
  },
  {
   "cell_type": "code",
   "execution_count": null,
   "id": "e7a67410",
   "metadata": {},
   "outputs": [],
   "source": [
    "%time checker.are_symmetrically_equivalent(s0, s0)"
   ]
  },
  {
   "cell_type": "code",
   "execution_count": 43,
   "id": "1d19f89e",
   "metadata": {},
   "outputs": [
    {
     "name": "stdout",
     "output_type": "stream",
     "text": [
      "CPU times: user 20.2 ms, sys: 4.05 ms, total: 24.3 ms\n",
      "Wall time: 19.4 ms\n"
     ]
    },
    {
     "data": {
      "text/plain": [
       "False"
      ]
     },
     "execution_count": 43,
     "metadata": {},
     "output_type": "execute_result"
    }
   ],
   "source": [
    "%time checker.are_symmetrically_equivalent(d0, d10)"
   ]
  },
  {
   "cell_type": "code",
   "execution_count": null,
   "id": "c4f63d45",
   "metadata": {},
   "outputs": [],
   "source": [
    "for i, row in data0.iterrows():\n",
    "    if checker.are_symmetrically_equivalent(cur.defect_representation.sites,\n",
    "                                            row.defect_representation.sites):\n",
    "        print(i)"
   ]
  },
  {
   "cell_type": "code",
   "execution_count": null,
   "id": "c41d9b81",
   "metadata": {},
   "outputs": [],
   "source": [
    "s0[70].species_string"
   ]
  },
  {
   "cell_type": "code",
   "execution_count": null,
   "id": "eecb7aad",
   "metadata": {
    "scrolled": true
   },
   "outputs": [],
   "source": [
    "plot3d(s0)"
   ]
  },
  {
   "cell_type": "code",
   "execution_count": null,
   "id": "7261eb39",
   "metadata": {},
   "outputs": [],
   "source": [
    "plot3d(swap_sites(s0, d0[0], get_nn(s0, d0[0])[4]))"
   ]
  },
  {
   "cell_type": "code",
   "execution_count": 50,
   "id": "4b0470a6",
   "metadata": {},
   "outputs": [],
   "source": [
    "def generate_neighbouring_structures(structure, defects):\n",
    "    \"\"\"\n",
    "    Only one swap.\n",
    "    \"\"\"\n",
    "    result_structures = []\n",
    "    defect_reprs = []\n",
    "    for i, defect_site in enumerate(defects):\n",
    "        nns = get_nn(structure, defect_site)\n",
    "        for n_idx in nns:\n",
    "            new_structure, new_defect_site = swap_sites(structure, \n",
    "                                                        defect_site, \n",
    "                                                        n_idx)\n",
    "            new_defect_repr = defects.copy()\n",
    "            new_defect_repr[i] = new_defect_site\n",
    "            \n",
    "            # check if swapped with another defect\n",
    "            found, idx = safe_find_site(defects, new_defect_site)\n",
    "            if found:\n",
    "                swapped_defect_site = PeriodicSite(defects[idx].species, \n",
    "                                   defect_site.frac_coords, \n",
    "                                   defect_site.lattice)\n",
    "                new_defect_repr[idx] = swapped_defect_site\n",
    "            # check if got something new\n",
    "            is_new = True\n",
    "            for reprn in defect_reprs:\n",
    "                if checker.are_symmetrically_equivalent(reprn, \n",
    "                                                        new_defect_repr, \n",
    "                                                        symm_prec=0.01):\n",
    "                    is_new = False\n",
    "                    break\n",
    "            if is_new or len(defect_reprs) == 0:\n",
    "                result_structures.append(new_structure)\n",
    "                defect_reprs.append(new_defect_repr)\n",
    "    return result_structures, defect_reprs"
   ]
  },
  {
   "cell_type": "code",
   "execution_count": 51,
   "id": "7c28ebee",
   "metadata": {},
   "outputs": [],
   "source": [
    "def get_energy_idx(defect_representation, group_df, checker):\n",
    "    for i, row in group_df.iterrows():\n",
    "        if checker.are_symmetrically_equivalent(defect_representation,\n",
    "                                                row.defect_representation,\n",
    "                                                symm_prec=0.01):\n",
    "            return row.energy_per_atom, row.idx\n",
    "    raise ValueError(f\"Not found symmetrically equivalent structure for {defect_representation}\")"
   ]
  },
  {
   "cell_type": "code",
   "execution_count": 97,
   "id": "f1d98221",
   "metadata": {},
   "outputs": [],
   "source": [
    "def get_energy_idx_parallel(defect_representation, group_df, checker):\n",
    "    def get_item(i, row):\n",
    "        if checker.are_symmetrically_equivalent(defect_representation,\n",
    "                                                row.defect_representation,\n",
    "                                                symm_prec=0.01):\n",
    "            return row.energy_per_atom, row.idx\n",
    "        return None\n",
    "    result = Parallel(n_jobs=-3)(\n",
    "        delayed(get_item)(i, row) for i, row in group_df.iterrows()\n",
    "    )\n",
    "    for entry in result:\n",
    "        if entry is not None:\n",
    "            return entry\n",
    "        \n",
    "    raise ValueError(f\"Not found symmetrically equivalent structure for {defect_representation}\")"
   ]
  },
  {
   "cell_type": "code",
   "execution_count": null,
   "id": "bf669226",
   "metadata": {},
   "outputs": [],
   "source": [
    "len(generate_neighbouring_structures(s0, d0))"
   ]
  },
  {
   "cell_type": "code",
   "execution_count": 101,
   "id": "f75d3860",
   "metadata": {},
   "outputs": [],
   "source": [
    "group10 = data.iloc[10].group"
   ]
  },
  {
   "cell_type": "code",
   "execution_count": 103,
   "id": "fd360ceb",
   "metadata": {},
   "outputs": [],
   "source": [
    "ns24 = generate_neighbouring_structures(s10, d10)"
   ]
  },
  {
   "cell_type": "code",
   "execution_count": 115,
   "id": "01193cb1",
   "metadata": {},
   "outputs": [
    {
     "data": {
      "text/html": [
       "<div>\n",
       "<style scoped>\n",
       "    .dataframe tbody tr th:only-of-type {\n",
       "        vertical-align: middle;\n",
       "    }\n",
       "\n",
       "    .dataframe tbody tr th {\n",
       "        vertical-align: top;\n",
       "    }\n",
       "\n",
       "    .dataframe thead th {\n",
       "        text-align: right;\n",
       "    }\n",
       "</style>\n",
       "<table border=\"1\" class=\"dataframe\">\n",
       "  <thead>\n",
       "    <tr style=\"text-align: right;\">\n",
       "      <th></th>\n",
       "      <th>descriptor_id</th>\n",
       "      <th>energy</th>\n",
       "      <th>energy_per_atom</th>\n",
       "      <th>fermi_level</th>\n",
       "      <th>homo</th>\n",
       "      <th>lumo</th>\n",
       "      <th>initial_structure</th>\n",
       "      <th>defect_representation</th>\n",
       "      <th>formation_energy</th>\n",
       "      <th>formation_energy_per_site</th>\n",
       "      <th>band_gap</th>\n",
       "      <th>idx</th>\n",
       "      <th>subgroup</th>\n",
       "      <th>group</th>\n",
       "    </tr>\n",
       "    <tr>\n",
       "      <th>_id</th>\n",
       "      <th></th>\n",
       "      <th></th>\n",
       "      <th></th>\n",
       "      <th></th>\n",
       "      <th></th>\n",
       "      <th></th>\n",
       "      <th></th>\n",
       "      <th></th>\n",
       "      <th></th>\n",
       "      <th></th>\n",
       "      <th></th>\n",
       "      <th></th>\n",
       "      <th></th>\n",
       "      <th></th>\n",
       "    </tr>\n",
       "  </thead>\n",
       "  <tbody>\n",
       "    <tr>\n",
       "      <th>6141cf14ee0a3fd43fb479d7</th>\n",
       "      <td>6141cf13ee0a3fd43fb479d5</td>\n",
       "      <td>-1378.2011</td>\n",
       "      <td>-7.215713</td>\n",
       "      <td>-0.315632</td>\n",
       "      <td>-0.5232</td>\n",
       "      <td>-0.1069</td>\n",
       "      <td>[[1.27612629e-07 1.84192955e+00 3.71975100e+00...</td>\n",
       "      <td>[[3.20307696 7.36035079 3.719751  ] X0+, [23.9...</td>\n",
       "      <td>7.7028</td>\n",
       "      <td>2.567600</td>\n",
       "      <td>0.4163</td>\n",
       "      <td>24</td>\n",
       "      <td>V5_diff</td>\n",
       "      <td>V5</td>\n",
       "    </tr>\n",
       "    <tr>\n",
       "      <th>6141cf15ee0a3fd43fb479d9</th>\n",
       "      <td>6141cf13ee0a3fd43fb479d5</td>\n",
       "      <td>-1378.2003</td>\n",
       "      <td>-7.215708</td>\n",
       "      <td>-0.314099</td>\n",
       "      <td>-0.5316</td>\n",
       "      <td>-0.0991</td>\n",
       "      <td>[[1.27612629e-07 1.84192955e+00 3.71975100e+00...</td>\n",
       "      <td>[[15.96433976  7.36035079  3.719751  ] X0+, [ ...</td>\n",
       "      <td>7.7036</td>\n",
       "      <td>2.567867</td>\n",
       "      <td>0.4325</td>\n",
       "      <td>27</td>\n",
       "      <td>V5_same</td>\n",
       "      <td>V5</td>\n",
       "    </tr>\n",
       "    <tr>\n",
       "      <th>6141cf15ee0a3fd43fb479db</th>\n",
       "      <td>6141cf13ee0a3fd43fb479d5</td>\n",
       "      <td>-1378.1731</td>\n",
       "      <td>-7.215566</td>\n",
       "      <td>-0.295020</td>\n",
       "      <td>-0.4712</td>\n",
       "      <td>-0.1161</td>\n",
       "      <td>[[1.27612629e-07 1.84192955e+00 3.71975100e+00...</td>\n",
       "      <td>[[ 1.60791911 21.17482301  3.719751  ] X0+, [1...</td>\n",
       "      <td>7.7308</td>\n",
       "      <td>2.576933</td>\n",
       "      <td>0.3551</td>\n",
       "      <td>35</td>\n",
       "      <td>V5_same</td>\n",
       "      <td>V5</td>\n",
       "    </tr>\n",
       "    <tr>\n",
       "      <th>6141cf16ee0a3fd43fb479dd</th>\n",
       "      <td>6141cf13ee0a3fd43fb479d5</td>\n",
       "      <td>-1378.1841</td>\n",
       "      <td>-7.215624</td>\n",
       "      <td>-0.301147</td>\n",
       "      <td>-0.4767</td>\n",
       "      <td>-0.1264</td>\n",
       "      <td>[[1.27612629e-07 1.84192955e+00 3.71975100e+00...</td>\n",
       "      <td>[[15.96433976 12.88613968  3.719751  ] X0+, [1...</td>\n",
       "      <td>7.7198</td>\n",
       "      <td>2.573267</td>\n",
       "      <td>0.3503</td>\n",
       "      <td>41</td>\n",
       "      <td>V5_diff</td>\n",
       "      <td>V5</td>\n",
       "    </tr>\n",
       "    <tr>\n",
       "      <th>6141cf17ee0a3fd43fb479df</th>\n",
       "      <td>6141cf13ee0a3fd43fb479d5</td>\n",
       "      <td>-1378.1780</td>\n",
       "      <td>-7.215592</td>\n",
       "      <td>-0.297514</td>\n",
       "      <td>-0.4760</td>\n",
       "      <td>-0.1182</td>\n",
       "      <td>[[1.27612629e-07 1.84192955e+00 3.71975100e+00...</td>\n",
       "      <td>[[7.98855051 4.59745635 3.719751  ] X0+, [14.3...</td>\n",
       "      <td>7.7259</td>\n",
       "      <td>2.575300</td>\n",
       "      <td>0.3578</td>\n",
       "      <td>49</td>\n",
       "      <td>V5_same</td>\n",
       "      <td>V5</td>\n",
       "    </tr>\n",
       "    <tr>\n",
       "      <th>...</th>\n",
       "      <td>...</td>\n",
       "      <td>...</td>\n",
       "      <td>...</td>\n",
       "      <td>...</td>\n",
       "      <td>...</td>\n",
       "      <td>...</td>\n",
       "      <td>...</td>\n",
       "      <td>...</td>\n",
       "      <td>...</td>\n",
       "      <td>...</td>\n",
       "      <td>...</td>\n",
       "      <td>...</td>\n",
       "      <td>...</td>\n",
       "      <td>...</td>\n",
       "    </tr>\n",
       "    <tr>\n",
       "      <th>61437dc1ee0a3fd43fb47f9b</th>\n",
       "      <td>6141cf13ee0a3fd43fb479d5</td>\n",
       "      <td>-1378.1807</td>\n",
       "      <td>-7.215606</td>\n",
       "      <td>-0.302052</td>\n",
       "      <td>-0.4813</td>\n",
       "      <td>-0.1231</td>\n",
       "      <td>[[1.27612629e-07 1.84192955e+00 3.71975100e+00...</td>\n",
       "      <td>[[0.01276126 7.36035079 3.719751  ] X0+, [17.5...</td>\n",
       "      <td>7.7232</td>\n",
       "      <td>2.574400</td>\n",
       "      <td>0.3582</td>\n",
       "      <td>5583</td>\n",
       "      <td>V5_diff</td>\n",
       "      <td>V5</td>\n",
       "    </tr>\n",
       "    <tr>\n",
       "      <th>61437e12ee0a3fd43fb47f9d</th>\n",
       "      <td>6141cf13ee0a3fd43fb479d5</td>\n",
       "      <td>-1378.1831</td>\n",
       "      <td>-7.215618</td>\n",
       "      <td>-0.302585</td>\n",
       "      <td>-0.4783</td>\n",
       "      <td>-0.1269</td>\n",
       "      <td>[[1.27612629e-07 1.84192955e+00 3.71975100e+00...</td>\n",
       "      <td>[[ 4.79823481 15.64903412  3.719751  ] X0+, [1...</td>\n",
       "      <td>7.7208</td>\n",
       "      <td>2.573600</td>\n",
       "      <td>0.3514</td>\n",
       "      <td>5584</td>\n",
       "      <td>V5_same</td>\n",
       "      <td>V5</td>\n",
       "    </tr>\n",
       "    <tr>\n",
       "      <th>61439247ee0a3fd43fb47f9f</th>\n",
       "      <td>6141cf13ee0a3fd43fb479d5</td>\n",
       "      <td>-1378.1778</td>\n",
       "      <td>-7.215591</td>\n",
       "      <td>-0.298805</td>\n",
       "      <td>-0.4787</td>\n",
       "      <td>-0.1187</td>\n",
       "      <td>[[1.27612629e-07 1.84192955e+00 3.71975100e+00...</td>\n",
       "      <td>[[-4.77271229 15.64903412  3.719751  ] X0+, [4...</td>\n",
       "      <td>7.7261</td>\n",
       "      <td>2.575367</td>\n",
       "      <td>0.3600</td>\n",
       "      <td>5611</td>\n",
       "      <td>V5_same</td>\n",
       "      <td>V5</td>\n",
       "    </tr>\n",
       "    <tr>\n",
       "      <th>61442d83ee0a3fd43fb47fa1</th>\n",
       "      <td>6141cf13ee0a3fd43fb479d5</td>\n",
       "      <td>-1378.1719</td>\n",
       "      <td>-7.215560</td>\n",
       "      <td>-0.296089</td>\n",
       "      <td>-0.4765</td>\n",
       "      <td>-0.1157</td>\n",
       "      <td>[[1.27612629e-07 1.84192955e+00 3.71975100e+00...</td>\n",
       "      <td>[[-7.96302799 15.64903412  3.719751  ] X0+, [4...</td>\n",
       "      <td>7.7320</td>\n",
       "      <td>2.577333</td>\n",
       "      <td>0.3608</td>\n",
       "      <td>5746</td>\n",
       "      <td>V5_same</td>\n",
       "      <td>V5</td>\n",
       "    </tr>\n",
       "    <tr>\n",
       "      <th>6144fd68ee0a3fd43fb47fa3</th>\n",
       "      <td>6141cf13ee0a3fd43fb479d5</td>\n",
       "      <td>-1378.1694</td>\n",
       "      <td>-7.215547</td>\n",
       "      <td>-0.288982</td>\n",
       "      <td>-0.4518</td>\n",
       "      <td>-0.1192</td>\n",
       "      <td>[[1.27612629e-07 1.84192955e+00 3.71975100e+00...</td>\n",
       "      <td>[[ 4.79823481 21.17482301  3.719751  ] X0+, [-...</td>\n",
       "      <td>7.7345</td>\n",
       "      <td>2.578167</td>\n",
       "      <td>0.3326</td>\n",
       "      <td>5839</td>\n",
       "      <td>V5_same</td>\n",
       "      <td>V5</td>\n",
       "    </tr>\n",
       "  </tbody>\n",
       "</table>\n",
       "<p>743 rows × 14 columns</p>\n",
       "</div>"
      ],
      "text/plain": [
       "                                     descriptor_id     energy  \\\n",
       "_id                                                             \n",
       "6141cf14ee0a3fd43fb479d7  6141cf13ee0a3fd43fb479d5 -1378.2011   \n",
       "6141cf15ee0a3fd43fb479d9  6141cf13ee0a3fd43fb479d5 -1378.2003   \n",
       "6141cf15ee0a3fd43fb479db  6141cf13ee0a3fd43fb479d5 -1378.1731   \n",
       "6141cf16ee0a3fd43fb479dd  6141cf13ee0a3fd43fb479d5 -1378.1841   \n",
       "6141cf17ee0a3fd43fb479df  6141cf13ee0a3fd43fb479d5 -1378.1780   \n",
       "...                                            ...        ...   \n",
       "61437dc1ee0a3fd43fb47f9b  6141cf13ee0a3fd43fb479d5 -1378.1807   \n",
       "61437e12ee0a3fd43fb47f9d  6141cf13ee0a3fd43fb479d5 -1378.1831   \n",
       "61439247ee0a3fd43fb47f9f  6141cf13ee0a3fd43fb479d5 -1378.1778   \n",
       "61442d83ee0a3fd43fb47fa1  6141cf13ee0a3fd43fb479d5 -1378.1719   \n",
       "6144fd68ee0a3fd43fb47fa3  6141cf13ee0a3fd43fb479d5 -1378.1694   \n",
       "\n",
       "                          energy_per_atom  fermi_level    homo    lumo  \\\n",
       "_id                                                                      \n",
       "6141cf14ee0a3fd43fb479d7        -7.215713    -0.315632 -0.5232 -0.1069   \n",
       "6141cf15ee0a3fd43fb479d9        -7.215708    -0.314099 -0.5316 -0.0991   \n",
       "6141cf15ee0a3fd43fb479db        -7.215566    -0.295020 -0.4712 -0.1161   \n",
       "6141cf16ee0a3fd43fb479dd        -7.215624    -0.301147 -0.4767 -0.1264   \n",
       "6141cf17ee0a3fd43fb479df        -7.215592    -0.297514 -0.4760 -0.1182   \n",
       "...                                   ...          ...     ...     ...   \n",
       "61437dc1ee0a3fd43fb47f9b        -7.215606    -0.302052 -0.4813 -0.1231   \n",
       "61437e12ee0a3fd43fb47f9d        -7.215618    -0.302585 -0.4783 -0.1269   \n",
       "61439247ee0a3fd43fb47f9f        -7.215591    -0.298805 -0.4787 -0.1187   \n",
       "61442d83ee0a3fd43fb47fa1        -7.215560    -0.296089 -0.4765 -0.1157   \n",
       "6144fd68ee0a3fd43fb47fa3        -7.215547    -0.288982 -0.4518 -0.1192   \n",
       "\n",
       "                                                          initial_structure  \\\n",
       "_id                                                                           \n",
       "6141cf14ee0a3fd43fb479d7  [[1.27612629e-07 1.84192955e+00 3.71975100e+00...   \n",
       "6141cf15ee0a3fd43fb479d9  [[1.27612629e-07 1.84192955e+00 3.71975100e+00...   \n",
       "6141cf15ee0a3fd43fb479db  [[1.27612629e-07 1.84192955e+00 3.71975100e+00...   \n",
       "6141cf16ee0a3fd43fb479dd  [[1.27612629e-07 1.84192955e+00 3.71975100e+00...   \n",
       "6141cf17ee0a3fd43fb479df  [[1.27612629e-07 1.84192955e+00 3.71975100e+00...   \n",
       "...                                                                     ...   \n",
       "61437dc1ee0a3fd43fb47f9b  [[1.27612629e-07 1.84192955e+00 3.71975100e+00...   \n",
       "61437e12ee0a3fd43fb47f9d  [[1.27612629e-07 1.84192955e+00 3.71975100e+00...   \n",
       "61439247ee0a3fd43fb47f9f  [[1.27612629e-07 1.84192955e+00 3.71975100e+00...   \n",
       "61442d83ee0a3fd43fb47fa1  [[1.27612629e-07 1.84192955e+00 3.71975100e+00...   \n",
       "6144fd68ee0a3fd43fb47fa3  [[1.27612629e-07 1.84192955e+00 3.71975100e+00...   \n",
       "\n",
       "                                                      defect_representation  \\\n",
       "_id                                                                           \n",
       "6141cf14ee0a3fd43fb479d7  [[3.20307696 7.36035079 3.719751  ] X0+, [23.9...   \n",
       "6141cf15ee0a3fd43fb479d9  [[15.96433976  7.36035079  3.719751  ] X0+, [ ...   \n",
       "6141cf15ee0a3fd43fb479db  [[ 1.60791911 21.17482301  3.719751  ] X0+, [1...   \n",
       "6141cf16ee0a3fd43fb479dd  [[15.96433976 12.88613968  3.719751  ] X0+, [1...   \n",
       "6141cf17ee0a3fd43fb479df  [[7.98855051 4.59745635 3.719751  ] X0+, [14.3...   \n",
       "...                                                                     ...   \n",
       "61437dc1ee0a3fd43fb47f9b  [[0.01276126 7.36035079 3.719751  ] X0+, [17.5...   \n",
       "61437e12ee0a3fd43fb47f9d  [[ 4.79823481 15.64903412  3.719751  ] X0+, [1...   \n",
       "61439247ee0a3fd43fb47f9f  [[-4.77271229 15.64903412  3.719751  ] X0+, [4...   \n",
       "61442d83ee0a3fd43fb47fa1  [[-7.96302799 15.64903412  3.719751  ] X0+, [4...   \n",
       "6144fd68ee0a3fd43fb47fa3  [[ 4.79823481 21.17482301  3.719751  ] X0+, [-...   \n",
       "\n",
       "                          formation_energy  formation_energy_per_site  \\\n",
       "_id                                                                     \n",
       "6141cf14ee0a3fd43fb479d7            7.7028                   2.567600   \n",
       "6141cf15ee0a3fd43fb479d9            7.7036                   2.567867   \n",
       "6141cf15ee0a3fd43fb479db            7.7308                   2.576933   \n",
       "6141cf16ee0a3fd43fb479dd            7.7198                   2.573267   \n",
       "6141cf17ee0a3fd43fb479df            7.7259                   2.575300   \n",
       "...                                    ...                        ...   \n",
       "61437dc1ee0a3fd43fb47f9b            7.7232                   2.574400   \n",
       "61437e12ee0a3fd43fb47f9d            7.7208                   2.573600   \n",
       "61439247ee0a3fd43fb47f9f            7.7261                   2.575367   \n",
       "61442d83ee0a3fd43fb47fa1            7.7320                   2.577333   \n",
       "6144fd68ee0a3fd43fb47fa3            7.7345                   2.578167   \n",
       "\n",
       "                          band_gap   idx subgroup group  \n",
       "_id                                                      \n",
       "6141cf14ee0a3fd43fb479d7    0.4163    24  V5_diff    V5  \n",
       "6141cf15ee0a3fd43fb479d9    0.4325    27  V5_same    V5  \n",
       "6141cf15ee0a3fd43fb479db    0.3551    35  V5_same    V5  \n",
       "6141cf16ee0a3fd43fb479dd    0.3503    41  V5_diff    V5  \n",
       "6141cf17ee0a3fd43fb479df    0.3578    49  V5_same    V5  \n",
       "...                            ...   ...      ...   ...  \n",
       "61437dc1ee0a3fd43fb47f9b    0.3582  5583  V5_diff    V5  \n",
       "61437e12ee0a3fd43fb47f9d    0.3514  5584  V5_same    V5  \n",
       "61439247ee0a3fd43fb47f9f    0.3600  5611  V5_same    V5  \n",
       "61442d83ee0a3fd43fb47fa1    0.3608  5746  V5_same    V5  \n",
       "6144fd68ee0a3fd43fb47fa3    0.3326  5839  V5_same    V5  \n",
       "\n",
       "[743 rows x 14 columns]"
      ]
     },
     "execution_count": 115,
     "metadata": {},
     "output_type": "execute_result"
    }
   ],
   "source": [
    "data[data.group=='V5']"
   ]
  },
  {
   "cell_type": "code",
   "execution_count": null,
   "id": "3ba3eea9",
   "metadata": {},
   "outputs": [],
   "source": [
    "get_energy_idx(ns10[1][10], data[data.group==group10], checker)"
   ]
  },
  {
   "cell_type": "code",
   "execution_count": 108,
   "id": "2a645474",
   "metadata": {},
   "outputs": [
    {
     "name": "stdout",
     "output_type": "stream",
     "text": [
      "CPU times: user 3 µs, sys: 1 µs, total: 4 µs\n",
      "Wall time: 9.54 µs\n"
     ]
    },
    {
     "data": {
      "text/plain": [
       "(-7.272177604166667, 231)"
      ]
     },
     "execution_count": 108,
     "metadata": {},
     "output_type": "execute_result"
    }
   ],
   "source": [
    "%time\n",
    "get_energy_idx(ns10[1][1], data[data.group==group10], checker)"
   ]
  },
  {
   "cell_type": "code",
   "execution_count": 114,
   "id": "2f3c1be2",
   "metadata": {},
   "outputs": [
    {
     "data": {
      "text/plain": [
       "19"
      ]
     },
     "execution_count": 114,
     "metadata": {},
     "output_type": "execute_result"
    }
   ],
   "source": [
    "len(data[data.group==group10])"
   ]
  },
  {
   "cell_type": "code",
   "execution_count": 112,
   "id": "d7831474",
   "metadata": {},
   "outputs": [
    {
     "name": "stdout",
     "output_type": "stream",
     "text": [
      "CPU times: user 4 µs, sys: 2 µs, total: 6 µs\n",
      "Wall time: 13.1 µs\n"
     ]
    },
    {
     "name": "stderr",
     "output_type": "stream",
     "text": [
      "/home/user/anaconda3/envs/bacc/lib/python3.9/site-packages/pymatgen/core/__init__.py:49: UserWarning: Error loading .pmgrc.yaml: [Errno 2] No such file or directory: '/home/user/.pmgrc.yaml'. You may need to reconfigure your yaml file.\n",
      "  warnings.warn(f\"Error loading .pmgrc.yaml: {ex}. You may need to reconfigure your yaml file.\")\n",
      "/home/user/anaconda3/envs/bacc/lib/python3.9/site-packages/pymatgen/core/__init__.py:49: UserWarning: Error loading .pmgrc.yaml: [Errno 2] No such file or directory: '/home/user/.pmgrc.yaml'. You may need to reconfigure your yaml file.\n",
      "  warnings.warn(f\"Error loading .pmgrc.yaml: {ex}. You may need to reconfigure your yaml file.\")\n",
      "/home/user/anaconda3/envs/bacc/lib/python3.9/site-packages/pymatgen/core/__init__.py:49: UserWarning: Error loading .pmgrc.yaml: [Errno 2] No such file or directory: '/home/user/.pmgrc.yaml'. You may need to reconfigure your yaml file.\n",
      "  warnings.warn(f\"Error loading .pmgrc.yaml: {ex}. You may need to reconfigure your yaml file.\")\n",
      "/home/user/anaconda3/envs/bacc/lib/python3.9/site-packages/pymatgen/core/__init__.py:49: UserWarning: Error loading .pmgrc.yaml: [Errno 2] No such file or directory: '/home/user/.pmgrc.yaml'. You may need to reconfigure your yaml file.\n",
      "  warnings.warn(f\"Error loading .pmgrc.yaml: {ex}. You may need to reconfigure your yaml file.\")\n",
      "/home/user/anaconda3/envs/bacc/lib/python3.9/site-packages/pymatgen/core/__init__.py:49: UserWarning: Error loading .pmgrc.yaml: [Errno 2] No such file or directory: '/home/user/.pmgrc.yaml'. You may need to reconfigure your yaml file.\n",
      "  warnings.warn(f\"Error loading .pmgrc.yaml: {ex}. You may need to reconfigure your yaml file.\")\n",
      "/home/user/anaconda3/envs/bacc/lib/python3.9/site-packages/pymatgen/core/__init__.py:49: UserWarning: Error loading .pmgrc.yaml: [Errno 2] No such file or directory: '/home/user/.pmgrc.yaml'. You may need to reconfigure your yaml file.\n",
      "  warnings.warn(f\"Error loading .pmgrc.yaml: {ex}. You may need to reconfigure your yaml file.\")\n"
     ]
    },
    {
     "data": {
      "text/plain": [
       "(-7.272177604166667, 231)"
      ]
     },
     "execution_count": 112,
     "metadata": {},
     "output_type": "execute_result"
    }
   ],
   "source": [
    "%time\n",
    "get_energy_idx_parallel(ns10[1][1], data[data.group==\"group10\"], checker)"
   ]
  },
  {
   "cell_type": "code",
   "execution_count": 111,
   "id": "43f270e7",
   "metadata": {},
   "outputs": [
    {
     "name": "stderr",
     "output_type": "stream",
     "text": [
      "/home/user/anaconda3/envs/bacc/lib/python3.9/site-packages/pymatgen/core/__init__.py:49: UserWarning: Error loading .pmgrc.yaml: [Errno 2] No such file or directory: '/home/user/.pmgrc.yaml'. You may need to reconfigure your yaml file.\n",
      "  warnings.warn(f\"Error loading .pmgrc.yaml: {ex}. You may need to reconfigure your yaml file.\")\n",
      "/home/user/anaconda3/envs/bacc/lib/python3.9/site-packages/pymatgen/core/__init__.py:49: UserWarning: Error loading .pmgrc.yaml: [Errno 2] No such file or directory: '/home/user/.pmgrc.yaml'. You may need to reconfigure your yaml file.\n",
      "  warnings.warn(f\"Error loading .pmgrc.yaml: {ex}. You may need to reconfigure your yaml file.\")\n",
      "/home/user/anaconda3/envs/bacc/lib/python3.9/site-packages/pymatgen/core/__init__.py:49: UserWarning: Error loading .pmgrc.yaml: [Errno 2] No such file or directory: '/home/user/.pmgrc.yaml'. You may need to reconfigure your yaml file.\n",
      "  warnings.warn(f\"Error loading .pmgrc.yaml: {ex}. You may need to reconfigure your yaml file.\")\n",
      "/home/user/anaconda3/envs/bacc/lib/python3.9/site-packages/pymatgen/core/__init__.py:49: UserWarning: Error loading .pmgrc.yaml: [Errno 2] No such file or directory: '/home/user/.pmgrc.yaml'. You may need to reconfigure your yaml file.\n",
      "  warnings.warn(f\"Error loading .pmgrc.yaml: {ex}. You may need to reconfigure your yaml file.\")\n",
      "/home/user/anaconda3/envs/bacc/lib/python3.9/site-packages/pymatgen/core/__init__.py:49: UserWarning: Error loading .pmgrc.yaml: [Errno 2] No such file or directory: '/home/user/.pmgrc.yaml'. You may need to reconfigure your yaml file.\n",
      "  warnings.warn(f\"Error loading .pmgrc.yaml: {ex}. You may need to reconfigure your yaml file.\")\n"
     ]
    },
    {
     "ename": "AttributeError",
     "evalue": "'list' object has no attribute 'is_periodic_image'",
     "output_type": "error",
     "traceback": [
      "\u001b[0;31m---------------------------------------------------------------------------\u001b[0m",
      "\u001b[0;31m_RemoteTraceback\u001b[0m                          Traceback (most recent call last)",
      "\u001b[0;31m_RemoteTraceback\u001b[0m: \n\"\"\"\nTraceback (most recent call last):\n  File \"/home/user/anaconda3/envs/bacc/lib/python3.9/site-packages/joblib/externals/loky/process_executor.py\", line 436, in _process_worker\n    r = call_item()\n  File \"/home/user/anaconda3/envs/bacc/lib/python3.9/site-packages/joblib/externals/loky/process_executor.py\", line 288, in __call__\n    return self.fn(*self.args, **self.kwargs)\n  File \"/home/user/anaconda3/envs/bacc/lib/python3.9/site-packages/joblib/_parallel_backends.py\", line 595, in __call__\n    return self.func(*args, **kwargs)\n  File \"/home/user/anaconda3/envs/bacc/lib/python3.9/site-packages/joblib/parallel.py\", line 262, in __call__\n    return [func(*args, **kwargs)\n  File \"/home/user/anaconda3/envs/bacc/lib/python3.9/site-packages/joblib/parallel.py\", line 262, in <listcomp>\n    return [func(*args, **kwargs)\n  File \"/tmp/ipykernel_57239/900699384.py\", line 3, in get_item\n  File \"/home/user/anaconda3/envs/bacc/lib/python3.9/site-packages/pymatgen/symmetry/analyzer.py\", line 1650, in are_symmetrically_equivalent\n    if not in_sites(site):\n  File \"/home/user/anaconda3/envs/bacc/lib/python3.9/site-packages/pymatgen/symmetry/analyzer.py\", line 1643, in in_sites\n    if test_site.is_periodic_image(site, symm_prec, False):\nAttributeError: 'list' object has no attribute 'is_periodic_image'\n\"\"\"",
      "\nThe above exception was the direct cause of the following exception:\n",
      "\u001b[0;31mAttributeError\u001b[0m                            Traceback (most recent call last)",
      "\u001b[0;32m/tmp/ipykernel_57239/4159887839.py\u001b[0m in \u001b[0;36m<module>\u001b[0;34m\u001b[0m\n\u001b[0;32m----> 1\u001b[0;31m \u001b[0mget_energy_idx_parallel\u001b[0m\u001b[0;34m(\u001b[0m\u001b[0mgenerate_neighbouring_structures\u001b[0m\u001b[0;34m(\u001b[0m\u001b[0ms10\u001b[0m\u001b[0;34m,\u001b[0m \u001b[0md10\u001b[0m\u001b[0;34m)\u001b[0m\u001b[0;34m,\u001b[0m \u001b[0mdata\u001b[0m\u001b[0;34m[\u001b[0m\u001b[0mdata\u001b[0m\u001b[0;34m.\u001b[0m\u001b[0mgroup\u001b[0m\u001b[0;34m==\u001b[0m\u001b[0mgroup10\u001b[0m\u001b[0;34m]\u001b[0m\u001b[0;34m,\u001b[0m \u001b[0mchecker\u001b[0m\u001b[0;34m)\u001b[0m\u001b[0;34m\u001b[0m\u001b[0;34m\u001b[0m\u001b[0m\n\u001b[0m",
      "\u001b[0;32m/tmp/ipykernel_57239/900699384.py\u001b[0m in \u001b[0;36mget_energy_idx_parallel\u001b[0;34m(defect_representation, group_df, checker)\u001b[0m\n\u001b[1;32m      6\u001b[0m             \u001b[0;32mreturn\u001b[0m \u001b[0mrow\u001b[0m\u001b[0;34m.\u001b[0m\u001b[0menergy_per_atom\u001b[0m\u001b[0;34m,\u001b[0m \u001b[0mrow\u001b[0m\u001b[0;34m.\u001b[0m\u001b[0midx\u001b[0m\u001b[0;34m\u001b[0m\u001b[0;34m\u001b[0m\u001b[0m\n\u001b[1;32m      7\u001b[0m         \u001b[0;32mreturn\u001b[0m \u001b[0;32mNone\u001b[0m\u001b[0;34m\u001b[0m\u001b[0;34m\u001b[0m\u001b[0m\n\u001b[0;32m----> 8\u001b[0;31m     result = Parallel(n_jobs=-3)(\n\u001b[0m\u001b[1;32m      9\u001b[0m         \u001b[0mdelayed\u001b[0m\u001b[0;34m(\u001b[0m\u001b[0mget_item\u001b[0m\u001b[0;34m)\u001b[0m\u001b[0;34m(\u001b[0m\u001b[0mi\u001b[0m\u001b[0;34m,\u001b[0m \u001b[0mrow\u001b[0m\u001b[0;34m)\u001b[0m \u001b[0;32mfor\u001b[0m \u001b[0mi\u001b[0m\u001b[0;34m,\u001b[0m \u001b[0mrow\u001b[0m \u001b[0;32min\u001b[0m \u001b[0mgroup_df\u001b[0m\u001b[0;34m.\u001b[0m\u001b[0miterrows\u001b[0m\u001b[0;34m(\u001b[0m\u001b[0;34m)\u001b[0m\u001b[0;34m\u001b[0m\u001b[0;34m\u001b[0m\u001b[0m\n\u001b[1;32m     10\u001b[0m     )\n",
      "\u001b[0;32m~/anaconda3/envs/bacc/lib/python3.9/site-packages/joblib/parallel.py\u001b[0m in \u001b[0;36m__call__\u001b[0;34m(self, iterable)\u001b[0m\n\u001b[1;32m   1054\u001b[0m \u001b[0;34m\u001b[0m\u001b[0m\n\u001b[1;32m   1055\u001b[0m             \u001b[0;32mwith\u001b[0m \u001b[0mself\u001b[0m\u001b[0;34m.\u001b[0m\u001b[0m_backend\u001b[0m\u001b[0;34m.\u001b[0m\u001b[0mretrieval_context\u001b[0m\u001b[0;34m(\u001b[0m\u001b[0;34m)\u001b[0m\u001b[0;34m:\u001b[0m\u001b[0;34m\u001b[0m\u001b[0;34m\u001b[0m\u001b[0m\n\u001b[0;32m-> 1056\u001b[0;31m                 \u001b[0mself\u001b[0m\u001b[0;34m.\u001b[0m\u001b[0mretrieve\u001b[0m\u001b[0;34m(\u001b[0m\u001b[0;34m)\u001b[0m\u001b[0;34m\u001b[0m\u001b[0;34m\u001b[0m\u001b[0m\n\u001b[0m\u001b[1;32m   1057\u001b[0m             \u001b[0;31m# Make sure that we get a last message telling us we are done\u001b[0m\u001b[0;34m\u001b[0m\u001b[0;34m\u001b[0m\u001b[0m\n\u001b[1;32m   1058\u001b[0m             \u001b[0melapsed_time\u001b[0m \u001b[0;34m=\u001b[0m \u001b[0mtime\u001b[0m\u001b[0;34m.\u001b[0m\u001b[0mtime\u001b[0m\u001b[0;34m(\u001b[0m\u001b[0;34m)\u001b[0m \u001b[0;34m-\u001b[0m \u001b[0mself\u001b[0m\u001b[0;34m.\u001b[0m\u001b[0m_start_time\u001b[0m\u001b[0;34m\u001b[0m\u001b[0;34m\u001b[0m\u001b[0m\n",
      "\u001b[0;32m~/anaconda3/envs/bacc/lib/python3.9/site-packages/joblib/parallel.py\u001b[0m in \u001b[0;36mretrieve\u001b[0;34m(self)\u001b[0m\n\u001b[1;32m    933\u001b[0m             \u001b[0;32mtry\u001b[0m\u001b[0;34m:\u001b[0m\u001b[0;34m\u001b[0m\u001b[0;34m\u001b[0m\u001b[0m\n\u001b[1;32m    934\u001b[0m                 \u001b[0;32mif\u001b[0m \u001b[0mgetattr\u001b[0m\u001b[0;34m(\u001b[0m\u001b[0mself\u001b[0m\u001b[0;34m.\u001b[0m\u001b[0m_backend\u001b[0m\u001b[0;34m,\u001b[0m \u001b[0;34m'supports_timeout'\u001b[0m\u001b[0;34m,\u001b[0m \u001b[0;32mFalse\u001b[0m\u001b[0;34m)\u001b[0m\u001b[0;34m:\u001b[0m\u001b[0;34m\u001b[0m\u001b[0;34m\u001b[0m\u001b[0m\n\u001b[0;32m--> 935\u001b[0;31m                     \u001b[0mself\u001b[0m\u001b[0;34m.\u001b[0m\u001b[0m_output\u001b[0m\u001b[0;34m.\u001b[0m\u001b[0mextend\u001b[0m\u001b[0;34m(\u001b[0m\u001b[0mjob\u001b[0m\u001b[0;34m.\u001b[0m\u001b[0mget\u001b[0m\u001b[0;34m(\u001b[0m\u001b[0mtimeout\u001b[0m\u001b[0;34m=\u001b[0m\u001b[0mself\u001b[0m\u001b[0;34m.\u001b[0m\u001b[0mtimeout\u001b[0m\u001b[0;34m)\u001b[0m\u001b[0;34m)\u001b[0m\u001b[0;34m\u001b[0m\u001b[0;34m\u001b[0m\u001b[0m\n\u001b[0m\u001b[1;32m    936\u001b[0m                 \u001b[0;32melse\u001b[0m\u001b[0;34m:\u001b[0m\u001b[0;34m\u001b[0m\u001b[0;34m\u001b[0m\u001b[0m\n\u001b[1;32m    937\u001b[0m                     \u001b[0mself\u001b[0m\u001b[0;34m.\u001b[0m\u001b[0m_output\u001b[0m\u001b[0;34m.\u001b[0m\u001b[0mextend\u001b[0m\u001b[0;34m(\u001b[0m\u001b[0mjob\u001b[0m\u001b[0;34m.\u001b[0m\u001b[0mget\u001b[0m\u001b[0;34m(\u001b[0m\u001b[0;34m)\u001b[0m\u001b[0;34m)\u001b[0m\u001b[0;34m\u001b[0m\u001b[0;34m\u001b[0m\u001b[0m\n",
      "\u001b[0;32m~/anaconda3/envs/bacc/lib/python3.9/site-packages/joblib/_parallel_backends.py\u001b[0m in \u001b[0;36mwrap_future_result\u001b[0;34m(future, timeout)\u001b[0m\n\u001b[1;32m    540\u001b[0m         AsyncResults.get from multiprocessing.\"\"\"\n\u001b[1;32m    541\u001b[0m         \u001b[0;32mtry\u001b[0m\u001b[0;34m:\u001b[0m\u001b[0;34m\u001b[0m\u001b[0;34m\u001b[0m\u001b[0m\n\u001b[0;32m--> 542\u001b[0;31m             \u001b[0;32mreturn\u001b[0m \u001b[0mfuture\u001b[0m\u001b[0;34m.\u001b[0m\u001b[0mresult\u001b[0m\u001b[0;34m(\u001b[0m\u001b[0mtimeout\u001b[0m\u001b[0;34m=\u001b[0m\u001b[0mtimeout\u001b[0m\u001b[0;34m)\u001b[0m\u001b[0;34m\u001b[0m\u001b[0;34m\u001b[0m\u001b[0m\n\u001b[0m\u001b[1;32m    543\u001b[0m         \u001b[0;32mexcept\u001b[0m \u001b[0mCfTimeoutError\u001b[0m \u001b[0;32mas\u001b[0m \u001b[0me\u001b[0m\u001b[0;34m:\u001b[0m\u001b[0;34m\u001b[0m\u001b[0;34m\u001b[0m\u001b[0m\n\u001b[1;32m    544\u001b[0m             \u001b[0;32mraise\u001b[0m \u001b[0mTimeoutError\u001b[0m \u001b[0;32mfrom\u001b[0m \u001b[0me\u001b[0m\u001b[0;34m\u001b[0m\u001b[0;34m\u001b[0m\u001b[0m\n",
      "\u001b[0;32m~/anaconda3/envs/bacc/lib/python3.9/concurrent/futures/_base.py\u001b[0m in \u001b[0;36mresult\u001b[0;34m(self, timeout)\u001b[0m\n\u001b[1;32m    443\u001b[0m                     \u001b[0;32mraise\u001b[0m \u001b[0mCancelledError\u001b[0m\u001b[0;34m(\u001b[0m\u001b[0;34m)\u001b[0m\u001b[0;34m\u001b[0m\u001b[0;34m\u001b[0m\u001b[0m\n\u001b[1;32m    444\u001b[0m                 \u001b[0;32melif\u001b[0m \u001b[0mself\u001b[0m\u001b[0;34m.\u001b[0m\u001b[0m_state\u001b[0m \u001b[0;34m==\u001b[0m \u001b[0mFINISHED\u001b[0m\u001b[0;34m:\u001b[0m\u001b[0;34m\u001b[0m\u001b[0;34m\u001b[0m\u001b[0m\n\u001b[0;32m--> 445\u001b[0;31m                     \u001b[0;32mreturn\u001b[0m \u001b[0mself\u001b[0m\u001b[0;34m.\u001b[0m\u001b[0m__get_result\u001b[0m\u001b[0;34m(\u001b[0m\u001b[0;34m)\u001b[0m\u001b[0;34m\u001b[0m\u001b[0;34m\u001b[0m\u001b[0m\n\u001b[0m\u001b[1;32m    446\u001b[0m                 \u001b[0;32melse\u001b[0m\u001b[0;34m:\u001b[0m\u001b[0;34m\u001b[0m\u001b[0;34m\u001b[0m\u001b[0m\n\u001b[1;32m    447\u001b[0m                     \u001b[0;32mraise\u001b[0m \u001b[0mTimeoutError\u001b[0m\u001b[0;34m(\u001b[0m\u001b[0;34m)\u001b[0m\u001b[0;34m\u001b[0m\u001b[0;34m\u001b[0m\u001b[0m\n",
      "\u001b[0;32m~/anaconda3/envs/bacc/lib/python3.9/concurrent/futures/_base.py\u001b[0m in \u001b[0;36m__get_result\u001b[0;34m(self)\u001b[0m\n\u001b[1;32m    388\u001b[0m         \u001b[0;32mif\u001b[0m \u001b[0mself\u001b[0m\u001b[0;34m.\u001b[0m\u001b[0m_exception\u001b[0m\u001b[0;34m:\u001b[0m\u001b[0;34m\u001b[0m\u001b[0;34m\u001b[0m\u001b[0m\n\u001b[1;32m    389\u001b[0m             \u001b[0;32mtry\u001b[0m\u001b[0;34m:\u001b[0m\u001b[0;34m\u001b[0m\u001b[0;34m\u001b[0m\u001b[0m\n\u001b[0;32m--> 390\u001b[0;31m                 \u001b[0;32mraise\u001b[0m \u001b[0mself\u001b[0m\u001b[0;34m.\u001b[0m\u001b[0m_exception\u001b[0m\u001b[0;34m\u001b[0m\u001b[0;34m\u001b[0m\u001b[0m\n\u001b[0m\u001b[1;32m    391\u001b[0m             \u001b[0;32mfinally\u001b[0m\u001b[0;34m:\u001b[0m\u001b[0;34m\u001b[0m\u001b[0;34m\u001b[0m\u001b[0m\n\u001b[1;32m    392\u001b[0m                 \u001b[0;31m# Break a reference cycle with the exception in self._exception\u001b[0m\u001b[0;34m\u001b[0m\u001b[0;34m\u001b[0m\u001b[0m\n",
      "\u001b[0;31mAttributeError\u001b[0m: 'list' object has no attribute 'is_periodic_image'"
     ]
    }
   ],
   "source": [
    "get_energy_idx_parallel(generate_neighbouring_structures(s10, d10), data[data.group==group10], checker)"
   ]
  },
  {
   "cell_type": "code",
   "execution_count": null,
   "id": "c636b250",
   "metadata": {},
   "outputs": [],
   "source": [
    "get_energy(data[data.group==group10].iloc[2].defect_representation, data[data.group==group10], checker)"
   ]
  },
  {
   "cell_type": "code",
   "execution_count": null,
   "id": "a8880bf1",
   "metadata": {},
   "outputs": [],
   "source": [
    "data[data.group==group10].iloc[2].energy_per_atom"
   ]
  },
  {
   "cell_type": "code",
   "execution_count": null,
   "id": "385fca10",
   "metadata": {},
   "outputs": [],
   "source": [
    "data[data.group==group10]"
   ]
  },
  {
   "cell_type": "code",
   "execution_count": 116,
   "id": "24560e0c",
   "metadata": {},
   "outputs": [],
   "source": [
    "def generate_group_adj_dict(group_df, checker, thr=0.0):\n",
    "    def get_item(i, row):\n",
    "        adj_dict = {}\n",
    "        cur_energy = row.energy_per_atom\n",
    "        ns, defect_reprs = generate_neighbouring_structures(\n",
    "            row.initial_structure, row.defect_representation\n",
    "        )\n",
    "        adj_dict[row.idx] = []\n",
    "        for defect_repr in defect_reprs:\n",
    "            energy, idx = get_energy_idx(defect_repr, group_df, checker)\n",
    "            if energy - cur_energy <= thr:\n",
    "                adj_dict[row.idx].append(idx)\n",
    "        return adj_dict\n",
    "            \n",
    "    result = Parallel(n_jobs=-3)(\n",
    "        delayed(get_item)(i, row) for i, row in group_df.iterrows()\n",
    "    )\n",
    "    adj_dict = {}\n",
    "    for entry in result:\n",
    "        adj_dict |= entry\n",
    "#     for i, row in group_df.iterrows():\n",
    "#         cur_energy = row.energy_per_atom\n",
    "#         ns, defect_reprs = generate_neighbouring_structures(\n",
    "#             row.initial_structure, row.defect_representation\n",
    "#         )\n",
    "#         adj_dict[row.idx] = []\n",
    "#         for defect_repr in defect_reprs:\n",
    "#             energy, idx = get_energy_idx(defect_repr, group_df, checker)\n",
    "#             if energy - cur_energy <= thr:\n",
    "#                 adj_dict[row.idx].append(idx)\n",
    "    return adj_dict"
   ]
  },
  {
   "cell_type": "code",
   "execution_count": null,
   "id": "e36c6915",
   "metadata": {},
   "outputs": [],
   "source": [
    "ad = generate_group_adj_dict(data[data.group == 'V3'], checker)\n",
    "ad"
   ]
  },
  {
   "cell_type": "code",
   "execution_count": 50,
   "id": "09c6f4a2",
   "metadata": {},
   "outputs": [
    {
     "name": "stdout",
     "output_type": "stream",
     "text": [
      "CPU times: user 1min 9s, sys: 9.98 s, total: 1min 19s\n",
      "Wall time: 1min 7s\n"
     ]
    },
    {
     "data": {
      "text/plain": [
       "{3: [10, 231],\n",
       " 5: [113, 15, 23],\n",
       " 7: [48, 123],\n",
       " 10: [],\n",
       " 15: [113, 71],\n",
       " 23: [113, 133],\n",
       " 32: [3, 238],\n",
       " 38: [32, 58],\n",
       " 48: [5, 123, 23],\n",
       " 58: [3, 231],\n",
       " 71: [],\n",
       " 113: [71],\n",
       " 123: [5],\n",
       " 133: [],\n",
       " 173: [10],\n",
       " 211: [238, 32],\n",
       " 231: [10],\n",
       " 238: [3],\n",
       " 635: [173]}"
      ]
     },
     "execution_count": 50,
     "metadata": {},
     "output_type": "execute_result"
    }
   ],
   "source": [
    "%time generate_group_adj_dict(data[data.group==group10], checker)"
   ]
  },
  {
   "cell_type": "code",
   "execution_count": 57,
   "id": "490fcaf5",
   "metadata": {},
   "outputs": [
    {
     "data": {
      "text/plain": [
       "_id\n",
       "6141cf18b842c2e72e2f2d58   -7.272178\n",
       "Name: energy_per_atom, dtype: float64"
      ]
     },
     "execution_count": 57,
     "metadata": {},
     "output_type": "execute_result"
    }
   ],
   "source": [
    "data[data.idx==71].energy_per_atom"
   ]
  },
  {
   "cell_type": "code",
   "execution_count": 58,
   "id": "aaba9c15",
   "metadata": {},
   "outputs": [
    {
     "data": {
      "text/plain": [
       "_id\n",
       "6141cf1fb842c2e72e2f2d5e   -7.272173\n",
       "Name: energy_per_atom, dtype: float64"
      ]
     },
     "execution_count": 58,
     "metadata": {},
     "output_type": "execute_result"
    }
   ],
   "source": [
    "data[data.idx==133].energy_per_atom"
   ]
  },
  {
   "cell_type": "code",
   "execution_count": 59,
   "id": "449027ec",
   "metadata": {},
   "outputs": [
    {
     "data": {
      "text/plain": [
       "_id\n",
       "6141cf12b842c2e72e2f2d4a   -7.272183\n",
       "Name: energy_per_atom, dtype: float64"
      ]
     },
     "execution_count": 59,
     "metadata": {},
     "output_type": "execute_result"
    }
   ],
   "source": [
    "data[data.idx==10].energy_per_atom"
   ]
  },
  {
   "cell_type": "code",
   "execution_count": 51,
   "id": "9ef6ae58",
   "metadata": {},
   "outputs": [
    {
     "data": {
      "text/plain": [
       "19"
      ]
     },
     "execution_count": 51,
     "metadata": {},
     "output_type": "execute_result"
    }
   ],
   "source": [
    "len(data[data.group==group10])"
   ]
  },
  {
   "cell_type": "code",
   "execution_count": 76,
   "id": "f04831fe",
   "metadata": {},
   "outputs": [],
   "source": [
    "adj_dict10 = generate_subgroup_adj_dict(data[data.group==group10], checker)"
   ]
  },
  {
   "cell_type": "code",
   "execution_count": 53,
   "id": "8d255a54",
   "metadata": {},
   "outputs": [],
   "source": [
    "def check_reachable(adj_dict, min_idx):\n",
    "    is_reachable = True\n",
    "    digraph = nx.from_dict_of_lists(adj_dict, create_using=nx.DiGraph)\n",
    "    for node in digraph:\n",
    "        if not nx.has_path(digraph, node, min_idx):\n",
    "            print(f\"No path from {node} to {min_idx}!\")\n",
    "            is_reachable = False\n",
    "    return is_reachable"
   ]
  },
  {
   "cell_type": "code",
   "execution_count": 77,
   "id": "7cba7cd0",
   "metadata": {},
   "outputs": [
    {
     "data": {
      "text/plain": [
       "True"
      ]
     },
     "execution_count": 77,
     "metadata": {},
     "output_type": "execute_result"
    }
   ],
   "source": [
    "check_reachable(adj_dict10, 10)"
   ]
  },
  {
   "cell_type": "code",
   "execution_count": 54,
   "id": "b9337e57",
   "metadata": {},
   "outputs": [],
   "source": [
    "def check_all_groups(groups, data, checker):\n",
    "    all_adjs = {}\n",
    "    all_reachability = {}\n",
    "    for group in tqdm(groups):\n",
    "        group_df = data[data.group == group]\n",
    "        all_adjs[group] = generate_group_adj_dict(group_df, checker)\n",
    "        min_idx = group_df.iloc[group_df.energy_per_atom.argmin()].idx\n",
    "        all_reachability[group] = check_reachable(all_adjs[group], \n",
    "                                                     min_idx)\n",
    "    return all_adjs, all_reachability"
   ]
  },
  {
   "cell_type": "code",
   "execution_count": 55,
   "id": "e92c7cf7",
   "metadata": {},
   "outputs": [],
   "source": [
    "def check_group(group_df, checker):\n",
    "    adj_dict = generate_group_adj_dict(group_df, checker)\n",
    "    min_idx = group_df.iloc[group_df.energy_per_atom.argmin()].idx\n",
    "    check_reachable(adj_dict, min_idx)"
   ]
  },
  {
   "cell_type": "code",
   "execution_count": 99,
   "id": "0c1648af",
   "metadata": {},
   "outputs": [
    {
     "name": "stderr",
     "output_type": "stream",
     "text": [
      "/home/user/anaconda3/envs/bacc/lib/python3.9/site-packages/pymatgen/core/__init__.py:49: UserWarning: Error loading .pmgrc.yaml: [Errno 2] No such file or directory: '/home/user/.pmgrc.yaml'. You may need to reconfigure your yaml file.\n",
      "  warnings.warn(f\"Error loading .pmgrc.yaml: {ex}. You may need to reconfigure your yaml file.\")\n",
      "/home/user/anaconda3/envs/bacc/lib/python3.9/site-packages/pymatgen/core/__init__.py:49: UserWarning: Error loading .pmgrc.yaml: [Errno 2] No such file or directory: '/home/user/.pmgrc.yaml'. You may need to reconfigure your yaml file.\n",
      "  warnings.warn(f\"Error loading .pmgrc.yaml: {ex}. You may need to reconfigure your yaml file.\")\n",
      "/home/user/anaconda3/envs/bacc/lib/python3.9/site-packages/pymatgen/core/__init__.py:49: UserWarning: Error loading .pmgrc.yaml: [Errno 2] No such file or directory: '/home/user/.pmgrc.yaml'. You may need to reconfigure your yaml file.\n",
      "  warnings.warn(f\"Error loading .pmgrc.yaml: {ex}. You may need to reconfigure your yaml file.\")\n",
      "/home/user/anaconda3/envs/bacc/lib/python3.9/site-packages/pymatgen/core/__init__.py:49: UserWarning: Error loading .pmgrc.yaml: [Errno 2] No such file or directory: '/home/user/.pmgrc.yaml'. You may need to reconfigure your yaml file.\n",
      "  warnings.warn(f\"Error loading .pmgrc.yaml: {ex}. You may need to reconfigure your yaml file.\")\n",
      "/home/user/anaconda3/envs/bacc/lib/python3.9/site-packages/pymatgen/core/__init__.py:49: UserWarning: Error loading .pmgrc.yaml: [Errno 2] No such file or directory: '/home/user/.pmgrc.yaml'. You may need to reconfigure your yaml file.\n",
      "  warnings.warn(f\"Error loading .pmgrc.yaml: {ex}. You may need to reconfigure your yaml file.\")\n",
      "/home/user/anaconda3/envs/bacc/lib/python3.9/site-packages/pymatgen/core/__init__.py:49: UserWarning: Error loading .pmgrc.yaml: [Errno 2] No such file or directory: '/home/user/.pmgrc.yaml'. You may need to reconfigure your yaml file.\n",
      "  warnings.warn(f\"Error loading .pmgrc.yaml: {ex}. You may need to reconfigure your yaml file.\")\n"
     ]
    }
   ],
   "source": [
    "ad = generate_group_adj_dict(data[data.group == 'X2'], checker)"
   ]
  },
  {
   "cell_type": "code",
   "execution_count": 100,
   "id": "8273518a",
   "metadata": {},
   "outputs": [
    {
     "data": {
      "text/plain": [
       "{1: [],\n",
       " 4: [4, 292, 208, 453],\n",
       " 17: [230, 137, 165],\n",
       " 45: [672, 769, 230, 17],\n",
       " 137: [137, 230],\n",
       " 165: [137],\n",
       " 208: [208, 1, 582],\n",
       " 230: [230, 769],\n",
       " 292: [208],\n",
       " 370: [1, 582, 597, 370],\n",
       " 398: [4, 292, 398],\n",
       " 453: [208, 582],\n",
       " 500: [4, 453],\n",
       " 551: [551, 137],\n",
       " 566: [230, 137, 551],\n",
       " 582: [1],\n",
       " 597: [],\n",
       " 672: [672],\n",
       " 769: [672]}"
      ]
     },
     "execution_count": 100,
     "metadata": {},
     "output_type": "execute_result"
    }
   ],
   "source": [
    "ad"
   ]
  },
  {
   "cell_type": "code",
   "execution_count": 96,
   "id": "972c1ad9",
   "metadata": {},
   "outputs": [
    {
     "data": {
      "text/plain": [
       "[{1: 'a'}, {2: 'b'}, {3: 'c'}]"
      ]
     },
     "execution_count": 96,
     "metadata": {},
     "output_type": "execute_result"
    }
   ],
   "source": [
    "tmp = {}\n",
    "def two_args(a, b):\n",
    "    tmp[a] = b\n",
    "    return tmp\n",
    "    \n",
    "Parallel(n_jobs=-3)(\n",
    "        delayed(two_args)(a=i, b=row) for i, row in zip([1,2,3], (\"a\",\"b\",\"c\"))\n",
    "    )"
   ]
  },
  {
   "cell_type": "code",
   "execution_count": 87,
   "id": "b59ea78f",
   "metadata": {},
   "outputs": [
    {
     "name": "stdout",
     "output_type": "stream",
     "text": [
      "('6141cf11cc0e69a0cf28ab35', descriptor_id                                         6141cf10cc0e69a0cf28ab33\n",
      "energy                                                              -1390.4044\n",
      "energy_per_atom                                                      -7.279604\n",
      "fermi_level                                                          -0.200633\n",
      "homo                                                                   -0.6706\n",
      "lumo                                                                    0.4778\n",
      "initial_structure            [[1.27612629e-07 1.84192955e+00 3.71975100e+00...\n",
      "defect_representation        [[ 3.19031561 14.73543703  2.15486663] Se, [4....\n",
      "formation_energy                                                        2.9437\n",
      "formation_energy_per_site                                              1.47185\n",
      "band_gap                                                                1.1484\n",
      "idx                                                                          6\n",
      "subgroup                                                               X5_diff\n",
      "group                                                                       X5\n",
      "Name: 6141cf11cc0e69a0cf28ab35, dtype: object) ('6141cf11cc0e69a0cf28ab37', descriptor_id                                         6141cf10cc0e69a0cf28ab33\n",
      "energy                                                              -1390.4006\n",
      "energy_per_atom                                                      -7.279584\n",
      "fermi_level                                                          -0.200289\n",
      "homo                                                                   -0.6694\n",
      "lumo                                                                    0.4781\n",
      "initial_structure            [[1.27612629e-07 1.84192955e+00 3.71975100e+00...\n",
      "defect_representation        [[1.59515772 6.44675377 2.15486663] Se, [-6.39...\n",
      "formation_energy                                                        2.9475\n",
      "formation_energy_per_site                                              1.47375\n",
      "band_gap                                                                1.1475\n",
      "idx                                                                          9\n",
      "subgroup                                                               X5_diff\n",
      "group                                                                       X5\n",
      "Name: 6141cf11cc0e69a0cf28ab37, dtype: object) ('6141cf12cc0e69a0cf28ab39', descriptor_id                                         6141cf10cc0e69a0cf28ab33\n",
      "energy                                                              -1390.3994\n",
      "energy_per_atom                                                      -7.279578\n",
      "fermi_level                                                          -0.197802\n",
      "homo                                                                   -0.6694\n",
      "lumo                                                                    0.4783\n",
      "initial_structure            [[1.27612629e-07 1.84192955e+00 3.71975100e+00...\n",
      "defect_representation        [[-3.20307696  9.21701586  2.15745558] X0+, [-...\n",
      "formation_energy                                                        2.9487\n",
      "formation_energy_per_site                                              1.47435\n",
      "band_gap                                                                1.1477\n",
      "idx                                                                         11\n",
      "subgroup                                                               X5_same\n",
      "group                                                                       X5\n",
      "Name: 6141cf12cc0e69a0cf28ab39, dtype: object) ('6141cf13cc0e69a0cf28ab3b', descriptor_id                                         6141cf10cc0e69a0cf28ab33\n",
      "energy                                                              -1390.4007\n",
      "energy_per_atom                                                      -7.279585\n",
      "fermi_level                                                          -0.196456\n",
      "homo                                                                   -0.6701\n",
      "lumo                                                                    0.4764\n",
      "initial_structure            [[1.27612629e-07 1.84192955e+00 3.71975100e+00...\n",
      "defect_representation        [[-6.38063149 14.73543703  2.15486663] Se, [14...\n",
      "formation_energy                                                        2.9474\n",
      "formation_energy_per_site                                               1.4737\n",
      "band_gap                                                                1.1465\n",
      "idx                                                                         13\n",
      "subgroup                                                               X5_same\n",
      "group                                                                       X5\n",
      "Name: 6141cf13cc0e69a0cf28ab3b, dtype: object) ('6141cf13cc0e69a0cf28ab3d', descriptor_id                                         6141cf10cc0e69a0cf28ab33\n",
      "energy                                                              -1390.4079\n",
      "energy_per_atom                                                      -7.279623\n",
      "fermi_level                                                          -0.196854\n",
      "homo                                                                   -0.6812\n",
      "lumo                                                                     0.462\n",
      "initial_structure            [[1.27612629e-07 1.84192955e+00 3.71975100e+00...\n",
      "defect_representation        [[14.34365939  0.92833253  2.15745558] X0+, [ ...\n",
      "formation_energy                                                        2.9402\n",
      "formation_energy_per_site                                               1.4701\n",
      "band_gap                                                                1.1432\n",
      "idx                                                                         19\n",
      "subgroup                                                               X5_same\n",
      "group                                                                       X5\n",
      "Name: 6141cf13cc0e69a0cf28ab3d, dtype: object) ('6141cf14cc0e69a0cf28ab3f', descriptor_id                                         6141cf10cc0e69a0cf28ab33\n",
      "energy                                                              -1390.4012\n",
      "energy_per_atom                                                      -7.279587\n",
      "fermi_level                                                          -0.200458\n",
      "homo                                                                   -0.6689\n",
      "lumo                                                                    0.4767\n",
      "initial_structure            [[1.27612629e-07 1.84192955e+00 3.71975100e+00...\n",
      "defect_representation        [[1.59515772 6.44675377 2.15486663] Se, [12.74...\n",
      "formation_energy                                                        2.9469\n",
      "formation_energy_per_site                                              1.47345\n",
      "band_gap                                                                1.1456\n",
      "idx                                                                         25\n",
      "subgroup                                                               X5_same\n",
      "group                                                                       X5\n",
      "Name: 6141cf14cc0e69a0cf28ab3f, dtype: object) ('6141cf15cc0e69a0cf28ab41', descriptor_id                                         6141cf10cc0e69a0cf28ab33\n",
      "energy                                                              -1390.4031\n",
      "energy_per_atom                                                      -7.279597\n",
      "fermi_level                                                          -0.195674\n",
      "homo                                                                   -0.6714\n",
      "lumo                                                                    0.4735\n",
      "initial_structure            [[1.27612629e-07 1.84192955e+00 3.71975100e+00...\n",
      "defect_representation        [[-3.19031574 20.26122598  2.15486663] Se, [9....\n",
      "formation_energy                                                         2.945\n",
      "formation_energy_per_site                                               1.4725\n",
      "band_gap                                                                1.1449\n",
      "idx                                                                         29\n",
      "subgroup                                                               X5_diff\n",
      "group                                                                       X5\n",
      "Name: 6141cf15cc0e69a0cf28ab41, dtype: object) ('6141cf16cc0e69a0cf28ab43', descriptor_id                                         6141cf10cc0e69a0cf28ab33\n",
      "energy                                                              -1390.4191\n",
      "energy_per_atom                                                      -7.279681\n",
      "fermi_level                                                          -0.196562\n",
      "homo                                                                   -0.6632\n",
      "lumo                                                                    0.4776\n",
      "initial_structure            [[1.27612629e-07 1.84192955e+00 3.71975100e+00...\n",
      "defect_representation        [[20.72429079  6.45412142  2.15745558] X0+, [-...\n",
      "formation_energy                                                         2.929\n",
      "formation_energy_per_site                                               1.4645\n",
      "band_gap                                                                1.1408\n",
      "idx                                                                         37\n",
      "subgroup                                                               X5_diff\n",
      "group                                                                       X5\n",
      "Name: 6141cf16cc0e69a0cf28ab43, dtype: object) ('6141cf17cc0e69a0cf28ab45', descriptor_id                                         6141cf10cc0e69a0cf28ab33\n",
      "energy                                                              -1390.4032\n",
      "energy_per_atom                                                      -7.279598\n",
      "fermi_level                                                          -0.194833\n",
      "homo                                                                   -0.6714\n",
      "lumo                                                                    0.4733\n",
      "initial_structure            [[1.27612629e-07 1.84192955e+00 3.71975100e+00...\n",
      "defect_representation        [[14.35642052 11.97254266  2.15486663] Se, [6....\n",
      "formation_energy                                                        2.9449\n",
      "formation_energy_per_site                                              1.47245\n",
      "band_gap                                                                1.1447\n",
      "idx                                                                         56\n",
      "subgroup                                                               X5_diff\n",
      "group                                                                       X5\n",
      "Name: 6141cf17cc0e69a0cf28ab45, dtype: object) ('6141cf18cc0e69a0cf28ab47', descriptor_id                                         6141cf10cc0e69a0cf28ab33\n",
      "energy                                                              -1390.3998\n",
      "energy_per_atom                                                       -7.27958\n",
      "fermi_level                                                          -0.195723\n",
      "homo                                                                   -0.6706\n",
      "lumo                                                                    0.4753\n",
      "initial_structure            [[1.27612629e-07 1.84192955e+00 3.71975100e+00...\n",
      "defect_representation        [[ 4.78547342 11.97254266  2.15486663] Se, [17...\n",
      "formation_energy                                                        2.9483\n",
      "formation_energy_per_site                                              1.47415\n",
      "band_gap                                                                1.1459\n",
      "idx                                                                         70\n",
      "subgroup                                                               X5_same\n",
      "group                                                                       X5\n",
      "Name: 6141cf18cc0e69a0cf28ab47, dtype: object) ('6141cf19cc0e69a0cf28ab49', descriptor_id                                         6141cf10cc0e69a0cf28ab33\n",
      "energy                                                              -1390.4025\n",
      "energy_per_atom                                                      -7.279594\n",
      "fermi_level                                                          -0.197662\n",
      "homo                                                                   -0.6707\n",
      "lumo                                                                    0.4778\n",
      "initial_structure            [[1.27612629e-07 1.84192955e+00 3.71975100e+00...\n",
      "defect_representation        [[ 6.38063127 20.26122598  2.15486663] Se, [ 4...\n",
      "formation_energy                                                        2.9456\n",
      "formation_energy_per_site                                               1.4728\n",
      "band_gap                                                                1.1485\n",
      "idx                                                                         84\n",
      "subgroup                                                               X5_diff\n",
      "group                                                                       X5\n",
      "Name: 6141cf19cc0e69a0cf28ab49, dtype: object) ('6141cf1bcc0e69a0cf28ab4b', descriptor_id                                         6141cf10cc0e69a0cf28ab33\n",
      "energy                                                              -1390.4025\n",
      "energy_per_atom                                                      -7.279594\n",
      "fermi_level                                                          -0.196791\n",
      "homo                                                                   -0.6712\n",
      "lumo                                                                    0.4747\n",
      "initial_structure            [[1.27612629e-07 1.84192955e+00 3.71975100e+00...\n",
      "defect_representation        [[12.76126267 20.26122598  2.15486663] Se, [-3...\n",
      "formation_energy                                                        2.9456\n",
      "formation_energy_per_site                                               1.4728\n",
      "band_gap                                                                1.1459\n",
      "idx                                                                        103\n",
      "subgroup                                                               X5_diff\n",
      "group                                                                       X5\n",
      "Name: 6141cf1bcc0e69a0cf28ab4b, dtype: object) ('6141cf1dcc0e69a0cf28ab4d', descriptor_id                                         6141cf10cc0e69a0cf28ab33\n",
      "energy                                                              -1390.4022\n",
      "energy_per_atom                                                      -7.279593\n",
      "fermi_level                                                          -0.196328\n",
      "homo                                                                   -0.6728\n",
      "lumo                                                                    0.4766\n",
      "initial_structure            [[1.27612629e-07 1.84192955e+00 3.71975100e+00...\n",
      "defect_representation        [[14.35642052 17.49833154  2.15486663] Se, [14...\n",
      "formation_energy                                                        2.9459\n",
      "formation_energy_per_site                                              1.47295\n",
      "band_gap                                                                1.1494\n",
      "idx                                                                        119\n",
      "subgroup                                                               X5_diff\n",
      "group                                                                       X5\n"
     ]
    },
    {
     "name": "stdout",
     "output_type": "stream",
     "text": [
      "Name: 6141cf1dcc0e69a0cf28ab4d, dtype: object) ('6141cf20cc0e69a0cf28ab4f', descriptor_id                                         6141cf10cc0e69a0cf28ab33\n",
      "energy                                                              -1390.4106\n",
      "energy_per_atom                                                      -7.279637\n",
      "fermi_level                                                          -0.196105\n",
      "homo                                                                    -0.675\n",
      "lumo                                                                     0.472\n",
      "initial_structure            [[1.27612629e-07 1.84192955e+00 3.71975100e+00...\n",
      "defect_representation        [[6.38063136 3.68385933 5.28463537] Se, [3.177...\n",
      "formation_energy                                                        2.9375\n",
      "formation_energy_per_site                                              1.46875\n",
      "band_gap                                                                 1.147\n",
      "idx                                                                        139\n",
      "subgroup                                                               X5_same\n",
      "group                                                                       X5\n",
      "Name: 6141cf20cc0e69a0cf28ab4f, dtype: object) ('6141cf21cc0e69a0cf28ab51', descriptor_id                                         6141cf10cc0e69a0cf28ab33\n",
      "energy                                                              -1390.4081\n",
      "energy_per_atom                                                      -7.279624\n",
      "fermi_level                                                           -0.19577\n",
      "homo                                                                   -0.6763\n",
      "lumo                                                                    0.4723\n",
      "initial_structure            [[1.27612629e-07 1.84192955e+00 3.71975100e+00...\n",
      "defect_representation        [[-3.19031579 14.73543703  2.15486663] Se, [-3...\n",
      "formation_energy                                                          2.94\n",
      "formation_energy_per_site                                                 1.47\n",
      "band_gap                                                                1.1486\n",
      "idx                                                                        151\n",
      "subgroup                                                               X5_same\n",
      "group                                                                       X5\n",
      "Name: 6141cf21cc0e69a0cf28ab51, dtype: object) ('6141cf23cc0e69a0cf28ab53', descriptor_id                                         6141cf10cc0e69a0cf28ab33\n",
      "energy                                                                -1390.41\n",
      "energy_per_atom                                                      -7.279634\n",
      "fermi_level                                                          -0.198499\n",
      "homo                                                                   -0.6741\n",
      "lumo                                                                    0.4725\n",
      "initial_structure            [[1.27612629e-07 1.84192955e+00 3.71975100e+00...\n",
      "defect_representation        [[4.78547351 6.44675377 5.28463537] Se, [17.53...\n",
      "formation_energy                                                        2.9381\n",
      "formation_energy_per_site                                              1.46905\n",
      "band_gap                                                                1.1466\n",
      "idx                                                                        161\n",
      "subgroup                                                               X5_same\n",
      "group                                                                       X5\n",
      "Name: 6141cf23cc0e69a0cf28ab53, dtype: object) ('6141cf28cc0e69a0cf28ab55', descriptor_id                                         6141cf10cc0e69a0cf28ab33\n",
      "energy                                                              -1390.3999\n",
      "energy_per_atom                                                      -7.279581\n",
      "fermi_level                                                          -0.199268\n",
      "homo                                                                   -0.6707\n",
      "lumo                                                                    0.4714\n",
      "initial_structure            [[1.27612629e-07 1.84192955e+00 3.71975100e+00...\n",
      "defect_representation        [[9.57094697 3.68385933 2.15486663] Se, [-9.58...\n",
      "formation_energy                                                        2.9482\n",
      "formation_energy_per_site                                               1.4741\n",
      "band_gap                                                                1.1421\n",
      "idx                                                                        187\n",
      "subgroup                                                               X5_diff\n",
      "group                                                                       X5\n",
      "Name: 6141cf28cc0e69a0cf28ab55, dtype: object) ('6141cf2ccc0e69a0cf28ab57', descriptor_id                                         6141cf10cc0e69a0cf28ab33\n",
      "energy                                                              -1390.4007\n",
      "energy_per_atom                                                      -7.279585\n",
      "fermi_level                                                          -0.195791\n",
      "homo                                                                   -0.6709\n",
      "lumo                                                                    0.4756\n",
      "initial_structure            [[1.27612629e-07 1.84192955e+00 3.71975100e+00...\n",
      "defect_representation        [[12.76126267  9.20964821  2.15486663] Se, [19...\n",
      "formation_energy                                                        2.9474\n",
      "formation_energy_per_site                                               1.4737\n",
      "band_gap                                                                1.1465\n",
      "idx                                                                        204\n",
      "subgroup                                                               X5_same\n",
      "group                                                                       X5\n",
      "Name: 6141cf2ccc0e69a0cf28ab57, dtype: object) ('6141cf39cc0e69a0cf28ab59', descriptor_id                                         6141cf10cc0e69a0cf28ab33\n",
      "energy                                                              -1390.3988\n",
      "energy_per_atom                                                      -7.279575\n",
      "fermi_level                                                          -0.197873\n",
      "homo                                                                   -0.6696\n",
      "lumo                                                                    0.4762\n",
      "initial_structure            [[1.27612629e-07 1.84192955e+00 3.71975100e+00...\n",
      "defect_representation        [[ 1.58239659 11.9799103   5.28204642] X0+, [2...\n",
      "formation_energy                                                        2.9493\n",
      "formation_energy_per_site                                              1.47465\n",
      "band_gap                                                                1.1458\n",
      "idx                                                                        248\n",
      "subgroup                                                               X5_same\n",
      "group                                                                       X5\n",
      "Name: 6141cf39cc0e69a0cf28ab59, dtype: object) ('6141cf3bcc0e69a0cf28ab5b', descriptor_id                                         6141cf10cc0e69a0cf28ab33\n",
      "energy                                                              -1390.3961\n",
      "energy_per_atom                                                      -7.279561\n",
      "fermi_level                                                          -0.197464\n",
      "homo                                                                   -0.6689\n",
      "lumo                                                                    0.4741\n",
      "initial_structure            [[1.27612629e-07 1.84192955e+00 3.71975100e+00...\n",
      "defect_representation        [[11.16610482  0.92096489  2.15486663] Se, [ 1...\n",
      "formation_energy                                                         2.952\n",
      "formation_energy_per_site                                                1.476\n",
      "band_gap                                                                 1.143\n",
      "idx                                                                        254\n",
      "subgroup                                                               X5_diff\n",
      "group                                                                       X5\n",
      "Name: 6141cf3bcc0e69a0cf28ab5b, dtype: object) ('6141cf3ecc0e69a0cf28ab5d', descriptor_id                                         6141cf10cc0e69a0cf28ab33\n",
      "energy                                                              -1390.4042\n",
      "energy_per_atom                                                      -7.279603\n",
      "fermi_level                                                          -0.196895\n",
      "homo                                                                   -0.6714\n",
      "lumo                                                                    0.4737\n",
      "initial_structure            [[1.27612629e-07 1.84192955e+00 3.71975100e+00...\n",
      "defect_representation        [[-1.60791911  6.45412142  2.15745558] X0+, [1...\n",
      "formation_energy                                                        2.9439\n",
      "formation_energy_per_site                                              1.47195\n",
      "band_gap                                                                1.1451\n",
      "idx                                                                        265\n",
      "subgroup                                                               X5_diff\n",
      "group                                                                       X5\n",
      "Name: 6141cf3ecc0e69a0cf28ab5d, dtype: object) ('6141cf50cc0e69a0cf28ab5f', descriptor_id                                         6141cf10cc0e69a0cf28ab33\n",
      "energy                                                               -1390.404\n",
      "energy_per_atom                                                      -7.279602\n",
      "fermi_level                                                          -0.199296\n",
      "homo                                                                   -0.6707\n",
      "lumo                                                                    0.4763\n",
      "initial_structure            [[1.27612629e-07 1.84192955e+00 3.71975100e+00...\n",
      "defect_representation        [[11.16610482 17.49833154  2.15486663] Se, [11...\n",
      "formation_energy                                                        2.9441\n",
      "formation_energy_per_site                                              1.47205\n",
      "band_gap                                                                 1.147\n",
      "idx                                                                        312\n",
      "subgroup                                                               X5_diff\n",
      "group                                                                       X5\n",
      "Name: 6141cf50cc0e69a0cf28ab5f, dtype: object) ('6141cf55cc0e69a0cf28ab61', descriptor_id                                         6141cf10cc0e69a0cf28ab33\n",
      "energy                                                              -1390.4095\n",
      "energy_per_atom                                                      -7.279631\n",
      "fermi_level                                                          -0.199837\n",
      "homo                                                                   -0.6725\n",
      "lumo                                                                    0.4769\n",
      "initial_structure            [[1.27612629e-07 1.84192955e+00 3.71975100e+00...\n",
      "defect_representation        [[14.34365939  0.92833253  5.28204642] X0+, [1...\n",
      "formation_energy                                                        2.9386\n",
      "formation_energy_per_site                                               1.4693\n",
      "band_gap                                                                1.1494\n",
      "idx                                                                        322\n",
      "subgroup                                                               X5_same\n",
      "group                                                                       X5\n",
      "Name: 6141cf55cc0e69a0cf28ab61, dtype: object) ('6141cf6fcc0e69a0cf28ab63', descriptor_id                                         6141cf10cc0e69a0cf28ab33\n",
      "energy                                                              -1390.3983\n",
      "energy_per_atom                                                      -7.279572\n",
      "fermi_level                                                          -0.197832\n",
      "homo                                                                   -0.6702\n",
      "lumo                                                                     0.475\n",
      "initial_structure            [[1.27612629e-07 1.84192955e+00 3.71975100e+00...\n",
      "defect_representation        [[-6.38063153 20.26122598  2.15486663] Se, [ 1...\n",
      "formation_energy                                                        2.9498\n",
      "formation_energy_per_site                                               1.4749\n",
      "band_gap                                                                1.1452\n",
      "idx                                                                        376\n",
      "subgroup                                                               X5_same\n",
      "group                                                                       X5\n",
      "Name: 6141cf6fcc0e69a0cf28ab63, dtype: object) ('6141cf72cc0e69a0cf28ab65', descriptor_id                                         6141cf10cc0e69a0cf28ab33\n",
      "energy                                                              -1390.4076\n",
      "energy_per_atom                                                      -7.279621\n",
      "fermi_level                                                          -0.198897\n",
      "homo                                                                   -0.6643\n",
      "lumo                                                                    0.4736\n",
      "initial_structure            [[1.27612629e-07 1.84192955e+00 3.71975100e+00...\n",
      "defect_representation        [[15.93881724  3.69122697  2.15745558] X0+, [1...\n",
      "formation_energy                                                        2.9405\n",
      "formation_energy_per_site                                              1.47025\n",
      "band_gap                                                                1.1379\n",
      "idx                                                                        381\n",
      "subgroup                                                               X5_same\n",
      "group                                                                       X5\n",
      "Name: 6141cf72cc0e69a0cf28ab65, dtype: object) ('6141cf76cc0e69a0cf28ab67', descriptor_id                                         6141cf10cc0e69a0cf28ab33\n",
      "energy                                                              -1390.3851\n",
      "energy_per_atom                                                      -7.279503\n",
      "fermi_level                                                          -0.196784\n",
      "homo                                                                   -0.6641\n",
      "lumo                                                                    0.4757\n",
      "initial_structure            [[1.27612629e-07 1.84192955e+00 3.71975100e+00...\n",
      "defect_representation        [[23.92736762  0.92096489  2.15486663] Se, [ 6...\n",
      "formation_energy                                                         2.963\n",
      "formation_energy_per_site                                               1.4815\n",
      "band_gap                                                                1.1398\n",
      "idx                                                                        389\n",
      "subgroup                                                               X5_diff\n",
      "group                                                                       X5\n",
      "Name: 6141cf76cc0e69a0cf28ab67, dtype: object) ('6141cf82cc0e69a0cf28ab69', descriptor_id                                         6141cf10cc0e69a0cf28ab33\n",
      "energy                                                              -1390.3995\n",
      "energy_per_atom                                                      -7.279579\n",
      "fermi_level                                                          -0.199696\n",
      "homo                                                                   -0.6693\n",
      "lumo                                                                    0.4787\n",
      "initial_structure            [[1.27612629e-07 1.84192955e+00 3.71975100e+00...\n",
      "defect_representation        [[-9.57094723 20.26122598  5.28463537] Se, [15...\n",
      "formation_energy                                                        2.9486\n",
      "formation_energy_per_site                                               1.4743\n",
      "band_gap                                                                 1.148\n",
      "idx                                                                        409\n",
      "subgroup                                                               X5_same\n",
      "group                                                                       X5\n",
      "Name: 6141cf82cc0e69a0cf28ab69, dtype: object) ('6141cf90cc0e69a0cf28ab6b', descriptor_id                                         6141cf10cc0e69a0cf28ab33\n",
      "energy                                                              -1390.4039\n",
      "energy_per_atom                                                      -7.279602\n",
      "fermi_level                                                          -0.197026\n",
      "homo                                                                   -0.6712\n",
      "lumo                                                                    0.4744\n",
      "initial_structure            [[1.27612629e-07 1.84192955e+00 3.71975100e+00...\n",
      "defect_representation        [[1.58239659 0.92833253 2.15745558] X0+, [-4.7...\n",
      "formation_energy                                                        2.9442\n",
      "formation_energy_per_site                                               1.4721\n",
      "band_gap                                                                1.1456\n",
      "idx                                                                        432\n",
      "subgroup                                                               X5_diff\n",
      "group                                                                       X5\n"
     ]
    },
    {
     "name": "stdout",
     "output_type": "stream",
     "text": [
      "Name: 6141cf90cc0e69a0cf28ab6b, dtype: object) ('6141d130cc0e69a0cf28ab6d', descriptor_id                                         6141cf10cc0e69a0cf28ab33\n",
      "energy                                                              -1390.3134\n",
      "energy_per_atom                                                      -7.279128\n",
      "fermi_level                                                           -0.19916\n",
      "homo                                                                   -0.6595\n",
      "lumo                                                                    0.4725\n",
      "initial_structure            [[1.27612629e-07 1.84192955e+00 3.71975100e+00...\n",
      "defect_representation        [[1.59515772 6.44675377 2.15486663] Se, [1.582...\n",
      "formation_energy                                                        3.0347\n",
      "formation_energy_per_site                                              1.51735\n",
      "band_gap                                                                 1.132\n",
      "idx                                                                        826\n",
      "subgroup                                                               X5_diff\n",
      "group                                                                       X5\n",
      "Name: 6141d130cc0e69a0cf28ab6d, dtype: object)\n"
     ]
    }
   ],
   "source": [
    "print(*((i, row) for i, row in group_df.iterrows()))"
   ]
  },
  {
   "cell_type": "code",
   "execution_count": 64,
   "id": "233a36e2",
   "metadata": {},
   "outputs": [],
   "source": [
    "save_adj_dict(ad, 'X2')"
   ]
  },
  {
   "cell_type": "code",
   "execution_count": 70,
   "id": "7384c5af",
   "metadata": {},
   "outputs": [],
   "source": [
    "new_ad = restore_adj_dict('X2')"
   ]
  },
  {
   "cell_type": "code",
   "execution_count": 71,
   "id": "a1a1add7",
   "metadata": {},
   "outputs": [
    {
     "data": {
      "text/plain": [
       "{1: [],\n",
       " 4: [4, 292, 208, 453],\n",
       " 17: [230, 137, 165],\n",
       " 45: [672, 769, 230, 17],\n",
       " 137: [137, 230],\n",
       " 165: [137],\n",
       " 208: [208, 1, 582],\n",
       " 230: [230, 769],\n",
       " 292: [208],\n",
       " 370: [1, 582, 597, 370],\n",
       " 398: [4, 292, 398],\n",
       " 453: [208, 582],\n",
       " 500: [4, 453],\n",
       " 551: [551, 137],\n",
       " 566: [230, 137, 551],\n",
       " 582: [1],\n",
       " 597: [],\n",
       " 672: [672],\n",
       " 769: [672]}"
      ]
     },
     "execution_count": 71,
     "metadata": {},
     "output_type": "execute_result"
    }
   ],
   "source": [
    "new_ad"
   ]
  },
  {
   "cell_type": "code",
   "execution_count": 80,
   "id": "0214fe6d",
   "metadata": {},
   "outputs": [],
   "source": [
    "group = 'X5'\n",
    "group_df = data[data.group == group]\n",
    "# check_group(group_df, checker)"
   ]
  },
  {
   "cell_type": "code",
   "execution_count": 76,
   "id": "87f412ed",
   "metadata": {},
   "outputs": [
    {
     "name": "stdout",
     "output_type": "stream",
     "text": [
      "No path from 161 to 139!\n",
      "No path from 322 to 139!\n"
     ]
    }
   ],
   "source": [
    "group_df = data[(data.subgroup == 'X5_X_bottom_Se_bottom') | (data.subgroup == 'X5_X_top_Se_top')]\n",
    "check_group(group_df, checker)"
   ]
  },
  {
   "cell_type": "code",
   "execution_count": 92,
   "id": "452be3d8",
   "metadata": {},
   "outputs": [
    {
     "data": {
      "text/plain": [
       "{12: [97, 153, 97, 153],\n",
       " 14: [263, 97],\n",
       " 20: [246, 121, 121, 246],\n",
       " 30: [299, 180, 299, 180],\n",
       " 40: [180, 180, 66, 66],\n",
       " 54: [12, 14, 97],\n",
       " 66: [180],\n",
       " 97: [66],\n",
       " 121: [153, 246],\n",
       " 153: [97, 66, 246],\n",
       " 180: [299],\n",
       " 246: [40, 66],\n",
       " 263: [180, 66, 30, 97],\n",
       " 299: [],\n",
       " 420: [54, 54]}"
      ]
     },
     "execution_count": 92,
     "metadata": {},
     "output_type": "execute_result"
    }
   ],
   "source": [
    "adj_dict"
   ]
  },
  {
   "cell_type": "code",
   "execution_count": 80,
   "id": "f4a9d054",
   "metadata": {},
   "outputs": [
    {
     "name": "stdout",
     "output_type": "stream",
     "text": [
      "CPU times: user 2 µs, sys: 0 ns, total: 2 µs\n",
      "Wall time: 6.44 µs\n"
     ]
    },
    {
     "name": "stderr",
     "output_type": "stream",
     "text": [
      "  2%|█                                           | 1/42 [00:03<02:17,  3.36s/it]\n"
     ]
    },
    {
     "ename": "ValueError",
     "evalue": "Not found symmetrically equivalent structure!",
     "output_type": "error",
     "traceback": [
      "\u001b[0;31m---------------------------------------------------------------------------\u001b[0m",
      "\u001b[0;31mValueError\u001b[0m                                Traceback (most recent call last)",
      "\u001b[0;32m/tmp/ipykernel_124662/1779876918.py\u001b[0m in \u001b[0;36m<module>\u001b[0;34m\u001b[0m\n\u001b[1;32m      1\u001b[0m \u001b[0mget_ipython\u001b[0m\u001b[0;34m(\u001b[0m\u001b[0;34m)\u001b[0m\u001b[0;34m.\u001b[0m\u001b[0mrun_line_magic\u001b[0m\u001b[0;34m(\u001b[0m\u001b[0;34m'time'\u001b[0m\u001b[0;34m,\u001b[0m \u001b[0;34m''\u001b[0m\u001b[0;34m)\u001b[0m\u001b[0;34m\u001b[0m\u001b[0;34m\u001b[0m\u001b[0m\n\u001b[0;32m----> 2\u001b[0;31m all_adjs, all_reachability = check_all_subgroups(data.group.unique(), data, \n\u001b[0m\u001b[1;32m      3\u001b[0m                                                  checker)\n",
      "\u001b[0;32m/tmp/ipykernel_124662/1487950906.py\u001b[0m in \u001b[0;36mcheck_all_subgroups\u001b[0;34m(subgroups, data, checker)\u001b[0m\n\u001b[1;32m      4\u001b[0m     \u001b[0;32mfor\u001b[0m \u001b[0msubgroup\u001b[0m \u001b[0;32min\u001b[0m \u001b[0mtqdm\u001b[0m\u001b[0;34m(\u001b[0m\u001b[0msubgroups\u001b[0m\u001b[0;34m)\u001b[0m\u001b[0;34m:\u001b[0m\u001b[0;34m\u001b[0m\u001b[0;34m\u001b[0m\u001b[0m\n\u001b[1;32m      5\u001b[0m         \u001b[0msubgroup_df\u001b[0m \u001b[0;34m=\u001b[0m \u001b[0mdata\u001b[0m\u001b[0;34m[\u001b[0m\u001b[0mdata\u001b[0m\u001b[0;34m.\u001b[0m\u001b[0mgroup\u001b[0m \u001b[0;34m==\u001b[0m \u001b[0msubgroup\u001b[0m\u001b[0;34m]\u001b[0m\u001b[0;34m\u001b[0m\u001b[0;34m\u001b[0m\u001b[0m\n\u001b[0;32m----> 6\u001b[0;31m         \u001b[0mall_adjs\u001b[0m\u001b[0;34m[\u001b[0m\u001b[0msubgroup\u001b[0m\u001b[0;34m]\u001b[0m \u001b[0;34m=\u001b[0m \u001b[0mgenerate_subgroup_adj_dict\u001b[0m\u001b[0;34m(\u001b[0m\u001b[0msubgroup_df\u001b[0m\u001b[0;34m,\u001b[0m \u001b[0mchecker\u001b[0m\u001b[0;34m)\u001b[0m\u001b[0;34m\u001b[0m\u001b[0;34m\u001b[0m\u001b[0m\n\u001b[0m\u001b[1;32m      7\u001b[0m         \u001b[0mmin_idx\u001b[0m \u001b[0;34m=\u001b[0m \u001b[0mdata\u001b[0m\u001b[0;34m.\u001b[0m\u001b[0miloc\u001b[0m\u001b[0;34m[\u001b[0m\u001b[0msubgroup_df\u001b[0m\u001b[0;34m.\u001b[0m\u001b[0menergy_per_atom\u001b[0m\u001b[0;34m.\u001b[0m\u001b[0margmin\u001b[0m\u001b[0;34m(\u001b[0m\u001b[0;34m)\u001b[0m\u001b[0;34m]\u001b[0m\u001b[0;34m.\u001b[0m\u001b[0midx\u001b[0m\u001b[0;34m\u001b[0m\u001b[0;34m\u001b[0m\u001b[0m\n\u001b[1;32m      8\u001b[0m         all_reachability[subgroup] = check_reachable(all_adjs[subgroup], \n",
      "\u001b[0;32m/tmp/ipykernel_124662/2422757404.py\u001b[0m in \u001b[0;36mgenerate_subgroup_adj_dict\u001b[0;34m(subgroup_df, checker, thr)\u001b[0m\n\u001b[1;32m      9\u001b[0m \u001b[0;31m#         print(row.idx)\u001b[0m\u001b[0;34m\u001b[0m\u001b[0;34m\u001b[0m\u001b[0m\n\u001b[1;32m     10\u001b[0m         \u001b[0;32mfor\u001b[0m \u001b[0mdefect_repr\u001b[0m \u001b[0;32min\u001b[0m \u001b[0mdefect_reprs\u001b[0m\u001b[0;34m:\u001b[0m\u001b[0;34m\u001b[0m\u001b[0;34m\u001b[0m\u001b[0m\n\u001b[0;32m---> 11\u001b[0;31m             \u001b[0menergy\u001b[0m\u001b[0;34m,\u001b[0m \u001b[0midx\u001b[0m \u001b[0;34m=\u001b[0m \u001b[0mget_energy_idx\u001b[0m\u001b[0;34m(\u001b[0m\u001b[0mdefect_repr\u001b[0m\u001b[0;34m,\u001b[0m \u001b[0msubgroup_df\u001b[0m\u001b[0;34m,\u001b[0m \u001b[0mchecker\u001b[0m\u001b[0;34m)\u001b[0m\u001b[0;34m\u001b[0m\u001b[0;34m\u001b[0m\u001b[0m\n\u001b[0m\u001b[1;32m     12\u001b[0m \u001b[0;31m#             print(idx)\u001b[0m\u001b[0;34m\u001b[0m\u001b[0;34m\u001b[0m\u001b[0m\n\u001b[1;32m     13\u001b[0m             \u001b[0;32mif\u001b[0m \u001b[0menergy\u001b[0m \u001b[0;34m-\u001b[0m \u001b[0mcur_energy\u001b[0m \u001b[0;34m<\u001b[0m \u001b[0mthr\u001b[0m\u001b[0;34m:\u001b[0m\u001b[0;34m\u001b[0m\u001b[0;34m\u001b[0m\u001b[0m\n",
      "\u001b[0;32m/tmp/ipykernel_124662/2351380241.py\u001b[0m in \u001b[0;36mget_energy_idx\u001b[0;34m(defect_representation, subgroup_df, checker)\u001b[0m\n\u001b[1;32m      4\u001b[0m                                                 row.defect_representation):\n\u001b[1;32m      5\u001b[0m             \u001b[0;32mreturn\u001b[0m \u001b[0mrow\u001b[0m\u001b[0;34m.\u001b[0m\u001b[0menergy_per_atom\u001b[0m\u001b[0;34m,\u001b[0m \u001b[0mrow\u001b[0m\u001b[0;34m.\u001b[0m\u001b[0midx\u001b[0m\u001b[0;34m\u001b[0m\u001b[0;34m\u001b[0m\u001b[0m\n\u001b[0;32m----> 6\u001b[0;31m     \u001b[0;32mraise\u001b[0m \u001b[0mValueError\u001b[0m\u001b[0;34m(\u001b[0m\u001b[0;34m\"Not found symmetrically equivalent structure!\"\u001b[0m\u001b[0;34m)\u001b[0m\u001b[0;34m\u001b[0m\u001b[0;34m\u001b[0m\u001b[0m\n\u001b[0m",
      "\u001b[0;31mValueError\u001b[0m: Not found symmetrically equivalent structure!"
     ]
    }
   ],
   "source": [
    "%time\n",
    "all_adjs, all_reachability = check_all_subgroups(data.group.unique(), data, \n",
    "                                                 checker)"
   ]
  },
  {
   "cell_type": "code",
   "execution_count": 61,
   "id": "c905706b",
   "metadata": {},
   "outputs": [
    {
     "data": {
      "text/plain": [
       "1"
      ]
     },
     "execution_count": 61,
     "metadata": {},
     "output_type": "execute_result"
    }
   ],
   "source": [
    "data[data.group==group10].energy_per_atom.argmin()"
   ]
  },
  {
   "cell_type": "code",
   "execution_count": 62,
   "id": "c7c6290a",
   "metadata": {},
   "outputs": [
    {
     "data": {
      "text/plain": [
       "descriptor_id                                         6141cf10b842c2e72e2f2d42\n",
       "energy                                                              -1396.2591\n",
       "energy_per_atom                                                      -7.272183\n",
       "fermi_level                                                          -0.177558\n",
       "homo                                                                   -0.6911\n",
       "lumo                                                                    1.1164\n",
       "initial_structure            [[1.27612629e-07 1.84192955e+00 3.71975100e+00...\n",
       "defect_representation        [[-3.19031579 14.73543703  2.15486663] Se, [17...\n",
       "formation_energy                                                         0.578\n",
       "formation_energy_per_site                                                0.289\n",
       "band_gap                                                                1.8075\n",
       "idx                                                                         10\n",
       "group                                                                       X4\n",
       "Name: 6141cf12b842c2e72e2f2d4a, dtype: object"
      ]
     },
     "execution_count": 62,
     "metadata": {},
     "output_type": "execute_result"
    }
   ],
   "source": [
    "data[data.group==group10].iloc[1]"
   ]
  },
  {
   "cell_type": "code",
   "execution_count": null,
   "id": "d0af3462",
   "metadata": {},
   "outputs": [],
   "source": [
    "get_nn(s10, d10[0])[0]"
   ]
  },
  {
   "cell_type": "code",
   "execution_count": null,
   "id": "4052198a",
   "metadata": {},
   "outputs": [],
   "source": [
    "di = data.iloc[0].descriptor_id\n",
    "data.loc[di]"
   ]
  },
  {
   "cell_type": "code",
   "execution_count": 77,
   "id": "8cdad6d9",
   "metadata": {},
   "outputs": [
    {
     "data": {
      "text/plain": [
       "array(['X1', 'X2', 'X3', 'X4', 'X5', 'V1', 'V2', 'V3', 'V4', 'V5', 'V6',\n",
       "       'S1', 'S2', 'S3', 'S4', 'S5', 'S6'], dtype=object)"
      ]
     },
     "execution_count": 77,
     "metadata": {},
     "output_type": "execute_result"
    }
   ],
   "source": [
    "data.group.unique()"
   ]
  },
  {
   "cell_type": "code",
   "execution_count": null,
   "id": "c04cc088",
   "metadata": {},
   "outputs": [],
   "source": []
  }
 ],
 "metadata": {
  "kernelspec": {
   "display_name": "Python 3 (ipykernel)",
   "language": "python",
   "name": "python3"
  },
  "language_info": {
   "codemirror_mode": {
    "name": "ipython",
    "version": 3
   },
   "file_extension": ".py",
   "mimetype": "text/x-python",
   "name": "python",
   "nbconvert_exporter": "python",
   "pygments_lexer": "ipython3",
   "version": "3.9.7"
  },
  "varInspector": {
   "cols": {
    "lenName": 16,
    "lenType": 16,
    "lenVar": 40
   },
   "kernels_config": {
    "python": {
     "delete_cmd_postfix": "",
     "delete_cmd_prefix": "del ",
     "library": "var_list.py",
     "varRefreshCmd": "print(var_dic_list())"
    },
    "r": {
     "delete_cmd_postfix": ") ",
     "delete_cmd_prefix": "rm(",
     "library": "var_list.r",
     "varRefreshCmd": "cat(var_dic_list()) "
    }
   },
   "types_to_exclude": [
    "module",
    "function",
    "builtin_function_or_method",
    "instance",
    "_Feature"
   ],
   "window_display": false
  }
 },
 "nbformat": 4,
 "nbformat_minor": 5
}
