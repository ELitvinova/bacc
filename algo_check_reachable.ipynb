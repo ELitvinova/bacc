{
 "cells": [
  {
   "cell_type": "code",
   "execution_count": 1,
   "id": "58522e68",
   "metadata": {},
   "outputs": [],
   "source": [
    "import pickle\n",
    "import gzip\n",
    "import pandas as pd\n",
    "import matplotlib.pyplot as plt\n",
    "\n",
    "from tqdm import tqdm\n",
    "from joblib import Parallel, delayed"
   ]
  },
  {
   "cell_type": "code",
   "execution_count": 2,
   "id": "8c561a3f",
   "metadata": {},
   "outputs": [
    {
     "data": {
      "application/vnd.jupyter.widget-view+json": {
       "model_id": "d93175423edc4045a643bdc12471b04a",
       "version_major": 2,
       "version_minor": 0
      },
      "text/plain": []
     },
     "metadata": {},
     "output_type": "display_data"
    },
    {
     "name": "stderr",
     "output_type": "stream",
     "text": [
      "/home/user/anaconda3/envs/bacc/lib/python3.9/site-packages/pymatgen/core/__init__.py:49: UserWarning: Error loading .pmgrc.yaml: [Errno 2] No such file or directory: '/home/user/.pmgrc.yaml'. You may need to reconfigure your yaml file.\n",
      "  warnings.warn(f\"Error loading .pmgrc.yaml: {ex}. You may need to reconfigure your yaml file.\")\n"
     ]
    }
   ],
   "source": [
    "from utils import *\n",
    "from preprocessing import Dataset"
   ]
  },
  {
   "cell_type": "code",
   "execution_count": 3,
   "id": "f5b2d9de",
   "metadata": {},
   "outputs": [],
   "source": [
    "%load_ext autoreload\n",
    "%autoreload 2"
   ]
  },
  {
   "cell_type": "code",
   "execution_count": 4,
   "id": "2d82341d",
   "metadata": {},
   "outputs": [],
   "source": [
    "with gzip.open('data.pickle.gz', 'rb') as fh:\n",
    "    data = pickle.load(fh, )"
   ]
  },
  {
   "cell_type": "code",
   "execution_count": 5,
   "id": "650174a0",
   "metadata": {},
   "outputs": [],
   "source": [
    "dataset = Dataset(data)"
   ]
  },
  {
   "cell_type": "code",
   "execution_count": 16,
   "id": "3e35e345",
   "metadata": {},
   "outputs": [],
   "source": [
    "class MatrixBuilder:\n",
    "    def __init__(self, dataset, name):\n",
    "        self.name = name\n",
    "        self.group_df = dataset[name].copy()\n",
    "        self.group_df['distance_graph'] = self.group_df.defect_representation.apply(\n",
    "            lambda x: nx.from_numpy_matrix(x.distance_matrix)\n",
    "        )\n",
    "        self.full_structure = dataset.get_full_structure()\n",
    "        finder = SpacegroupAnalyzer(self.full_structure,\n",
    "                                    symprec=1e-1)\n",
    "        self.checker = finder.get_space_group_operations()\n",
    "        self.metrics = {\"n_symmetry_checks\" : 0,\n",
    "                        \"n_find_sym_idx\": 0,\n",
    "                        \"sum_len_to_search\": 0}\n",
    "#         self.structure_graph = dataset.get_structure_graph()\n",
    "#         self.group_df[\"subgraph\"] = self.group_df.defect_representation.apply(\n",
    "#             lambda x: make_subgraph(self.structure_graph, \n",
    "#                                     self.full_structure, \n",
    "#                                     x))\n",
    "        \n",
    "    def reset_metrics(self):\n",
    "        self.metrics = {\"n_symmetry_checks\" : 0,\n",
    "                        \"n_find_sym_idx\": 0,\n",
    "                        \"sum_len_to_search\": 0}\n",
    "        \n",
    "    def swap_sites(self, structure, defect_site, idx):\n",
    "        \"\"\"\n",
    "        Swap defect site with site in structure by index.\n",
    "        Works correctly when defect is substitution or vacancy\n",
    "        \"\"\"\n",
    "        defect_species = defect_site.species_string\n",
    "        site_species = structure[idx].species_string\n",
    "        if defect_species == site_species:\n",
    "            return structure.copy(), defect_site\n",
    "        new_defect_site = PeriodicSite(defect_site.species, \n",
    "                                       structure[idx].frac_coords, \n",
    "                                       structure[idx].lattice)\n",
    "        if defect_species != \"X0+\":\n",
    "            defect_idx = find_site(structure, defect_site)\n",
    "            indices_species_map = {idx: defect_species, \n",
    "                                   defect_idx: site_species}\n",
    "            transformation = ReplaceSiteSpeciesTransformation(indices_species_map)\n",
    "            return transformation.apply_transformation(structure), new_defect_site\n",
    "        insert_transf = InsertSitesTransformation([site_species],\n",
    "                                                  [defect_site.frac_coords])\n",
    "        remove_transf = RemoveSitesTransformation([idx])\n",
    "        removed_s = remove_transf.apply_transformation(structure)\n",
    "        return insert_transf.apply_transformation(removed_s), new_defect_site\n",
    "    \n",
    "    \n",
    "    def generate_neighbouring_structures(self, structure, defects, how=None):\n",
    "        \"\"\"\n",
    "        Only one swap.\n",
    "        \"\"\"\n",
    "        def defects_are_eq(d1, d2):\n",
    "            if how is None:\n",
    "                return self.checker.are_symmetrically_equivalent(d1, \n",
    "                                                            d2, \n",
    "                                                            symm_prec=0.01)\n",
    "            elif how == \"DG\":\n",
    "                if not matrices_are_isomofic(d1.distance_matrix, \n",
    "                                             d2.distance_matrix):\n",
    "                    return False\n",
    "                else:\n",
    "                    return self.checker.are_symmetrically_equivalent(d1, \n",
    "                                                                d2, \n",
    "                                                                symm_prec=0.01)\n",
    "            raise ValueError(f\"Undefined comparison style: {how}\")\n",
    "            \n",
    "        result_structures = []\n",
    "        defect_reprs = []\n",
    "        for i, defect_site in enumerate(defects):\n",
    "            nns = get_nn(structure, defect_site)\n",
    "            for n_idx in nns:\n",
    "                new_structure, new_defect_site = self.swap_sites(structure, \n",
    "                                                            defect_site, \n",
    "                                                            n_idx)\n",
    "                new_defect_repr = defects.copy()\n",
    "                new_defect_repr[i] = new_defect_site\n",
    "\n",
    "                # check if swapped with another defect\n",
    "                found, idx = safe_find_site(defects, new_defect_site)\n",
    "                if found:\n",
    "                    swapped_defect_site = PeriodicSite(defects[idx].species, \n",
    "                                       defect_site.frac_coords, \n",
    "                                       defect_site.lattice)\n",
    "                    new_defect_repr[idx] = swapped_defect_site\n",
    "                # check if got something different from \n",
    "                # initial conf and all generated before\n",
    "                is_new = True\n",
    "#                 for reprn in defect_reprs+[defects]:\n",
    "                for reprn in defect_reprs:\n",
    "                    if defects_are_eq(reprn, new_defect_repr):\n",
    "                        is_new = False\n",
    "                        break\n",
    "                if is_new or len(defect_reprs) == 0:\n",
    "                    result_structures.append(new_structure)\n",
    "                    defect_reprs.append(new_defect_repr)\n",
    "        return result_structures, defect_reprs\n",
    "    \n",
    "    def get_similar_by_dg(self, defect_representation, rtol=1e-2):\n",
    "        DG = nx.from_numpy_matrix(defect_representation.distance_matrix)\n",
    "        edge_match = iso.numerical_edge_match(\"weight\", 0.0, rtol=rtol)\n",
    "        match = lambda x: nx.is_isomorphic(x, DG, edge_match=edge_match)\n",
    "        return self.group_df[np.vectorize(match)(\n",
    "            self.group_df.distance_graph\n",
    "        )]\n",
    "\n",
    "    \n",
    "    def get_similar_by_sg(self, defect_representation, rtol=0.5):\n",
    "        SG = make_subgraph(self.structure_graph, \n",
    "                           self.full_structure,\n",
    "                           defect_representation)\n",
    "        edge_match = iso.numerical_edge_match(\"weight\", 0.0, rtol=rtol)\n",
    "        node_match = lambda n1, n2: n1[\"specie\"] == n2[\"specie\"]\n",
    "        match = lambda x: nx.is_isomorphic(x, SG)\n",
    "        return self.group_df[np.vectorize(match)(\n",
    "            self.group_df.subgraph\n",
    "        )]\n",
    "    \n",
    "    def get_equivalent_idx(self, defect_representation, how=None):\n",
    "        self.metrics[\"n_find_sym_idx\"] += 1\n",
    "        if how is None:\n",
    "            to_search = self.group_df\n",
    "        elif how==\"DG\":\n",
    "            to_search = self.get_similar_by_dg(defect_representation)\n",
    "        elif how==\"SG\":\n",
    "            to_search = self.get_similar_by_sg(defect_representation)\n",
    "        self.metrics[\"sum_len_to_search\"] += len(to_search)\n",
    "        if len(to_search) == 1:\n",
    "            return to_search.index[0]\n",
    "        for i, row in to_search.iterrows():\n",
    "            self.metrics[\"n_symmetry_checks\"] += 1 \n",
    "            if self.checker.are_symmetrically_equivalent(defect_representation,\n",
    "                                                    row.defect_representation,\n",
    "                                                    symm_prec=0.01):\n",
    "                return i\n",
    "        raise ValueError(\n",
    "            f\"Not found symmetrically equivalent structure for {defect_representation}\"\n",
    "        )\n",
    "        \n",
    "    def _generate_delta_e_dict(self, how=None, n_jobs=1):\n",
    "        \"\"\"\n",
    "        Returns dict with E_dst-E_src (energies of destination and source conf)\n",
    "        \"\"\"\n",
    "        def get_item(i, row):\n",
    "            adj_dict = {}\n",
    "            cur_energy = row.energy_per_atom\n",
    "            ns, defect_reprs = self.generate_neighbouring_structures(\n",
    "                row.initial_structure, row.defect_representation, how=how)\n",
    "            adj_dict[i] = {}\n",
    "            for defect_repr in defect_reprs:\n",
    "                idx = self.get_equivalent_idx(defect_repr, how)\n",
    "                energy = self.group_df.loc[idx].energy_per_atom\n",
    "                if idx != i:\n",
    "                    adj_dict[i] |= {idx: {\"weight\": energy - cur_energy}}\n",
    "            return adj_dict\n",
    "\n",
    "        result = Parallel(n_jobs=n_jobs, verbose=1000)(\n",
    "            delayed(get_item)(i, row) for i, row in self.group_df.iterrows()\n",
    "        )\n",
    "        adj_dict = {}\n",
    "        for entry in result:\n",
    "            adj_dict |= entry\n",
    "        return adj_dict\n",
    "        \n",
    "        \n",
    "    def generate_group_adj_dict(self, thr=0.0, n_jobs=1, how=None):\n",
    "        \"\"\"\n",
    "        Parallel\n",
    "        \"\"\"\n",
    "        def get_item(i, row):\n",
    "            adj_dict = {}\n",
    "            cur_energy = row.energy_per_atom\n",
    "            ns, defect_reprs = self.generate_neighbouring_structures(\n",
    "                row.initial_structure, row.defect_representation, how=how)\n",
    "            adj_dict[i] = []\n",
    "            for defect_repr in defect_reprs:\n",
    "                idx = self.get_equivalent_idx(defect_repr, how)\n",
    "                energy = self.group_df.loc[idx].energy_per_atom\n",
    "                if energy - cur_energy <= thr:\n",
    "                    adj_dict[i].append(idx)\n",
    "            return adj_dict\n",
    "\n",
    "        result = Parallel(n_jobs=n_jobs, verbose=1000)(\n",
    "            delayed(get_item)(i, row) for i, row in self.group_df.iterrows()\n",
    "        )\n",
    "        adj_dict = {}\n",
    "        for entry in result:\n",
    "            adj_dict |= entry\n",
    "        return adj_dict"
   ]
  },
  {
   "cell_type": "code",
   "execution_count": 17,
   "id": "b3684ee7",
   "metadata": {},
   "outputs": [
    {
     "name": "stdout",
     "output_type": "stream",
     "text": [
      "CPU times: user 439 ms, sys: 720 ms, total: 1.16 s\n",
      "Wall time: 240 ms\n"
     ]
    }
   ],
   "source": [
    "%time V5_same_MB = MatrixBuilder(dataset, 'V5_same')"
   ]
  },
  {
   "cell_type": "code",
   "execution_count": 175,
   "id": "2c0652c7",
   "metadata": {},
   "outputs": [],
   "source": [
    "structs, defects = V5_same_MB.generate_neighbouring_structures(dataset[27].initial_structure, \n",
    "                                                               dataset[27].defect_representation)"
   ]
  },
  {
   "cell_type": "code",
   "execution_count": 174,
   "id": "cda324a3",
   "metadata": {},
   "outputs": [
    {
     "name": "stdout",
     "output_type": "stream",
     "text": [
      "CPU times: user 130 ms, sys: 112 ms, total: 242 ms\n",
      "Wall time: 84.4 ms\n"
     ]
    },
    {
     "data": {
      "text/plain": [
       "214"
      ]
     },
     "execution_count": 174,
     "metadata": {},
     "output_type": "execute_result"
    }
   ],
   "source": [
    "%time V5_same_MB.get_equivalent_idx(defects[2], how=\"DG\")"
   ]
  },
  {
   "cell_type": "code",
   "execution_count": 26,
   "id": "19449f27",
   "metadata": {},
   "outputs": [
    {
     "data": {
      "text/plain": [
       "{'n_symmetry_checks': 1553, 'n_find_sym_idx': 5806, 'sum_len_to_search': 6843}"
      ]
     },
     "execution_count": 26,
     "metadata": {},
     "output_type": "execute_result"
    }
   ],
   "source": [
    "V5_same_MB.metrics"
   ]
  },
  {
   "cell_type": "code",
   "execution_count": 28,
   "id": "7fc7f3fc",
   "metadata": {},
   "outputs": [
    {
     "data": {
      "text/plain": [
       "1.178608336203927"
      ]
     },
     "execution_count": 28,
     "metadata": {},
     "output_type": "execute_result"
    }
   ],
   "source": [
    "V5_same_MB.metrics[\"sum_len_to_search\"] / V5_same_MB.metrics[\"n_find_sym_idx\"]"
   ]
  },
  {
   "cell_type": "code",
   "execution_count": 29,
   "id": "deb46ca0",
   "metadata": {},
   "outputs": [
    {
     "data": {
      "text/plain": [
       "0.2674819152600758"
      ]
     },
     "execution_count": 29,
     "metadata": {},
     "output_type": "execute_result"
    }
   ],
   "source": [
    "V5_same_MB.metrics[\"n_symmetry_checks\"] / V5_same_MB.metrics[\"n_find_sym_idx\"]"
   ]
  },
  {
   "cell_type": "code",
   "execution_count": 24,
   "id": "69c7329d",
   "metadata": {
    "scrolled": true
   },
   "outputs": [
    {
     "name": "stdout",
     "output_type": "stream",
     "text": [
      "[Parallel(n_jobs=1)]: Using backend SequentialBackend with 1 concurrent workers.\n",
      "[Parallel(n_jobs=1)]: Done   1 out of   1 | elapsed:    1.3s remaining:    0.0s\n",
      "[Parallel(n_jobs=1)]: Done   2 out of   2 | elapsed:    2.3s remaining:    0.0s\n",
      "[Parallel(n_jobs=1)]: Done   3 out of   3 | elapsed:    3.6s remaining:    0.0s\n",
      "[Parallel(n_jobs=1)]: Done   4 out of   4 | elapsed:    5.0s remaining:    0.0s\n",
      "[Parallel(n_jobs=1)]: Done   5 out of   5 | elapsed:    6.1s remaining:    0.0s\n",
      "[Parallel(n_jobs=1)]: Done   6 out of   6 | elapsed:    7.3s remaining:    0.0s\n",
      "[Parallel(n_jobs=1)]: Done   7 out of   7 | elapsed:    8.3s remaining:    0.0s\n",
      "[Parallel(n_jobs=1)]: Done   8 out of   8 | elapsed:    9.5s remaining:    0.0s\n",
      "[Parallel(n_jobs=1)]: Done   9 out of   9 | elapsed:   10.5s remaining:    0.0s\n",
      "[Parallel(n_jobs=1)]: Done  10 out of  10 | elapsed:   11.5s remaining:    0.0s\n",
      "[Parallel(n_jobs=1)]: Done  11 out of  11 | elapsed:   12.6s remaining:    0.0s\n",
      "[Parallel(n_jobs=1)]: Done  12 out of  12 | elapsed:   13.6s remaining:    0.0s\n",
      "[Parallel(n_jobs=1)]: Done  13 out of  13 | elapsed:   14.8s remaining:    0.0s\n",
      "[Parallel(n_jobs=1)]: Done  14 out of  14 | elapsed:   15.9s remaining:    0.0s\n",
      "[Parallel(n_jobs=1)]: Done  15 out of  15 | elapsed:   17.1s remaining:    0.0s\n",
      "[Parallel(n_jobs=1)]: Done  16 out of  16 | elapsed:   18.3s remaining:    0.0s\n",
      "[Parallel(n_jobs=1)]: Done  17 out of  17 | elapsed:   19.3s remaining:    0.0s\n",
      "[Parallel(n_jobs=1)]: Done  18 out of  18 | elapsed:   20.7s remaining:    0.0s\n",
      "[Parallel(n_jobs=1)]: Done  19 out of  19 | elapsed:   21.6s remaining:    0.0s\n",
      "[Parallel(n_jobs=1)]: Done  20 out of  20 | elapsed:   22.5s remaining:    0.0s\n",
      "[Parallel(n_jobs=1)]: Done  21 out of  21 | elapsed:   23.1s remaining:    0.0s\n",
      "[Parallel(n_jobs=1)]: Done  22 out of  22 | elapsed:   24.4s remaining:    0.0s\n",
      "[Parallel(n_jobs=1)]: Done  23 out of  23 | elapsed:   25.7s remaining:    0.0s\n",
      "[Parallel(n_jobs=1)]: Done  24 out of  24 | elapsed:   27.1s remaining:    0.0s\n",
      "[Parallel(n_jobs=1)]: Done  25 out of  25 | elapsed:   28.5s remaining:    0.0s\n",
      "[Parallel(n_jobs=1)]: Done  26 out of  26 | elapsed:   29.7s remaining:    0.0s\n",
      "[Parallel(n_jobs=1)]: Done  27 out of  27 | elapsed:   30.7s remaining:    0.0s\n",
      "[Parallel(n_jobs=1)]: Done  28 out of  28 | elapsed:   31.8s remaining:    0.0s\n",
      "[Parallel(n_jobs=1)]: Done  29 out of  29 | elapsed:   33.0s remaining:    0.0s\n",
      "[Parallel(n_jobs=1)]: Done  30 out of  30 | elapsed:   34.4s remaining:    0.0s\n",
      "[Parallel(n_jobs=1)]: Done  31 out of  31 | elapsed:   35.9s remaining:    0.0s\n",
      "[Parallel(n_jobs=1)]: Done  32 out of  32 | elapsed:   38.4s remaining:    0.0s\n",
      "[Parallel(n_jobs=1)]: Done  33 out of  33 | elapsed:   39.8s remaining:    0.0s\n",
      "[Parallel(n_jobs=1)]: Done  34 out of  34 | elapsed:   41.1s remaining:    0.0s\n",
      "[Parallel(n_jobs=1)]: Done  35 out of  35 | elapsed:   41.8s remaining:    0.0s\n",
      "[Parallel(n_jobs=1)]: Done  36 out of  36 | elapsed:   43.0s remaining:    0.0s\n",
      "[Parallel(n_jobs=1)]: Done  37 out of  37 | elapsed:   44.2s remaining:    0.0s\n",
      "[Parallel(n_jobs=1)]: Done  38 out of  38 | elapsed:   45.6s remaining:    0.0s\n",
      "[Parallel(n_jobs=1)]: Done  39 out of  39 | elapsed:   47.3s remaining:    0.0s\n",
      "[Parallel(n_jobs=1)]: Done  40 out of  40 | elapsed:   48.8s remaining:    0.0s\n",
      "[Parallel(n_jobs=1)]: Done  41 out of  41 | elapsed:   50.3s remaining:    0.0s\n",
      "[Parallel(n_jobs=1)]: Done  42 out of  42 | elapsed:   51.7s remaining:    0.0s\n",
      "[Parallel(n_jobs=1)]: Done  43 out of  43 | elapsed:   53.2s remaining:    0.0s\n",
      "[Parallel(n_jobs=1)]: Done  44 out of  44 | elapsed:   53.9s remaining:    0.0s\n",
      "[Parallel(n_jobs=1)]: Done  45 out of  45 | elapsed:   55.4s remaining:    0.0s\n",
      "[Parallel(n_jobs=1)]: Done  46 out of  46 | elapsed:   56.8s remaining:    0.0s\n",
      "[Parallel(n_jobs=1)]: Done  47 out of  47 | elapsed:   58.3s remaining:    0.0s\n",
      "[Parallel(n_jobs=1)]: Done  48 out of  48 | elapsed:   59.3s remaining:    0.0s\n",
      "[Parallel(n_jobs=1)]: Done  49 out of  49 | elapsed:  1.0min remaining:    0.0s\n",
      "[Parallel(n_jobs=1)]: Done  50 out of  50 | elapsed:  1.0min remaining:    0.0s\n",
      "[Parallel(n_jobs=1)]: Done  51 out of  51 | elapsed:  1.1min remaining:    0.0s\n",
      "[Parallel(n_jobs=1)]: Done  52 out of  52 | elapsed:  1.1min remaining:    0.0s\n",
      "[Parallel(n_jobs=1)]: Done  53 out of  53 | elapsed:  1.1min remaining:    0.0s\n",
      "[Parallel(n_jobs=1)]: Done  54 out of  54 | elapsed:  1.1min remaining:    0.0s\n",
      "[Parallel(n_jobs=1)]: Done  55 out of  55 | elapsed:  1.1min remaining:    0.0s\n",
      "[Parallel(n_jobs=1)]: Done  56 out of  56 | elapsed:  1.2min remaining:    0.0s\n",
      "[Parallel(n_jobs=1)]: Done  57 out of  57 | elapsed:  1.2min remaining:    0.0s\n",
      "[Parallel(n_jobs=1)]: Done  58 out of  58 | elapsed:  1.2min remaining:    0.0s\n",
      "[Parallel(n_jobs=1)]: Done  59 out of  59 | elapsed:  1.2min remaining:    0.0s\n",
      "[Parallel(n_jobs=1)]: Done  60 out of  60 | elapsed:  1.3min remaining:    0.0s\n",
      "[Parallel(n_jobs=1)]: Done  61 out of  61 | elapsed:  1.3min remaining:    0.0s\n",
      "[Parallel(n_jobs=1)]: Done  62 out of  62 | elapsed:  1.3min remaining:    0.0s\n",
      "[Parallel(n_jobs=1)]: Done  63 out of  63 | elapsed:  1.3min remaining:    0.0s\n",
      "[Parallel(n_jobs=1)]: Done  64 out of  64 | elapsed:  1.3min remaining:    0.0s\n",
      "[Parallel(n_jobs=1)]: Done  65 out of  65 | elapsed:  1.4min remaining:    0.0s\n",
      "[Parallel(n_jobs=1)]: Done  66 out of  66 | elapsed:  1.4min remaining:    0.0s\n",
      "[Parallel(n_jobs=1)]: Done  67 out of  67 | elapsed:  1.4min remaining:    0.0s\n",
      "[Parallel(n_jobs=1)]: Done  68 out of  68 | elapsed:  1.4min remaining:    0.0s\n",
      "[Parallel(n_jobs=1)]: Done  69 out of  69 | elapsed:  1.4min remaining:    0.0s\n",
      "[Parallel(n_jobs=1)]: Done  70 out of  70 | elapsed:  1.5min remaining:    0.0s\n",
      "[Parallel(n_jobs=1)]: Done  71 out of  71 | elapsed:  1.5min remaining:    0.0s\n",
      "[Parallel(n_jobs=1)]: Done  72 out of  72 | elapsed:  1.5min remaining:    0.0s\n",
      "[Parallel(n_jobs=1)]: Done  73 out of  73 | elapsed:  1.5min remaining:    0.0s\n",
      "[Parallel(n_jobs=1)]: Done  74 out of  74 | elapsed:  1.5min remaining:    0.0s\n",
      "[Parallel(n_jobs=1)]: Done  75 out of  75 | elapsed:  1.6min remaining:    0.0s\n",
      "[Parallel(n_jobs=1)]: Done  76 out of  76 | elapsed:  1.6min remaining:    0.0s\n",
      "[Parallel(n_jobs=1)]: Done  77 out of  77 | elapsed:  1.6min remaining:    0.0s\n",
      "[Parallel(n_jobs=1)]: Done  78 out of  78 | elapsed:  1.6min remaining:    0.0s\n",
      "[Parallel(n_jobs=1)]: Done  79 out of  79 | elapsed:  1.6min remaining:    0.0s\n",
      "[Parallel(n_jobs=1)]: Done  80 out of  80 | elapsed:  1.7min remaining:    0.0s\n",
      "[Parallel(n_jobs=1)]: Done  81 out of  81 | elapsed:  1.7min remaining:    0.0s\n",
      "[Parallel(n_jobs=1)]: Done  82 out of  82 | elapsed:  1.7min remaining:    0.0s\n",
      "[Parallel(n_jobs=1)]: Done  83 out of  83 | elapsed:  1.7min remaining:    0.0s\n",
      "[Parallel(n_jobs=1)]: Done  84 out of  84 | elapsed:  1.7min remaining:    0.0s\n",
      "[Parallel(n_jobs=1)]: Done  85 out of  85 | elapsed:  1.8min remaining:    0.0s\n",
      "[Parallel(n_jobs=1)]: Done  86 out of  86 | elapsed:  1.8min remaining:    0.0s\n",
      "[Parallel(n_jobs=1)]: Done  87 out of  87 | elapsed:  1.8min remaining:    0.0s\n",
      "[Parallel(n_jobs=1)]: Done  88 out of  88 | elapsed:  1.8min remaining:    0.0s\n",
      "[Parallel(n_jobs=1)]: Done  89 out of  89 | elapsed:  1.9min remaining:    0.0s\n",
      "[Parallel(n_jobs=1)]: Done  90 out of  90 | elapsed:  1.9min remaining:    0.0s\n",
      "[Parallel(n_jobs=1)]: Done  91 out of  91 | elapsed:  1.9min remaining:    0.0s\n",
      "[Parallel(n_jobs=1)]: Done  92 out of  92 | elapsed:  1.9min remaining:    0.0s\n",
      "[Parallel(n_jobs=1)]: Done  93 out of  93 | elapsed:  2.0min remaining:    0.0s\n",
      "[Parallel(n_jobs=1)]: Done  94 out of  94 | elapsed:  2.0min remaining:    0.0s\n",
      "[Parallel(n_jobs=1)]: Done  95 out of  95 | elapsed:  2.0min remaining:    0.0s\n",
      "[Parallel(n_jobs=1)]: Done  96 out of  96 | elapsed:  2.0min remaining:    0.0s\n",
      "[Parallel(n_jobs=1)]: Done  97 out of  97 | elapsed:  2.1min remaining:    0.0s\n",
      "[Parallel(n_jobs=1)]: Done  98 out of  98 | elapsed:  2.1min remaining:    0.0s\n",
      "[Parallel(n_jobs=1)]: Done  99 out of  99 | elapsed:  2.1min remaining:    0.0s\n",
      "[Parallel(n_jobs=1)]: Done 100 out of 100 | elapsed:  2.1min remaining:    0.0s\n",
      "[Parallel(n_jobs=1)]: Done 101 out of 101 | elapsed:  2.1min remaining:    0.0s\n",
      "[Parallel(n_jobs=1)]: Done 102 out of 102 | elapsed:  2.2min remaining:    0.0s\n"
     ]
    },
    {
     "name": "stdout",
     "output_type": "stream",
     "text": [
      "[Parallel(n_jobs=1)]: Done 103 out of 103 | elapsed:  2.2min remaining:    0.0s\n",
      "[Parallel(n_jobs=1)]: Done 104 out of 104 | elapsed:  2.2min remaining:    0.0s\n",
      "[Parallel(n_jobs=1)]: Done 105 out of 105 | elapsed:  2.2min remaining:    0.0s\n",
      "[Parallel(n_jobs=1)]: Done 106 out of 106 | elapsed:  2.2min remaining:    0.0s\n",
      "[Parallel(n_jobs=1)]: Done 107 out of 107 | elapsed:  2.3min remaining:    0.0s\n",
      "[Parallel(n_jobs=1)]: Done 108 out of 108 | elapsed:  2.3min remaining:    0.0s\n",
      "[Parallel(n_jobs=1)]: Done 109 out of 109 | elapsed:  2.3min remaining:    0.0s\n",
      "[Parallel(n_jobs=1)]: Done 110 out of 110 | elapsed:  2.3min remaining:    0.0s\n",
      "[Parallel(n_jobs=1)]: Done 111 out of 111 | elapsed:  2.3min remaining:    0.0s\n",
      "[Parallel(n_jobs=1)]: Done 112 out of 112 | elapsed:  2.4min remaining:    0.0s\n",
      "[Parallel(n_jobs=1)]: Done 113 out of 113 | elapsed:  2.4min remaining:    0.0s\n",
      "[Parallel(n_jobs=1)]: Done 114 out of 114 | elapsed:  2.4min remaining:    0.0s\n",
      "[Parallel(n_jobs=1)]: Done 115 out of 115 | elapsed:  2.4min remaining:    0.0s\n",
      "[Parallel(n_jobs=1)]: Done 116 out of 116 | elapsed:  2.4min remaining:    0.0s\n",
      "[Parallel(n_jobs=1)]: Done 117 out of 117 | elapsed:  2.5min remaining:    0.0s\n",
      "[Parallel(n_jobs=1)]: Done 118 out of 118 | elapsed:  2.5min remaining:    0.0s\n",
      "[Parallel(n_jobs=1)]: Done 119 out of 119 | elapsed:  2.5min remaining:    0.0s\n",
      "[Parallel(n_jobs=1)]: Done 120 out of 120 | elapsed:  2.5min remaining:    0.0s\n",
      "[Parallel(n_jobs=1)]: Done 121 out of 121 | elapsed:  2.6min remaining:    0.0s\n",
      "[Parallel(n_jobs=1)]: Done 122 out of 122 | elapsed:  2.6min remaining:    0.0s\n",
      "[Parallel(n_jobs=1)]: Done 123 out of 123 | elapsed:  2.6min remaining:    0.0s\n",
      "[Parallel(n_jobs=1)]: Done 124 out of 124 | elapsed:  2.6min remaining:    0.0s\n",
      "[Parallel(n_jobs=1)]: Done 125 out of 125 | elapsed:  2.6min remaining:    0.0s\n",
      "[Parallel(n_jobs=1)]: Done 126 out of 126 | elapsed:  2.7min remaining:    0.0s\n",
      "[Parallel(n_jobs=1)]: Done 127 out of 127 | elapsed:  2.7min remaining:    0.0s\n",
      "[Parallel(n_jobs=1)]: Done 128 out of 128 | elapsed:  2.7min remaining:    0.0s\n",
      "[Parallel(n_jobs=1)]: Done 129 out of 129 | elapsed:  2.7min remaining:    0.0s\n",
      "[Parallel(n_jobs=1)]: Done 130 out of 130 | elapsed:  2.7min remaining:    0.0s\n",
      "[Parallel(n_jobs=1)]: Done 131 out of 131 | elapsed:  2.8min remaining:    0.0s\n",
      "[Parallel(n_jobs=1)]: Done 132 out of 132 | elapsed:  2.8min remaining:    0.0s\n",
      "[Parallel(n_jobs=1)]: Done 133 out of 133 | elapsed:  2.8min remaining:    0.0s\n",
      "[Parallel(n_jobs=1)]: Done 134 out of 134 | elapsed:  2.8min remaining:    0.0s\n",
      "[Parallel(n_jobs=1)]: Done 135 out of 135 | elapsed:  2.8min remaining:    0.0s\n",
      "[Parallel(n_jobs=1)]: Done 136 out of 136 | elapsed:  2.9min remaining:    0.0s\n",
      "[Parallel(n_jobs=1)]: Done 137 out of 137 | elapsed:  2.9min remaining:    0.0s\n",
      "[Parallel(n_jobs=1)]: Done 138 out of 138 | elapsed:  2.9min remaining:    0.0s\n",
      "[Parallel(n_jobs=1)]: Done 139 out of 139 | elapsed:  2.9min remaining:    0.0s\n",
      "[Parallel(n_jobs=1)]: Done 140 out of 140 | elapsed:  2.9min remaining:    0.0s\n",
      "[Parallel(n_jobs=1)]: Done 141 out of 141 | elapsed:  3.0min remaining:    0.0s\n",
      "[Parallel(n_jobs=1)]: Done 142 out of 142 | elapsed:  3.0min remaining:    0.0s\n",
      "[Parallel(n_jobs=1)]: Done 143 out of 143 | elapsed:  3.0min remaining:    0.0s\n",
      "[Parallel(n_jobs=1)]: Done 144 out of 144 | elapsed:  3.0min remaining:    0.0s\n",
      "[Parallel(n_jobs=1)]: Done 145 out of 145 | elapsed:  3.0min remaining:    0.0s\n",
      "[Parallel(n_jobs=1)]: Done 146 out of 146 | elapsed:  3.1min remaining:    0.0s\n",
      "[Parallel(n_jobs=1)]: Done 147 out of 147 | elapsed:  3.1min remaining:    0.0s\n",
      "[Parallel(n_jobs=1)]: Done 148 out of 148 | elapsed:  3.1min remaining:    0.0s\n",
      "[Parallel(n_jobs=1)]: Done 149 out of 149 | elapsed:  3.1min remaining:    0.0s\n",
      "[Parallel(n_jobs=1)]: Done 150 out of 150 | elapsed:  3.1min remaining:    0.0s\n",
      "[Parallel(n_jobs=1)]: Done 151 out of 151 | elapsed:  3.2min remaining:    0.0s\n",
      "[Parallel(n_jobs=1)]: Done 152 out of 152 | elapsed:  3.2min remaining:    0.0s\n",
      "[Parallel(n_jobs=1)]: Done 153 out of 153 | elapsed:  3.2min remaining:    0.0s\n",
      "[Parallel(n_jobs=1)]: Done 154 out of 154 | elapsed:  3.2min remaining:    0.0s\n",
      "[Parallel(n_jobs=1)]: Done 155 out of 155 | elapsed:  3.3min remaining:    0.0s\n",
      "[Parallel(n_jobs=1)]: Done 156 out of 156 | elapsed:  3.3min remaining:    0.0s\n",
      "[Parallel(n_jobs=1)]: Done 157 out of 157 | elapsed:  3.3min remaining:    0.0s\n",
      "[Parallel(n_jobs=1)]: Done 158 out of 158 | elapsed:  3.3min remaining:    0.0s\n",
      "[Parallel(n_jobs=1)]: Done 159 out of 159 | elapsed:  3.3min remaining:    0.0s\n",
      "[Parallel(n_jobs=1)]: Done 160 out of 160 | elapsed:  3.4min remaining:    0.0s\n",
      "[Parallel(n_jobs=1)]: Done 161 out of 161 | elapsed:  3.4min remaining:    0.0s\n",
      "[Parallel(n_jobs=1)]: Done 162 out of 162 | elapsed:  3.4min remaining:    0.0s\n",
      "[Parallel(n_jobs=1)]: Done 163 out of 163 | elapsed:  3.4min remaining:    0.0s\n",
      "[Parallel(n_jobs=1)]: Done 164 out of 164 | elapsed:  3.4min remaining:    0.0s\n",
      "[Parallel(n_jobs=1)]: Done 165 out of 165 | elapsed:  3.5min remaining:    0.0s\n",
      "[Parallel(n_jobs=1)]: Done 166 out of 166 | elapsed:  3.5min remaining:    0.0s\n",
      "[Parallel(n_jobs=1)]: Done 167 out of 167 | elapsed:  3.5min remaining:    0.0s\n",
      "[Parallel(n_jobs=1)]: Done 168 out of 168 | elapsed:  3.5min remaining:    0.0s\n",
      "[Parallel(n_jobs=1)]: Done 169 out of 169 | elapsed:  3.6min remaining:    0.0s\n",
      "[Parallel(n_jobs=1)]: Done 170 out of 170 | elapsed:  3.6min remaining:    0.0s\n",
      "[Parallel(n_jobs=1)]: Done 171 out of 171 | elapsed:  3.6min remaining:    0.0s\n",
      "[Parallel(n_jobs=1)]: Done 172 out of 172 | elapsed:  3.6min remaining:    0.0s\n",
      "[Parallel(n_jobs=1)]: Done 173 out of 173 | elapsed:  3.6min remaining:    0.0s\n",
      "[Parallel(n_jobs=1)]: Done 174 out of 174 | elapsed:  3.7min remaining:    0.0s\n",
      "[Parallel(n_jobs=1)]: Done 175 out of 175 | elapsed:  3.7min remaining:    0.0s\n",
      "[Parallel(n_jobs=1)]: Done 176 out of 176 | elapsed:  3.7min remaining:    0.0s\n",
      "[Parallel(n_jobs=1)]: Done 177 out of 177 | elapsed:  3.7min remaining:    0.0s\n",
      "[Parallel(n_jobs=1)]: Done 178 out of 178 | elapsed:  3.7min remaining:    0.0s\n",
      "[Parallel(n_jobs=1)]: Done 179 out of 179 | elapsed:  3.8min remaining:    0.0s\n",
      "[Parallel(n_jobs=1)]: Done 180 out of 180 | elapsed:  3.8min remaining:    0.0s\n",
      "[Parallel(n_jobs=1)]: Done 181 out of 181 | elapsed:  3.8min remaining:    0.0s\n",
      "[Parallel(n_jobs=1)]: Done 182 out of 182 | elapsed:  3.8min remaining:    0.0s\n",
      "[Parallel(n_jobs=1)]: Done 183 out of 183 | elapsed:  3.9min remaining:    0.0s\n",
      "[Parallel(n_jobs=1)]: Done 184 out of 184 | elapsed:  3.9min remaining:    0.0s\n",
      "[Parallel(n_jobs=1)]: Done 185 out of 185 | elapsed:  3.9min remaining:    0.0s\n",
      "[Parallel(n_jobs=1)]: Done 186 out of 186 | elapsed:  3.9min remaining:    0.0s\n",
      "[Parallel(n_jobs=1)]: Done 187 out of 187 | elapsed:  3.9min remaining:    0.0s\n",
      "[Parallel(n_jobs=1)]: Done 188 out of 188 | elapsed:  4.0min remaining:    0.0s\n",
      "[Parallel(n_jobs=1)]: Done 189 out of 189 | elapsed:  4.0min remaining:    0.0s\n",
      "[Parallel(n_jobs=1)]: Done 190 out of 190 | elapsed:  4.0min remaining:    0.0s\n",
      "[Parallel(n_jobs=1)]: Done 191 out of 191 | elapsed:  4.0min remaining:    0.0s\n",
      "[Parallel(n_jobs=1)]: Done 192 out of 192 | elapsed:  4.0min remaining:    0.0s\n",
      "[Parallel(n_jobs=1)]: Done 193 out of 193 | elapsed:  4.1min remaining:    0.0s\n",
      "[Parallel(n_jobs=1)]: Done 194 out of 194 | elapsed:  4.1min remaining:    0.0s\n",
      "[Parallel(n_jobs=1)]: Done 195 out of 195 | elapsed:  4.1min remaining:    0.0s\n",
      "[Parallel(n_jobs=1)]: Done 196 out of 196 | elapsed:  4.1min remaining:    0.0s\n",
      "[Parallel(n_jobs=1)]: Done 197 out of 197 | elapsed:  4.2min remaining:    0.0s\n",
      "[Parallel(n_jobs=1)]: Done 198 out of 198 | elapsed:  4.2min remaining:    0.0s\n",
      "[Parallel(n_jobs=1)]: Done 199 out of 199 | elapsed:  4.2min remaining:    0.0s\n",
      "[Parallel(n_jobs=1)]: Done 200 out of 200 | elapsed:  4.2min remaining:    0.0s\n",
      "[Parallel(n_jobs=1)]: Done 201 out of 201 | elapsed:  4.2min remaining:    0.0s\n",
      "[Parallel(n_jobs=1)]: Done 202 out of 202 | elapsed:  4.3min remaining:    0.0s\n",
      "[Parallel(n_jobs=1)]: Done 203 out of 203 | elapsed:  4.3min remaining:    0.0s\n",
      "[Parallel(n_jobs=1)]: Done 204 out of 204 | elapsed:  4.3min remaining:    0.0s\n",
      "[Parallel(n_jobs=1)]: Done 205 out of 205 | elapsed:  4.3min remaining:    0.0s\n"
     ]
    },
    {
     "name": "stdout",
     "output_type": "stream",
     "text": [
      "[Parallel(n_jobs=1)]: Done 206 out of 206 | elapsed:  4.3min remaining:    0.0s\n",
      "[Parallel(n_jobs=1)]: Done 207 out of 207 | elapsed:  4.4min remaining:    0.0s\n",
      "[Parallel(n_jobs=1)]: Done 208 out of 208 | elapsed:  4.4min remaining:    0.0s\n",
      "[Parallel(n_jobs=1)]: Done 209 out of 209 | elapsed:  4.4min remaining:    0.0s\n",
      "[Parallel(n_jobs=1)]: Done 210 out of 210 | elapsed:  4.4min remaining:    0.0s\n",
      "[Parallel(n_jobs=1)]: Done 211 out of 211 | elapsed:  4.4min remaining:    0.0s\n",
      "[Parallel(n_jobs=1)]: Done 212 out of 212 | elapsed:  4.4min remaining:    0.0s\n",
      "[Parallel(n_jobs=1)]: Done 213 out of 213 | elapsed:  4.5min remaining:    0.0s\n",
      "[Parallel(n_jobs=1)]: Done 214 out of 214 | elapsed:  4.5min remaining:    0.0s\n",
      "[Parallel(n_jobs=1)]: Done 215 out of 215 | elapsed:  4.5min remaining:    0.0s\n",
      "[Parallel(n_jobs=1)]: Done 216 out of 216 | elapsed:  4.6min remaining:    0.0s\n",
      "[Parallel(n_jobs=1)]: Done 217 out of 217 | elapsed:  4.6min remaining:    0.0s\n",
      "[Parallel(n_jobs=1)]: Done 218 out of 218 | elapsed:  4.6min remaining:    0.0s\n",
      "[Parallel(n_jobs=1)]: Done 219 out of 219 | elapsed:  4.6min remaining:    0.0s\n",
      "[Parallel(n_jobs=1)]: Done 220 out of 220 | elapsed:  4.6min remaining:    0.0s\n",
      "[Parallel(n_jobs=1)]: Done 221 out of 221 | elapsed:  4.7min remaining:    0.0s\n",
      "[Parallel(n_jobs=1)]: Done 222 out of 222 | elapsed:  4.7min remaining:    0.0s\n",
      "[Parallel(n_jobs=1)]: Done 223 out of 223 | elapsed:  4.7min remaining:    0.0s\n",
      "[Parallel(n_jobs=1)]: Done 224 out of 224 | elapsed:  4.7min remaining:    0.0s\n",
      "[Parallel(n_jobs=1)]: Done 225 out of 225 | elapsed:  4.8min remaining:    0.0s\n",
      "[Parallel(n_jobs=1)]: Done 226 out of 226 | elapsed:  4.8min remaining:    0.0s\n",
      "[Parallel(n_jobs=1)]: Done 227 out of 227 | elapsed:  4.8min remaining:    0.0s\n",
      "[Parallel(n_jobs=1)]: Done 228 out of 228 | elapsed:  4.8min remaining:    0.0s\n",
      "[Parallel(n_jobs=1)]: Done 229 out of 229 | elapsed:  4.8min remaining:    0.0s\n",
      "[Parallel(n_jobs=1)]: Done 230 out of 230 | elapsed:  4.9min remaining:    0.0s\n",
      "[Parallel(n_jobs=1)]: Done 231 out of 231 | elapsed:  4.9min remaining:    0.0s\n",
      "[Parallel(n_jobs=1)]: Done 232 out of 232 | elapsed:  4.9min remaining:    0.0s\n",
      "[Parallel(n_jobs=1)]: Done 233 out of 233 | elapsed:  4.9min remaining:    0.0s\n",
      "[Parallel(n_jobs=1)]: Done 234 out of 234 | elapsed:  4.9min remaining:    0.0s\n",
      "[Parallel(n_jobs=1)]: Done 235 out of 235 | elapsed:  5.0min remaining:    0.0s\n",
      "[Parallel(n_jobs=1)]: Done 236 out of 236 | elapsed:  5.0min remaining:    0.0s\n",
      "[Parallel(n_jobs=1)]: Done 237 out of 237 | elapsed:  5.0min remaining:    0.0s\n",
      "[Parallel(n_jobs=1)]: Done 238 out of 238 | elapsed:  5.0min remaining:    0.0s\n",
      "[Parallel(n_jobs=1)]: Done 239 out of 239 | elapsed:  5.0min remaining:    0.0s\n",
      "[Parallel(n_jobs=1)]: Done 240 out of 240 | elapsed:  5.1min remaining:    0.0s\n",
      "[Parallel(n_jobs=1)]: Done 241 out of 241 | elapsed:  5.1min remaining:    0.0s\n",
      "[Parallel(n_jobs=1)]: Done 242 out of 242 | elapsed:  5.1min remaining:    0.0s\n",
      "[Parallel(n_jobs=1)]: Done 243 out of 243 | elapsed:  5.1min remaining:    0.0s\n",
      "[Parallel(n_jobs=1)]: Done 244 out of 244 | elapsed:  5.1min remaining:    0.0s\n",
      "[Parallel(n_jobs=1)]: Done 245 out of 245 | elapsed:  5.2min remaining:    0.0s\n",
      "[Parallel(n_jobs=1)]: Done 246 out of 246 | elapsed:  5.2min remaining:    0.0s\n",
      "[Parallel(n_jobs=1)]: Done 247 out of 247 | elapsed:  5.2min remaining:    0.0s\n",
      "[Parallel(n_jobs=1)]: Done 248 out of 248 | elapsed:  5.2min remaining:    0.0s\n",
      "[Parallel(n_jobs=1)]: Done 249 out of 249 | elapsed:  5.3min remaining:    0.0s\n",
      "[Parallel(n_jobs=1)]: Done 250 out of 250 | elapsed:  5.3min remaining:    0.0s\n",
      "[Parallel(n_jobs=1)]: Done 251 out of 251 | elapsed:  5.3min remaining:    0.0s\n",
      "[Parallel(n_jobs=1)]: Done 252 out of 252 | elapsed:  5.3min remaining:    0.0s\n",
      "[Parallel(n_jobs=1)]: Done 253 out of 253 | elapsed:  5.3min remaining:    0.0s\n",
      "[Parallel(n_jobs=1)]: Done 254 out of 254 | elapsed:  5.4min remaining:    0.0s\n",
      "[Parallel(n_jobs=1)]: Done 255 out of 255 | elapsed:  5.4min remaining:    0.0s\n",
      "[Parallel(n_jobs=1)]: Done 256 out of 256 | elapsed:  5.4min remaining:    0.0s\n",
      "[Parallel(n_jobs=1)]: Done 257 out of 257 | elapsed:  5.4min remaining:    0.0s\n",
      "[Parallel(n_jobs=1)]: Done 258 out of 258 | elapsed:  5.5min remaining:    0.0s\n",
      "[Parallel(n_jobs=1)]: Done 259 out of 259 | elapsed:  5.5min remaining:    0.0s\n",
      "[Parallel(n_jobs=1)]: Done 260 out of 260 | elapsed:  5.5min remaining:    0.0s\n",
      "[Parallel(n_jobs=1)]: Done 261 out of 261 | elapsed:  5.5min remaining:    0.0s\n",
      "[Parallel(n_jobs=1)]: Done 262 out of 262 | elapsed:  5.5min remaining:    0.0s\n",
      "[Parallel(n_jobs=1)]: Done 263 out of 263 | elapsed:  5.6min remaining:    0.0s\n",
      "[Parallel(n_jobs=1)]: Done 264 out of 264 | elapsed:  5.6min remaining:    0.0s\n",
      "[Parallel(n_jobs=1)]: Done 265 out of 265 | elapsed:  5.6min remaining:    0.0s\n",
      "[Parallel(n_jobs=1)]: Done 266 out of 266 | elapsed:  5.6min remaining:    0.0s\n",
      "[Parallel(n_jobs=1)]: Done 267 out of 267 | elapsed:  5.7min remaining:    0.0s\n",
      "[Parallel(n_jobs=1)]: Done 268 out of 268 | elapsed:  5.7min remaining:    0.0s\n",
      "[Parallel(n_jobs=1)]: Done 269 out of 269 | elapsed:  5.7min remaining:    0.0s\n",
      "[Parallel(n_jobs=1)]: Done 270 out of 270 | elapsed:  5.7min remaining:    0.0s\n",
      "[Parallel(n_jobs=1)]: Done 271 out of 271 | elapsed:  5.7min remaining:    0.0s\n",
      "[Parallel(n_jobs=1)]: Done 272 out of 272 | elapsed:  5.8min remaining:    0.0s\n",
      "[Parallel(n_jobs=1)]: Done 273 out of 273 | elapsed:  5.8min remaining:    0.0s\n",
      "[Parallel(n_jobs=1)]: Done 274 out of 274 | elapsed:  5.8min remaining:    0.0s\n",
      "[Parallel(n_jobs=1)]: Done 275 out of 275 | elapsed:  5.8min remaining:    0.0s\n",
      "[Parallel(n_jobs=1)]: Done 276 out of 276 | elapsed:  5.9min remaining:    0.0s\n",
      "[Parallel(n_jobs=1)]: Done 277 out of 277 | elapsed:  5.9min remaining:    0.0s\n",
      "[Parallel(n_jobs=1)]: Done 278 out of 278 | elapsed:  5.9min remaining:    0.0s\n",
      "[Parallel(n_jobs=1)]: Done 279 out of 279 | elapsed:  5.9min remaining:    0.0s\n",
      "[Parallel(n_jobs=1)]: Done 280 out of 280 | elapsed:  6.0min remaining:    0.0s\n",
      "[Parallel(n_jobs=1)]: Done 281 out of 281 | elapsed:  6.0min remaining:    0.0s\n",
      "[Parallel(n_jobs=1)]: Done 282 out of 282 | elapsed:  6.0min remaining:    0.0s\n",
      "[Parallel(n_jobs=1)]: Done 283 out of 283 | elapsed:  6.0min remaining:    0.0s\n",
      "[Parallel(n_jobs=1)]: Done 284 out of 284 | elapsed:  6.1min remaining:    0.0s\n",
      "[Parallel(n_jobs=1)]: Done 285 out of 285 | elapsed:  6.1min remaining:    0.0s\n",
      "[Parallel(n_jobs=1)]: Done 286 out of 286 | elapsed:  6.1min remaining:    0.0s\n",
      "[Parallel(n_jobs=1)]: Done 287 out of 287 | elapsed:  6.1min remaining:    0.0s\n",
      "[Parallel(n_jobs=1)]: Done 288 out of 288 | elapsed:  6.2min remaining:    0.0s\n",
      "[Parallel(n_jobs=1)]: Done 289 out of 289 | elapsed:  6.2min remaining:    0.0s\n",
      "[Parallel(n_jobs=1)]: Done 290 out of 290 | elapsed:  6.2min remaining:    0.0s\n",
      "[Parallel(n_jobs=1)]: Done 291 out of 291 | elapsed:  6.2min remaining:    0.0s\n",
      "[Parallel(n_jobs=1)]: Done 292 out of 292 | elapsed:  6.2min remaining:    0.0s\n",
      "[Parallel(n_jobs=1)]: Done 293 out of 293 | elapsed:  6.3min remaining:    0.0s\n",
      "[Parallel(n_jobs=1)]: Done 294 out of 294 | elapsed:  6.3min remaining:    0.0s\n",
      "[Parallel(n_jobs=1)]: Done 295 out of 295 | elapsed:  6.3min remaining:    0.0s\n",
      "[Parallel(n_jobs=1)]: Done 296 out of 296 | elapsed:  6.3min remaining:    0.0s\n",
      "[Parallel(n_jobs=1)]: Done 297 out of 297 | elapsed:  6.4min remaining:    0.0s\n",
      "[Parallel(n_jobs=1)]: Done 298 out of 298 | elapsed:  6.4min remaining:    0.0s\n",
      "[Parallel(n_jobs=1)]: Done 299 out of 299 | elapsed:  6.4min remaining:    0.0s\n",
      "[Parallel(n_jobs=1)]: Done 300 out of 300 | elapsed:  6.4min remaining:    0.0s\n",
      "[Parallel(n_jobs=1)]: Done 301 out of 301 | elapsed:  6.5min remaining:    0.0s\n",
      "[Parallel(n_jobs=1)]: Done 302 out of 302 | elapsed:  6.5min remaining:    0.0s\n",
      "[Parallel(n_jobs=1)]: Done 303 out of 303 | elapsed:  6.5min remaining:    0.0s\n",
      "[Parallel(n_jobs=1)]: Done 304 out of 304 | elapsed:  6.5min remaining:    0.0s\n",
      "[Parallel(n_jobs=1)]: Done 305 out of 305 | elapsed:  6.5min remaining:    0.0s\n",
      "[Parallel(n_jobs=1)]: Done 306 out of 306 | elapsed:  6.6min remaining:    0.0s\n",
      "[Parallel(n_jobs=1)]: Done 307 out of 307 | elapsed:  6.6min remaining:    0.0s\n",
      "[Parallel(n_jobs=1)]: Done 308 out of 308 | elapsed:  6.6min remaining:    0.0s\n"
     ]
    },
    {
     "name": "stdout",
     "output_type": "stream",
     "text": [
      "[Parallel(n_jobs=1)]: Done 309 out of 309 | elapsed:  6.6min remaining:    0.0s\n",
      "[Parallel(n_jobs=1)]: Done 310 out of 310 | elapsed:  6.6min remaining:    0.0s\n",
      "[Parallel(n_jobs=1)]: Done 311 out of 311 | elapsed:  6.7min remaining:    0.0s\n",
      "[Parallel(n_jobs=1)]: Done 312 out of 312 | elapsed:  6.7min remaining:    0.0s\n",
      "[Parallel(n_jobs=1)]: Done 313 out of 313 | elapsed:  6.7min remaining:    0.0s\n",
      "[Parallel(n_jobs=1)]: Done 314 out of 314 | elapsed:  6.7min remaining:    0.0s\n",
      "[Parallel(n_jobs=1)]: Done 315 out of 315 | elapsed:  6.8min remaining:    0.0s\n",
      "[Parallel(n_jobs=1)]: Done 316 out of 316 | elapsed:  6.8min remaining:    0.0s\n",
      "[Parallel(n_jobs=1)]: Done 317 out of 317 | elapsed:  6.8min remaining:    0.0s\n",
      "[Parallel(n_jobs=1)]: Done 318 out of 318 | elapsed:  6.8min remaining:    0.0s\n",
      "[Parallel(n_jobs=1)]: Done 319 out of 319 | elapsed:  6.8min remaining:    0.0s\n",
      "[Parallel(n_jobs=1)]: Done 320 out of 320 | elapsed:  6.9min remaining:    0.0s\n",
      "[Parallel(n_jobs=1)]: Done 321 out of 321 | elapsed:  6.9min remaining:    0.0s\n",
      "[Parallel(n_jobs=1)]: Done 322 out of 322 | elapsed:  6.9min remaining:    0.0s\n",
      "[Parallel(n_jobs=1)]: Done 323 out of 323 | elapsed:  6.9min remaining:    0.0s\n",
      "[Parallel(n_jobs=1)]: Done 324 out of 324 | elapsed:  6.9min remaining:    0.0s\n",
      "[Parallel(n_jobs=1)]: Done 325 out of 325 | elapsed:  7.0min remaining:    0.0s\n",
      "[Parallel(n_jobs=1)]: Done 326 out of 326 | elapsed:  7.0min remaining:    0.0s\n",
      "[Parallel(n_jobs=1)]: Done 327 out of 327 | elapsed:  7.0min remaining:    0.0s\n",
      "[Parallel(n_jobs=1)]: Done 328 out of 328 | elapsed:  7.0min remaining:    0.0s\n",
      "[Parallel(n_jobs=1)]: Done 329 out of 329 | elapsed:  7.0min remaining:    0.0s\n",
      "[Parallel(n_jobs=1)]: Done 330 out of 330 | elapsed:  7.1min remaining:    0.0s\n",
      "[Parallel(n_jobs=1)]: Done 331 out of 331 | elapsed:  7.1min remaining:    0.0s\n",
      "[Parallel(n_jobs=1)]: Done 332 out of 332 | elapsed:  7.1min remaining:    0.0s\n",
      "[Parallel(n_jobs=1)]: Done 333 out of 333 | elapsed:  7.1min remaining:    0.0s\n",
      "[Parallel(n_jobs=1)]: Done 334 out of 334 | elapsed:  7.2min remaining:    0.0s\n",
      "[Parallel(n_jobs=1)]: Done 335 out of 335 | elapsed:  7.2min remaining:    0.0s\n",
      "[Parallel(n_jobs=1)]: Done 336 out of 336 | elapsed:  7.2min remaining:    0.0s\n",
      "[Parallel(n_jobs=1)]: Done 337 out of 337 | elapsed:  7.2min remaining:    0.0s\n",
      "[Parallel(n_jobs=1)]: Done 338 out of 338 | elapsed:  7.2min remaining:    0.0s\n",
      "[Parallel(n_jobs=1)]: Done 339 out of 339 | elapsed:  7.3min remaining:    0.0s\n",
      "[Parallel(n_jobs=1)]: Done 340 out of 340 | elapsed:  7.3min remaining:    0.0s\n",
      "[Parallel(n_jobs=1)]: Done 341 out of 341 | elapsed:  7.3min remaining:    0.0s\n",
      "[Parallel(n_jobs=1)]: Done 342 out of 342 | elapsed:  7.3min remaining:    0.0s\n",
      "[Parallel(n_jobs=1)]: Done 343 out of 343 | elapsed:  7.3min remaining:    0.0s\n",
      "[Parallel(n_jobs=1)]: Done 344 out of 344 | elapsed:  7.3min remaining:    0.0s\n",
      "[Parallel(n_jobs=1)]: Done 345 out of 345 | elapsed:  7.4min remaining:    0.0s\n",
      "[Parallel(n_jobs=1)]: Done 346 out of 346 | elapsed:  7.4min remaining:    0.0s\n",
      "[Parallel(n_jobs=1)]: Done 347 out of 347 | elapsed:  7.4min remaining:    0.0s\n",
      "[Parallel(n_jobs=1)]: Done 348 out of 348 | elapsed:  7.4min remaining:    0.0s\n",
      "[Parallel(n_jobs=1)]: Done 349 out of 349 | elapsed:  7.4min remaining:    0.0s\n",
      "[Parallel(n_jobs=1)]: Done 350 out of 350 | elapsed:  7.5min remaining:    0.0s\n",
      "[Parallel(n_jobs=1)]: Done 351 out of 351 | elapsed:  7.5min remaining:    0.0s\n",
      "[Parallel(n_jobs=1)]: Done 352 out of 352 | elapsed:  7.5min remaining:    0.0s\n",
      "[Parallel(n_jobs=1)]: Done 353 out of 353 | elapsed:  7.5min remaining:    0.0s\n",
      "[Parallel(n_jobs=1)]: Done 354 out of 354 | elapsed:  7.5min remaining:    0.0s\n",
      "[Parallel(n_jobs=1)]: Done 355 out of 355 | elapsed:  7.6min remaining:    0.0s\n",
      "[Parallel(n_jobs=1)]: Done 356 out of 356 | elapsed:  7.6min remaining:    0.0s\n",
      "[Parallel(n_jobs=1)]: Done 357 out of 357 | elapsed:  7.6min remaining:    0.0s\n",
      "[Parallel(n_jobs=1)]: Done 358 out of 358 | elapsed:  7.6min remaining:    0.0s\n",
      "[Parallel(n_jobs=1)]: Done 359 out of 359 | elapsed:  7.6min remaining:    0.0s\n",
      "[Parallel(n_jobs=1)]: Done 360 out of 360 | elapsed:  7.6min remaining:    0.0s\n",
      "[Parallel(n_jobs=1)]: Done 361 out of 361 | elapsed:  7.6min remaining:    0.0s\n",
      "[Parallel(n_jobs=1)]: Done 362 out of 362 | elapsed:  7.7min remaining:    0.0s\n",
      "[Parallel(n_jobs=1)]: Done 363 out of 363 | elapsed:  7.7min remaining:    0.0s\n",
      "[Parallel(n_jobs=1)]: Done 364 out of 364 | elapsed:  7.7min remaining:    0.0s\n",
      "[Parallel(n_jobs=1)]: Done 364 out of 364 | elapsed:  7.7min finished\n",
      "CPU times: user 11min 17s, sys: 11min 30s, total: 22min 48s\n",
      "Wall time: 7min 41s\n"
     ]
    }
   ],
   "source": [
    "%time ad = V5_same_MB.generate_group_adj_dict(how=\"DG\", n_jobs=1)"
   ]
  },
  {
   "cell_type": "code",
   "execution_count": 72,
   "id": "2a8923d6",
   "metadata": {},
   "outputs": [
    {
     "data": {
      "text/plain": [
       "<networkx.classes.graph.Graph at 0x7feb5afa4370>"
      ]
     },
     "execution_count": 72,
     "metadata": {},
     "output_type": "execute_result"
    }
   ],
   "source": [
    "graphs = dataset.data.defect_representation.apply(\n",
    "    lambda x: nx.from_numpy_matrix(x.distance_matrix)\n",
    ")\n",
    "graphs[24]"
   ]
  },
  {
   "cell_type": "code",
   "execution_count": 12,
   "id": "31a2827c",
   "metadata": {},
   "outputs": [],
   "source": [
    "def create_pbmol(defect_representation, title=\"title\"):\n",
    "    mol = openbabel.OBMol()\n",
    "    n = len(defect_representation)\n",
    "    for defect in defect_representation:\n",
    "        a = mol.NewAtom()\n",
    "        coords = defect.coords\n",
    "        atomic_num = defect.specie.Z\n",
    "        if defect.specie.symbol == 'X':\n",
    "            atomic_num = 79 # Au is not present in dataset\n",
    "        a.SetAtomicNum(atomic_num)\n",
    "        a.SetVector(*coords)\n",
    "    for i in range(n):\n",
    "        for j in range(i+1, n, 1):\n",
    "            mol.AddBond(i+1, j+1, 1)\n",
    "    mol.SetTitle(title)\n",
    "    return pybel.Molecule(mol)\n",
    "        "
   ]
  },
  {
   "cell_type": "code",
   "execution_count": 114,
   "id": "63354a2f",
   "metadata": {},
   "outputs": [],
   "source": [
    "# dataset.data.where(np.vectorize(same_ecfp)(dataset.data.ecfp2, dataset[24].ecfp2)).dropna()"
   ]
  },
  {
   "cell_type": "code",
   "execution_count": 20,
   "id": "6cdb1240",
   "metadata": {},
   "outputs": [],
   "source": [
    "from e3fp.fingerprint.generate import fp, fprints_dict_from_mol, fprints_dict_from_sdf"
   ]
  },
  {
   "cell_type": "code",
   "execution_count": 56,
   "id": "b6f5e900",
   "metadata": {},
   "outputs": [],
   "source": [
    "def generate_e3fps(group_df, group_name):\n",
    "    o_file_sdf = pybel.Outputfile(\"sdf\", f\"{group_name}_small.sdf\", overwrite=True)\n",
    "    for i, row in group_df.iterrows():\n",
    "        pbmol = create_pbmol(row.defect_representation, str(i))\n",
    "        o_file_sdf.write(pbmol)\n",
    "    o_file_sdf.close()\n",
    "    fps = []\n",
    "    for mol in Chem.SDMolSupplier(f\"{group_name}_small.sdf\"):\n",
    "        fps.append(fprints_dict_from_mol(mol)[5][0].bits)\n",
    "    return fps"
   ]
  },
  {
   "cell_type": "code",
   "execution_count": 12,
   "id": "6f7a08db",
   "metadata": {},
   "outputs": [],
   "source": [
    "sample_V5_same_ad = restore_adj_dict('../../Downloads/V5_same')"
   ]
  },
  {
   "cell_type": "code",
   "execution_count": 25,
   "id": "7af018bb",
   "metadata": {},
   "outputs": [
    {
     "data": {
      "text/plain": [
       "{}"
      ]
     },
     "execution_count": 25,
     "metadata": {},
     "output_type": "execute_result"
    }
   ],
   "source": [
    "import deepdiff\n",
    "diff = deepdiff.DeepDiff(ad, sample_V5_same_ad, \n",
    "                         ignore_numeric_type_changes=True, ignore_order=True)\n",
    "diff"
   ]
  },
  {
   "cell_type": "code",
   "execution_count": 18,
   "id": "3b5272de",
   "metadata": {},
   "outputs": [],
   "source": [
    "def check_reachable(adj_dict, min_idx):\n",
    "    is_reachable = True\n",
    "    digraph = nx.from_dict_of_lists(adj_dict, create_using=nx.DiGraph)\n",
    "    for node in digraph:\n",
    "        if not nx.has_path(digraph, node, min_idx):\n",
    "            print(f\"No path from {node} to {min_idx}!\")\n",
    "            is_reachable = False\n",
    "    return is_reachable"
   ]
  },
  {
   "cell_type": "code",
   "execution_count": 283,
   "id": "c72d2647",
   "metadata": {},
   "outputs": [],
   "source": []
  },
  {
   "cell_type": "code",
   "execution_count": 141,
   "id": "70d9bc67",
   "metadata": {
    "scrolled": true
   },
   "outputs": [
    {
     "name": "stdout",
     "output_type": "stream",
     "text": [
      "[53, 61, 6, 71]\n",
      "[53, 61, 6, 135]\n",
      "[71, 6, 135]\n"
     ]
    },
    {
     "name": "stderr",
     "output_type": "stream",
     "text": [
      "/home/user/anaconda3/envs/bacc/lib/python3.9/site-packages/pymatgen/core/structure.py:759: UserWarning: Not all sites have property was. Missing values are set to None.\n",
      "  warnings.warn(f\"Not all sites have property {k}. Missing values are set to None.\")\n"
     ]
    },
    {
     "data": {
      "application/vnd.jupyter.widget-view+json": {
       "model_id": "896282174c7f436da07858aceae1070c",
       "version_major": 2,
       "version_minor": 0
      },
      "text/plain": [
       "NGLWidget()"
      ]
     },
     "metadata": {},
     "output_type": "display_data"
    }
   ],
   "source": [
    "plot3d(Structure.from_sites(get_sites_of_subgraph(graph,full_structure, dataset[2686].defect_representation)))"
   ]
  },
  {
   "cell_type": "code",
   "execution_count": 155,
   "id": "51f1d14f",
   "metadata": {
    "scrolled": true
   },
   "outputs": [
    {
     "name": "stderr",
     "output_type": "stream",
     "text": [
      "/home/user/anaconda3/envs/bacc/lib/python3.9/site-packages/pymatgen/core/structure.py:759: UserWarning: Not all sites have property was. Missing values are set to None.\n",
      "  warnings.warn(f\"Not all sites have property {k}. Missing values are set to None.\")\n"
     ]
    },
    {
     "data": {
      "application/vnd.jupyter.widget-view+json": {
       "model_id": "aeb81e6b05364e56b159294381c88e76",
       "version_major": 2,
       "version_minor": 0
      },
      "text/plain": [
       "NGLWidget()"
      ]
     },
     "metadata": {},
     "output_type": "display_data"
    }
   ],
   "source": [
    "plot3d(Structure.from_sites(full_structure.sites+defects[1].sites))"
   ]
  },
  {
   "cell_type": "code",
   "execution_count": 129,
   "id": "197fe561",
   "metadata": {},
   "outputs": [],
   "source": [
    "edge_match = iso.numerical_edge_match(\"weight\", 0.0, atol=0.7)\n",
    "node_match = lambda n1, n2: n1[\"specie\"] == n2[\"specie\"]"
   ]
  },
  {
   "cell_type": "code",
   "execution_count": 131,
   "id": "2e35b705",
   "metadata": {},
   "outputs": [
    {
     "name": "stderr",
     "output_type": "stream",
     "text": [
      "/home/user/anaconda3/envs/bacc/lib/python3.9/site-packages/pymatgen/core/structure.py:759: UserWarning: Not all sites have property was. Missing values are set to None.\n",
      "  warnings.warn(f\"Not all sites have property {k}. Missing values are set to None.\")\n"
     ]
    },
    {
     "data": {
      "text/plain": [
       "True"
      ]
     },
     "execution_count": 131,
     "metadata": {},
     "output_type": "execute_result"
    }
   ],
   "source": [
    "nx.is_isomorphic(make_subgraph(V5_same_MB.structure_graph, \n",
    "                               V5_same_MB.full_structure, \n",
    "                               dataset[3082].defect_representation), \n",
    "                 make_subgraph(V5_same_MB.structure_graph, \n",
    "                               V5_same_MB.full_structure, \n",
    "                               defects[1]))"
   ]
  },
  {
   "cell_type": "code",
   "execution_count": 153,
   "id": "0f472a7b",
   "metadata": {},
   "outputs": [
    {
     "data": {
      "text/plain": [
       "'b03d2fb11fffb5acdef03c81511cd800'"
      ]
     },
     "execution_count": 153,
     "metadata": {},
     "output_type": "execute_result"
    }
   ],
   "source": [
    "nx.weisfeiler_lehman_graph_hash(g3082)"
   ]
  },
  {
   "cell_type": "code",
   "execution_count": 155,
   "id": "312a82d3",
   "metadata": {},
   "outputs": [
    {
     "name": "stderr",
     "output_type": "stream",
     "text": [
      "/home/user/anaconda3/envs/bacc/lib/python3.9/site-packages/pymatgen/core/structure.py:759: UserWarning: Not all sites have property was. Missing values are set to None.\n",
      "  warnings.warn(f\"Not all sites have property {k}. Missing values are set to None.\")\n"
     ]
    },
    {
     "data": {
      "text/plain": [
       "'b03d2fb11fffb5acdef03c81511cd800'"
      ]
     },
     "execution_count": 155,
     "metadata": {},
     "output_type": "execute_result"
    }
   ],
   "source": [
    "nx.weisfeiler_lehman_graph_hash(make_subgraph(V5_same_MB.structure_graph, \n",
    "                               V5_same_MB.full_structure, \n",
    "                               defects[1]))"
   ]
  },
  {
   "cell_type": "code",
   "execution_count": 124,
   "id": "b73c949a",
   "metadata": {},
   "outputs": [
    {
     "data": {
      "text/plain": [
       "EdgeView([(0, 2), (1, 6), (2, 3), (3, 7), (4, 5), (4, 7), (5, 6)])"
      ]
     },
     "execution_count": 124,
     "metadata": {},
     "output_type": "execute_result"
    }
   ],
   "source": [
    "g3082 = make_subgraph(V5_same_MB.structure_graph, \n",
    "                               V5_same_MB.full_structure, \n",
    "                               dataset[3082].defect_representation)\n",
    "g3082.edges"
   ]
  },
  {
   "cell_type": "code",
   "execution_count": 126,
   "id": "f109cc1c",
   "metadata": {},
   "outputs": [
    {
     "data": {
      "text/plain": [
       "{'to_jimage': (0, 0, 0), 'weight': 3.1903156999999993}"
      ]
     },
     "execution_count": 126,
     "metadata": {},
     "output_type": "execute_result"
    }
   ],
   "source": [
    "g3082[5][6]"
   ]
  },
  {
   "cell_type": "code",
   "execution_count": 99,
   "id": "d67d61a3",
   "metadata": {},
   "outputs": [
    {
     "name": "stderr",
     "output_type": "stream",
     "text": [
      "/home/user/anaconda3/envs/bacc/lib/python3.9/site-packages/pymatgen/core/structure.py:759: UserWarning: Not all sites have property was. Missing values are set to None.\n",
      "  warnings.warn(f\"Not all sites have property {k}. Missing values are set to None.\")\n"
     ]
    },
    {
     "data": {
      "text/plain": [
       "{'specie': 'S',\n",
       " 'coords': array([ 7.97578912, 11.97254266,  5.28463537]),\n",
       " 'properties': {'was': None}}"
      ]
     },
     "execution_count": 99,
     "metadata": {},
     "output_type": "execute_result"
    }
   ],
   "source": [
    "make_subgraph(V5_same_MB.structure_graph, \n",
    "                               V5_same_MB.full_structure, \n",
    "                               defects[1]).nodes[7]"
   ]
  },
  {
   "cell_type": "code",
   "execution_count": 278,
   "id": "c83e44b8",
   "metadata": {},
   "outputs": [
    {
     "data": {
      "text/plain": [
       "Structure Summary\n",
       "Lattice\n",
       "    abc : 25.5225256 25.5225256 14.879004\n",
       " angles : 90.0 90.0 119.99999999999999\n",
       " volume : 8393.668021812642\n",
       "      A : 25.5225256 0.0 1.5628039641098191e-15\n",
       "      B : -12.761262799999994 22.10315553833868 1.5628039641098191e-15\n",
       "      C : 0.0 0.0 14.879004\n",
       "PeriodicSite: X0+ (9.5837, 1.8346, 3.7198) [0.4170, 0.0830, 0.2500]\n",
       "PeriodicSite: Se (-3.1903, 20.2612, 2.1549) [0.3333, 0.9167, 0.1448]\n",
       "PeriodicSite: Se (20.7371, 6.4468, 2.1549) [0.9583, 0.2917, 0.1448]"
      ]
     },
     "execution_count": 278,
     "metadata": {},
     "output_type": "execute_result"
    }
   ],
   "source": [
    "dataset[214].defect_representation"
   ]
  },
  {
   "cell_type": "code",
   "execution_count": 279,
   "id": "80b840c2",
   "metadata": {},
   "outputs": [
    {
     "data": {
      "text/plain": [
       "Structure Summary\n",
       "Lattice\n",
       "    abc : 25.5225256 25.5225256 14.879004\n",
       " angles : 90.0 90.0 119.99999999999999\n",
       " volume : 8393.668021812642\n",
       "      A : 25.5225256 0.0 1.5628039641098191e-15\n",
       "      B : -12.761262799999994 22.10315553833868 1.5628039641098191e-15\n",
       "      C : 0.0 0.0 14.879004\n",
       "PeriodicSite: W (14.3564, 4.6048, 3.7198) [0.6667, 0.2083, 0.2500]\n",
       "PeriodicSite: X0+ (20.7243, 0.9283, 2.1575) [0.8330, 0.0420, 0.1450]\n",
       "PeriodicSite: Se (14.3564, 17.4983, 2.1549) [0.9583, 0.7917, 0.1448]"
      ]
     },
     "execution_count": 279,
     "metadata": {},
     "output_type": "execute_result"
    }
   ],
   "source": [
    "dataset[215].defect_representation"
   ]
  },
  {
   "cell_type": "code",
   "execution_count": 233,
   "id": "9ebea066",
   "metadata": {},
   "outputs": [],
   "source": [
    "def make_steiner_tree(structure_graph, full_structure, defect_representation):\n",
    "    idx = [find_site(full_structure, defect) for defect in defect_representation]\n",
    "    new_graph = nx.Graph(structure_graph.graph)\n",
    "    for i, defect in enumerate(defect_representation):\n",
    "        if defect.specie.symbol == \"X\":\n",
    "            node = idx[i]\n",
    "            for neighbor in new_graph.neighbors(node):\n",
    "                # vacancies should have degree = 1 in resulting tree\n",
    "                new_graph[node][neighbor][\"weight\"] *= 100\n",
    "    return nx.algorithms.approximation.steiner_tree(new_graph, idx)"
   ]
  },
  {
   "cell_type": "code",
   "execution_count": 284,
   "id": "2688717b",
   "metadata": {},
   "outputs": [
    {
     "name": "stdout",
     "output_type": "stream",
     "text": [
      "CPU times: user 11.7 s, sys: 692 ms, total: 12.4 s\n",
      "Wall time: 11.3 s\n"
     ]
    }
   ],
   "source": [
    "full_structure = dataset.get_full_structure()\n",
    "%time graph = make_graph(full_structure)"
   ]
  },
  {
   "cell_type": "code",
   "execution_count": 11,
   "id": "ca2bdcff",
   "metadata": {
    "scrolled": true
   },
   "outputs": [
    {
     "name": "stderr",
     "output_type": "stream",
     "text": [
      "/home/user/anaconda3/envs/bacc/lib/python3.9/site-packages/pymatgen/core/structure.py:759: UserWarning: Not all sites have property was. Missing values are set to None.\n",
      "  warnings.warn(f\"Not all sites have property {k}. Missing values are set to None.\")\n"
     ]
    },
    {
     "name": "stdout",
     "output_type": "stream",
     "text": [
      "CPU times: user 3min 51s, sys: 83.5 ms, total: 3min 51s\n",
      "Wall time: 3min 52s\n"
     ]
    }
   ],
   "source": [
    "%time subgraphs = dataset.data.defect_representation.apply(make_subgraph)"
   ]
  },
  {
   "cell_type": "code",
   "execution_count": 12,
   "id": "07e7bc00",
   "metadata": {},
   "outputs": [],
   "source": [
    "dataset.data[\"subgraph\"] = subgraphs"
   ]
  },
  {
   "cell_type": "code",
   "execution_count": 21,
   "id": "c5aabef2",
   "metadata": {},
   "outputs": [
    {
     "data": {
      "image/png": "[encoded data removed]",
      "text/plain": [
       "<Figure size 432x288 with 1 Axes>"
      ]
     },
     "metadata": {},
     "output_type": "display_data"
    }
   ],
   "source": [
    "nx.draw(dataset[21].subgraph)"
   ]
  },
  {
   "cell_type": "code",
   "execution_count": 15,
   "id": "27f8e0f0",
   "metadata": {},
   "outputs": [],
   "source": [
    "def check_all_groups(groups, data, checker):\n",
    "    all_adjs = {}\n",
    "    all_reachability = {}\n",
    "    for group in tqdm(groups):\n",
    "        group_df = data[data.group == group]\n",
    "        all_adjs[group] = generate_group_adj_dict(group_df, checker)\n",
    "        min_idx = group_df.iloc[group_df.energy_per_atom.argmin()].idx\n",
    "        all_reachability[group] = check_reachable(all_adjs[group], \n",
    "                                                     min_idx)\n",
    "    return all_adjs, all_reachability"
   ]
  },
  {
   "cell_type": "code",
   "execution_count": 16,
   "id": "e3e74a85",
   "metadata": {},
   "outputs": [],
   "source": [
    "from pymatgen.core.structure import Molecule, Element\n",
    "from pymatgen.io.babel import BabelMolAdaptor"
   ]
  },
  {
   "cell_type": "code",
   "execution_count": 50,
   "id": "d3cacf0b",
   "metadata": {},
   "outputs": [
    {
     "name": "stdout",
     "output_type": "stream",
     "text": [
      "[Parallel(n_jobs=-3)]: Using backend LokyBackend with 6 concurrent workers.\n",
      "[Parallel(n_jobs=-3)]: Done   1 tasks      | elapsed:    1.6s\n",
      "[Parallel(n_jobs=-3)]: Done   2 tasks      | elapsed:    3.4s\n",
      "[Parallel(n_jobs=-3)]: Done   3 tasks      | elapsed:    3.5s\n",
      "[Parallel(n_jobs=-3)]: Done   4 tasks      | elapsed:    5.4s\n",
      "[Parallel(n_jobs=-3)]: Done   5 tasks      | elapsed:    6.1s\n",
      "[Parallel(n_jobs=-3)]: Done   6 tasks      | elapsed:    6.2s\n",
      "[Parallel(n_jobs=-3)]: Done   7 tasks      | elapsed:    6.6s\n",
      "[Parallel(n_jobs=-3)]: Done   8 tasks      | elapsed:    7.7s\n",
      "[Parallel(n_jobs=-3)]: Done   9 out of  19 | elapsed:    8.5s remaining:    9.4s\n",
      "[Parallel(n_jobs=-3)]: Done  10 out of  19 | elapsed:    9.2s remaining:    8.3s\n",
      "[Parallel(n_jobs=-3)]: Done  11 out of  19 | elapsed:    9.9s remaining:    7.2s\n",
      "[Parallel(n_jobs=-3)]: Done  12 out of  19 | elapsed:   10.4s remaining:    6.1s\n",
      "[Parallel(n_jobs=-3)]: Done  13 out of  19 | elapsed:   10.6s remaining:    4.9s\n",
      "[Parallel(n_jobs=-3)]: Done  14 out of  19 | elapsed:   11.1s remaining:    4.0s\n",
      "[Parallel(n_jobs=-3)]: Done  15 out of  19 | elapsed:   11.7s remaining:    3.1s\n",
      "[Parallel(n_jobs=-3)]: Done  16 out of  19 | elapsed:   12.0s remaining:    2.3s\n",
      "[Parallel(n_jobs=-3)]: Done  17 out of  19 | elapsed:   13.4s remaining:    1.6s\n",
      "[Parallel(n_jobs=-3)]: Done  19 out of  19 | elapsed:   14.1s remaining:    0.0s\n",
      "[Parallel(n_jobs=-3)]: Done  19 out of  19 | elapsed:   14.1s finished\n",
      "CPU times: user 792 ms, sys: 2.32 ms, total: 794 ms\n",
      "Wall time: 14.1 s\n"
     ]
    }
   ],
   "source": [
    "%time ad = generate_group_adj_dict(dataset['X2'], checker)"
   ]
  },
  {
   "cell_type": "code",
   "execution_count": 51,
   "id": "db94ab20",
   "metadata": {},
   "outputs": [
    {
     "data": {
      "text/plain": [
       "{1: [],\n",
       " 4: [4, 292, 208, 453],\n",
       " 17: [230, 137, 165],\n",
       " 45: [672, 769, 230, 17],\n",
       " 137: [137, 230],\n",
       " 165: [137],\n",
       " 208: [208, 1, 582],\n",
       " 230: [230, 769],\n",
       " 292: [208],\n",
       " 370: [1, 582, 597, 370],\n",
       " 398: [4, 292, 398],\n",
       " 453: [208, 582],\n",
       " 500: [4, 453],\n",
       " 551: [551, 137],\n",
       " 566: [230, 137, 551],\n",
       " 582: [1],\n",
       " 597: [],\n",
       " 672: [672],\n",
       " 769: [672]}"
      ]
     },
     "execution_count": 51,
     "metadata": {},
     "output_type": "execute_result"
    }
   ],
   "source": [
    "ad"
   ]
  },
  {
   "cell_type": "code",
   "execution_count": 46,
   "id": "3b134e94",
   "metadata": {},
   "outputs": [
    {
     "data": {
      "text/plain": [
       "energy_per_atom                                                  -7.287014\n",
       "initial_structure        [[1.27612629e-07 1.84192955e+00 3.71975100e+00...\n",
       "defect_representation    [[ 7.96302799 17.50569919  2.15745558] X0+, [-...\n",
       "subgroup                                                           X2_diff\n",
       "group                                                                   X2\n",
       "Name: 4, dtype: object"
      ]
     },
     "execution_count": 46,
     "metadata": {},
     "output_type": "execute_result"
    }
   ],
   "source": [
    "dataset['X2_diff'].loc[4]"
   ]
  },
  {
   "cell_type": "code",
   "execution_count": 20,
   "id": "61335446",
   "metadata": {},
   "outputs": [],
   "source": [
    "def get_fp(defect_representation, fptype='ecfp8'):\n",
    "    return create_pbmol(defect_representation).calcfp(fptype=fptype)"
   ]
  },
  {
   "cell_type": "code",
   "execution_count": 21,
   "id": "20d6dd3b",
   "metadata": {},
   "outputs": [],
   "source": [
    "dataset.data['ecfp8'] = dataset.data.defect_representation.apply(get_fp)"
   ]
  },
  {
   "cell_type": "code",
   "execution_count": 123,
   "id": "35386fcc",
   "metadata": {},
   "outputs": [],
   "source": [
    "def check_matr_repr(idx):\n",
    "    ns, defect_reprs = generate_neighbouring_structures(\n",
    "        dataset[idx].initial_structure, dataset[idx].defect_representation, checker\n",
    "    )\n",
    "    for defect_repr in defect_reprs:\n",
    "        for i, row in dataset[dataset[idx].subgroup].iterrows():\n",
    "            if checker.are_symmetrically_equivalent(defect_repr,\n",
    "                                                row.defect_representation,\n",
    "                                                symm_prec=0.01):\n",
    "                assert matrices_are_isomofic(row.dist_matr, defect_repr.distance_matrix)\n",
    "    "
   ]
  },
  {
   "cell_type": "code",
   "execution_count": 124,
   "id": "46095bb2",
   "metadata": {},
   "outputs": [],
   "source": [
    "check_matr_repr(24)"
   ]
  },
  {
   "cell_type": "code",
   "execution_count": 88,
   "id": "1f555dd3",
   "metadata": {},
   "outputs": [],
   "source": [
    "def with_isomorfic_matr(defect_repr, m2):\n",
    "    return matrices_are_isomofic(defect_repr.distance_matrix, \n",
    "                                 m2)\n",
    "is24 = dataset.data[np.vectorize(matrices_are_isomofic, excluded=[1])(dataset.data.dist_matr,\n",
    "                                                 dataset[24].defect_representation.distance_matrix)]"
   ]
  },
  {
   "cell_type": "code",
   "execution_count": 89,
   "id": "5611a09c",
   "metadata": {},
   "outputs": [
    {
     "data": {
      "text/html": [
       "<div>\n",
       "<style scoped>\n",
       "    .dataframe tbody tr th:only-of-type {\n",
       "        vertical-align: middle;\n",
       "    }\n",
       "\n",
       "    .dataframe tbody tr th {\n",
       "        vertical-align: top;\n",
       "    }\n",
       "\n",
       "    .dataframe thead th {\n",
       "        text-align: right;\n",
       "    }\n",
       "</style>\n",
       "<table border=\"1\" class=\"dataframe\">\n",
       "  <thead>\n",
       "    <tr style=\"text-align: right;\">\n",
       "      <th></th>\n",
       "      <th>energy_per_atom</th>\n",
       "      <th>initial_structure</th>\n",
       "      <th>defect_representation</th>\n",
       "      <th>subgroup</th>\n",
       "      <th>group</th>\n",
       "      <th>dist_matr</th>\n",
       "    </tr>\n",
       "    <tr>\n",
       "      <th>idx</th>\n",
       "      <th></th>\n",
       "      <th></th>\n",
       "      <th></th>\n",
       "      <th></th>\n",
       "      <th></th>\n",
       "      <th></th>\n",
       "    </tr>\n",
       "  </thead>\n",
       "  <tbody>\n",
       "    <tr>\n",
       "      <th>24</th>\n",
       "      <td>-7.215713</td>\n",
       "      <td>[[1.27612629e-07 1.84192955e+00 3.71975100e+00...</td>\n",
       "      <td>[[3.20307696 7.36035079 3.719751  ] X0+, [23.9...</td>\n",
       "      <td>V5_diff</td>\n",
       "      <td>V5</td>\n",
       "      <td>[[0.0, 8.181540959822657, 6.819087784854247], ...</td>\n",
       "    </tr>\n",
       "    <tr>\n",
       "      <th>239</th>\n",
       "      <td>-7.282005</td>\n",
       "      <td>[[1.27612629e-07 1.84192955e+00 3.71975100e+00...</td>\n",
       "      <td>[[-3.19031557 12.89350732  3.719751  ] W, [14....</td>\n",
       "      <td>S5_diff</td>\n",
       "      <td>S5</td>\n",
       "      <td>[[0.0, 8.179869022801043, 6.823051215152787], ...</td>\n",
       "    </tr>\n",
       "    <tr>\n",
       "      <th>1903</th>\n",
       "      <td>-7.289582</td>\n",
       "      <td>[[1.27612629e-07 1.84192955e+00 3.71975100e+00...</td>\n",
       "      <td>[[8.50750874e-08 7.36771851e+00 3.71975100e+00...</td>\n",
       "      <td>S6_diff</td>\n",
       "      <td>S6</td>\n",
       "      <td>[[0.0, 6.8184941833112696, 8.179868856895947],...</td>\n",
       "    </tr>\n",
       "    <tr>\n",
       "      <th>1938</th>\n",
       "      <td>-7.229946</td>\n",
       "      <td>[[1.27612629e-07 1.84192955e+00 3.71975100e+00...</td>\n",
       "      <td>[[15.96433976 12.88613968  3.719751  ] X0+, [1...</td>\n",
       "      <td>V3_diff</td>\n",
       "      <td>V3</td>\n",
       "      <td>[[0.0, 6.814560204260533, 8.182744596837605], ...</td>\n",
       "    </tr>\n",
       "    <tr>\n",
       "      <th>3574</th>\n",
       "      <td>-7.223203</td>\n",
       "      <td>[[1.27612629e-07 1.84192955e+00 3.71975100e+00...</td>\n",
       "      <td>[[20.74981331  4.59745635  3.719751  ] X0+, [ ...</td>\n",
       "      <td>V6_diff</td>\n",
       "      <td>V6</td>\n",
       "      <td>[[0.0, 8.182744596837606, 6.819087784854248], ...</td>\n",
       "    </tr>\n",
       "    <tr>\n",
       "      <th>4431</th>\n",
       "      <td>-7.222900</td>\n",
       "      <td>[[1.27612629e-07 1.84192955e+00 3.71975100e+00...</td>\n",
       "      <td>[[11.17886621 10.12324524  3.719751  ] X0+, [9...</td>\n",
       "      <td>V6_diff</td>\n",
       "      <td>V6</td>\n",
       "      <td>[[0.0, 6.814560204260535, 8.181540909928607], ...</td>\n",
       "    </tr>\n",
       "    <tr>\n",
       "      <th>4879</th>\n",
       "      <td>-7.296642</td>\n",
       "      <td>[[1.27612629e-07 1.84192955e+00 3.71975100e+00...</td>\n",
       "      <td>[[-7.97578912 21.18219065  3.719751  ] W, [-6....</td>\n",
       "      <td>S3_diff</td>\n",
       "      <td>S3</td>\n",
       "      <td>[[0.0, 6.812520560511897, 8.166103060233555], ...</td>\n",
       "    </tr>\n",
       "    <tr>\n",
       "      <th>5872</th>\n",
       "      <td>-7.289554</td>\n",
       "      <td>[[1.27612629e-07 1.84192955e+00 3.71975100e+00...</td>\n",
       "      <td>[[6.38063149 7.36771851 3.719751  ] W, [1.5823...</td>\n",
       "      <td>S6_diff</td>\n",
       "      <td>S6</td>\n",
       "      <td>[[0.0, 8.181046199364769, 6.823050976476825], ...</td>\n",
       "    </tr>\n",
       "  </tbody>\n",
       "</table>\n",
       "</div>"
      ],
      "text/plain": [
       "      energy_per_atom                                  initial_structure  \\\n",
       "idx                                                                        \n",
       "24          -7.215713  [[1.27612629e-07 1.84192955e+00 3.71975100e+00...   \n",
       "239         -7.282005  [[1.27612629e-07 1.84192955e+00 3.71975100e+00...   \n",
       "1903        -7.289582  [[1.27612629e-07 1.84192955e+00 3.71975100e+00...   \n",
       "1938        -7.229946  [[1.27612629e-07 1.84192955e+00 3.71975100e+00...   \n",
       "3574        -7.223203  [[1.27612629e-07 1.84192955e+00 3.71975100e+00...   \n",
       "4431        -7.222900  [[1.27612629e-07 1.84192955e+00 3.71975100e+00...   \n",
       "4879        -7.296642  [[1.27612629e-07 1.84192955e+00 3.71975100e+00...   \n",
       "5872        -7.289554  [[1.27612629e-07 1.84192955e+00 3.71975100e+00...   \n",
       "\n",
       "                                  defect_representation subgroup group  \\\n",
       "idx                                                                      \n",
       "24    [[3.20307696 7.36035079 3.719751  ] X0+, [23.9...  V5_diff    V5   \n",
       "239   [[-3.19031557 12.89350732  3.719751  ] W, [14....  S5_diff    S5   \n",
       "1903  [[8.50750874e-08 7.36771851e+00 3.71975100e+00...  S6_diff    S6   \n",
       "1938  [[15.96433976 12.88613968  3.719751  ] X0+, [1...  V3_diff    V3   \n",
       "3574  [[20.74981331  4.59745635  3.719751  ] X0+, [ ...  V6_diff    V6   \n",
       "4431  [[11.17886621 10.12324524  3.719751  ] X0+, [9...  V6_diff    V6   \n",
       "4879  [[-7.97578912 21.18219065  3.719751  ] W, [-6....  S3_diff    S3   \n",
       "5872  [[6.38063149 7.36771851 3.719751  ] W, [1.5823...  S6_diff    S6   \n",
       "\n",
       "                                              dist_matr  \n",
       "idx                                                      \n",
       "24    [[0.0, 8.181540959822657, 6.819087784854247], ...  \n",
       "239   [[0.0, 8.179869022801043, 6.823051215152787], ...  \n",
       "1903  [[0.0, 6.8184941833112696, 8.179868856895947],...  \n",
       "1938  [[0.0, 6.814560204260533, 8.182744596837605], ...  \n",
       "3574  [[0.0, 8.182744596837606, 6.819087784854248], ...  \n",
       "4431  [[0.0, 6.814560204260535, 8.181540909928607], ...  \n",
       "4879  [[0.0, 6.812520560511897, 8.166103060233555], ...  \n",
       "5872  [[0.0, 8.181046199364769, 6.823050976476825], ...  "
      ]
     },
     "execution_count": 89,
     "metadata": {},
     "output_type": "execute_result"
    }
   ],
   "source": [
    "is24"
   ]
  },
  {
   "cell_type": "code",
   "execution_count": 99,
   "id": "1b5da2fa",
   "metadata": {},
   "outputs": [
    {
     "data": {
      "text/html": [
       "<div>\n",
       "<style scoped>\n",
       "    .dataframe tbody tr th:only-of-type {\n",
       "        vertical-align: middle;\n",
       "    }\n",
       "\n",
       "    .dataframe tbody tr th {\n",
       "        vertical-align: top;\n",
       "    }\n",
       "\n",
       "    .dataframe thead th {\n",
       "        text-align: right;\n",
       "    }\n",
       "</style>\n",
       "<table border=\"1\" class=\"dataframe\">\n",
       "  <thead>\n",
       "    <tr style=\"text-align: right;\">\n",
       "      <th></th>\n",
       "      <th>energy_per_atom</th>\n",
       "      <th>initial_structure</th>\n",
       "      <th>defect_representation</th>\n",
       "      <th>subgroup</th>\n",
       "      <th>group</th>\n",
       "      <th>ecfp2</th>\n",
       "      <th>ecfp8</th>\n",
       "    </tr>\n",
       "    <tr>\n",
       "      <th>idx</th>\n",
       "      <th></th>\n",
       "      <th></th>\n",
       "      <th></th>\n",
       "      <th></th>\n",
       "      <th></th>\n",
       "      <th></th>\n",
       "      <th></th>\n",
       "    </tr>\n",
       "  </thead>\n",
       "  <tbody>\n",
       "    <tr>\n",
       "      <th>16</th>\n",
       "      <td>-7.230149</td>\n",
       "      <td>[[1.27612629e-07 1.84192955e+00 3.71975100e+00...</td>\n",
       "      <td>[[-1.58239659 21.17482301  3.719751  ] X0+, [ ...</td>\n",
       "      <td>V3_same</td>\n",
       "      <td>V3</td>\n",
       "      <td>0, 0, 0, 0, 0, 0, 0, 0, 0, 0, 0, 0, 0, 0, 0, 0...</td>\n",
       "      <td>0, 0, 0, 0, 0, 0, 0, 0, 0, 0, 0, 0, 0, 0, 0, 0...</td>\n",
       "    </tr>\n",
       "    <tr>\n",
       "      <th>21</th>\n",
       "      <td>-7.230071</td>\n",
       "      <td>[[1.27612629e-07 1.84192955e+00 3.71975100e+00...</td>\n",
       "      <td>[[ 9.58370836 18.41192856  3.719751  ] X0+, [1...</td>\n",
       "      <td>V3_diff</td>\n",
       "      <td>V3</td>\n",
       "      <td>0, 0, 0, 0, 0, 0, 0, 0, 0, 0, 0, 0, 0, 0, 0, 0...</td>\n",
       "      <td>0, 0, 0, 0, 0, 0, 0, 0, 0, 0, 0, 0, 0, 0, 0, 0...</td>\n",
       "    </tr>\n",
       "    <tr>\n",
       "      <th>24</th>\n",
       "      <td>-7.215713</td>\n",
       "      <td>[[1.27612629e-07 1.84192955e+00 3.71975100e+00...</td>\n",
       "      <td>[[3.20307696 7.36035079 3.719751  ] X0+, [23.9...</td>\n",
       "      <td>V5_diff</td>\n",
       "      <td>V5</td>\n",
       "      <td>0, 0, 0, 0, 0, 0, 0, 0, 0, 0, 0, 0, 0, 0, 0, 0...</td>\n",
       "      <td>0, 0, 0, 0, 0, 0, 0, 0, 0, 0, 0, 0, 0, 0, 0, 0...</td>\n",
       "    </tr>\n",
       "    <tr>\n",
       "      <th>27</th>\n",
       "      <td>-7.215708</td>\n",
       "      <td>[[1.27612629e-07 1.84192955e+00 3.71975100e+00...</td>\n",
       "      <td>[[15.96433976  7.36035079  3.719751  ] X0+, [ ...</td>\n",
       "      <td>V5_same</td>\n",
       "      <td>V5</td>\n",
       "      <td>0, 0, 0, 0, 0, 0, 0, 0, 0, 0, 0, 0, 0, 0, 0, 0...</td>\n",
       "      <td>0, 0, 0, 0, 0, 0, 0, 0, 0, 0, 0, 0, 0, 0, 0, 0...</td>\n",
       "    </tr>\n",
       "    <tr>\n",
       "      <th>28</th>\n",
       "      <td>-7.222900</td>\n",
       "      <td>[[1.27612629e-07 1.84192955e+00 3.71975100e+00...</td>\n",
       "      <td>[[-3.17755444 18.41192856  3.719751  ] X0+, [3...</td>\n",
       "      <td>V6_same</td>\n",
       "      <td>V6</td>\n",
       "      <td>0, 0, 0, 0, 0, 0, 0, 0, 0, 0, 0, 0, 0, 0, 0, 0...</td>\n",
       "      <td>0, 0, 0, 0, 0, 0, 2048, 0, 0, 0, 0, 0, 0, 0, 0...</td>\n",
       "    </tr>\n",
       "    <tr>\n",
       "      <th>...</th>\n",
       "      <td>...</td>\n",
       "      <td>...</td>\n",
       "      <td>...</td>\n",
       "      <td>...</td>\n",
       "      <td>...</td>\n",
       "      <td>...</td>\n",
       "      <td>...</td>\n",
       "    </tr>\n",
       "    <tr>\n",
       "      <th>5928</th>\n",
       "      <td>-7.230001</td>\n",
       "      <td>[[1.27612629e-07 1.84192955e+00 3.71975100e+00...</td>\n",
       "      <td>[[12.77402406  7.36035079  3.719751  ] X0+, [-...</td>\n",
       "      <td>V3_same</td>\n",
       "      <td>V3</td>\n",
       "      <td>0, 0, 0, 0, 0, 0, 0, 0, 0, 0, 0, 0, 0, 0, 0, 0...</td>\n",
       "      <td>0, 0, 0, 0, 0, 0, 0, 0, 0, 0, 0, 0, 0, 0, 0, 0...</td>\n",
       "    </tr>\n",
       "    <tr>\n",
       "      <th>5929</th>\n",
       "      <td>-7.224031</td>\n",
       "      <td>[[1.27612629e-07 1.84192955e+00 3.71975100e+00...</td>\n",
       "      <td>[[-3.17755444  7.36035079  3.719751  ] X0+, [3...</td>\n",
       "      <td>V6_diff</td>\n",
       "      <td>V6</td>\n",
       "      <td>0, 0, 0, 0, 0, 0, 0, 0, 0, 0, 0, 0, 0, 0, 0, 0...</td>\n",
       "      <td>0, 0, 0, 0, 0, 0, 2048, 0, 0, 0, 0, 0, 0, 0, 0...</td>\n",
       "    </tr>\n",
       "    <tr>\n",
       "      <th>5930</th>\n",
       "      <td>-7.222300</td>\n",
       "      <td>[[1.27612629e-07 1.84192955e+00 3.71975100e+00...</td>\n",
       "      <td>[[1.27612628e-02 1.28861397e+01 3.71975100e+00...</td>\n",
       "      <td>V6_diff</td>\n",
       "      <td>V6</td>\n",
       "      <td>0, 0, 0, 0, 0, 0, 0, 0, 0, 0, 0, 0, 0, 0, 0, 0...</td>\n",
       "      <td>0, 0, 0, 0, 0, 0, 2048, 0, 0, 0, 0, 0, 0, 0, 0...</td>\n",
       "    </tr>\n",
       "    <tr>\n",
       "      <th>5931</th>\n",
       "      <td>-7.235337</td>\n",
       "      <td>[[1.27612629e-07 1.84192955e+00 3.71975100e+00...</td>\n",
       "      <td>[[-9.55818584 18.41192856  3.719751  ] X0+, [1...</td>\n",
       "      <td>V3_diff</td>\n",
       "      <td>V3</td>\n",
       "      <td>0, 0, 0, 0, 0, 0, 0, 0, 0, 0, 0, 0, 0, 0, 0, 0...</td>\n",
       "      <td>0, 0, 0, 0, 0, 0, 0, 0, 0, 0, 0, 0, 0, 0, 0, 0...</td>\n",
       "    </tr>\n",
       "    <tr>\n",
       "      <th>5932</th>\n",
       "      <td>-7.233703</td>\n",
       "      <td>[[1.27612629e-07 1.84192955e+00 3.71975100e+00...</td>\n",
       "      <td>[[ 1.60791911 21.17482301  3.719751  ] X0+, [ ...</td>\n",
       "      <td>V3_diff</td>\n",
       "      <td>V3</td>\n",
       "      <td>0, 0, 0, 0, 0, 0, 0, 0, 0, 0, 0, 0, 0, 0, 0, 0...</td>\n",
       "      <td>0, 0, 0, 0, 0, 0, 0, 0, 0, 0, 0, 0, 0, 0, 0, 0...</td>\n",
       "    </tr>\n",
       "  </tbody>\n",
       "</table>\n",
       "<p>5802 rows × 7 columns</p>\n",
       "</div>"
      ],
      "text/plain": [
       "      energy_per_atom                                  initial_structure  \\\n",
       "idx                                                                        \n",
       "16          -7.230149  [[1.27612629e-07 1.84192955e+00 3.71975100e+00...   \n",
       "21          -7.230071  [[1.27612629e-07 1.84192955e+00 3.71975100e+00...   \n",
       "24          -7.215713  [[1.27612629e-07 1.84192955e+00 3.71975100e+00...   \n",
       "27          -7.215708  [[1.27612629e-07 1.84192955e+00 3.71975100e+00...   \n",
       "28          -7.222900  [[1.27612629e-07 1.84192955e+00 3.71975100e+00...   \n",
       "...               ...                                                ...   \n",
       "5928        -7.230001  [[1.27612629e-07 1.84192955e+00 3.71975100e+00...   \n",
       "5929        -7.224031  [[1.27612629e-07 1.84192955e+00 3.71975100e+00...   \n",
       "5930        -7.222300  [[1.27612629e-07 1.84192955e+00 3.71975100e+00...   \n",
       "5931        -7.235337  [[1.27612629e-07 1.84192955e+00 3.71975100e+00...   \n",
       "5932        -7.233703  [[1.27612629e-07 1.84192955e+00 3.71975100e+00...   \n",
       "\n",
       "                                  defect_representation subgroup group  \\\n",
       "idx                                                                      \n",
       "16    [[-1.58239659 21.17482301  3.719751  ] X0+, [ ...  V3_same    V3   \n",
       "21    [[ 9.58370836 18.41192856  3.719751  ] X0+, [1...  V3_diff    V3   \n",
       "24    [[3.20307696 7.36035079 3.719751  ] X0+, [23.9...  V5_diff    V5   \n",
       "27    [[15.96433976  7.36035079  3.719751  ] X0+, [ ...  V5_same    V5   \n",
       "28    [[-3.17755444 18.41192856  3.719751  ] X0+, [3...  V6_same    V6   \n",
       "...                                                 ...      ...   ...   \n",
       "5928  [[12.77402406  7.36035079  3.719751  ] X0+, [-...  V3_same    V3   \n",
       "5929  [[-3.17755444  7.36035079  3.719751  ] X0+, [3...  V6_diff    V6   \n",
       "5930  [[1.27612628e-02 1.28861397e+01 3.71975100e+00...  V6_diff    V6   \n",
       "5931  [[-9.55818584 18.41192856  3.719751  ] X0+, [1...  V3_diff    V3   \n",
       "5932  [[ 1.60791911 21.17482301  3.719751  ] X0+, [ ...  V3_diff    V3   \n",
       "\n",
       "                                                  ecfp2  \\\n",
       "idx                                                       \n",
       "16    0, 0, 0, 0, 0, 0, 0, 0, 0, 0, 0, 0, 0, 0, 0, 0...   \n",
       "21    0, 0, 0, 0, 0, 0, 0, 0, 0, 0, 0, 0, 0, 0, 0, 0...   \n",
       "24    0, 0, 0, 0, 0, 0, 0, 0, 0, 0, 0, 0, 0, 0, 0, 0...   \n",
       "27    0, 0, 0, 0, 0, 0, 0, 0, 0, 0, 0, 0, 0, 0, 0, 0...   \n",
       "28    0, 0, 0, 0, 0, 0, 0, 0, 0, 0, 0, 0, 0, 0, 0, 0...   \n",
       "...                                                 ...   \n",
       "5928  0, 0, 0, 0, 0, 0, 0, 0, 0, 0, 0, 0, 0, 0, 0, 0...   \n",
       "5929  0, 0, 0, 0, 0, 0, 0, 0, 0, 0, 0, 0, 0, 0, 0, 0...   \n",
       "5930  0, 0, 0, 0, 0, 0, 0, 0, 0, 0, 0, 0, 0, 0, 0, 0...   \n",
       "5931  0, 0, 0, 0, 0, 0, 0, 0, 0, 0, 0, 0, 0, 0, 0, 0...   \n",
       "5932  0, 0, 0, 0, 0, 0, 0, 0, 0, 0, 0, 0, 0, 0, 0, 0...   \n",
       "\n",
       "                                                  ecfp8  \n",
       "idx                                                      \n",
       "16    0, 0, 0, 0, 0, 0, 0, 0, 0, 0, 0, 0, 0, 0, 0, 0...  \n",
       "21    0, 0, 0, 0, 0, 0, 0, 0, 0, 0, 0, 0, 0, 0, 0, 0...  \n",
       "24    0, 0, 0, 0, 0, 0, 0, 0, 0, 0, 0, 0, 0, 0, 0, 0...  \n",
       "27    0, 0, 0, 0, 0, 0, 0, 0, 0, 0, 0, 0, 0, 0, 0, 0...  \n",
       "28    0, 0, 0, 0, 0, 0, 2048, 0, 0, 0, 0, 0, 0, 0, 0...  \n",
       "...                                                 ...  \n",
       "5928  0, 0, 0, 0, 0, 0, 0, 0, 0, 0, 0, 0, 0, 0, 0, 0...  \n",
       "5929  0, 0, 0, 0, 0, 0, 2048, 0, 0, 0, 0, 0, 0, 0, 0...  \n",
       "5930  0, 0, 0, 0, 0, 0, 2048, 0, 0, 0, 0, 0, 0, 0, 0...  \n",
       "5931  0, 0, 0, 0, 0, 0, 0, 0, 0, 0, 0, 0, 0, 0, 0, 0...  \n",
       "5932  0, 0, 0, 0, 0, 0, 0, 0, 0, 0, 0, 0, 0, 0, 0, 0...  \n",
       "\n",
       "[5802 rows x 7 columns]"
      ]
     },
     "execution_count": 99,
     "metadata": {},
     "output_type": "execute_result"
    }
   ],
   "source": [
    "dataset.data.where(dataset.data.ecfp2 | dataset[2917].ecfp2 > 0).dropna()"
   ]
  },
  {
   "cell_type": "code",
   "execution_count": 122,
   "id": "f0fb865e",
   "metadata": {},
   "outputs": [],
   "source": [
    "def same_ecfp(fp1, fp2):\n",
    "    return fp1.bits == fp2.bits"
   ]
  },
  {
   "cell_type": "code",
   "execution_count": 138,
   "id": "f868aac8",
   "metadata": {},
   "outputs": [
    {
     "data": {
      "text/html": [
       "<div>\n",
       "<style scoped>\n",
       "    .dataframe tbody tr th:only-of-type {\n",
       "        vertical-align: middle;\n",
       "    }\n",
       "\n",
       "    .dataframe tbody tr th {\n",
       "        vertical-align: top;\n",
       "    }\n",
       "\n",
       "    .dataframe thead th {\n",
       "        text-align: right;\n",
       "    }\n",
       "</style>\n",
       "<table border=\"1\" class=\"dataframe\">\n",
       "  <thead>\n",
       "    <tr style=\"text-align: right;\">\n",
       "      <th></th>\n",
       "      <th>energy_per_atom</th>\n",
       "      <th>initial_structure</th>\n",
       "      <th>defect_representation</th>\n",
       "      <th>subgroup</th>\n",
       "      <th>group</th>\n",
       "      <th>ecfp2</th>\n",
       "      <th>ecfp8</th>\n",
       "    </tr>\n",
       "    <tr>\n",
       "      <th>idx</th>\n",
       "      <th></th>\n",
       "      <th></th>\n",
       "      <th></th>\n",
       "      <th></th>\n",
       "      <th></th>\n",
       "      <th></th>\n",
       "      <th></th>\n",
       "    </tr>\n",
       "  </thead>\n",
       "  <tbody>\n",
       "    <tr>\n",
       "      <th>24</th>\n",
       "      <td>-7.215713</td>\n",
       "      <td>[[1.27612629e-07 1.84192955e+00 3.71975100e+00...</td>\n",
       "      <td>[[3.20307696 7.36035079 3.719751  ] X0+, [23.9...</td>\n",
       "      <td>V5_diff</td>\n",
       "      <td>V5</td>\n",
       "      <td>0, 0, 0, 0, 0, 0, 0, 0, 0, 0, 0, 0, 0, 0, 0, 0...</td>\n",
       "      <td>0, 0, 0, 0, 0, 0, 0, 0, 0, 0, 0, 0, 0, 0, 0, 0...</td>\n",
       "    </tr>\n",
       "    <tr>\n",
       "      <th>27</th>\n",
       "      <td>-7.215708</td>\n",
       "      <td>[[1.27612629e-07 1.84192955e+00 3.71975100e+00...</td>\n",
       "      <td>[[15.96433976  7.36035079  3.719751  ] X0+, [ ...</td>\n",
       "      <td>V5_same</td>\n",
       "      <td>V5</td>\n",
       "      <td>0, 0, 0, 0, 0, 0, 0, 0, 0, 0, 0, 0, 0, 0, 0, 0...</td>\n",
       "      <td>0, 0, 0, 0, 0, 0, 0, 0, 0, 0, 0, 0, 0, 0, 0, 0...</td>\n",
       "    </tr>\n",
       "    <tr>\n",
       "      <th>35</th>\n",
       "      <td>-7.215566</td>\n",
       "      <td>[[1.27612629e-07 1.84192955e+00 3.71975100e+00...</td>\n",
       "      <td>[[ 1.60791911 21.17482301  3.719751  ] X0+, [1...</td>\n",
       "      <td>V5_same</td>\n",
       "      <td>V5</td>\n",
       "      <td>0, 0, 0, 0, 0, 0, 0, 0, 0, 0, 0, 0, 0, 0, 0, 0...</td>\n",
       "      <td>0, 0, 0, 0, 0, 0, 0, 0, 0, 0, 0, 0, 0, 0, 0, 0...</td>\n",
       "    </tr>\n",
       "    <tr>\n",
       "      <th>41</th>\n",
       "      <td>-7.215624</td>\n",
       "      <td>[[1.27612629e-07 1.84192955e+00 3.71975100e+00...</td>\n",
       "      <td>[[15.96433976 12.88613968  3.719751  ] X0+, [1...</td>\n",
       "      <td>V5_diff</td>\n",
       "      <td>V5</td>\n",
       "      <td>0, 0, 0, 0, 0, 0, 0, 0, 0, 0, 0, 0, 0, 0, 0, 0...</td>\n",
       "      <td>0, 0, 0, 0, 0, 0, 0, 0, 0, 0, 0, 0, 0, 0, 0, 0...</td>\n",
       "    </tr>\n",
       "    <tr>\n",
       "      <th>49</th>\n",
       "      <td>-7.215592</td>\n",
       "      <td>[[1.27612629e-07 1.84192955e+00 3.71975100e+00...</td>\n",
       "      <td>[[7.98855051 4.59745635 3.719751  ] X0+, [14.3...</td>\n",
       "      <td>V5_same</td>\n",
       "      <td>V5</td>\n",
       "      <td>0, 0, 0, 0, 0, 0, 0, 0, 0, 0, 0, 0, 0, 0, 0, 0...</td>\n",
       "      <td>0, 0, 0, 0, 0, 0, 0, 0, 0, 0, 0, 0, 0, 0, 0, 0...</td>\n",
       "    </tr>\n",
       "    <tr>\n",
       "      <th>...</th>\n",
       "      <td>...</td>\n",
       "      <td>...</td>\n",
       "      <td>...</td>\n",
       "      <td>...</td>\n",
       "      <td>...</td>\n",
       "      <td>...</td>\n",
       "      <td>...</td>\n",
       "    </tr>\n",
       "    <tr>\n",
       "      <th>5583</th>\n",
       "      <td>-7.215606</td>\n",
       "      <td>[[1.27612629e-07 1.84192955e+00 3.71975100e+00...</td>\n",
       "      <td>[[0.01276126 7.36035079 3.719751  ] X0+, [17.5...</td>\n",
       "      <td>V5_diff</td>\n",
       "      <td>V5</td>\n",
       "      <td>0, 0, 0, 0, 0, 0, 0, 0, 0, 0, 0, 0, 0, 0, 0, 0...</td>\n",
       "      <td>0, 0, 0, 0, 0, 0, 0, 0, 0, 0, 0, 0, 0, 0, 0, 0...</td>\n",
       "    </tr>\n",
       "    <tr>\n",
       "      <th>5584</th>\n",
       "      <td>-7.215618</td>\n",
       "      <td>[[1.27612629e-07 1.84192955e+00 3.71975100e+00...</td>\n",
       "      <td>[[ 4.79823481 15.64903412  3.719751  ] X0+, [1...</td>\n",
       "      <td>V5_same</td>\n",
       "      <td>V5</td>\n",
       "      <td>0, 0, 0, 0, 0, 0, 0, 0, 0, 0, 0, 0, 0, 0, 0, 0...</td>\n",
       "      <td>0, 0, 0, 0, 0, 0, 0, 0, 0, 0, 0, 0, 0, 0, 0, 0...</td>\n",
       "    </tr>\n",
       "    <tr>\n",
       "      <th>5611</th>\n",
       "      <td>-7.215591</td>\n",
       "      <td>[[1.27612629e-07 1.84192955e+00 3.71975100e+00...</td>\n",
       "      <td>[[-4.77271229 15.64903412  3.719751  ] X0+, [4...</td>\n",
       "      <td>V5_same</td>\n",
       "      <td>V5</td>\n",
       "      <td>0, 0, 0, 0, 0, 0, 0, 0, 0, 0, 0, 0, 0, 0, 0, 0...</td>\n",
       "      <td>0, 0, 0, 0, 0, 0, 0, 0, 0, 0, 0, 0, 0, 0, 0, 0...</td>\n",
       "    </tr>\n",
       "    <tr>\n",
       "      <th>5746</th>\n",
       "      <td>-7.215560</td>\n",
       "      <td>[[1.27612629e-07 1.84192955e+00 3.71975100e+00...</td>\n",
       "      <td>[[-7.96302799 15.64903412  3.719751  ] X0+, [4...</td>\n",
       "      <td>V5_same</td>\n",
       "      <td>V5</td>\n",
       "      <td>0, 0, 0, 0, 0, 0, 0, 0, 0, 0, 0, 0, 0, 0, 0, 0...</td>\n",
       "      <td>0, 0, 0, 0, 0, 0, 0, 0, 0, 0, 0, 0, 0, 0, 0, 0...</td>\n",
       "    </tr>\n",
       "    <tr>\n",
       "      <th>5839</th>\n",
       "      <td>-7.215547</td>\n",
       "      <td>[[1.27612629e-07 1.84192955e+00 3.71975100e+00...</td>\n",
       "      <td>[[ 4.79823481 21.17482301  3.719751  ] X0+, [-...</td>\n",
       "      <td>V5_same</td>\n",
       "      <td>V5</td>\n",
       "      <td>0, 0, 0, 0, 0, 0, 0, 0, 0, 0, 0, 0, 0, 0, 0, 0...</td>\n",
       "      <td>0, 0, 0, 0, 0, 0, 0, 0, 0, 0, 0, 0, 0, 0, 0, 0...</td>\n",
       "    </tr>\n",
       "  </tbody>\n",
       "</table>\n",
       "<p>743 rows × 7 columns</p>\n",
       "</div>"
      ],
      "text/plain": [
       "      energy_per_atom                                  initial_structure  \\\n",
       "idx                                                                        \n",
       "24          -7.215713  [[1.27612629e-07 1.84192955e+00 3.71975100e+00...   \n",
       "27          -7.215708  [[1.27612629e-07 1.84192955e+00 3.71975100e+00...   \n",
       "35          -7.215566  [[1.27612629e-07 1.84192955e+00 3.71975100e+00...   \n",
       "41          -7.215624  [[1.27612629e-07 1.84192955e+00 3.71975100e+00...   \n",
       "49          -7.215592  [[1.27612629e-07 1.84192955e+00 3.71975100e+00...   \n",
       "...               ...                                                ...   \n",
       "5583        -7.215606  [[1.27612629e-07 1.84192955e+00 3.71975100e+00...   \n",
       "5584        -7.215618  [[1.27612629e-07 1.84192955e+00 3.71975100e+00...   \n",
       "5611        -7.215591  [[1.27612629e-07 1.84192955e+00 3.71975100e+00...   \n",
       "5746        -7.215560  [[1.27612629e-07 1.84192955e+00 3.71975100e+00...   \n",
       "5839        -7.215547  [[1.27612629e-07 1.84192955e+00 3.71975100e+00...   \n",
       "\n",
       "                                  defect_representation subgroup group  \\\n",
       "idx                                                                      \n",
       "24    [[3.20307696 7.36035079 3.719751  ] X0+, [23.9...  V5_diff    V5   \n",
       "27    [[15.96433976  7.36035079  3.719751  ] X0+, [ ...  V5_same    V5   \n",
       "35    [[ 1.60791911 21.17482301  3.719751  ] X0+, [1...  V5_same    V5   \n",
       "41    [[15.96433976 12.88613968  3.719751  ] X0+, [1...  V5_diff    V5   \n",
       "49    [[7.98855051 4.59745635 3.719751  ] X0+, [14.3...  V5_same    V5   \n",
       "...                                                 ...      ...   ...   \n",
       "5583  [[0.01276126 7.36035079 3.719751  ] X0+, [17.5...  V5_diff    V5   \n",
       "5584  [[ 4.79823481 15.64903412  3.719751  ] X0+, [1...  V5_same    V5   \n",
       "5611  [[-4.77271229 15.64903412  3.719751  ] X0+, [4...  V5_same    V5   \n",
       "5746  [[-7.96302799 15.64903412  3.719751  ] X0+, [4...  V5_same    V5   \n",
       "5839  [[ 4.79823481 21.17482301  3.719751  ] X0+, [-...  V5_same    V5   \n",
       "\n",
       "                                                  ecfp2  \\\n",
       "idx                                                       \n",
       "24    0, 0, 0, 0, 0, 0, 0, 0, 0, 0, 0, 0, 0, 0, 0, 0...   \n",
       "27    0, 0, 0, 0, 0, 0, 0, 0, 0, 0, 0, 0, 0, 0, 0, 0...   \n",
       "35    0, 0, 0, 0, 0, 0, 0, 0, 0, 0, 0, 0, 0, 0, 0, 0...   \n",
       "41    0, 0, 0, 0, 0, 0, 0, 0, 0, 0, 0, 0, 0, 0, 0, 0...   \n",
       "49    0, 0, 0, 0, 0, 0, 0, 0, 0, 0, 0, 0, 0, 0, 0, 0...   \n",
       "...                                                 ...   \n",
       "5583  0, 0, 0, 0, 0, 0, 0, 0, 0, 0, 0, 0, 0, 0, 0, 0...   \n",
       "5584  0, 0, 0, 0, 0, 0, 0, 0, 0, 0, 0, 0, 0, 0, 0, 0...   \n",
       "5611  0, 0, 0, 0, 0, 0, 0, 0, 0, 0, 0, 0, 0, 0, 0, 0...   \n",
       "5746  0, 0, 0, 0, 0, 0, 0, 0, 0, 0, 0, 0, 0, 0, 0, 0...   \n",
       "5839  0, 0, 0, 0, 0, 0, 0, 0, 0, 0, 0, 0, 0, 0, 0, 0...   \n",
       "\n",
       "                                                  ecfp8  \n",
       "idx                                                      \n",
       "24    0, 0, 0, 0, 0, 0, 0, 0, 0, 0, 0, 0, 0, 0, 0, 0...  \n",
       "27    0, 0, 0, 0, 0, 0, 0, 0, 0, 0, 0, 0, 0, 0, 0, 0...  \n",
       "35    0, 0, 0, 0, 0, 0, 0, 0, 0, 0, 0, 0, 0, 0, 0, 0...  \n",
       "41    0, 0, 0, 0, 0, 0, 0, 0, 0, 0, 0, 0, 0, 0, 0, 0...  \n",
       "49    0, 0, 0, 0, 0, 0, 0, 0, 0, 0, 0, 0, 0, 0, 0, 0...  \n",
       "...                                                 ...  \n",
       "5583  0, 0, 0, 0, 0, 0, 0, 0, 0, 0, 0, 0, 0, 0, 0, 0...  \n",
       "5584  0, 0, 0, 0, 0, 0, 0, 0, 0, 0, 0, 0, 0, 0, 0, 0...  \n",
       "5611  0, 0, 0, 0, 0, 0, 0, 0, 0, 0, 0, 0, 0, 0, 0, 0...  \n",
       "5746  0, 0, 0, 0, 0, 0, 0, 0, 0, 0, 0, 0, 0, 0, 0, 0...  \n",
       "5839  0, 0, 0, 0, 0, 0, 0, 0, 0, 0, 0, 0, 0, 0, 0, 0...  \n",
       "\n",
       "[743 rows x 7 columns]"
      ]
     },
     "execution_count": 138,
     "metadata": {},
     "output_type": "execute_result"
    }
   ],
   "source": [
    "dataset.data[np.vectorize(same_ecfp)(dataset.data.ecfp8, get_fp(defects[5]))]"
   ]
  },
  {
   "cell_type": "code",
   "execution_count": 113,
   "id": "fa43d131",
   "metadata": {
    "scrolled": false
   },
   "outputs": [],
   "source": [
    "# dataset.data[np.vectorize(same_ecfp)(dataset.data.ecfp8, dataset[9].ecfp8)]"
   ]
  },
  {
   "cell_type": "code",
   "execution_count": 143,
   "id": "dd3ce08c",
   "metadata": {},
   "outputs": [],
   "source": [
    "from openbabel import openbabel, pybel"
   ]
  },
  {
   "cell_type": "code",
   "execution_count": 57,
   "id": "03a7c3d6",
   "metadata": {},
   "outputs": [
    {
     "name": "stderr",
     "output_type": "stream",
     "text": [
      "2022-06-14 20:45:22,291|INFO|Generating fingerprints for 24.\n",
      "2022-06-14 20:45:22,295|INFO|Generated 1 fingerprints for 24.\n",
      "2022-06-14 20:45:22,297|INFO|Generating fingerprints for 41.\n",
      "2022-06-14 20:45:22,301|INFO|Generated 1 fingerprints for 41.\n",
      "2022-06-14 20:45:22,302|INFO|Generating fingerprints for 69.\n",
      "2022-06-14 20:45:22,307|INFO|Generated 1 fingerprints for 69.\n",
      "2022-06-14 20:45:22,308|INFO|Generating fingerprints for 81.\n",
      "2022-06-14 20:45:22,313|INFO|Generated 1 fingerprints for 81.\n",
      "2022-06-14 20:45:22,315|INFO|Generating fingerprints for 91.\n",
      "2022-06-14 20:45:22,320|INFO|Generated 1 fingerprints for 91.\n",
      "2022-06-14 20:45:22,322|INFO|Generating fingerprints for 104.\n",
      "2022-06-14 20:45:22,326|INFO|Generated 1 fingerprints for 104.\n",
      "2022-06-14 20:45:22,327|INFO|Generating fingerprints for 120.\n",
      "2022-06-14 20:45:22,331|INFO|Generated 1 fingerprints for 120.\n",
      "2022-06-14 20:45:22,333|INFO|Generating fingerprints for 132.\n",
      "2022-06-14 20:45:22,337|INFO|Generated 1 fingerprints for 132.\n",
      "2022-06-14 20:45:22,340|INFO|Generating fingerprints for 150.\n",
      "2022-06-14 20:45:22,344|INFO|Generated 1 fingerprints for 150.\n",
      "2022-06-14 20:45:22,345|INFO|Generating fingerprints for 158.\n",
      "2022-06-14 20:45:22,349|INFO|Generated 1 fingerprints for 158.\n",
      "2022-06-14 20:45:22,351|INFO|Generating fingerprints for 167.\n",
      "2022-06-14 20:45:22,356|INFO|Generated 1 fingerprints for 167.\n",
      "2022-06-14 20:45:22,358|INFO|Generating fingerprints for 189.\n",
      "2022-06-14 20:45:22,361|INFO|Generated 1 fingerprints for 189.\n",
      "2022-06-14 20:45:22,364|INFO|Generating fingerprints for 195.\n",
      "2022-06-14 20:45:22,368|INFO|Generated 1 fingerprints for 195.\n",
      "2022-06-14 20:45:22,371|INFO|Generating fingerprints for 199.\n",
      "2022-06-14 20:45:22,376|INFO|Generated 1 fingerprints for 199.\n",
      "2022-06-14 20:45:22,378|INFO|Generating fingerprints for 221.\n",
      "2022-06-14 20:45:22,382|INFO|Generated 1 fingerprints for 221.\n",
      "2022-06-14 20:45:22,384|INFO|Generating fingerprints for 233.\n",
      "2022-06-14 20:45:22,387|INFO|Generated 1 fingerprints for 233.\n",
      "2022-06-14 20:45:22,389|INFO|Generating fingerprints for 241.\n",
      "2022-06-14 20:45:22,393|INFO|Generated 1 fingerprints for 241.\n",
      "2022-06-14 20:45:22,394|INFO|Generating fingerprints for 255.\n",
      "2022-06-14 20:45:22,398|INFO|Generated 1 fingerprints for 255.\n",
      "2022-06-14 20:45:22,399|INFO|Generating fingerprints for 268.\n",
      "2022-06-14 20:45:22,402|INFO|Generated 1 fingerprints for 268.\n",
      "2022-06-14 20:45:22,404|INFO|Generating fingerprints for 281.\n",
      "2022-06-14 20:45:22,407|INFO|Generated 1 fingerprints for 281.\n",
      "2022-06-14 20:45:22,409|INFO|Generating fingerprints for 288.\n",
      "2022-06-14 20:45:22,414|INFO|Generated 1 fingerprints for 288.\n",
      "2022-06-14 20:45:22,415|INFO|Generating fingerprints for 295.\n",
      "2022-06-14 20:45:22,419|INFO|Generated 1 fingerprints for 295.\n",
      "2022-06-14 20:45:22,421|INFO|Generating fingerprints for 314.\n",
      "2022-06-14 20:45:22,425|INFO|Generated 1 fingerprints for 314.\n",
      "2022-06-14 20:45:22,427|INFO|Generating fingerprints for 326.\n",
      "2022-06-14 20:45:22,431|INFO|Generated 1 fingerprints for 326.\n",
      "2022-06-14 20:45:22,433|INFO|Generating fingerprints for 369.\n",
      "2022-06-14 20:45:22,439|INFO|Generated 1 fingerprints for 369.\n",
      "2022-06-14 20:45:22,441|INFO|Generating fingerprints for 401.\n",
      "2022-06-14 20:45:22,445|INFO|Generated 1 fingerprints for 401.\n",
      "2022-06-14 20:45:22,446|INFO|Generating fingerprints for 405.\n",
      "2022-06-14 20:45:22,451|INFO|Generated 1 fingerprints for 405.\n",
      "2022-06-14 20:45:22,453|INFO|Generating fingerprints for 410.\n",
      "2022-06-14 20:45:22,457|INFO|Generated 1 fingerprints for 410.\n",
      "2022-06-14 20:45:22,459|INFO|Generating fingerprints for 427.\n",
      "2022-06-14 20:45:22,464|INFO|Generated 1 fingerprints for 427.\n",
      "2022-06-14 20:45:22,466|INFO|Generating fingerprints for 439.\n",
      "2022-06-14 20:45:22,469|INFO|Generated 1 fingerprints for 439.\n",
      "2022-06-14 20:45:22,471|INFO|Generating fingerprints for 450.\n",
      "2022-06-14 20:45:22,475|INFO|Generated 1 fingerprints for 450.\n",
      "2022-06-14 20:45:22,477|INFO|Generating fingerprints for 456.\n",
      "2022-06-14 20:45:22,480|INFO|Generated 1 fingerprints for 456.\n",
      "2022-06-14 20:45:22,481|INFO|Generating fingerprints for 466.\n",
      "2022-06-14 20:45:22,485|INFO|Generated 1 fingerprints for 466.\n",
      "2022-06-14 20:45:22,486|INFO|Generating fingerprints for 498.\n",
      "2022-06-14 20:45:22,492|INFO|Generated 1 fingerprints for 498.\n",
      "2022-06-14 20:45:22,494|INFO|Generating fingerprints for 515.\n",
      "2022-06-14 20:45:22,498|INFO|Generated 1 fingerprints for 515.\n",
      "2022-06-14 20:45:22,500|INFO|Generating fingerprints for 530.\n",
      "2022-06-14 20:45:22,506|INFO|Generated 1 fingerprints for 530.\n",
      "2022-06-14 20:45:22,508|INFO|Generating fingerprints for 543.\n",
      "2022-06-14 20:45:22,512|INFO|Generated 1 fingerprints for 543.\n",
      "2022-06-14 20:45:22,514|INFO|Generating fingerprints for 554.\n",
      "2022-06-14 20:45:22,518|INFO|Generated 1 fingerprints for 554.\n",
      "2022-06-14 20:45:22,520|INFO|Generating fingerprints for 558.\n",
      "2022-06-14 20:45:22,524|INFO|Generated 1 fingerprints for 558.\n",
      "2022-06-14 20:45:22,525|INFO|Generating fingerprints for 564.\n",
      "2022-06-14 20:45:22,528|INFO|Generated 1 fingerprints for 564.\n",
      "2022-06-14 20:45:22,530|INFO|Generating fingerprints for 575.\n",
      "2022-06-14 20:45:22,534|INFO|Generated 1 fingerprints for 575.\n",
      "2022-06-14 20:45:22,535|INFO|Generating fingerprints for 581.\n",
      "2022-06-14 20:45:22,541|INFO|Generated 1 fingerprints for 581.\n",
      "2022-06-14 20:45:22,542|INFO|Generating fingerprints for 586.\n",
      "2022-06-14 20:45:22,546|INFO|Generated 1 fingerprints for 586.\n",
      "2022-06-14 20:45:22,548|INFO|Generating fingerprints for 592.\n",
      "2022-06-14 20:45:22,552|INFO|Generated 1 fingerprints for 592.\n",
      "2022-06-14 20:45:22,554|INFO|Generating fingerprints for 601.\n",
      "2022-06-14 20:45:22,557|INFO|Generated 1 fingerprints for 601.\n",
      "2022-06-14 20:45:22,558|INFO|Generating fingerprints for 607.\n",
      "2022-06-14 20:45:22,562|INFO|Generated 1 fingerprints for 607.\n",
      "2022-06-14 20:45:22,563|INFO|Generating fingerprints for 617.\n",
      "2022-06-14 20:45:22,566|INFO|Generated 1 fingerprints for 617.\n",
      "2022-06-14 20:45:22,568|INFO|Generating fingerprints for 622.\n",
      "2022-06-14 20:45:22,572|INFO|Generated 1 fingerprints for 622.\n",
      "2022-06-14 20:45:22,573|INFO|Generating fingerprints for 627.\n",
      "2022-06-14 20:45:22,577|INFO|Generated 1 fingerprints for 627.\n",
      "2022-06-14 20:45:22,579|INFO|Generating fingerprints for 637.\n",
      "2022-06-14 20:45:22,583|INFO|Generated 1 fingerprints for 637.\n",
      "2022-06-14 20:45:22,587|INFO|Generating fingerprints for 650.\n",
      "2022-06-14 20:45:22,590|INFO|Generated 1 fingerprints for 650.\n",
      "2022-06-14 20:45:22,592|INFO|Generating fingerprints for 653.\n",
      "2022-06-14 20:45:22,595|INFO|Generated 1 fingerprints for 653.\n",
      "2022-06-14 20:45:22,597|INFO|Generating fingerprints for 676.\n",
      "2022-06-14 20:45:22,601|INFO|Generated 1 fingerprints for 676.\n",
      "2022-06-14 20:45:22,604|INFO|Generating fingerprints for 695.\n",
      "2022-06-14 20:45:22,608|INFO|Generated 1 fingerprints for 695.\n",
      "2022-06-14 20:45:22,610|INFO|Generating fingerprints for 701.\n",
      "2022-06-14 20:45:22,614|INFO|Generated 1 fingerprints for 701.\n",
      "2022-06-14 20:45:22,616|INFO|Generating fingerprints for 716.\n",
      "2022-06-14 20:45:22,620|INFO|Generated 1 fingerprints for 716.\n",
      "2022-06-14 20:45:22,622|INFO|Generating fingerprints for 726.\n",
      "2022-06-14 20:45:22,626|INFO|Generated 1 fingerprints for 726.\n",
      "2022-06-14 20:45:22,628|INFO|Generating fingerprints for 750.\n",
      "2022-06-14 20:45:22,634|INFO|Generated 1 fingerprints for 750.\n",
      "2022-06-14 20:45:22,636|INFO|Generating fingerprints for 762.\n",
      "2022-06-14 20:45:22,641|INFO|Generated 1 fingerprints for 762.\n",
      "2022-06-14 20:45:22,643|INFO|Generating fingerprints for 771.\n",
      "2022-06-14 20:45:22,648|INFO|Generated 1 fingerprints for 771.\n",
      "2022-06-14 20:45:22,651|INFO|Generating fingerprints for 776.\n",
      "2022-06-14 20:45:22,657|INFO|Generated 1 fingerprints for 776.\n",
      "2022-06-14 20:45:22,658|INFO|Generating fingerprints for 794.\n",
      "2022-06-14 20:45:22,663|INFO|Generated 1 fingerprints for 794.\n",
      "2022-06-14 20:45:22,664|INFO|Generating fingerprints for 813.\n",
      "2022-06-14 20:45:22,670|INFO|Generated 1 fingerprints for 813.\n",
      "2022-06-14 20:45:22,673|INFO|Generating fingerprints for 818.\n",
      "2022-06-14 20:45:22,677|INFO|Generated 1 fingerprints for 818.\n",
      "2022-06-14 20:45:22,679|INFO|Generating fingerprints for 829.\n",
      "2022-06-14 20:45:22,684|INFO|Generated 1 fingerprints for 829.\n",
      "2022-06-14 20:45:22,685|INFO|Generating fingerprints for 852.\n",
      "2022-06-14 20:45:22,690|INFO|Generated 1 fingerprints for 852.\n"
     ]
    },
    {
     "name": "stderr",
     "output_type": "stream",
     "text": [
      "2022-06-14 20:45:22,692|INFO|Generating fingerprints for 874.\n",
      "2022-06-14 20:45:22,697|INFO|Generated 1 fingerprints for 874.\n",
      "2022-06-14 20:45:22,698|INFO|Generating fingerprints for 884.\n",
      "2022-06-14 20:45:22,703|INFO|Generated 1 fingerprints for 884.\n",
      "2022-06-14 20:45:22,705|INFO|Generating fingerprints for 888.\n",
      "2022-06-14 20:45:22,710|INFO|Generated 1 fingerprints for 888.\n",
      "2022-06-14 20:45:22,711|INFO|Generating fingerprints for 935.\n",
      "2022-06-14 20:45:22,717|INFO|Generated 1 fingerprints for 935.\n",
      "2022-06-14 20:45:22,720|INFO|Generating fingerprints for 946.\n",
      "2022-06-14 20:45:22,725|INFO|Generated 1 fingerprints for 946.\n",
      "2022-06-14 20:45:22,726|INFO|Generating fingerprints for 961.\n",
      "2022-06-14 20:45:22,731|INFO|Generated 1 fingerprints for 961.\n",
      "2022-06-14 20:45:22,733|INFO|Generating fingerprints for 976.\n",
      "2022-06-14 20:45:22,737|INFO|Generated 1 fingerprints for 976.\n",
      "2022-06-14 20:45:22,739|INFO|Generating fingerprints for 1000.\n",
      "2022-06-14 20:45:22,743|INFO|Generated 1 fingerprints for 1000.\n",
      "2022-06-14 20:45:22,745|INFO|Generating fingerprints for 1006.\n",
      "2022-06-14 20:45:22,749|INFO|Generated 1 fingerprints for 1006.\n",
      "2022-06-14 20:45:22,752|INFO|Generating fingerprints for 1011.\n",
      "2022-06-14 20:45:22,757|INFO|Generated 1 fingerprints for 1011.\n",
      "2022-06-14 20:45:22,759|INFO|Generating fingerprints for 1021.\n",
      "2022-06-14 20:45:22,764|INFO|Generated 1 fingerprints for 1021.\n",
      "2022-06-14 20:45:22,766|INFO|Generating fingerprints for 1027.\n",
      "2022-06-14 20:45:22,773|INFO|Generated 1 fingerprints for 1027.\n",
      "2022-06-14 20:45:22,774|INFO|Generating fingerprints for 1037.\n",
      "2022-06-14 20:45:22,777|INFO|Generated 1 fingerprints for 1037.\n",
      "2022-06-14 20:45:22,779|INFO|Generating fingerprints for 1042.\n",
      "2022-06-14 20:45:22,784|INFO|Generated 1 fingerprints for 1042.\n",
      "2022-06-14 20:45:22,786|INFO|Generating fingerprints for 1054.\n",
      "2022-06-14 20:45:22,791|INFO|Generated 1 fingerprints for 1054.\n",
      "2022-06-14 20:45:22,793|INFO|Generating fingerprints for 1058.\n",
      "2022-06-14 20:45:22,798|INFO|Generated 1 fingerprints for 1058.\n",
      "2022-06-14 20:45:22,800|INFO|Generating fingerprints for 1063.\n",
      "2022-06-14 20:45:22,803|INFO|Generated 1 fingerprints for 1063.\n",
      "2022-06-14 20:45:22,806|INFO|Generating fingerprints for 1070.\n",
      "2022-06-14 20:45:22,809|INFO|Generated 1 fingerprints for 1070.\n",
      "2022-06-14 20:45:22,810|INFO|Generating fingerprints for 1076.\n",
      "2022-06-14 20:45:22,815|INFO|Generated 1 fingerprints for 1076.\n",
      "2022-06-14 20:45:22,817|INFO|Generating fingerprints for 1081.\n",
      "2022-06-14 20:45:22,821|INFO|Generated 1 fingerprints for 1081.\n",
      "2022-06-14 20:45:22,823|INFO|Generating fingerprints for 1094.\n",
      "2022-06-14 20:45:22,827|INFO|Generated 1 fingerprints for 1094.\n",
      "2022-06-14 20:45:22,829|INFO|Generating fingerprints for 1104.\n",
      "2022-06-14 20:45:22,834|INFO|Generated 1 fingerprints for 1104.\n",
      "2022-06-14 20:45:22,835|INFO|Generating fingerprints for 1115.\n",
      "2022-06-14 20:45:22,840|INFO|Generated 1 fingerprints for 1115.\n",
      "2022-06-14 20:45:22,841|INFO|Generating fingerprints for 1119.\n",
      "2022-06-14 20:45:22,845|INFO|Generated 1 fingerprints for 1119.\n",
      "2022-06-14 20:45:22,847|INFO|Generating fingerprints for 1126.\n",
      "2022-06-14 20:45:22,851|INFO|Generated 1 fingerprints for 1126.\n",
      "2022-06-14 20:45:22,855|INFO|Generating fingerprints for 1138.\n",
      "2022-06-14 20:45:22,858|INFO|Generated 1 fingerprints for 1138.\n",
      "2022-06-14 20:45:22,860|INFO|Generating fingerprints for 1147.\n",
      "2022-06-14 20:45:22,864|INFO|Generated 1 fingerprints for 1147.\n",
      "2022-06-14 20:45:22,866|INFO|Generating fingerprints for 1151.\n",
      "2022-06-14 20:45:22,870|INFO|Generated 1 fingerprints for 1151.\n",
      "2022-06-14 20:45:22,873|INFO|Generating fingerprints for 1167.\n",
      "2022-06-14 20:45:22,876|INFO|Generated 1 fingerprints for 1167.\n",
      "2022-06-14 20:45:22,879|INFO|Generating fingerprints for 1182.\n",
      "2022-06-14 20:45:22,883|INFO|Generated 1 fingerprints for 1182.\n",
      "2022-06-14 20:45:22,885|INFO|Generating fingerprints for 1195.\n",
      "2022-06-14 20:45:22,888|INFO|Generated 1 fingerprints for 1195.\n",
      "2022-06-14 20:45:22,890|INFO|Generating fingerprints for 1209.\n",
      "2022-06-14 20:45:22,893|INFO|Generated 1 fingerprints for 1209.\n",
      "2022-06-14 20:45:22,894|INFO|Generating fingerprints for 1223.\n",
      "2022-06-14 20:45:22,898|INFO|Generated 1 fingerprints for 1223.\n",
      "2022-06-14 20:45:22,900|INFO|Generating fingerprints for 1250.\n",
      "2022-06-14 20:45:22,906|INFO|Generated 1 fingerprints for 1250.\n",
      "2022-06-14 20:45:22,907|INFO|Generating fingerprints for 1256.\n",
      "2022-06-14 20:45:22,910|INFO|Generated 1 fingerprints for 1256.\n",
      "2022-06-14 20:45:22,912|INFO|Generating fingerprints for 1265.\n",
      "2022-06-14 20:45:22,916|INFO|Generated 1 fingerprints for 1265.\n",
      "2022-06-14 20:45:22,918|INFO|Generating fingerprints for 1274.\n",
      "2022-06-14 20:45:22,923|INFO|Generated 1 fingerprints for 1274.\n",
      "2022-06-14 20:45:22,924|INFO|Generating fingerprints for 1297.\n",
      "2022-06-14 20:45:22,928|INFO|Generated 1 fingerprints for 1297.\n",
      "2022-06-14 20:45:22,929|INFO|Generating fingerprints for 1313.\n",
      "2022-06-14 20:45:22,933|INFO|Generated 1 fingerprints for 1313.\n",
      "2022-06-14 20:45:22,935|INFO|Generating fingerprints for 1317.\n",
      "2022-06-14 20:45:22,941|INFO|Generated 1 fingerprints for 1317.\n",
      "2022-06-14 20:45:22,942|INFO|Generating fingerprints for 1322.\n",
      "2022-06-14 20:45:22,948|INFO|Generated 1 fingerprints for 1322.\n",
      "2022-06-14 20:45:22,950|INFO|Generating fingerprints for 1325.\n",
      "2022-06-14 20:45:22,953|INFO|Generated 1 fingerprints for 1325.\n",
      "2022-06-14 20:45:22,956|INFO|Generating fingerprints for 1335.\n",
      "2022-06-14 20:45:22,959|INFO|Generated 1 fingerprints for 1335.\n",
      "2022-06-14 20:45:22,961|INFO|Generating fingerprints for 1339.\n",
      "2022-06-14 20:45:22,966|INFO|Generated 1 fingerprints for 1339.\n",
      "2022-06-14 20:45:22,968|INFO|Generating fingerprints for 1345.\n",
      "2022-06-14 20:45:22,973|INFO|Generated 1 fingerprints for 1345.\n",
      "2022-06-14 20:45:22,976|INFO|Generating fingerprints for 1349.\n",
      "2022-06-14 20:45:22,980|INFO|Generated 1 fingerprints for 1349.\n",
      "2022-06-14 20:45:22,982|INFO|Generating fingerprints for 1354.\n",
      "2022-06-14 20:45:22,987|INFO|Generated 1 fingerprints for 1354.\n",
      "2022-06-14 20:45:22,989|INFO|Generating fingerprints for 1381.\n",
      "2022-06-14 20:45:22,994|INFO|Generated 1 fingerprints for 1381.\n",
      "2022-06-14 20:45:22,995|INFO|Generating fingerprints for 1387.\n",
      "2022-06-14 20:45:23,001|INFO|Generated 1 fingerprints for 1387.\n",
      "2022-06-14 20:45:23,003|INFO|Generating fingerprints for 1407.\n",
      "2022-06-14 20:45:23,006|INFO|Generated 1 fingerprints for 1407.\n",
      "2022-06-14 20:45:23,008|INFO|Generating fingerprints for 1414.\n",
      "2022-06-14 20:45:23,012|INFO|Generated 1 fingerprints for 1414.\n",
      "2022-06-14 20:45:23,014|INFO|Generating fingerprints for 1430.\n",
      "2022-06-14 20:45:23,017|INFO|Generated 1 fingerprints for 1430.\n",
      "2022-06-14 20:45:23,019|INFO|Generating fingerprints for 1436.\n",
      "2022-06-14 20:45:23,025|INFO|Generated 1 fingerprints for 1436.\n",
      "2022-06-14 20:45:23,027|INFO|Generating fingerprints for 1441.\n",
      "2022-06-14 20:45:23,033|INFO|Generated 1 fingerprints for 1441.\n",
      "2022-06-14 20:45:23,035|INFO|Generating fingerprints for 1454.\n",
      "2022-06-14 20:45:23,040|INFO|Generated 1 fingerprints for 1454.\n",
      "2022-06-14 20:45:23,041|INFO|Generating fingerprints for 1469.\n",
      "2022-06-14 20:45:23,044|INFO|Generated 1 fingerprints for 1469.\n",
      "2022-06-14 20:45:23,045|INFO|Generating fingerprints for 1473.\n",
      "2022-06-14 20:45:23,050|INFO|Generated 1 fingerprints for 1473.\n",
      "2022-06-14 20:45:23,052|INFO|Generating fingerprints for 1490.\n",
      "2022-06-14 20:45:23,056|INFO|Generated 1 fingerprints for 1490.\n",
      "2022-06-14 20:45:23,058|INFO|Generating fingerprints for 1495.\n",
      "2022-06-14 20:45:23,062|INFO|Generated 1 fingerprints for 1495.\n",
      "2022-06-14 20:45:23,064|INFO|Generating fingerprints for 1509.\n",
      "2022-06-14 20:45:23,068|INFO|Generated 1 fingerprints for 1509.\n",
      "2022-06-14 20:45:23,071|INFO|Generating fingerprints for 1518.\n",
      "2022-06-14 20:45:23,075|INFO|Generated 1 fingerprints for 1518.\n",
      "2022-06-14 20:45:23,077|INFO|Generating fingerprints for 1522.\n",
      "2022-06-14 20:45:23,081|INFO|Generated 1 fingerprints for 1522.\n",
      "2022-06-14 20:45:23,084|INFO|Generating fingerprints for 1534.\n",
      "2022-06-14 20:45:23,087|INFO|Generated 1 fingerprints for 1534.\n",
      "2022-06-14 20:45:23,089|INFO|Generating fingerprints for 1540.\n",
      "2022-06-14 20:45:23,094|INFO|Generated 1 fingerprints for 1540.\n",
      "2022-06-14 20:45:23,096|INFO|Generating fingerprints for 1550.\n",
      "2022-06-14 20:45:23,100|INFO|Generated 1 fingerprints for 1550.\n"
     ]
    },
    {
     "name": "stderr",
     "output_type": "stream",
     "text": [
      "2022-06-14 20:45:23,102|INFO|Generating fingerprints for 1555.\n",
      "2022-06-14 20:45:23,106|INFO|Generated 1 fingerprints for 1555.\n",
      "2022-06-14 20:45:23,107|INFO|Generating fingerprints for 1564.\n",
      "2022-06-14 20:45:23,111|INFO|Generated 1 fingerprints for 1564.\n",
      "2022-06-14 20:45:23,112|INFO|Generating fingerprints for 1574.\n",
      "2022-06-14 20:45:23,116|INFO|Generated 1 fingerprints for 1574.\n",
      "2022-06-14 20:45:23,119|INFO|Generating fingerprints for 1576.\n",
      "2022-06-14 20:45:23,124|INFO|Generated 1 fingerprints for 1576.\n",
      "2022-06-14 20:45:23,126|INFO|Generating fingerprints for 1588.\n",
      "2022-06-14 20:45:23,129|INFO|Generated 1 fingerprints for 1588.\n",
      "2022-06-14 20:45:23,131|INFO|Generating fingerprints for 1602.\n",
      "2022-06-14 20:45:23,136|INFO|Generated 1 fingerprints for 1602.\n",
      "2022-06-14 20:45:23,138|INFO|Generating fingerprints for 1612.\n",
      "2022-06-14 20:45:23,141|INFO|Generated 1 fingerprints for 1612.\n",
      "2022-06-14 20:45:23,142|INFO|Generating fingerprints for 1615.\n",
      "2022-06-14 20:45:23,147|INFO|Generated 1 fingerprints for 1615.\n",
      "2022-06-14 20:45:23,149|INFO|Generating fingerprints for 1641.\n",
      "2022-06-14 20:45:23,158|INFO|Generated 1 fingerprints for 1641.\n",
      "2022-06-14 20:45:23,161|INFO|Generating fingerprints for 1646.\n",
      "2022-06-14 20:45:23,166|INFO|Generated 1 fingerprints for 1646.\n",
      "2022-06-14 20:45:23,169|INFO|Generating fingerprints for 1657.\n",
      "2022-06-14 20:45:23,173|INFO|Generated 1 fingerprints for 1657.\n",
      "2022-06-14 20:45:23,175|INFO|Generating fingerprints for 1660.\n",
      "2022-06-14 20:45:23,180|INFO|Generated 1 fingerprints for 1660.\n",
      "2022-06-14 20:45:23,182|INFO|Generating fingerprints for 1673.\n",
      "2022-06-14 20:45:23,186|INFO|Generated 1 fingerprints for 1673.\n",
      "2022-06-14 20:45:23,187|INFO|Generating fingerprints for 1685.\n",
      "2022-06-14 20:45:23,192|INFO|Generated 1 fingerprints for 1685.\n",
      "2022-06-14 20:45:23,194|INFO|Generating fingerprints for 1735.\n",
      "2022-06-14 20:45:23,199|INFO|Generated 1 fingerprints for 1735.\n",
      "2022-06-14 20:45:23,201|INFO|Generating fingerprints for 1740.\n",
      "2022-06-14 20:45:23,207|INFO|Generated 1 fingerprints for 1740.\n",
      "2022-06-14 20:45:23,209|INFO|Generating fingerprints for 1745.\n",
      "2022-06-14 20:45:23,214|INFO|Generated 1 fingerprints for 1745.\n",
      "2022-06-14 20:45:23,215|INFO|Generating fingerprints for 1754.\n",
      "2022-06-14 20:45:23,220|INFO|Generated 1 fingerprints for 1754.\n",
      "2022-06-14 20:45:23,222|INFO|Generating fingerprints for 1764.\n",
      "2022-06-14 20:45:23,226|INFO|Generated 1 fingerprints for 1764.\n",
      "2022-06-14 20:45:23,228|INFO|Generating fingerprints for 1768.\n",
      "2022-06-14 20:45:23,232|INFO|Generated 1 fingerprints for 1768.\n",
      "2022-06-14 20:45:23,234|INFO|Generating fingerprints for 1786.\n",
      "2022-06-14 20:45:23,238|INFO|Generated 1 fingerprints for 1786.\n",
      "2022-06-14 20:45:23,240|INFO|Generating fingerprints for 1790.\n",
      "2022-06-14 20:45:23,245|INFO|Generated 1 fingerprints for 1790.\n",
      "2022-06-14 20:45:23,246|INFO|Generating fingerprints for 1802.\n",
      "2022-06-14 20:45:23,250|INFO|Generated 1 fingerprints for 1802.\n",
      "2022-06-14 20:45:23,252|INFO|Generating fingerprints for 1808.\n",
      "2022-06-14 20:45:23,257|INFO|Generated 1 fingerprints for 1808.\n",
      "2022-06-14 20:45:23,259|INFO|Generating fingerprints for 1815.\n",
      "2022-06-14 20:45:23,264|INFO|Generated 1 fingerprints for 1815.\n",
      "2022-06-14 20:45:23,266|INFO|Generating fingerprints for 1825.\n",
      "2022-06-14 20:45:23,270|INFO|Generated 1 fingerprints for 1825.\n",
      "2022-06-14 20:45:23,272|INFO|Generating fingerprints for 1836.\n",
      "2022-06-14 20:45:23,276|INFO|Generated 1 fingerprints for 1836.\n",
      "2022-06-14 20:45:23,278|INFO|Generating fingerprints for 1853.\n",
      "2022-06-14 20:45:23,282|INFO|Generated 1 fingerprints for 1853.\n",
      "2022-06-14 20:45:23,284|INFO|Generating fingerprints for 1859.\n",
      "2022-06-14 20:45:23,289|INFO|Generated 1 fingerprints for 1859.\n",
      "2022-06-14 20:45:23,290|INFO|Generating fingerprints for 1864.\n",
      "2022-06-14 20:45:23,294|INFO|Generated 1 fingerprints for 1864.\n",
      "2022-06-14 20:45:23,295|INFO|Generating fingerprints for 1868.\n",
      "2022-06-14 20:45:23,298|INFO|Generated 1 fingerprints for 1868.\n",
      "2022-06-14 20:45:23,300|INFO|Generating fingerprints for 1873.\n",
      "2022-06-14 20:45:23,304|INFO|Generated 1 fingerprints for 1873.\n",
      "2022-06-14 20:45:23,306|INFO|Generating fingerprints for 1878.\n",
      "2022-06-14 20:45:23,309|INFO|Generated 1 fingerprints for 1878.\n",
      "2022-06-14 20:45:23,310|INFO|Generating fingerprints for 1884.\n",
      "2022-06-14 20:45:23,313|INFO|Generated 1 fingerprints for 1884.\n",
      "2022-06-14 20:45:23,316|INFO|Generating fingerprints for 1889.\n",
      "2022-06-14 20:45:23,320|INFO|Generated 1 fingerprints for 1889.\n",
      "2022-06-14 20:45:23,323|INFO|Generating fingerprints for 1898.\n",
      "2022-06-14 20:45:23,329|INFO|Generated 1 fingerprints for 1898.\n",
      "2022-06-14 20:45:23,330|INFO|Generating fingerprints for 1907.\n",
      "2022-06-14 20:45:23,336|INFO|Generated 1 fingerprints for 1907.\n",
      "2022-06-14 20:45:23,338|INFO|Generating fingerprints for 1912.\n",
      "2022-06-14 20:45:23,343|INFO|Generated 1 fingerprints for 1912.\n",
      "2022-06-14 20:45:23,345|INFO|Generating fingerprints for 1916.\n",
      "2022-06-14 20:45:23,350|INFO|Generated 1 fingerprints for 1916.\n",
      "2022-06-14 20:45:23,352|INFO|Generating fingerprints for 1967.\n",
      "2022-06-14 20:45:23,356|INFO|Generated 1 fingerprints for 1967.\n",
      "2022-06-14 20:45:23,358|INFO|Generating fingerprints for 1973.\n",
      "2022-06-14 20:45:23,361|INFO|Generated 1 fingerprints for 1973.\n",
      "2022-06-14 20:45:23,363|INFO|Generating fingerprints for 1983.\n",
      "2022-06-14 20:45:23,368|INFO|Generated 1 fingerprints for 1983.\n",
      "2022-06-14 20:45:23,370|INFO|Generating fingerprints for 2034.\n",
      "2022-06-14 20:45:23,374|INFO|Generated 1 fingerprints for 2034.\n",
      "2022-06-14 20:45:23,376|INFO|Generating fingerprints for 2049.\n",
      "2022-06-14 20:45:23,380|INFO|Generated 1 fingerprints for 2049.\n",
      "2022-06-14 20:45:23,383|INFO|Generating fingerprints for 2066.\n",
      "2022-06-14 20:45:23,388|INFO|Generated 1 fingerprints for 2066.\n",
      "2022-06-14 20:45:23,390|INFO|Generating fingerprints for 2070.\n",
      "2022-06-14 20:45:23,393|INFO|Generated 1 fingerprints for 2070.\n",
      "2022-06-14 20:45:23,395|INFO|Generating fingerprints for 2074.\n",
      "2022-06-14 20:45:23,398|INFO|Generated 1 fingerprints for 2074.\n",
      "2022-06-14 20:45:23,400|INFO|Generating fingerprints for 2081.\n",
      "2022-06-14 20:45:23,405|INFO|Generated 1 fingerprints for 2081.\n",
      "2022-06-14 20:45:23,406|INFO|Generating fingerprints for 2091.\n",
      "2022-06-14 20:45:23,410|INFO|Generated 1 fingerprints for 2091.\n",
      "2022-06-14 20:45:23,412|INFO|Generating fingerprints for 2099.\n",
      "2022-06-14 20:45:23,417|INFO|Generated 1 fingerprints for 2099.\n",
      "2022-06-14 20:45:23,419|INFO|Generating fingerprints for 2103.\n",
      "2022-06-14 20:45:23,423|INFO|Generated 1 fingerprints for 2103.\n",
      "2022-06-14 20:45:23,425|INFO|Generating fingerprints for 2106.\n",
      "2022-06-14 20:45:23,428|INFO|Generated 1 fingerprints for 2106.\n",
      "2022-06-14 20:45:23,430|INFO|Generating fingerprints for 2114.\n",
      "2022-06-14 20:45:23,434|INFO|Generated 1 fingerprints for 2114.\n",
      "2022-06-14 20:45:23,437|INFO|Generating fingerprints for 2128.\n",
      "2022-06-14 20:45:23,441|INFO|Generated 1 fingerprints for 2128.\n",
      "2022-06-14 20:45:23,442|INFO|Generating fingerprints for 2138.\n",
      "2022-06-14 20:45:23,446|INFO|Generated 1 fingerprints for 2138.\n",
      "2022-06-14 20:45:23,448|INFO|Generating fingerprints for 2142.\n",
      "2022-06-14 20:45:23,453|INFO|Generated 1 fingerprints for 2142.\n",
      "2022-06-14 20:45:23,455|INFO|Generating fingerprints for 2148.\n",
      "2022-06-14 20:45:23,459|INFO|Generated 1 fingerprints for 2148.\n",
      "2022-06-14 20:45:23,461|INFO|Generating fingerprints for 2154.\n",
      "2022-06-14 20:45:23,466|INFO|Generated 1 fingerprints for 2154.\n",
      "2022-06-14 20:45:23,469|INFO|Generating fingerprints for 2161.\n",
      "2022-06-14 20:45:23,473|INFO|Generated 1 fingerprints for 2161.\n",
      "2022-06-14 20:45:23,474|INFO|Generating fingerprints for 2184.\n",
      "2022-06-14 20:45:23,478|INFO|Generated 1 fingerprints for 2184.\n",
      "2022-06-14 20:45:23,480|INFO|Generating fingerprints for 2202.\n",
      "2022-06-14 20:45:23,487|INFO|Generated 1 fingerprints for 2202.\n",
      "2022-06-14 20:45:23,488|INFO|Generating fingerprints for 2208.\n",
      "2022-06-14 20:45:23,492|INFO|Generated 1 fingerprints for 2208.\n",
      "2022-06-14 20:45:23,494|INFO|Generating fingerprints for 2222.\n",
      "2022-06-14 20:45:23,498|INFO|Generated 1 fingerprints for 2222.\n",
      "2022-06-14 20:45:23,500|INFO|Generating fingerprints for 2243.\n",
      "2022-06-14 20:45:23,505|INFO|Generated 1 fingerprints for 2243.\n",
      "2022-06-14 20:45:23,507|INFO|Generating fingerprints for 2249.\n",
      "2022-06-14 20:45:23,510|INFO|Generated 1 fingerprints for 2249.\n"
     ]
    },
    {
     "name": "stderr",
     "output_type": "stream",
     "text": [
      "2022-06-14 20:45:23,513|INFO|Generating fingerprints for 2254.\n",
      "2022-06-14 20:45:23,518|INFO|Generated 1 fingerprints for 2254.\n",
      "2022-06-14 20:45:23,520|INFO|Generating fingerprints for 2264.\n",
      "2022-06-14 20:45:23,525|INFO|Generated 1 fingerprints for 2264.\n",
      "2022-06-14 20:45:23,526|INFO|Generating fingerprints for 2287.\n",
      "2022-06-14 20:45:23,529|INFO|Generated 1 fingerprints for 2287.\n",
      "2022-06-14 20:45:23,531|INFO|Generating fingerprints for 2290.\n",
      "2022-06-14 20:45:23,535|INFO|Generated 1 fingerprints for 2290.\n",
      "2022-06-14 20:45:23,536|INFO|Generating fingerprints for 2303.\n",
      "2022-06-14 20:45:23,540|INFO|Generated 1 fingerprints for 2303.\n",
      "2022-06-14 20:45:23,541|INFO|Generating fingerprints for 2311.\n",
      "2022-06-14 20:45:23,544|INFO|Generated 1 fingerprints for 2311.\n",
      "2022-06-14 20:45:23,546|INFO|Generating fingerprints for 2341.\n",
      "2022-06-14 20:45:23,549|INFO|Generated 1 fingerprints for 2341.\n",
      "2022-06-14 20:45:23,551|INFO|Generating fingerprints for 2362.\n",
      "2022-06-14 20:45:23,556|INFO|Generated 1 fingerprints for 2362.\n",
      "2022-06-14 20:45:23,558|INFO|Generating fingerprints for 2378.\n",
      "2022-06-14 20:45:23,563|INFO|Generated 1 fingerprints for 2378.\n",
      "2022-06-14 20:45:23,564|INFO|Generating fingerprints for 2383.\n",
      "2022-06-14 20:45:23,568|INFO|Generated 1 fingerprints for 2383.\n",
      "2022-06-14 20:45:23,570|INFO|Generating fingerprints for 2411.\n",
      "2022-06-14 20:45:23,574|INFO|Generated 1 fingerprints for 2411.\n",
      "2022-06-14 20:45:23,576|INFO|Generating fingerprints for 2419.\n",
      "2022-06-14 20:45:23,579|INFO|Generated 1 fingerprints for 2419.\n",
      "2022-06-14 20:45:23,580|INFO|Generating fingerprints for 2423.\n",
      "2022-06-14 20:45:23,584|INFO|Generated 1 fingerprints for 2423.\n",
      "2022-06-14 20:45:23,586|INFO|Generating fingerprints for 2427.\n",
      "2022-06-14 20:45:23,590|INFO|Generated 1 fingerprints for 2427.\n",
      "2022-06-14 20:45:23,592|INFO|Generating fingerprints for 2441.\n",
      "2022-06-14 20:45:23,595|INFO|Generated 1 fingerprints for 2441.\n",
      "2022-06-14 20:45:23,597|INFO|Generating fingerprints for 2445.\n",
      "2022-06-14 20:45:23,601|INFO|Generated 1 fingerprints for 2445.\n",
      "2022-06-14 20:45:23,604|INFO|Generating fingerprints for 2454.\n",
      "2022-06-14 20:45:23,608|INFO|Generated 1 fingerprints for 2454.\n",
      "2022-06-14 20:45:23,609|INFO|Generating fingerprints for 2457.\n",
      "2022-06-14 20:45:23,614|INFO|Generated 1 fingerprints for 2457.\n",
      "2022-06-14 20:45:23,615|INFO|Generating fingerprints for 2464.\n",
      "2022-06-14 20:45:23,620|INFO|Generated 1 fingerprints for 2464.\n",
      "2022-06-14 20:45:23,621|INFO|Generating fingerprints for 2474.\n",
      "2022-06-14 20:45:23,624|INFO|Generated 1 fingerprints for 2474.\n",
      "2022-06-14 20:45:23,626|INFO|Generating fingerprints for 2477.\n",
      "2022-06-14 20:45:23,629|INFO|Generated 1 fingerprints for 2477.\n",
      "2022-06-14 20:45:23,631|INFO|Generating fingerprints for 2485.\n",
      "2022-06-14 20:45:23,635|INFO|Generated 1 fingerprints for 2485.\n",
      "2022-06-14 20:45:23,637|INFO|Generating fingerprints for 2490.\n",
      "2022-06-14 20:45:23,641|INFO|Generated 1 fingerprints for 2490.\n",
      "2022-06-14 20:45:23,643|INFO|Generating fingerprints for 2505.\n",
      "2022-06-14 20:45:23,648|INFO|Generated 1 fingerprints for 2505.\n",
      "2022-06-14 20:45:23,649|INFO|Generating fingerprints for 2528.\n",
      "2022-06-14 20:45:23,654|INFO|Generated 1 fingerprints for 2528.\n",
      "2022-06-14 20:45:23,656|INFO|Generating fingerprints for 2532.\n",
      "2022-06-14 20:45:23,659|INFO|Generated 1 fingerprints for 2532.\n",
      "2022-06-14 20:45:23,661|INFO|Generating fingerprints for 2542.\n",
      "2022-06-14 20:45:23,665|INFO|Generated 1 fingerprints for 2542.\n",
      "2022-06-14 20:45:23,668|INFO|Generating fingerprints for 2547.\n",
      "2022-06-14 20:45:23,672|INFO|Generated 1 fingerprints for 2547.\n",
      "2022-06-14 20:45:23,674|INFO|Generating fingerprints for 2561.\n",
      "2022-06-14 20:45:23,677|INFO|Generated 1 fingerprints for 2561.\n",
      "2022-06-14 20:45:23,679|INFO|Generating fingerprints for 2572.\n",
      "2022-06-14 20:45:23,684|INFO|Generated 1 fingerprints for 2572.\n",
      "2022-06-14 20:45:23,687|INFO|Generating fingerprints for 2580.\n",
      "2022-06-14 20:45:23,692|INFO|Generated 1 fingerprints for 2580.\n",
      "2022-06-14 20:45:23,693|INFO|Generating fingerprints for 2597.\n",
      "2022-06-14 20:45:23,698|INFO|Generated 1 fingerprints for 2597.\n",
      "2022-06-14 20:45:23,699|INFO|Generating fingerprints for 2602.\n",
      "2022-06-14 20:45:23,704|INFO|Generated 1 fingerprints for 2602.\n",
      "2022-06-14 20:45:23,706|INFO|Generating fingerprints for 2609.\n",
      "2022-06-14 20:45:23,710|INFO|Generated 1 fingerprints for 2609.\n",
      "2022-06-14 20:45:23,712|INFO|Generating fingerprints for 2621.\n",
      "2022-06-14 20:45:23,718|INFO|Generated 1 fingerprints for 2621.\n",
      "2022-06-14 20:45:23,722|INFO|Generating fingerprints for 2634.\n",
      "2022-06-14 20:45:23,727|INFO|Generated 1 fingerprints for 2634.\n",
      "2022-06-14 20:45:23,728|INFO|Generating fingerprints for 2652.\n",
      "2022-06-14 20:45:23,734|INFO|Generated 1 fingerprints for 2652.\n",
      "2022-06-14 20:45:23,736|INFO|Generating fingerprints for 2670.\n",
      "2022-06-14 20:45:23,741|INFO|Generated 1 fingerprints for 2670.\n",
      "2022-06-14 20:45:23,743|INFO|Generating fingerprints for 2682.\n",
      "2022-06-14 20:45:23,748|INFO|Generated 1 fingerprints for 2682.\n",
      "2022-06-14 20:45:23,749|INFO|Generating fingerprints for 2686.\n",
      "2022-06-14 20:45:23,755|INFO|Generated 1 fingerprints for 2686.\n",
      "2022-06-14 20:45:23,757|INFO|Generating fingerprints for 2701.\n",
      "2022-06-14 20:45:23,761|INFO|Generated 1 fingerprints for 2701.\n",
      "2022-06-14 20:45:23,763|INFO|Generating fingerprints for 2710.\n",
      "2022-06-14 20:45:23,768|INFO|Generated 1 fingerprints for 2710.\n",
      "2022-06-14 20:45:23,770|INFO|Generating fingerprints for 2714.\n",
      "2022-06-14 20:45:23,774|INFO|Generated 1 fingerprints for 2714.\n",
      "2022-06-14 20:45:23,776|INFO|Generating fingerprints for 2725.\n",
      "2022-06-14 20:45:23,780|INFO|Generated 1 fingerprints for 2725.\n",
      "2022-06-14 20:45:23,782|INFO|Generating fingerprints for 2736.\n",
      "2022-06-14 20:45:23,786|INFO|Generated 1 fingerprints for 2736.\n",
      "2022-06-14 20:45:23,788|INFO|Generating fingerprints for 2749.\n",
      "2022-06-14 20:45:23,792|INFO|Generated 1 fingerprints for 2749.\n",
      "2022-06-14 20:45:23,794|INFO|Generating fingerprints for 2763.\n",
      "2022-06-14 20:45:23,797|INFO|Generated 1 fingerprints for 2763.\n",
      "2022-06-14 20:45:23,799|INFO|Generating fingerprints for 2779.\n",
      "2022-06-14 20:45:23,804|INFO|Generated 1 fingerprints for 2779.\n",
      "2022-06-14 20:45:23,806|INFO|Generating fingerprints for 2784.\n",
      "2022-06-14 20:45:23,811|INFO|Generated 1 fingerprints for 2784.\n",
      "2022-06-14 20:45:23,812|INFO|Generating fingerprints for 2794.\n",
      "2022-06-14 20:45:23,819|INFO|Generated 1 fingerprints for 2794.\n",
      "2022-06-14 20:45:23,820|INFO|Generating fingerprints for 2811.\n",
      "2022-06-14 20:45:23,825|INFO|Generated 1 fingerprints for 2811.\n",
      "2022-06-14 20:45:23,826|INFO|Generating fingerprints for 2818.\n",
      "2022-06-14 20:45:23,829|INFO|Generated 1 fingerprints for 2818.\n",
      "2022-06-14 20:45:23,830|INFO|Generating fingerprints for 2829.\n",
      "2022-06-14 20:45:23,835|INFO|Generated 1 fingerprints for 2829.\n",
      "2022-06-14 20:45:23,838|INFO|Generating fingerprints for 2838.\n",
      "2022-06-14 20:45:23,842|INFO|Generated 1 fingerprints for 2838.\n",
      "2022-06-14 20:45:23,844|INFO|Generating fingerprints for 2848.\n",
      "2022-06-14 20:45:23,848|INFO|Generated 1 fingerprints for 2848.\n",
      "2022-06-14 20:45:23,849|INFO|Generating fingerprints for 2859.\n",
      "2022-06-14 20:45:23,854|INFO|Generated 1 fingerprints for 2859.\n",
      "2022-06-14 20:45:23,856|INFO|Generating fingerprints for 2872.\n",
      "2022-06-14 20:45:23,860|INFO|Generated 1 fingerprints for 2872.\n",
      "2022-06-14 20:45:23,863|INFO|Generating fingerprints for 2898.\n",
      "2022-06-14 20:45:23,868|INFO|Generated 1 fingerprints for 2898.\n",
      "2022-06-14 20:45:23,870|INFO|Generating fingerprints for 2910.\n",
      "2022-06-14 20:45:23,875|INFO|Generated 1 fingerprints for 2910.\n",
      "2022-06-14 20:45:23,876|INFO|Generating fingerprints for 2917.\n",
      "2022-06-14 20:45:23,880|INFO|Generated 1 fingerprints for 2917.\n",
      "2022-06-14 20:45:23,881|INFO|Generating fingerprints for 2921.\n",
      "2022-06-14 20:45:23,885|INFO|Generated 1 fingerprints for 2921.\n",
      "2022-06-14 20:45:23,887|INFO|Generating fingerprints for 2940.\n",
      "2022-06-14 20:45:23,891|INFO|Generated 1 fingerprints for 2940.\n",
      "2022-06-14 20:45:23,893|INFO|Generating fingerprints for 2949.\n",
      "2022-06-14 20:45:23,897|INFO|Generated 1 fingerprints for 2949.\n",
      "2022-06-14 20:45:23,899|INFO|Generating fingerprints for 2970.\n",
      "2022-06-14 20:45:23,905|INFO|Generated 1 fingerprints for 2970.\n",
      "2022-06-14 20:45:23,908|INFO|Generating fingerprints for 2992.\n",
      "2022-06-14 20:45:23,912|INFO|Generated 1 fingerprints for 2992.\n"
     ]
    },
    {
     "name": "stderr",
     "output_type": "stream",
     "text": [
      "2022-06-14 20:45:23,914|INFO|Generating fingerprints for 2994.\n",
      "2022-06-14 20:45:23,919|INFO|Generated 1 fingerprints for 2994.\n",
      "2022-06-14 20:45:23,921|INFO|Generating fingerprints for 2999.\n",
      "2022-06-14 20:45:23,925|INFO|Generated 1 fingerprints for 2999.\n",
      "2022-06-14 20:45:23,927|INFO|Generating fingerprints for 3006.\n",
      "2022-06-14 20:45:23,932|INFO|Generated 1 fingerprints for 3006.\n",
      "2022-06-14 20:45:23,934|INFO|Generating fingerprints for 3017.\n",
      "2022-06-14 20:45:23,938|INFO|Generated 1 fingerprints for 3017.\n",
      "2022-06-14 20:45:23,940|INFO|Generating fingerprints for 3032.\n",
      "2022-06-14 20:45:23,944|INFO|Generated 1 fingerprints for 3032.\n",
      "2022-06-14 20:45:23,945|INFO|Generating fingerprints for 3060.\n",
      "2022-06-14 20:45:23,949|INFO|Generated 1 fingerprints for 3060.\n",
      "2022-06-14 20:45:23,952|INFO|Generating fingerprints for 3065.\n",
      "2022-06-14 20:45:23,955|INFO|Generated 1 fingerprints for 3065.\n",
      "2022-06-14 20:45:23,957|INFO|Generating fingerprints for 3077.\n",
      "2022-06-14 20:45:23,960|INFO|Generated 1 fingerprints for 3077.\n",
      "2022-06-14 20:45:23,965|INFO|Generating fingerprints for 3091.\n",
      "2022-06-14 20:45:23,969|INFO|Generated 1 fingerprints for 3091.\n",
      "2022-06-14 20:45:23,972|INFO|Generating fingerprints for 3107.\n",
      "2022-06-14 20:45:23,977|INFO|Generated 1 fingerprints for 3107.\n",
      "2022-06-14 20:45:23,978|INFO|Generating fingerprints for 3112.\n",
      "2022-06-14 20:45:23,982|INFO|Generated 1 fingerprints for 3112.\n",
      "2022-06-14 20:45:23,984|INFO|Generating fingerprints for 3118.\n",
      "2022-06-14 20:45:23,988|INFO|Generated 1 fingerprints for 3118.\n",
      "2022-06-14 20:45:23,989|INFO|Generating fingerprints for 3142.\n",
      "2022-06-14 20:45:23,993|INFO|Generated 1 fingerprints for 3142.\n",
      "2022-06-14 20:45:23,994|INFO|Generating fingerprints for 3160.\n",
      "2022-06-14 20:45:23,998|INFO|Generated 1 fingerprints for 3160.\n",
      "2022-06-14 20:45:24,000|INFO|Generating fingerprints for 3181.\n",
      "2022-06-14 20:45:24,003|INFO|Generated 1 fingerprints for 3181.\n",
      "2022-06-14 20:45:24,005|INFO|Generating fingerprints for 3186.\n",
      "2022-06-14 20:45:24,011|INFO|Generated 1 fingerprints for 3186.\n",
      "2022-06-14 20:45:24,013|INFO|Generating fingerprints for 3189.\n",
      "2022-06-14 20:45:24,017|INFO|Generated 1 fingerprints for 3189.\n",
      "2022-06-14 20:45:24,019|INFO|Generating fingerprints for 3198.\n",
      "2022-06-14 20:45:24,024|INFO|Generated 1 fingerprints for 3198.\n",
      "2022-06-14 20:45:24,026|INFO|Generating fingerprints for 3209.\n",
      "2022-06-14 20:45:24,032|INFO|Generated 1 fingerprints for 3209.\n",
      "2022-06-14 20:45:24,034|INFO|Generating fingerprints for 3232.\n",
      "2022-06-14 20:45:24,040|INFO|Generated 1 fingerprints for 3232.\n",
      "2022-06-14 20:45:24,041|INFO|Generating fingerprints for 3237.\n",
      "2022-06-14 20:45:24,045|INFO|Generated 1 fingerprints for 3237.\n",
      "2022-06-14 20:45:24,046|INFO|Generating fingerprints for 3269.\n",
      "2022-06-14 20:45:24,050|INFO|Generated 1 fingerprints for 3269.\n",
      "2022-06-14 20:45:24,053|INFO|Generating fingerprints for 3282.\n",
      "2022-06-14 20:45:24,059|INFO|Generated 1 fingerprints for 3282.\n",
      "2022-06-14 20:45:24,060|INFO|Generating fingerprints for 3309.\n",
      "2022-06-14 20:45:24,065|INFO|Generated 1 fingerprints for 3309.\n",
      "2022-06-14 20:45:24,066|INFO|Generating fingerprints for 3325.\n",
      "2022-06-14 20:45:24,072|INFO|Generated 1 fingerprints for 3325.\n",
      "2022-06-14 20:45:24,073|INFO|Generating fingerprints for 3329.\n",
      "2022-06-14 20:45:24,077|INFO|Generated 1 fingerprints for 3329.\n",
      "2022-06-14 20:45:24,079|INFO|Generating fingerprints for 3380.\n",
      "2022-06-14 20:45:24,082|INFO|Generated 1 fingerprints for 3380.\n",
      "2022-06-14 20:45:24,085|INFO|Generating fingerprints for 3416.\n",
      "2022-06-14 20:45:24,090|INFO|Generated 1 fingerprints for 3416.\n",
      "2022-06-14 20:45:24,092|INFO|Generating fingerprints for 3438.\n",
      "2022-06-14 20:45:24,096|INFO|Generated 1 fingerprints for 3438.\n",
      "2022-06-14 20:45:24,097|INFO|Generating fingerprints for 3441.\n",
      "2022-06-14 20:45:24,101|INFO|Generated 1 fingerprints for 3441.\n",
      "2022-06-14 20:45:24,103|INFO|Generating fingerprints for 3475.\n",
      "2022-06-14 20:45:24,109|INFO|Generated 1 fingerprints for 3475.\n",
      "2022-06-14 20:45:24,111|INFO|Generating fingerprints for 3501.\n",
      "2022-06-14 20:45:24,114|INFO|Generated 1 fingerprints for 3501.\n",
      "2022-06-14 20:45:24,115|INFO|Generating fingerprints for 3505.\n",
      "2022-06-14 20:45:24,119|INFO|Generated 1 fingerprints for 3505.\n",
      "2022-06-14 20:45:24,121|INFO|Generating fingerprints for 3516.\n",
      "2022-06-14 20:45:24,126|INFO|Generated 1 fingerprints for 3516.\n",
      "2022-06-14 20:45:24,128|INFO|Generating fingerprints for 3524.\n",
      "2022-06-14 20:45:24,133|INFO|Generated 1 fingerprints for 3524.\n",
      "2022-06-14 20:45:24,135|INFO|Generating fingerprints for 3529.\n",
      "2022-06-14 20:45:24,140|INFO|Generated 1 fingerprints for 3529.\n",
      "2022-06-14 20:45:24,142|INFO|Generating fingerprints for 3562.\n",
      "2022-06-14 20:45:24,145|INFO|Generated 1 fingerprints for 3562.\n",
      "2022-06-14 20:45:24,147|INFO|Generating fingerprints for 3567.\n",
      "2022-06-14 20:45:24,152|INFO|Generated 1 fingerprints for 3567.\n",
      "2022-06-14 20:45:24,155|INFO|Generating fingerprints for 3576.\n",
      "2022-06-14 20:45:24,161|INFO|Generated 1 fingerprints for 3576.\n",
      "2022-06-14 20:45:24,162|INFO|Generating fingerprints for 3582.\n",
      "2022-06-14 20:45:24,167|INFO|Generated 1 fingerprints for 3582.\n",
      "2022-06-14 20:45:24,169|INFO|Generating fingerprints for 3599.\n",
      "2022-06-14 20:45:24,174|INFO|Generated 1 fingerprints for 3599.\n",
      "2022-06-14 20:45:24,176|INFO|Generating fingerprints for 3607.\n",
      "2022-06-14 20:45:24,181|INFO|Generated 1 fingerprints for 3607.\n",
      "2022-06-14 20:45:24,183|INFO|Generating fingerprints for 3618.\n",
      "2022-06-14 20:45:24,186|INFO|Generated 1 fingerprints for 3618.\n",
      "2022-06-14 20:45:24,189|INFO|Generating fingerprints for 3626.\n",
      "2022-06-14 20:45:24,194|INFO|Generated 1 fingerprints for 3626.\n",
      "2022-06-14 20:45:24,196|INFO|Generating fingerprints for 3632.\n",
      "2022-06-14 20:45:24,202|INFO|Generated 1 fingerprints for 3632.\n",
      "2022-06-14 20:45:24,204|INFO|Generating fingerprints for 3641.\n",
      "2022-06-14 20:45:24,210|INFO|Generated 1 fingerprints for 3641.\n",
      "2022-06-14 20:45:24,212|INFO|Generating fingerprints for 3660.\n",
      "2022-06-14 20:45:24,217|INFO|Generated 1 fingerprints for 3660.\n",
      "2022-06-14 20:45:24,220|INFO|Generating fingerprints for 3665.\n",
      "2022-06-14 20:45:24,225|INFO|Generated 1 fingerprints for 3665.\n",
      "2022-06-14 20:45:24,226|INFO|Generating fingerprints for 3689.\n",
      "2022-06-14 20:45:24,230|INFO|Generated 1 fingerprints for 3689.\n",
      "2022-06-14 20:45:24,232|INFO|Generating fingerprints for 3710.\n",
      "2022-06-14 20:45:24,238|INFO|Generated 1 fingerprints for 3710.\n",
      "2022-06-14 20:45:24,240|INFO|Generating fingerprints for 3739.\n",
      "2022-06-14 20:45:24,244|INFO|Generated 1 fingerprints for 3739.\n",
      "2022-06-14 20:45:24,246|INFO|Generating fingerprints for 3743.\n",
      "2022-06-14 20:45:24,250|INFO|Generated 1 fingerprints for 3743.\n",
      "2022-06-14 20:45:24,252|INFO|Generating fingerprints for 3802.\n",
      "2022-06-14 20:45:24,258|INFO|Generated 1 fingerprints for 3802.\n",
      "2022-06-14 20:45:24,259|INFO|Generating fingerprints for 3812.\n",
      "2022-06-14 20:45:24,264|INFO|Generated 1 fingerprints for 3812.\n",
      "2022-06-14 20:45:24,265|INFO|Generating fingerprints for 3815.\n",
      "2022-06-14 20:45:24,270|INFO|Generated 1 fingerprints for 3815.\n",
      "2022-06-14 20:45:24,272|INFO|Generating fingerprints for 3837.\n",
      "2022-06-14 20:45:24,277|INFO|Generated 1 fingerprints for 3837.\n",
      "2022-06-14 20:45:24,279|INFO|Generating fingerprints for 3843.\n",
      "2022-06-14 20:45:24,284|INFO|Generated 1 fingerprints for 3843.\n",
      "2022-06-14 20:45:24,286|INFO|Generating fingerprints for 3855.\n",
      "2022-06-14 20:45:24,292|INFO|Generated 1 fingerprints for 3855.\n",
      "2022-06-14 20:45:24,294|INFO|Generating fingerprints for 3858.\n",
      "2022-06-14 20:45:24,299|INFO|Generated 1 fingerprints for 3858.\n",
      "2022-06-14 20:45:24,301|INFO|Generating fingerprints for 3882.\n",
      "2022-06-14 20:45:24,305|INFO|Generated 1 fingerprints for 3882.\n",
      "2022-06-14 20:45:24,308|INFO|Generating fingerprints for 3962.\n",
      "2022-06-14 20:45:24,314|INFO|Generated 1 fingerprints for 3962.\n",
      "2022-06-14 20:45:24,316|INFO|Generating fingerprints for 3969.\n",
      "2022-06-14 20:45:24,322|INFO|Generated 1 fingerprints for 3969.\n",
      "2022-06-14 20:45:24,324|INFO|Generating fingerprints for 3977.\n",
      "2022-06-14 20:45:24,330|INFO|Generated 1 fingerprints for 3977.\n",
      "2022-06-14 20:45:24,331|INFO|Generating fingerprints for 3980.\n",
      "2022-06-14 20:45:24,336|INFO|Generated 1 fingerprints for 3980.\n",
      "2022-06-14 20:45:24,338|INFO|Generating fingerprints for 4020.\n",
      "2022-06-14 20:45:24,344|INFO|Generated 1 fingerprints for 4020.\n"
     ]
    },
    {
     "name": "stderr",
     "output_type": "stream",
     "text": [
      "2022-06-14 20:45:24,346|INFO|Generating fingerprints for 4034.\n",
      "2022-06-14 20:45:24,350|INFO|Generated 1 fingerprints for 4034.\n",
      "2022-06-14 20:45:24,352|INFO|Generating fingerprints for 4040.\n",
      "2022-06-14 20:45:24,356|INFO|Generated 1 fingerprints for 4040.\n",
      "2022-06-14 20:45:24,358|INFO|Generating fingerprints for 4064.\n",
      "2022-06-14 20:45:24,362|INFO|Generated 1 fingerprints for 4064.\n",
      "2022-06-14 20:45:24,365|INFO|Generating fingerprints for 4082.\n",
      "2022-06-14 20:45:24,370|INFO|Generated 1 fingerprints for 4082.\n",
      "2022-06-14 20:45:24,373|INFO|Generating fingerprints for 4102.\n",
      "2022-06-14 20:45:24,378|INFO|Generated 1 fingerprints for 4102.\n",
      "2022-06-14 20:45:24,380|INFO|Generating fingerprints for 4104.\n",
      "2022-06-14 20:45:24,384|INFO|Generated 1 fingerprints for 4104.\n",
      "2022-06-14 20:45:24,386|INFO|Generating fingerprints for 4154.\n",
      "2022-06-14 20:45:24,391|INFO|Generated 1 fingerprints for 4154.\n",
      "2022-06-14 20:45:24,393|INFO|Generating fingerprints for 4159.\n",
      "2022-06-14 20:45:24,396|INFO|Generated 1 fingerprints for 4159.\n",
      "2022-06-14 20:45:24,398|INFO|Generating fingerprints for 4163.\n",
      "2022-06-14 20:45:24,403|INFO|Generated 1 fingerprints for 4163.\n",
      "2022-06-14 20:45:24,404|INFO|Generating fingerprints for 4169.\n",
      "2022-06-14 20:45:24,408|INFO|Generated 1 fingerprints for 4169.\n",
      "2022-06-14 20:45:24,410|INFO|Generating fingerprints for 4182.\n",
      "2022-06-14 20:45:24,413|INFO|Generated 1 fingerprints for 4182.\n",
      "2022-06-14 20:45:24,415|INFO|Generating fingerprints for 4206.\n",
      "2022-06-14 20:45:24,421|INFO|Generated 1 fingerprints for 4206.\n",
      "2022-06-14 20:45:24,423|INFO|Generating fingerprints for 4208.\n",
      "2022-06-14 20:45:24,426|INFO|Generated 1 fingerprints for 4208.\n",
      "2022-06-14 20:45:24,428|INFO|Generating fingerprints for 4239.\n",
      "2022-06-14 20:45:24,432|INFO|Generated 1 fingerprints for 4239.\n",
      "2022-06-14 20:45:24,434|INFO|Generating fingerprints for 4268.\n",
      "2022-06-14 20:45:24,441|INFO|Generated 1 fingerprints for 4268.\n",
      "2022-06-14 20:45:24,443|INFO|Generating fingerprints for 4282.\n",
      "2022-06-14 20:45:24,449|INFO|Generated 1 fingerprints for 4282.\n",
      "2022-06-14 20:45:24,450|INFO|Generating fingerprints for 4311.\n",
      "2022-06-14 20:45:24,455|INFO|Generated 1 fingerprints for 4311.\n",
      "2022-06-14 20:45:24,457|INFO|Generating fingerprints for 4333.\n",
      "2022-06-14 20:45:24,462|INFO|Generated 1 fingerprints for 4333.\n",
      "2022-06-14 20:45:24,464|INFO|Generating fingerprints for 4343.\n",
      "2022-06-14 20:45:24,467|INFO|Generated 1 fingerprints for 4343.\n",
      "2022-06-14 20:45:24,469|INFO|Generating fingerprints for 4346.\n",
      "2022-06-14 20:45:24,474|INFO|Generated 1 fingerprints for 4346.\n",
      "2022-06-14 20:45:24,476|INFO|Generating fingerprints for 4370.\n",
      "2022-06-14 20:45:24,478|INFO|Generated 1 fingerprints for 4370.\n",
      "2022-06-14 20:45:24,480|INFO|Generating fingerprints for 4373.\n",
      "2022-06-14 20:45:24,482|INFO|Generated 1 fingerprints for 4373.\n",
      "2022-06-14 20:45:24,484|INFO|Generating fingerprints for 4411.\n",
      "2022-06-14 20:45:24,487|INFO|Generated 1 fingerprints for 4411.\n",
      "2022-06-14 20:45:24,489|INFO|Generating fingerprints for 4415.\n",
      "2022-06-14 20:45:24,492|INFO|Generated 1 fingerprints for 4415.\n",
      "2022-06-14 20:45:24,493|INFO|Generating fingerprints for 4427.\n",
      "2022-06-14 20:45:24,496|INFO|Generated 1 fingerprints for 4427.\n",
      "2022-06-14 20:45:24,497|INFO|Generating fingerprints for 4444.\n",
      "2022-06-14 20:45:24,499|INFO|Generated 1 fingerprints for 4444.\n",
      "2022-06-14 20:45:24,500|INFO|Generating fingerprints for 4450.\n",
      "2022-06-14 20:45:24,504|INFO|Generated 1 fingerprints for 4450.\n",
      "2022-06-14 20:45:24,505|INFO|Generating fingerprints for 4498.\n",
      "2022-06-14 20:45:24,509|INFO|Generated 1 fingerprints for 4498.\n",
      "2022-06-14 20:45:24,510|INFO|Generating fingerprints for 4532.\n",
      "2022-06-14 20:45:24,513|INFO|Generated 1 fingerprints for 4532.\n",
      "2022-06-14 20:45:24,515|INFO|Generating fingerprints for 4588.\n",
      "2022-06-14 20:45:24,518|INFO|Generated 1 fingerprints for 4588.\n",
      "2022-06-14 20:45:24,521|INFO|Generating fingerprints for 4630.\n",
      "2022-06-14 20:45:24,523|INFO|Generated 1 fingerprints for 4630.\n",
      "2022-06-14 20:45:24,524|INFO|Generating fingerprints for 4646.\n",
      "2022-06-14 20:45:24,527|INFO|Generated 1 fingerprints for 4646.\n",
      "2022-06-14 20:45:24,529|INFO|Generating fingerprints for 4650.\n",
      "2022-06-14 20:45:24,533|INFO|Generated 1 fingerprints for 4650.\n",
      "2022-06-14 20:45:24,535|INFO|Generating fingerprints for 4655.\n",
      "2022-06-14 20:45:24,539|INFO|Generated 1 fingerprints for 4655.\n",
      "2022-06-14 20:45:24,541|INFO|Generating fingerprints for 4720.\n",
      "2022-06-14 20:45:24,544|INFO|Generated 1 fingerprints for 4720.\n",
      "2022-06-14 20:45:24,545|INFO|Generating fingerprints for 4727.\n",
      "2022-06-14 20:45:24,548|INFO|Generated 1 fingerprints for 4727.\n",
      "2022-06-14 20:45:24,549|INFO|Generating fingerprints for 4817.\n",
      "2022-06-14 20:45:24,552|INFO|Generated 1 fingerprints for 4817.\n",
      "2022-06-14 20:45:24,553|INFO|Generating fingerprints for 4826.\n",
      "2022-06-14 20:45:24,557|INFO|Generated 1 fingerprints for 4826.\n",
      "2022-06-14 20:45:24,558|INFO|Generating fingerprints for 4944.\n",
      "2022-06-14 20:45:24,563|INFO|Generated 1 fingerprints for 4944.\n",
      "2022-06-14 20:45:24,564|INFO|Generating fingerprints for 4962.\n",
      "2022-06-14 20:45:24,568|INFO|Generated 1 fingerprints for 4962.\n",
      "2022-06-14 20:45:24,570|INFO|Generating fingerprints for 4977.\n",
      "2022-06-14 20:45:24,573|INFO|Generated 1 fingerprints for 4977.\n",
      "2022-06-14 20:45:24,575|INFO|Generating fingerprints for 4979.\n",
      "2022-06-14 20:45:24,578|INFO|Generated 1 fingerprints for 4979.\n",
      "2022-06-14 20:45:24,581|INFO|Generating fingerprints for 5065.\n",
      "2022-06-14 20:45:24,585|INFO|Generated 1 fingerprints for 5065.\n",
      "2022-06-14 20:45:24,586|INFO|Generating fingerprints for 5083.\n",
      "2022-06-14 20:45:24,591|INFO|Generated 1 fingerprints for 5083.\n",
      "2022-06-14 20:45:24,592|INFO|Generating fingerprints for 5089.\n",
      "2022-06-14 20:45:24,594|INFO|Generated 1 fingerprints for 5089.\n",
      "2022-06-14 20:45:24,596|INFO|Generating fingerprints for 5099.\n",
      "2022-06-14 20:45:24,600|INFO|Generated 1 fingerprints for 5099.\n",
      "2022-06-14 20:45:24,601|INFO|Generating fingerprints for 5194.\n",
      "2022-06-14 20:45:24,605|INFO|Generated 1 fingerprints for 5194.\n",
      "2022-06-14 20:45:24,607|INFO|Generating fingerprints for 5210.\n",
      "2022-06-14 20:45:24,610|INFO|Generated 1 fingerprints for 5210.\n",
      "2022-06-14 20:45:24,611|INFO|Generating fingerprints for 5262.\n",
      "2022-06-14 20:45:24,615|INFO|Generated 1 fingerprints for 5262.\n",
      "2022-06-14 20:45:24,616|INFO|Generating fingerprints for 5284.\n",
      "2022-06-14 20:45:24,620|INFO|Generated 1 fingerprints for 5284.\n",
      "2022-06-14 20:45:24,622|INFO|Generating fingerprints for 5511.\n",
      "2022-06-14 20:45:24,627|INFO|Generated 1 fingerprints for 5511.\n",
      "2022-06-14 20:45:24,628|INFO|Generating fingerprints for 5524.\n",
      "2022-06-14 20:45:24,632|INFO|Generated 1 fingerprints for 5524.\n",
      "2022-06-14 20:45:24,633|INFO|Generating fingerprints for 5583.\n",
      "2022-06-14 20:45:24,636|INFO|Generated 1 fingerprints for 5583.\n"
     ]
    },
    {
     "name": "stdout",
     "output_type": "stream",
     "text": [
      "CPU times: user 2.44 s, sys: 257 ms, total: 2.7 s\n",
      "Wall time: 2.46 s\n"
     ]
    }
   ],
   "source": [
    "%time dct = generate_e3fps(dataset['V5_diff'], \"v5_diff\")"
   ]
  },
  {
   "cell_type": "code",
   "execution_count": 9,
   "id": "5076db65",
   "metadata": {},
   "outputs": [],
   "source": [
    "pbmol = create_pbmol(d24)"
   ]
  },
  {
   "cell_type": "code",
   "execution_count": 10,
   "id": "4a4d3fdf",
   "metadata": {},
   "outputs": [],
   "source": [
    "pbmol.draw()"
   ]
  },
  {
   "cell_type": "code",
   "execution_count": 11,
   "id": "b75e73cc",
   "metadata": {},
   "outputs": [],
   "source": [
    "pbmol.write(\"sdf\", \"outputfile.sdf\", overwrite=True)"
   ]
  },
  {
   "cell_type": "code",
   "execution_count": 35,
   "id": "7634f0cf",
   "metadata": {},
   "outputs": [],
   "source": [
    "from rdkit import Chem"
   ]
  },
  {
   "cell_type": "code",
   "execution_count": 61,
   "id": "69072478",
   "metadata": {},
   "outputs": [
    {
     "name": "stderr",
     "output_type": "stream",
     "text": [
      "2022-06-14 20:49:26,332|INFO|Generating fingerprints for 1.\n",
      "2022-06-14 20:49:26,339|INFO|Generated 1 fingerprints for 1.\n",
      "2022-06-14 20:49:26,341|INFO|Generating fingerprints for 4.\n",
      "2022-06-14 20:49:26,345|INFO|Generated 1 fingerprints for 4.\n",
      "2022-06-14 20:49:26,348|INFO|Generating fingerprints for 208.\n",
      "2022-06-14 20:49:26,353|INFO|Generated 1 fingerprints for 208.\n",
      "2022-06-14 20:49:26,355|INFO|Generating fingerprints for 292.\n",
      "2022-06-14 20:49:26,359|INFO|Generated 1 fingerprints for 292.\n",
      "2022-06-14 20:49:26,361|INFO|Generating fingerprints for 370.\n",
      "2022-06-14 20:49:26,364|INFO|Generated 1 fingerprints for 370.\n",
      "2022-06-14 20:49:26,366|INFO|Generating fingerprints for 398.\n",
      "2022-06-14 20:49:26,370|INFO|Generated 1 fingerprints for 398.\n",
      "2022-06-14 20:49:26,371|INFO|Generating fingerprints for 453.\n",
      "2022-06-14 20:49:26,376|INFO|Generated 1 fingerprints for 453.\n",
      "2022-06-14 20:49:26,377|INFO|Generating fingerprints for 500.\n",
      "2022-06-14 20:49:26,382|INFO|Generated 1 fingerprints for 500.\n",
      "2022-06-14 20:49:26,383|INFO|Generating fingerprints for 582.\n",
      "2022-06-14 20:49:26,387|INFO|Generated 1 fingerprints for 582.\n",
      "2022-06-14 20:49:26,389|INFO|Generating fingerprints for 597.\n",
      "2022-06-14 20:49:26,394|INFO|Generated 1 fingerprints for 597.\n"
     ]
    },
    {
     "data": {
      "text/plain": [
       "[4294967296,\n",
       " 4294967296,\n",
       " 4294967296,\n",
       " 4294967296,\n",
       " 4294967296,\n",
       " 4294967296,\n",
       " 4294967296,\n",
       " 4294967296,\n",
       " 4294967296,\n",
       " 4294967296]"
      ]
     },
     "execution_count": 61,
     "metadata": {},
     "output_type": "execute_result"
    }
   ],
   "source": [
    "fps = []\n",
    "for mol in Chem.SDMolSupplier('X2_diff_small.sdf'):\n",
    "    fps.append(fprints_dict_from_mol(mol, level=1)[1][0].bits)\n",
    "fps"
   ]
  },
  {
   "cell_type": "code",
   "execution_count": 41,
   "id": "321b3b96",
   "metadata": {},
   "outputs": [
    {
     "data": {
      "text/plain": [
       "10"
      ]
     },
     "execution_count": 41,
     "metadata": {},
     "output_type": "execute_result"
    }
   ],
   "source": [
    "len(rdmol)"
   ]
  },
  {
   "cell_type": "code",
   "execution_count": 40,
   "id": "fd0682b2",
   "metadata": {},
   "outputs": [],
   "source": [
    "with open(\"outputfile.sdf\", \"rb\") as f:\n",
    "    supplier = Chem.ForwardSDMolSupplier(f)"
   ]
  },
  {
   "cell_type": "code",
   "execution_count": 41,
   "id": "1934608c",
   "metadata": {},
   "outputs": [],
   "source": [
    "mol = next(rdmol)"
   ]
  },
  {
   "cell_type": "code",
   "execution_count": 18,
   "id": "3951a62d",
   "metadata": {},
   "outputs": [],
   "source": [
    "from e3fp.conformer.util import mol_from_sdf"
   ]
  },
  {
   "cell_type": "code",
   "execution_count": 43,
   "id": "3fa79a39",
   "metadata": {},
   "outputs": [
    {
     "data": {
      "text/plain": [
       "{5: [Fingerprint(indices=array([2587607838, 3027952810]), level=5, bits=4294967296, name=ttl_0)]}"
      ]
     },
     "execution_count": 43,
     "metadata": {},
     "output_type": "execute_result"
    }
   ],
   "source": [
    "fprints_dict_from_sdf('outputfile.sdf')"
   ]
  },
  {
   "cell_type": "code",
   "execution_count": 26,
   "id": "5591e8bc",
   "metadata": {},
   "outputs": [],
   "source": [
    "dct = fprints_dict_from_mol(mol)"
   ]
  },
  {
   "cell_type": "code",
   "execution_count": 33,
   "id": "7e6a51be",
   "metadata": {},
   "outputs": [
    {
     "data": {
      "text/plain": [
       "4294967296"
      ]
     },
     "execution_count": 33,
     "metadata": {},
     "output_type": "execute_result"
    }
   ],
   "source": [
    "dct[5][0].bits"
   ]
  },
  {
   "cell_type": "code",
   "execution_count": 54,
   "id": "bea3a8b5",
   "metadata": {},
   "outputs": [],
   "source": [
    "import pybel"
   ]
  },
  {
   "cell_type": "code",
   "execution_count": 43,
   "id": "ba3f3902",
   "metadata": {},
   "outputs": [
    {
     "data": {
      "text/plain": [
       "['ecfp0',\n",
       " 'ecfp10',\n",
       " 'ecfp2',\n",
       " 'ecfp4',\n",
       " 'ecfp6',\n",
       " 'ecfp8',\n",
       " 'fp2',\n",
       " 'fp3',\n",
       " 'fp4',\n",
       " 'maccs']"
      ]
     },
     "execution_count": 43,
     "metadata": {},
     "output_type": "execute_result"
    }
   ],
   "source": [
    "pybel.Fingerprint()"
   ]
  },
  {
   "cell_type": "code",
   "execution_count": 242,
   "id": "62a5a23c",
   "metadata": {},
   "outputs": [],
   "source": [
    "from pymatgen.core import Molecule"
   ]
  },
  {
   "cell_type": "code",
   "execution_count": 88,
   "id": "b28b741a",
   "metadata": {},
   "outputs": [],
   "source": [
    "conn = MinimumDistanceNN(cutoff=3.2, get_all_sites=True)"
   ]
  },
  {
   "cell_type": "code",
   "execution_count": 92,
   "id": "be875615",
   "metadata": {},
   "outputs": [],
   "source": [
    "conn = CrystalNN(distance_cutoffs=None, x_diff_weight=0.0)"
   ]
  },
  {
   "cell_type": "code",
   "execution_count": 73,
   "id": "c6afb2a2",
   "metadata": {},
   "outputs": [
    {
     "data": {
      "text/plain": [
       "PeriodicSite: Mo (3.1903, 7.3677, 3.7198) [0.2917, 0.3333, 0.2500]"
      ]
     },
     "execution_count": 73,
     "metadata": {},
     "output_type": "execute_result"
    }
   ],
   "source": [
    "full_structure[18]"
   ]
  },
  {
   "cell_type": "code",
   "execution_count": 105,
   "id": "60edfd96",
   "metadata": {},
   "outputs": [],
   "source": [
    "from pymatgen.analysis.local_env import MinimumVIRENN"
   ]
  },
  {
   "cell_type": "code",
   "execution_count": 106,
   "id": "a0cc6cb0",
   "metadata": {},
   "outputs": [],
   "source": [
    "conn = MinimumVIRENN()"
   ]
  },
  {
   "cell_type": "code",
   "execution_count": 107,
   "id": "108996c5",
   "metadata": {},
   "outputs": [
    {
     "data": {
      "text/plain": [
       "[PeriodicSite: S2- (22.3322, -1.8419, 2.1549) [0.8333, -0.0833, 0.1448],\n",
       " PeriodicSite: S2- (22.3322, 3.6839, 2.1549) [0.9583, 0.1667, 0.1448],\n",
       " PeriodicSite: S2- (20.7371, 0.9210, 2.1549) [0.8333, 0.0417, 0.1448],\n",
       " PeriodicSite: Mo4+ (22.3322, 1.8419, 3.7198) [0.9167, 0.0833, 0.2500],\n",
       " PeriodicSite: S2- (25.5225, -1.8419, 2.1549) [0.9583, -0.0833, 0.1448],\n",
       " PeriodicSite: Mo4+ (23.9274, -0.9210, 3.7198) [0.9167, -0.0417, 0.2500],\n",
       " PeriodicSite: S2- (25.5225, 3.6839, 2.1549) [1.0833, 0.1667, 0.1448],\n",
       " PeriodicSite: S2- (27.1177, 0.9210, 2.1549) [1.0833, 0.0417, 0.1448],\n",
       " PeriodicSite: Mo4+ (25.5225, 1.8419, 3.7198) [1.0417, 0.0833, 0.2500],\n",
       " PeriodicSite: S2- (23.9274, 0.9210, 5.2846) [0.9583, 0.0417, 0.3552]]"
      ]
     },
     "execution_count": 107,
     "metadata": {},
     "output_type": "execute_result"
    }
   ],
   "source": [
    "conn.get_nn(full_structure, 121)"
   ]
  },
  {
   "cell_type": "code",
   "execution_count": 105,
   "id": "3989e07a",
   "metadata": {},
   "outputs": [],
   "source": [
    "graph = StructureGraph.with_local_env_strategy(\n",
    "    dataset.get_full_structure(), \n",
    "    MinimumDistanceNN(cutoff=get_r(dataset.get_full_structure()), \n",
    "                      get_all_sites=True),\n",
    "    weights=True\n",
    ")"
   ]
  },
  {
   "cell_type": "code",
   "execution_count": 164,
   "id": "3c61f251",
   "metadata": {},
   "outputs": [],
   "source": [
    "def create_large_pbmol(structure, defect_representation, graph, title=\"title\"):\n",
    "    mol = openbabel.OBMol()\n",
    "    n = len(defect_representation)\n",
    "    idx = [find_site(structure, d) for d in defect_representation]\n",
    "    atom_idxs = {} # structure site idx: molecule atom idx\n",
    "    for i in range(n):\n",
    "        a = mol.NewAtom()\n",
    "        coords = defect_representation[i].coords\n",
    "        atomic_num = defect_representation[i].specie.Z\n",
    "        if defect_representation[i].specie.symbol == 'X':\n",
    "            atomic_num = 79 # Au is not present in dataset\n",
    "        a.SetAtomicNum(atomic_num)\n",
    "        a.SetVector(*coords)\n",
    "        atom_idxs[idx[i]] = mol.NumAtoms\n",
    "    for i in range(n):\n",
    "        for j in range(i+1, n, 1):\n",
    "            path = nx.shortest_path(graph, idx[i], \n",
    "                                    idx[j], weight=\"weight\")\n",
    "            print(path)\n",
    "            for k in range(1, len(path)-1, 1):\n",
    "                a = mol.NewAtom()\n",
    "                coords = structure[path[k]].coords\n",
    "                atomic_num = structure[path[k]].specie.Z\n",
    "                atom_idxs[path[k]] = mol.NumAtoms\n",
    "                mol.AddBond(path[k-1], path[k], 1)    \n",
    "    mol.SetTitle(title)\n",
    "    return pybel.Molecule(mol)"
   ]
  },
  {
   "cell_type": "code",
   "execution_count": 316,
   "id": "fb0f0dc1",
   "metadata": {},
   "outputs": [
    {
     "name": "stderr",
     "output_type": "stream",
     "text": [
      "/home/user/anaconda3/envs/bacc/lib/python3.9/site-packages/pymatgen/core/structure.py:759: UserWarning: Not all sites have property was. Missing values are set to None.\n",
      "  warnings.warn(f\"Not all sites have property {k}. Missing values are set to None.\")\n"
     ]
    },
    {
     "data": {
      "application/vnd.jupyter.widget-view+json": {
       "model_id": "617bfed5df8040d89498851ed40f2d9f",
       "version_major": 2,
       "version_minor": 0
      },
      "text/plain": [
       "NGLWidget()"
      ]
     },
     "metadata": {},
     "output_type": "display_data"
    }
   ],
   "source": [
    "plot3d(Structure.from_sites(sg))"
   ]
  },
  {
   "cell_type": "code",
   "execution_count": 208,
   "id": "9a6122ec",
   "metadata": {},
   "outputs": [
    {
     "data": {
      "text/plain": [
       "2.4225868164540314"
      ]
     },
     "execution_count": 208,
     "metadata": {},
     "output_type": "execute_result"
    }
   ],
   "source": [
    "dataset[24].initial_structure.get_sites_in_sphere(\n",
    "                d24_0.coords, get_r(dataset[24].initial_structure), include_index=True\n",
    "            )[0].nn_distance"
   ]
  },
  {
   "cell_type": "code",
   "execution_count": 212,
   "id": "7621c213",
   "metadata": {},
   "outputs": [],
   "source": [
    "def get_neighbors(structure, defect_site):\n",
    "    return {nn.index: nn.nn_distance for nn in structure.get_sites_in_sphere(\n",
    "                defect_site.coords, get_r(structure), include_index=True\n",
    "    )}"
   ]
  },
  {
   "cell_type": "code",
   "execution_count": 314,
   "id": "44138d46",
   "metadata": {},
   "outputs": [
    {
     "name": "stdout",
     "output_type": "stream",
     "text": [
      "CPU times: user 10.4 s, sys: 62.3 ms, total: 10.5 s\n",
      "Wall time: 9.54 s\n"
     ]
    }
   ],
   "source": [
    "%time graph = make_graph(full_structure)"
   ]
  },
  {
   "cell_type": "code",
   "execution_count": 165,
   "id": "7e0b53ec",
   "metadata": {},
   "outputs": [
    {
     "ename": "ValueError",
     "evalue": "[3.20307696 7.36035079 3.719751  ] X0+ not found in structure with atol=0.1",
     "output_type": "error",
     "traceback": [
      "\u001b[0;31m---------------------------------------------------------------------------\u001b[0m",
      "\u001b[0;31mValueError\u001b[0m                                Traceback (most recent call last)",
      "\u001b[0;32m/tmp/ipykernel_7467/2780121435.py\u001b[0m in \u001b[0;36m<module>\u001b[0;34m\u001b[0m\n\u001b[0;32m----> 1\u001b[0;31m pbmol = create_large_pbmol(dataset[24].initial_structure,\n\u001b[0m\u001b[1;32m      2\u001b[0m                           \u001b[0mdataset\u001b[0m\u001b[0;34m[\u001b[0m\u001b[0;36m24\u001b[0m\u001b[0;34m]\u001b[0m\u001b[0;34m.\u001b[0m\u001b[0mdefect_representation\u001b[0m\u001b[0;34m,\u001b[0m\u001b[0;34m\u001b[0m\u001b[0;34m\u001b[0m\u001b[0m\n\u001b[1;32m      3\u001b[0m                           nx.Graph(graph.graph))\n",
      "\u001b[0;32m/tmp/ipykernel_7467/311082491.py\u001b[0m in \u001b[0;36mcreate_large_pbmol\u001b[0;34m(structure, defect_representation, graph, title)\u001b[0m\n\u001b[1;32m      2\u001b[0m     \u001b[0mmol\u001b[0m \u001b[0;34m=\u001b[0m \u001b[0mopenbabel\u001b[0m\u001b[0;34m.\u001b[0m\u001b[0mOBMol\u001b[0m\u001b[0;34m(\u001b[0m\u001b[0;34m)\u001b[0m\u001b[0;34m\u001b[0m\u001b[0;34m\u001b[0m\u001b[0m\n\u001b[1;32m      3\u001b[0m     \u001b[0mn\u001b[0m \u001b[0;34m=\u001b[0m \u001b[0mlen\u001b[0m\u001b[0;34m(\u001b[0m\u001b[0mdefect_representation\u001b[0m\u001b[0;34m)\u001b[0m\u001b[0;34m\u001b[0m\u001b[0;34m\u001b[0m\u001b[0m\n\u001b[0;32m----> 4\u001b[0;31m     \u001b[0midx\u001b[0m \u001b[0;34m=\u001b[0m \u001b[0;34m[\u001b[0m\u001b[0mfind_site\u001b[0m\u001b[0;34m(\u001b[0m\u001b[0mstructure\u001b[0m\u001b[0;34m,\u001b[0m \u001b[0md\u001b[0m\u001b[0;34m)\u001b[0m \u001b[0;32mfor\u001b[0m \u001b[0md\u001b[0m \u001b[0;32min\u001b[0m \u001b[0mdefect_representation\u001b[0m\u001b[0;34m]\u001b[0m\u001b[0;34m\u001b[0m\u001b[0;34m\u001b[0m\u001b[0m\n\u001b[0m\u001b[1;32m      5\u001b[0m     \u001b[0matom_idxs\u001b[0m \u001b[0;34m=\u001b[0m \u001b[0;34m{\u001b[0m\u001b[0;34m}\u001b[0m \u001b[0;31m# structure site idx: molecule atom idx\u001b[0m\u001b[0;34m\u001b[0m\u001b[0;34m\u001b[0m\u001b[0m\n\u001b[1;32m      6\u001b[0m     \u001b[0;32mfor\u001b[0m \u001b[0mi\u001b[0m \u001b[0;32min\u001b[0m \u001b[0mrange\u001b[0m\u001b[0;34m(\u001b[0m\u001b[0mn\u001b[0m\u001b[0;34m)\u001b[0m\u001b[0;34m:\u001b[0m\u001b[0;34m\u001b[0m\u001b[0;34m\u001b[0m\u001b[0m\n",
      "\u001b[0;32m/tmp/ipykernel_7467/311082491.py\u001b[0m in \u001b[0;36m<listcomp>\u001b[0;34m(.0)\u001b[0m\n\u001b[1;32m      2\u001b[0m     \u001b[0mmol\u001b[0m \u001b[0;34m=\u001b[0m \u001b[0mopenbabel\u001b[0m\u001b[0;34m.\u001b[0m\u001b[0mOBMol\u001b[0m\u001b[0;34m(\u001b[0m\u001b[0;34m)\u001b[0m\u001b[0;34m\u001b[0m\u001b[0;34m\u001b[0m\u001b[0m\n\u001b[1;32m      3\u001b[0m     \u001b[0mn\u001b[0m \u001b[0;34m=\u001b[0m \u001b[0mlen\u001b[0m\u001b[0;34m(\u001b[0m\u001b[0mdefect_representation\u001b[0m\u001b[0;34m)\u001b[0m\u001b[0;34m\u001b[0m\u001b[0;34m\u001b[0m\u001b[0m\n\u001b[0;32m----> 4\u001b[0;31m     \u001b[0midx\u001b[0m \u001b[0;34m=\u001b[0m \u001b[0;34m[\u001b[0m\u001b[0mfind_site\u001b[0m\u001b[0;34m(\u001b[0m\u001b[0mstructure\u001b[0m\u001b[0;34m,\u001b[0m \u001b[0md\u001b[0m\u001b[0;34m)\u001b[0m \u001b[0;32mfor\u001b[0m \u001b[0md\u001b[0m \u001b[0;32min\u001b[0m \u001b[0mdefect_representation\u001b[0m\u001b[0;34m]\u001b[0m\u001b[0;34m\u001b[0m\u001b[0;34m\u001b[0m\u001b[0m\n\u001b[0m\u001b[1;32m      5\u001b[0m     \u001b[0matom_idxs\u001b[0m \u001b[0;34m=\u001b[0m \u001b[0;34m{\u001b[0m\u001b[0;34m}\u001b[0m \u001b[0;31m# structure site idx: molecule atom idx\u001b[0m\u001b[0;34m\u001b[0m\u001b[0;34m\u001b[0m\u001b[0m\n\u001b[1;32m      6\u001b[0m     \u001b[0;32mfor\u001b[0m \u001b[0mi\u001b[0m \u001b[0;32min\u001b[0m \u001b[0mrange\u001b[0m\u001b[0;34m(\u001b[0m\u001b[0mn\u001b[0m\u001b[0;34m)\u001b[0m\u001b[0;34m:\u001b[0m\u001b[0;34m\u001b[0m\u001b[0;34m\u001b[0m\u001b[0m\n",
      "\u001b[0;32m~/mipt/bacc/utils.py\u001b[0m in \u001b[0;36mfind_site\u001b[0;34m(structure, site, atol)\u001b[0m\n\u001b[1;32m    105\u001b[0m         \u001b[0;32mif\u001b[0m \u001b[0msites_equal\u001b[0m\u001b[0;34m(\u001b[0m\u001b[0ms\u001b[0m\u001b[0;34m,\u001b[0m \u001b[0msite\u001b[0m\u001b[0;34m,\u001b[0m \u001b[0matol\u001b[0m\u001b[0;34m)\u001b[0m\u001b[0;34m:\u001b[0m\u001b[0;34m\u001b[0m\u001b[0;34m\u001b[0m\u001b[0m\n\u001b[1;32m    106\u001b[0m             \u001b[0;32mreturn\u001b[0m \u001b[0mi\u001b[0m\u001b[0;34m\u001b[0m\u001b[0;34m\u001b[0m\u001b[0m\n\u001b[0;32m--> 107\u001b[0;31m     \u001b[0;32mraise\u001b[0m \u001b[0mValueError\u001b[0m\u001b[0;34m(\u001b[0m\u001b[0;34mf\"{site} not found in structure with atol={atol}\"\u001b[0m\u001b[0;34m)\u001b[0m\u001b[0;34m\u001b[0m\u001b[0;34m\u001b[0m\u001b[0m\n\u001b[0m\u001b[1;32m    108\u001b[0m \u001b[0;34m\u001b[0m\u001b[0m\n\u001b[1;32m    109\u001b[0m \u001b[0;32mdef\u001b[0m \u001b[0msafe_find_site\u001b[0m\u001b[0;34m(\u001b[0m\u001b[0msites\u001b[0m\u001b[0;34m,\u001b[0m \u001b[0msite\u001b[0m\u001b[0;34m,\u001b[0m \u001b[0matol\u001b[0m\u001b[0;34m=\u001b[0m\u001b[0;36m1e-1\u001b[0m\u001b[0;34m)\u001b[0m\u001b[0;34m:\u001b[0m\u001b[0;34m\u001b[0m\u001b[0;34m\u001b[0m\u001b[0m\n",
      "\u001b[0;31mValueError\u001b[0m: [3.20307696 7.36035079 3.719751  ] X0+ not found in structure with atol=0.1"
     ]
    }
   ],
   "source": [
    "pbmol = create_large_pbmol(dataset[24].initial_structure,\n",
    "                          dataset[24].defect_representation,\n",
    "                          nx.Graph(graph.graph))"
   ]
  },
  {
   "cell_type": "code",
   "execution_count": 163,
   "id": "70d49962",
   "metadata": {},
   "outputs": [],
   "source": [
    "pbmol.draw()"
   ]
  },
  {
   "cell_type": "code",
   "execution_count": 134,
   "id": "a2462c45",
   "metadata": {},
   "outputs": [
    {
     "data": {
      "text/plain": [
       "[ConnectedSite(site=PeriodicSite: S (1.5952, 0.9210, 2.1549) [0.0833, 0.0417, 0.1448], jimage=(0, 0, 0), index=65, weight=2.4169333360037606, dist=2.4169333360037606),\n",
       " ConnectedSite(site=PeriodicSite: S (1.5952, 0.9210, 5.2846) [0.0833, 0.0417, 0.3552], jimage=(0, 0, 0), index=129, weight=2.4169333360037597, dist=2.4169333360037606),\n",
       " ConnectedSite(site=PeriodicSite: S (-0.0000, 3.6839, 2.1549) [0.0833, 0.1667, 0.1448], jimage=(0, 0, 0), index=66, weight=2.416933672897242, dist=2.416933672897242),\n",
       " ConnectedSite(site=PeriodicSite: S (-1.5952, 0.9210, 5.2846) [-0.0417, 0.0417, 0.3552], jimage=(-1, 0, 0), index=184, weight=2.416933672897243, dist=2.4169336728972426),\n",
       " ConnectedSite(site=PeriodicSite: S (-1.5952, 0.9210, 2.1549) [-0.0417, 0.0417, 0.1448], jimage=(-1, 0, 0), index=121, weight=2.4169336728972435, dist=2.4169336728972426),\n",
       " ConnectedSite(site=PeriodicSite: S (-0.0000, 3.6839, 5.2846) [0.0833, 0.1667, 0.3552], jimage=(0, 0, 0), index=130, weight=2.4169336728972413, dist=2.4169336728972426),\n",
       " ConnectedSite(site=PeriodicSite: Mo (3.1903, 1.8419, 3.7198) [0.1667, 0.0833, 0.2500], jimage=(0, 0, 0), index=8, weight=3.1903156999999984, dist=3.1903156999999998),\n",
       " ConnectedSite(site=PeriodicSite: Mo (-3.1903, 1.8419, 3.7198) [-0.0833, 0.0833, 0.2500], jimage=(-1, 0, 0), index=56, weight=3.190315700000002, dist=3.1903156999999998),\n",
       " ConnectedSite(site=PeriodicSite: Mo (1.5952, -0.9210, 3.7198) [0.0417, -0.0417, 0.2500], jimage=(0, -1, 0), index=7, weight=3.1903157000000015, dist=3.1903157),\n",
       " ConnectedSite(site=PeriodicSite: Mo (-1.5952, 4.6048, 3.7198) [0.0417, 0.2083, 0.2500], jimage=(0, 0, 0), index=1, weight=3.1903157000000006, dist=3.1903157),\n",
       " ConnectedSite(site=PeriodicSite: Mo (1.5952, 4.6048, 3.7198) [0.1667, 0.2083, 0.2500], jimage=(0, 0, 0), index=9, weight=3.190315700000001, dist=3.190315700000001),\n",
       " ConnectedSite(site=PeriodicSite: Mo (-1.5952, -0.9210, 3.7198) [-0.0833, -0.0417, 0.2500], jimage=(-1, -1, 0), index=63, weight=3.190315700000001, dist=3.190315700000001)]"
      ]
     },
     "execution_count": 134,
     "metadata": {},
     "output_type": "execute_result"
    }
   ],
   "source": [
    "graph.get_connected_sites(0)"
   ]
  },
  {
   "cell_type": "code",
   "execution_count": 8,
   "id": "8bf3a995",
   "metadata": {},
   "outputs": [
    {
     "data": {
      "text/plain": [
       "[1, 7, 8, 9, 56, 63]"
      ]
     },
     "execution_count": 8,
     "metadata": {},
     "output_type": "execute_result"
    }
   ],
   "source": [
    "get_nn(dataset[0].initial_structure, dataset[0].initial_structure[0])"
   ]
  },
  {
   "cell_type": "code",
   "execution_count": 64,
   "id": "20f160d1",
   "metadata": {},
   "outputs": [],
   "source": [
    "from pymatgen.core import Structure"
   ]
  },
  {
   "cell_type": "code",
   "execution_count": 94,
   "id": "960088f3",
   "metadata": {},
   "outputs": [],
   "source": [
    "def get_r(structure, size=(8,8,3)):\n",
    "    ls = np.array(structure.lattice.lengths) / size\n",
    "    return np.sqrt(np.sum(np.square(ls))) / 2"
   ]
  },
  {
   "cell_type": "code",
   "execution_count": 26,
   "id": "e1ffa45b",
   "metadata": {},
   "outputs": [
    {
     "name": "stdout",
     "output_type": "stream",
     "text": [
      "[Parallel(n_jobs=-3)]: Using backend LokyBackend with 6 concurrent workers.\n"
     ]
    },
    {
     "name": "stderr",
     "output_type": "stream",
     "text": [
      "/home/user/anaconda3/envs/bacc/lib/python3.9/site-packages/pymatgen/core/__init__.py:49: UserWarning: Error loading .pmgrc.yaml: [Errno 2] No such file or directory: '/home/user/.pmgrc.yaml'. You may need to reconfigure your yaml file.\n",
      "  warnings.warn(f\"Error loading .pmgrc.yaml: {ex}. You may need to reconfigure your yaml file.\")\n",
      "/home/user/anaconda3/envs/bacc/lib/python3.9/site-packages/pymatgen/core/__init__.py:49: UserWarning: Error loading .pmgrc.yaml: [Errno 2] No such file or directory: '/home/user/.pmgrc.yaml'. You may need to reconfigure your yaml file.\n",
      "  warnings.warn(f\"Error loading .pmgrc.yaml: {ex}. You may need to reconfigure your yaml file.\")\n",
      "/home/user/anaconda3/envs/bacc/lib/python3.9/site-packages/pymatgen/core/__init__.py:49: UserWarning: Error loading .pmgrc.yaml: [Errno 2] No such file or directory: '/home/user/.pmgrc.yaml'. You may need to reconfigure your yaml file.\n",
      "  warnings.warn(f\"Error loading .pmgrc.yaml: {ex}. You may need to reconfigure your yaml file.\")\n",
      "/home/user/anaconda3/envs/bacc/lib/python3.9/site-packages/pymatgen/core/__init__.py:49: UserWarning: Error loading .pmgrc.yaml: [Errno 2] No such file or directory: '/home/user/.pmgrc.yaml'. You may need to reconfigure your yaml file.\n",
      "  warnings.warn(f\"Error loading .pmgrc.yaml: {ex}. You may need to reconfigure your yaml file.\")\n",
      "/home/user/anaconda3/envs/bacc/lib/python3.9/site-packages/pymatgen/core/__init__.py:49: UserWarning: Error loading .pmgrc.yaml: [Errno 2] No such file or directory: '/home/user/.pmgrc.yaml'. You may need to reconfigure your yaml file.\n",
      "  warnings.warn(f\"Error loading .pmgrc.yaml: {ex}. You may need to reconfigure your yaml file.\")\n",
      "/home/user/anaconda3/envs/bacc/lib/python3.9/site-packages/pymatgen/core/__init__.py:49: UserWarning: Error loading .pmgrc.yaml: [Errno 2] No such file or directory: '/home/user/.pmgrc.yaml'. You may need to reconfigure your yaml file.\n",
      "  warnings.warn(f\"Error loading .pmgrc.yaml: {ex}. You may need to reconfigure your yaml file.\")\n"
     ]
    },
    {
     "name": "stdout",
     "output_type": "stream",
     "text": [
      "[Parallel(n_jobs=-3)]: Done   1 tasks      | elapsed:    3.3s\n",
      "[Parallel(n_jobs=-3)]: Done   2 out of  10 | elapsed:    3.5s remaining:   13.8s\n",
      "[Parallel(n_jobs=-3)]: Done   3 out of  10 | elapsed:    3.6s remaining:    8.3s\n",
      "[Parallel(n_jobs=-3)]: Done   4 out of  10 | elapsed:    4.7s remaining:    7.1s\n",
      "[Parallel(n_jobs=-3)]: Done   5 out of  10 | elapsed:    5.0s remaining:    5.0s\n",
      "[Parallel(n_jobs=-3)]: Done   6 out of  10 | elapsed:    5.5s remaining:    3.7s\n",
      "[Parallel(n_jobs=-3)]: Done   7 out of  10 | elapsed:    5.7s remaining:    2.5s\n",
      "[Parallel(n_jobs=-3)]: Done   8 out of  10 | elapsed:    6.0s remaining:    1.5s\n",
      "[Parallel(n_jobs=-3)]: Done  10 out of  10 | elapsed:    6.7s remaining:    0.0s\n",
      "[Parallel(n_jobs=-3)]: Done  10 out of  10 | elapsed:    6.7s finished\n"
     ]
    }
   ],
   "source": [
    "ad = generate_group_adj_dict(dataset.get_subgroup_df('X2_diff'), checker)"
   ]
  },
  {
   "cell_type": "code",
   "execution_count": 23,
   "id": "2acc806a",
   "metadata": {},
   "outputs": [
    {
     "data": {
      "text/plain": [
       "{1: [],\n",
       " 4: [4, 292, 208, 453],\n",
       " 208: [208, 1, 582],\n",
       " 292: [208],\n",
       " 370: [1, 582, 597, 370],\n",
       " 398: [4, 292, 398],\n",
       " 453: [208, 582],\n",
       " 500: [4, 453],\n",
       " 582: [1],\n",
       " 597: []}"
      ]
     },
     "execution_count": 23,
     "metadata": {},
     "output_type": "execute_result"
    }
   ],
   "source": [
    "ad"
   ]
  },
  {
   "cell_type": "code",
   "execution_count": 24,
   "id": "eb21739b",
   "metadata": {},
   "outputs": [
    {
     "name": "stdout",
     "output_type": "stream",
     "text": [
      "No path from 1 to 597!\n",
      "No path from 4 to 597!\n",
      "No path from 208 to 597!\n",
      "No path from 292 to 597!\n",
      "No path from 398 to 597!\n",
      "No path from 453 to 597!\n",
      "No path from 500 to 597!\n",
      "No path from 582 to 597!\n"
     ]
    },
    {
     "data": {
      "text/plain": [
       "False"
      ]
     },
     "execution_count": 24,
     "metadata": {},
     "output_type": "execute_result"
    }
   ],
   "source": [
    "check_reachable(ad, dataset.subgroup_energy_argmin_idx('X2_diff'))"
   ]
  },
  {
   "cell_type": "code",
   "execution_count": 14,
   "id": "88239859",
   "metadata": {},
   "outputs": [
    {
     "ename": "NameError",
     "evalue": "name 'Molecule' is not defined",
     "output_type": "error",
     "traceback": [
      "\u001b[0;31m---------------------------------------------------------------------------\u001b[0m",
      "\u001b[0;31mNameError\u001b[0m                                 Traceback (most recent call last)",
      "\u001b[0;32m/tmp/ipykernel_4794/1864837379.py\u001b[0m in \u001b[0;36m<module>\u001b[0;34m\u001b[0m\n\u001b[0;32m----> 1\u001b[0;31m \u001b[0mpmg_mol\u001b[0m \u001b[0;34m=\u001b[0m \u001b[0mMolecule\u001b[0m\u001b[0;34m(\u001b[0m\u001b[0;34m[\u001b[0m\u001b[0msite\u001b[0m\u001b[0;34m.\u001b[0m\u001b[0mspecies\u001b[0m \u001b[0;32mfor\u001b[0m \u001b[0msite\u001b[0m \u001b[0;32min\u001b[0m \u001b[0md24\u001b[0m\u001b[0;34m]\u001b[0m\u001b[0;34m,\u001b[0m \u001b[0;34m[\u001b[0m\u001b[0;34m[\u001b[0m\u001b[0mint\u001b[0m\u001b[0;34m(\u001b[0m\u001b[0mc\u001b[0m\u001b[0;34m*\u001b[0m\u001b[0;36m100\u001b[0m\u001b[0;34m)\u001b[0m \u001b[0;32mfor\u001b[0m \u001b[0mc\u001b[0m \u001b[0;32min\u001b[0m \u001b[0msite\u001b[0m\u001b[0;34m.\u001b[0m\u001b[0mcoords\u001b[0m\u001b[0;34m]\u001b[0m \u001b[0;32mfor\u001b[0m \u001b[0msite\u001b[0m \u001b[0;32min\u001b[0m \u001b[0md24\u001b[0m \u001b[0;34m]\u001b[0m\u001b[0;34m)\u001b[0m\u001b[0;34m\u001b[0m\u001b[0;34m\u001b[0m\u001b[0m\n\u001b[0m\u001b[1;32m      2\u001b[0m \u001b[0mpmg_mol\u001b[0m\u001b[0;34m\u001b[0m\u001b[0;34m\u001b[0m\u001b[0m\n",
      "\u001b[0;31mNameError\u001b[0m: name 'Molecule' is not defined"
     ]
    }
   ],
   "source": [
    "pmg_mol = Molecule([site.species for site in d24], [[int(c*100) for c in site.coords] for site in d24 ])\n",
    "pmg_mol"
   ]
  },
  {
   "cell_type": "code",
   "execution_count": 83,
   "id": "69371185",
   "metadata": {},
   "outputs": [],
   "source": [
    "spectromaker = pybel.ob.OBSpectrophore()"
   ]
  },
  {
   "cell_type": "code",
   "execution_count": 84,
   "id": "899e6c94",
   "metadata": {},
   "outputs": [],
   "source": [
    "myspec = spectromaker.GetSpectrophore(pbmol.OBMol)"
   ]
  },
  {
   "cell_type": "code",
   "execution_count": null,
   "id": "72cd738c",
   "metadata": {},
   "outputs": [],
   "source": [
    "dataset.data[dataset.data.idx == 597]"
   ]
  },
  {
   "cell_type": "code",
   "execution_count": 23,
   "id": "fb15400b",
   "metadata": {},
   "outputs": [
    {
     "name": "stdout",
     "output_type": "stream",
     "text": [
      "[Parallel(n_jobs=-3)]: Using backend LokyBackend with 6 concurrent workers.\n"
     ]
    },
    {
     "name": "stderr",
     "output_type": "stream",
     "text": [
      "/home/user/anaconda3/envs/bacc/lib/python3.9/site-packages/pymatgen/core/__init__.py:49: UserWarning: Error loading .pmgrc.yaml: [Errno 2] No such file or directory: '/home/user/.pmgrc.yaml'. You may need to reconfigure your yaml file.\n",
      "  warnings.warn(f\"Error loading .pmgrc.yaml: {ex}. You may need to reconfigure your yaml file.\")\n",
      "/home/user/anaconda3/envs/bacc/lib/python3.9/site-packages/pymatgen/core/__init__.py:49: UserWarning: Error loading .pmgrc.yaml: [Errno 2] No such file or directory: '/home/user/.pmgrc.yaml'. You may need to reconfigure your yaml file.\n",
      "  warnings.warn(f\"Error loading .pmgrc.yaml: {ex}. You may need to reconfigure your yaml file.\")\n",
      "/home/user/anaconda3/envs/bacc/lib/python3.9/site-packages/pymatgen/core/__init__.py:49: UserWarning: Error loading .pmgrc.yaml: [Errno 2] No such file or directory: '/home/user/.pmgrc.yaml'. You may need to reconfigure your yaml file.\n",
      "  warnings.warn(f\"Error loading .pmgrc.yaml: {ex}. You may need to reconfigure your yaml file.\")\n",
      "/home/user/anaconda3/envs/bacc/lib/python3.9/site-packages/pymatgen/core/__init__.py:49: UserWarning: Error loading .pmgrc.yaml: [Errno 2] No such file or directory: '/home/user/.pmgrc.yaml'. You may need to reconfigure your yaml file.\n",
      "  warnings.warn(f\"Error loading .pmgrc.yaml: {ex}. You may need to reconfigure your yaml file.\")\n",
      "/home/user/anaconda3/envs/bacc/lib/python3.9/site-packages/pymatgen/core/__init__.py:49: UserWarning: Error loading .pmgrc.yaml: [Errno 2] No such file or directory: '/home/user/.pmgrc.yaml'. You may need to reconfigure your yaml file.\n",
      "  warnings.warn(f\"Error loading .pmgrc.yaml: {ex}. You may need to reconfigure your yaml file.\")\n",
      "/home/user/anaconda3/envs/bacc/lib/python3.9/site-packages/pymatgen/core/__init__.py:49: UserWarning: Error loading .pmgrc.yaml: [Errno 2] No such file or directory: '/home/user/.pmgrc.yaml'. You may need to reconfigure your yaml file.\n",
      "  warnings.warn(f\"Error loading .pmgrc.yaml: {ex}. You may need to reconfigure your yaml file.\")\n"
     ]
    },
    {
     "name": "stdout",
     "output_type": "stream",
     "text": [
      "[Parallel(n_jobs=-3)]: Done   1 tasks      | elapsed:    2.2s\n",
      "[Parallel(n_jobs=-3)]: Done   2 tasks      | elapsed:    2.3s\n",
      "[Parallel(n_jobs=-3)]: Done   3 tasks      | elapsed:    2.3s\n",
      "[Parallel(n_jobs=-3)]: Done   4 tasks      | elapsed:    2.3s\n",
      "[Parallel(n_jobs=-3)]: Done   5 tasks      | elapsed:    2.3s\n",
      "[Parallel(n_jobs=-3)]: Done   6 tasks      | elapsed:    2.3s\n",
      "[Parallel(n_jobs=-3)]: Done   7 tasks      | elapsed:    2.3s\n",
      "[Parallel(n_jobs=-3)]: Done   8 tasks      | elapsed:    2.3s\n",
      "[Parallel(n_jobs=-3)]: Done   9 out of  13 | elapsed:    2.3s remaining:    1.0s\n",
      "[Parallel(n_jobs=-3)]: Done  10 out of  13 | elapsed:    2.3s remaining:    0.7s\n",
      "[Parallel(n_jobs=-3)]: Done  11 out of  13 | elapsed:    2.3s remaining:    0.4s\n",
      "[Parallel(n_jobs=-3)]: Done  13 out of  13 | elapsed:    2.3s remaining:    0.0s\n"
     ]
    },
    {
     "ename": "AttributeError",
     "evalue": "'Series' object has no attribute 'idx'",
     "output_type": "error",
     "traceback": [
      "\u001b[0;31m---------------------------------------------------------------------------\u001b[0m",
      "\u001b[0;31m_RemoteTraceback\u001b[0m                          Traceback (most recent call last)",
      "\u001b[0;31m_RemoteTraceback\u001b[0m: \n\"\"\"\nTraceback (most recent call last):\n  File \"/home/user/anaconda3/envs/bacc/lib/python3.9/site-packages/joblib/externals/loky/process_executor.py\", line 436, in _process_worker\n    r = call_item()\n  File \"/home/user/anaconda3/envs/bacc/lib/python3.9/site-packages/joblib/externals/loky/process_executor.py\", line 288, in __call__\n    return self.fn(*self.args, **self.kwargs)\n  File \"/home/user/anaconda3/envs/bacc/lib/python3.9/site-packages/joblib/_parallel_backends.py\", line 595, in __call__\n    return self.func(*args, **kwargs)\n  File \"/home/user/anaconda3/envs/bacc/lib/python3.9/site-packages/joblib/parallel.py\", line 262, in __call__\n    return [func(*args, **kwargs)\n  File \"/home/user/anaconda3/envs/bacc/lib/python3.9/site-packages/joblib/parallel.py\", line 262, in <listcomp>\n    return [func(*args, **kwargs)\n  File \"/tmp/ipykernel_6275/442497482.py\", line 11, in get_item\n  File \"/home/user/anaconda3/envs/bacc/lib/python3.9/site-packages/pandas/core/generic.py\", line 5575, in __getattr__\n    return object.__getattribute__(self, name)\nAttributeError: 'Series' object has no attribute 'idx'\n\"\"\"",
      "\nThe above exception was the direct cause of the following exception:\n",
      "\u001b[0;31mAttributeError\u001b[0m                            Traceback (most recent call last)",
      "\u001b[0;32m<timed exec>\u001b[0m in \u001b[0;36m<module>\u001b[0;34m\u001b[0m\n",
      "\u001b[0;32m/tmp/ipykernel_6275/442497482.py\u001b[0m in \u001b[0;36mgenerate_group_adj_dict\u001b[0;34m(group_df, checker, thr)\u001b[0m\n\u001b[1;32m     17\u001b[0m         \u001b[0;32mreturn\u001b[0m \u001b[0madj_dict\u001b[0m\u001b[0;34m\u001b[0m\u001b[0;34m\u001b[0m\u001b[0m\n\u001b[1;32m     18\u001b[0m \u001b[0;34m\u001b[0m\u001b[0m\n\u001b[0;32m---> 19\u001b[0;31m     result = Parallel(n_jobs=-3, verbose=100)(\n\u001b[0m\u001b[1;32m     20\u001b[0m         \u001b[0mdelayed\u001b[0m\u001b[0;34m(\u001b[0m\u001b[0mget_item\u001b[0m\u001b[0;34m)\u001b[0m\u001b[0;34m(\u001b[0m\u001b[0mi\u001b[0m\u001b[0;34m,\u001b[0m \u001b[0mrow\u001b[0m\u001b[0;34m)\u001b[0m \u001b[0;32mfor\u001b[0m \u001b[0mi\u001b[0m\u001b[0;34m,\u001b[0m \u001b[0mrow\u001b[0m \u001b[0;32min\u001b[0m \u001b[0mgroup_df\u001b[0m\u001b[0;34m.\u001b[0m\u001b[0miterrows\u001b[0m\u001b[0;34m(\u001b[0m\u001b[0;34m)\u001b[0m\u001b[0;34m\u001b[0m\u001b[0;34m\u001b[0m\u001b[0m\n\u001b[1;32m     21\u001b[0m     )\n",
      "\u001b[0;32m~/anaconda3/envs/bacc/lib/python3.9/site-packages/joblib/parallel.py\u001b[0m in \u001b[0;36m__call__\u001b[0;34m(self, iterable)\u001b[0m\n\u001b[1;32m   1054\u001b[0m \u001b[0;34m\u001b[0m\u001b[0m\n\u001b[1;32m   1055\u001b[0m             \u001b[0;32mwith\u001b[0m \u001b[0mself\u001b[0m\u001b[0;34m.\u001b[0m\u001b[0m_backend\u001b[0m\u001b[0;34m.\u001b[0m\u001b[0mretrieval_context\u001b[0m\u001b[0;34m(\u001b[0m\u001b[0;34m)\u001b[0m\u001b[0;34m:\u001b[0m\u001b[0;34m\u001b[0m\u001b[0;34m\u001b[0m\u001b[0m\n\u001b[0;32m-> 1056\u001b[0;31m                 \u001b[0mself\u001b[0m\u001b[0;34m.\u001b[0m\u001b[0mretrieve\u001b[0m\u001b[0;34m(\u001b[0m\u001b[0;34m)\u001b[0m\u001b[0;34m\u001b[0m\u001b[0;34m\u001b[0m\u001b[0m\n\u001b[0m\u001b[1;32m   1057\u001b[0m             \u001b[0;31m# Make sure that we get a last message telling us we are done\u001b[0m\u001b[0;34m\u001b[0m\u001b[0;34m\u001b[0m\u001b[0m\n\u001b[1;32m   1058\u001b[0m             \u001b[0melapsed_time\u001b[0m \u001b[0;34m=\u001b[0m \u001b[0mtime\u001b[0m\u001b[0;34m.\u001b[0m\u001b[0mtime\u001b[0m\u001b[0;34m(\u001b[0m\u001b[0;34m)\u001b[0m \u001b[0;34m-\u001b[0m \u001b[0mself\u001b[0m\u001b[0;34m.\u001b[0m\u001b[0m_start_time\u001b[0m\u001b[0;34m\u001b[0m\u001b[0;34m\u001b[0m\u001b[0m\n",
      "\u001b[0;32m~/anaconda3/envs/bacc/lib/python3.9/site-packages/joblib/parallel.py\u001b[0m in \u001b[0;36mretrieve\u001b[0;34m(self)\u001b[0m\n\u001b[1;32m    933\u001b[0m             \u001b[0;32mtry\u001b[0m\u001b[0;34m:\u001b[0m\u001b[0;34m\u001b[0m\u001b[0;34m\u001b[0m\u001b[0m\n\u001b[1;32m    934\u001b[0m                 \u001b[0;32mif\u001b[0m \u001b[0mgetattr\u001b[0m\u001b[0;34m(\u001b[0m\u001b[0mself\u001b[0m\u001b[0;34m.\u001b[0m\u001b[0m_backend\u001b[0m\u001b[0;34m,\u001b[0m \u001b[0;34m'supports_timeout'\u001b[0m\u001b[0;34m,\u001b[0m \u001b[0;32mFalse\u001b[0m\u001b[0;34m)\u001b[0m\u001b[0;34m:\u001b[0m\u001b[0;34m\u001b[0m\u001b[0;34m\u001b[0m\u001b[0m\n\u001b[0;32m--> 935\u001b[0;31m                     \u001b[0mself\u001b[0m\u001b[0;34m.\u001b[0m\u001b[0m_output\u001b[0m\u001b[0;34m.\u001b[0m\u001b[0mextend\u001b[0m\u001b[0;34m(\u001b[0m\u001b[0mjob\u001b[0m\u001b[0;34m.\u001b[0m\u001b[0mget\u001b[0m\u001b[0;34m(\u001b[0m\u001b[0mtimeout\u001b[0m\u001b[0;34m=\u001b[0m\u001b[0mself\u001b[0m\u001b[0;34m.\u001b[0m\u001b[0mtimeout\u001b[0m\u001b[0;34m)\u001b[0m\u001b[0;34m)\u001b[0m\u001b[0;34m\u001b[0m\u001b[0;34m\u001b[0m\u001b[0m\n\u001b[0m\u001b[1;32m    936\u001b[0m                 \u001b[0;32melse\u001b[0m\u001b[0;34m:\u001b[0m\u001b[0;34m\u001b[0m\u001b[0;34m\u001b[0m\u001b[0m\n\u001b[1;32m    937\u001b[0m                     \u001b[0mself\u001b[0m\u001b[0;34m.\u001b[0m\u001b[0m_output\u001b[0m\u001b[0;34m.\u001b[0m\u001b[0mextend\u001b[0m\u001b[0;34m(\u001b[0m\u001b[0mjob\u001b[0m\u001b[0;34m.\u001b[0m\u001b[0mget\u001b[0m\u001b[0;34m(\u001b[0m\u001b[0;34m)\u001b[0m\u001b[0;34m)\u001b[0m\u001b[0;34m\u001b[0m\u001b[0;34m\u001b[0m\u001b[0m\n",
      "\u001b[0;32m~/anaconda3/envs/bacc/lib/python3.9/site-packages/joblib/_parallel_backends.py\u001b[0m in \u001b[0;36mwrap_future_result\u001b[0;34m(future, timeout)\u001b[0m\n\u001b[1;32m    540\u001b[0m         AsyncResults.get from multiprocessing.\"\"\"\n\u001b[1;32m    541\u001b[0m         \u001b[0;32mtry\u001b[0m\u001b[0;34m:\u001b[0m\u001b[0;34m\u001b[0m\u001b[0;34m\u001b[0m\u001b[0m\n\u001b[0;32m--> 542\u001b[0;31m             \u001b[0;32mreturn\u001b[0m \u001b[0mfuture\u001b[0m\u001b[0;34m.\u001b[0m\u001b[0mresult\u001b[0m\u001b[0;34m(\u001b[0m\u001b[0mtimeout\u001b[0m\u001b[0;34m=\u001b[0m\u001b[0mtimeout\u001b[0m\u001b[0;34m)\u001b[0m\u001b[0;34m\u001b[0m\u001b[0;34m\u001b[0m\u001b[0m\n\u001b[0m\u001b[1;32m    543\u001b[0m         \u001b[0;32mexcept\u001b[0m \u001b[0mCfTimeoutError\u001b[0m \u001b[0;32mas\u001b[0m \u001b[0me\u001b[0m\u001b[0;34m:\u001b[0m\u001b[0;34m\u001b[0m\u001b[0;34m\u001b[0m\u001b[0m\n\u001b[1;32m    544\u001b[0m             \u001b[0;32mraise\u001b[0m \u001b[0mTimeoutError\u001b[0m \u001b[0;32mfrom\u001b[0m \u001b[0me\u001b[0m\u001b[0;34m\u001b[0m\u001b[0;34m\u001b[0m\u001b[0m\n",
      "\u001b[0;32m~/anaconda3/envs/bacc/lib/python3.9/concurrent/futures/_base.py\u001b[0m in \u001b[0;36mresult\u001b[0;34m(self, timeout)\u001b[0m\n\u001b[1;32m    443\u001b[0m                     \u001b[0;32mraise\u001b[0m \u001b[0mCancelledError\u001b[0m\u001b[0;34m(\u001b[0m\u001b[0;34m)\u001b[0m\u001b[0;34m\u001b[0m\u001b[0;34m\u001b[0m\u001b[0m\n\u001b[1;32m    444\u001b[0m                 \u001b[0;32melif\u001b[0m \u001b[0mself\u001b[0m\u001b[0;34m.\u001b[0m\u001b[0m_state\u001b[0m \u001b[0;34m==\u001b[0m \u001b[0mFINISHED\u001b[0m\u001b[0;34m:\u001b[0m\u001b[0;34m\u001b[0m\u001b[0;34m\u001b[0m\u001b[0m\n\u001b[0;32m--> 445\u001b[0;31m                     \u001b[0;32mreturn\u001b[0m \u001b[0mself\u001b[0m\u001b[0;34m.\u001b[0m\u001b[0m__get_result\u001b[0m\u001b[0;34m(\u001b[0m\u001b[0;34m)\u001b[0m\u001b[0;34m\u001b[0m\u001b[0;34m\u001b[0m\u001b[0m\n\u001b[0m\u001b[1;32m    446\u001b[0m                 \u001b[0;32melse\u001b[0m\u001b[0;34m:\u001b[0m\u001b[0;34m\u001b[0m\u001b[0;34m\u001b[0m\u001b[0m\n\u001b[1;32m    447\u001b[0m                     \u001b[0;32mraise\u001b[0m \u001b[0mTimeoutError\u001b[0m\u001b[0;34m(\u001b[0m\u001b[0;34m)\u001b[0m\u001b[0;34m\u001b[0m\u001b[0;34m\u001b[0m\u001b[0m\n",
      "\u001b[0;32m~/anaconda3/envs/bacc/lib/python3.9/concurrent/futures/_base.py\u001b[0m in \u001b[0;36m__get_result\u001b[0;34m(self)\u001b[0m\n\u001b[1;32m    388\u001b[0m         \u001b[0;32mif\u001b[0m \u001b[0mself\u001b[0m\u001b[0;34m.\u001b[0m\u001b[0m_exception\u001b[0m\u001b[0;34m:\u001b[0m\u001b[0;34m\u001b[0m\u001b[0;34m\u001b[0m\u001b[0m\n\u001b[1;32m    389\u001b[0m             \u001b[0;32mtry\u001b[0m\u001b[0;34m:\u001b[0m\u001b[0;34m\u001b[0m\u001b[0;34m\u001b[0m\u001b[0m\n\u001b[0;32m--> 390\u001b[0;31m                 \u001b[0;32mraise\u001b[0m \u001b[0mself\u001b[0m\u001b[0;34m.\u001b[0m\u001b[0m_exception\u001b[0m\u001b[0;34m\u001b[0m\u001b[0;34m\u001b[0m\u001b[0m\n\u001b[0m\u001b[1;32m    391\u001b[0m             \u001b[0;32mfinally\u001b[0m\u001b[0;34m:\u001b[0m\u001b[0;34m\u001b[0m\u001b[0;34m\u001b[0m\u001b[0m\n\u001b[1;32m    392\u001b[0m                 \u001b[0;31m# Break a reference cycle with the exception in self._exception\u001b[0m\u001b[0;34m\u001b[0m\u001b[0;34m\u001b[0m\u001b[0m\n",
      "\u001b[0;31mAttributeError\u001b[0m: 'Series' object has no attribute 'idx'"
     ]
    },
    {
     "ename": "NameError",
     "evalue": "name 'ad' is not defined",
     "output_type": "error",
     "traceback": [
      "\u001b[0;31m---------------------------------------------------------------------------\u001b[0m",
      "\u001b[0;31mNameError\u001b[0m                                 Traceback (most recent call last)",
      "\u001b[0;32m/tmp/ipykernel_6275/2015158191.py\u001b[0m in \u001b[0;36m<module>\u001b[0;34m\u001b[0m\n\u001b[1;32m      1\u001b[0m \u001b[0mget_ipython\u001b[0m\u001b[0;34m(\u001b[0m\u001b[0;34m)\u001b[0m\u001b[0;34m.\u001b[0m\u001b[0mrun_line_magic\u001b[0m\u001b[0;34m(\u001b[0m\u001b[0;34m'time'\u001b[0m\u001b[0;34m,\u001b[0m \u001b[0;34m\"ad = generate_group_adj_dict(dataset.get_group_df('X2'), checker)\"\u001b[0m\u001b[0;34m)\u001b[0m\u001b[0;34m\u001b[0m\u001b[0;34m\u001b[0m\u001b[0m\n\u001b[0;32m----> 2\u001b[0;31m \u001b[0mcheck_reachable\u001b[0m\u001b[0;34m(\u001b[0m\u001b[0mad\u001b[0m\u001b[0;34m,\u001b[0m \u001b[0mdataset\u001b[0m\u001b[0;34m.\u001b[0m\u001b[0mgroup_energy_argmin_idx\u001b[0m\u001b[0;34m(\u001b[0m\u001b[0;34m'X2'\u001b[0m\u001b[0;34m)\u001b[0m\u001b[0;34m)\u001b[0m\u001b[0;34m\u001b[0m\u001b[0;34m\u001b[0m\u001b[0m\n\u001b[0m",
      "\u001b[0;31mNameError\u001b[0m: name 'ad' is not defined"
     ]
    }
   ],
   "source": [
    "%time ad = generate_group_adj_dict(dataset.get_group_df('X2'), checker)\n",
    "check_reachable(ad, dataset.group_energy_argmin_idx('X2'))"
   ]
  },
  {
   "cell_type": "code",
   "execution_count": null,
   "id": "f1124f79",
   "metadata": {},
   "outputs": [],
   "source": [
    "dataset.get_subgroup_df('X2_diff')"
   ]
  },
  {
   "cell_type": "code",
   "execution_count": null,
   "id": "9a9086f1",
   "metadata": {},
   "outputs": [],
   "source": [
    "assert False"
   ]
  },
  {
   "cell_type": "code",
   "execution_count": null,
   "id": "75bd3cde",
   "metadata": {},
   "outputs": [],
   "source": [
    "group = 'X5'\n",
    "group_df = data[data.group == group]\n",
    "adj_dict = generate_group_adj_dict(group_df, checker)\n",
    "min_idx = group_df.iloc[group_df.energy_per_atom.argmin()].idx\n",
    "check_reachable(adj_dict, min_idx)"
   ]
  },
  {
   "cell_type": "code",
   "execution_count": null,
   "id": "81c68e31",
   "metadata": {},
   "outputs": [],
   "source": [
    "%time\n",
    "all_adjs, all_reachability = check_all_groups(data.group.unique(), data, \n",
    "                                                 checker)"
   ]
  },
  {
   "cell_type": "code",
   "execution_count": 8,
   "id": "5d3d88c6",
   "metadata": {},
   "outputs": [],
   "source": [
    "df_x5_diff = dataset.get_subgroup_df('X5_diff')"
   ]
  },
  {
   "cell_type": "code",
   "execution_count": 9,
   "id": "197c628e",
   "metadata": {},
   "outputs": [],
   "source": [
    "y = df_x5_diff.energy_per_atom"
   ]
  },
  {
   "cell_type": "code",
   "execution_count": 10,
   "id": "79b21b2a",
   "metadata": {},
   "outputs": [],
   "source": [
    "x = []\n",
    "for defect_repr in df_x5_diff.defect_representation:\n",
    "    x.append(defect_repr[0].distance(defect_repr[1]))"
   ]
  },
  {
   "cell_type": "code",
   "execution_count": 11,
   "id": "57716fb0",
   "metadata": {},
   "outputs": [
    {
     "data": {
      "text/plain": [
       "<matplotlib.collections.PathCollection at 0x7feb5dab1df0>"
      ]
     },
     "execution_count": 11,
     "metadata": {},
     "output_type": "execute_result"
    },
    {
     "data": {
      "image/png": "[encoded data removed]",
      "text/plain": [
       "<Figure size 432x288 with 1 Axes>"
      ]
     },
     "metadata": {
      "needs_background": "light"
     },
     "output_type": "display_data"
    }
   ],
   "source": [
    "plt.scatter(x, y)"
   ]
  },
  {
   "cell_type": "code",
   "execution_count": 76,
   "id": "75a3cb83",
   "metadata": {},
   "outputs": [
    {
     "data": {
      "text/plain": [
       "1"
      ]
     },
     "execution_count": 76,
     "metadata": {},
     "output_type": "execute_result"
    }
   ],
   "source": [
    "1"
   ]
  },
  {
   "cell_type": "code",
   "execution_count": null,
   "id": "f4d879e3",
   "metadata": {},
   "outputs": [],
   "source": []
  }
 ],
 "metadata": {
  "kernelspec": {
   "display_name": "Python 3 (ipykernel)",
   "language": "python",
   "name": "python3"
  },
  "language_info": {
   "codemirror_mode": {
    "name": "ipython",
    "version": 3
   },
   "file_extension": ".py",
   "mimetype": "text/x-python",
   "name": "python",
   "nbconvert_exporter": "python",
   "pygments_lexer": "ipython3",
   "version": "3.9.7"
  },
  "varInspector": {
   "cols": {
    "lenName": 16,
    "lenType": 16,
    "lenVar": 40
   },
   "kernels_config": {
    "python": {
     "delete_cmd_postfix": "",
     "delete_cmd_prefix": "del ",
     "library": "var_list.py",
     "varRefreshCmd": "print(var_dic_list())"
    },
    "r": {
     "delete_cmd_postfix": ") ",
     "delete_cmd_prefix": "rm(",
     "library": "var_list.r",
     "varRefreshCmd": "cat(var_dic_list()) "
    }
   },
   "types_to_exclude": [
    "module",
    "function",
    "builtin_function_or_method",
    "instance",
    "_Feature"
   ],
   "window_display": false
  }
 },
 "nbformat": 4,
 "nbformat_minor": 5
}
