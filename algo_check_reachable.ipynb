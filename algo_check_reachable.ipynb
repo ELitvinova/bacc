{
 "cells": [
  {
   "cell_type": "code",
   "execution_count": 1,
   "id": "58522e68",
   "metadata": {},
   "outputs": [],
   "source": [
    "import pickle\n",
    "import gzip\n",
    "import pandas as pd\n",
    "import matplotlib.pyplot as plt\n",
    "\n",
    "import networkx as nx\n",
    "from tqdm import tqdm\n",
    "from joblib import Parallel, delayed"
   ]
  },
  {
   "cell_type": "code",
   "execution_count": 2,
   "id": "8c561a3f",
   "metadata": {},
   "outputs": [
    {
     "data": {
      "application/vnd.jupyter.widget-view+json": {
       "model_id": "7e736f75693242e0a9230930c80fe8e4",
       "version_major": 2,
       "version_minor": 0
      },
      "text/plain": []
     },
     "metadata": {},
     "output_type": "display_data"
    },
    {
     "name": "stderr",
     "output_type": "stream",
     "text": [
      "/home/user/anaconda3/envs/bacc/lib/python3.9/site-packages/pymatgen/core/__init__.py:49: UserWarning: Error loading .pmgrc.yaml: [Errno 2] No such file or directory: '/home/user/.pmgrc.yaml'. You may need to reconfigure your yaml file.\n",
      "  warnings.warn(f\"Error loading .pmgrc.yaml: {ex}. You may need to reconfigure your yaml file.\")\n"
     ]
    }
   ],
   "source": [
    "from utils import *\n",
    "from preprocessing import Dataset"
   ]
  },
  {
   "cell_type": "code",
   "execution_count": 3,
   "id": "2d82341d",
   "metadata": {},
   "outputs": [],
   "source": [
    "with gzip.open('data.pickle.gz', 'rb') as fh:\n",
    "    data = pickle.load(fh, )"
   ]
  },
  {
   "cell_type": "code",
   "execution_count": 4,
   "id": "650174a0",
   "metadata": {},
   "outputs": [],
   "source": [
    "dataset = Dataset(data)"
   ]
  },
  {
   "cell_type": "code",
   "execution_count": 5,
   "id": "52f8a5ef",
   "metadata": {},
   "outputs": [
    {
     "data": {
      "text/plain": [
       "energy_per_atom                                                  -7.284505\n",
       "initial_structure        [[1.27612629e-07 1.84192955e+00 3.71975100e+00...\n",
       "defect_representation          [[-7.98855051 17.50569919  5.28204642] X0+]\n",
       "subgroup                                                                X1\n",
       "group                                                                   X1\n",
       "Name: 0, dtype: object"
      ]
     },
     "execution_count": 5,
     "metadata": {},
     "output_type": "execute_result"
    }
   ],
   "source": [
    "dataset[0]"
   ]
  },
  {
   "cell_type": "code",
   "execution_count": 10,
   "id": "5d3d88c6",
   "metadata": {},
   "outputs": [],
   "source": [
    "df_x5_diff = dataset.get_subgroup_df('X5_diff')"
   ]
  },
  {
   "cell_type": "code",
   "execution_count": 11,
   "id": "197c628e",
   "metadata": {},
   "outputs": [],
   "source": [
    "y = df_x5_diff.energy_per_atom"
   ]
  },
  {
   "cell_type": "code",
   "execution_count": 12,
   "id": "79b21b2a",
   "metadata": {},
   "outputs": [],
   "source": [
    "x = []\n",
    "for defect_repr in df_x5_diff.defect_representation:\n",
    "    x.append(defect_repr[0].distance(defect_repr[1]))"
   ]
  },
  {
   "cell_type": "code",
   "execution_count": 13,
   "id": "57716fb0",
   "metadata": {},
   "outputs": [
    {
     "data": {
      "text/plain": [
       "<matplotlib.collections.PathCollection at 0x7f744f05b3a0>"
      ]
     },
     "execution_count": 13,
     "metadata": {},
     "output_type": "execute_result"
    },
    {
     "data": {
      "image/png": "[encoded data removed]",
      "text/plain": [
       "<Figure size 432x288 with 1 Axes>"
      ]
     },
     "metadata": {
      "needs_background": "light"
     },
     "output_type": "display_data"
    }
   ],
   "source": [
    "plt.scatter(x, y)"
   ]
  },
  {
   "cell_type": "code",
   "execution_count": 6,
   "id": "b3684ee7",
   "metadata": {},
   "outputs": [],
   "source": [
    "def get_nn(structure, site, atol=1e-1):\n",
    "    \"\"\"\n",
    "    returns indicies of neighbouring sites in structure for given site.\n",
    "    \"\"\"\n",
    "    layer_coords = build_layers_coords(structure)\n",
    "    layer = get_layer(site, layer_coords)\n",
    "    nearest_neighbor_ids = []\n",
    "    dx, dy = get_x_y_dist(structure)\n",
    "    for i,s in enumerate(structure):\n",
    "        if max(np.isclose(site.distance(s), [dx, dy], atol=atol)) == 1 and get_layer(s, layer_coords) == layer:\n",
    "            nearest_neighbor_ids.append(i)    \n",
    "    return nearest_neighbor_ids"
   ]
  },
  {
   "cell_type": "code",
   "execution_count": 7,
   "id": "69c7329d",
   "metadata": {},
   "outputs": [],
   "source": [
    "def swap_sites(structure, defect_site, idx):\n",
    "    \"\"\"\n",
    "    Swap defect site with site in structure by index.\n",
    "    Works correctly when defect is substitution or vacancy\n",
    "    \"\"\"\n",
    "    defect_species = defect_site.species_string\n",
    "    site_species = structure[idx].species_string\n",
    "    if defect_species == site_species:\n",
    "        return structure.copy(), defect_site\n",
    "    new_defect_site = PeriodicSite(defect_site.species, \n",
    "                                   structure[idx].frac_coords, \n",
    "                                   structure[idx].lattice)\n",
    "    if defect_species != \"X0+\":\n",
    "        defect_idx = find_site(structure, defect_site)\n",
    "        indices_species_map = {idx: defect_species, defect_idx: site_species}\n",
    "        transformation = ReplaceSiteSpeciesTransformation(indices_species_map)\n",
    "        return transformation.apply_transformation(structure), new_defect_site\n",
    "    insert_transf = InsertSitesTransformation([site_species],\n",
    "                                              [defect_site.frac_coords])\n",
    "    remove_transf = RemoveSitesTransformation([idx])\n",
    "    removed_s = remove_transf.apply_transformation(structure)\n",
    "    return insert_transf.apply_transformation(removed_s), new_defect_site"
   ]
  },
  {
   "cell_type": "code",
   "execution_count": 8,
   "id": "4b0470a6",
   "metadata": {},
   "outputs": [],
   "source": [
    "def generate_neighbouring_structures(structure, defects, checker):\n",
    "    \"\"\"\n",
    "    Only one swap.\n",
    "    \"\"\"\n",
    "    result_structures = []\n",
    "    defect_reprs = []\n",
    "    for i, defect_site in enumerate(defects):\n",
    "        nns = get_nn(structure, defect_site)\n",
    "        for n_idx in nns:\n",
    "            new_structure, new_defect_site = swap_sites(structure, \n",
    "                                                        defect_site, \n",
    "                                                        n_idx)\n",
    "            new_defect_repr = defects.copy()\n",
    "            new_defect_repr[i] = new_defect_site\n",
    "            \n",
    "            # check if swapped with another defect\n",
    "            found, idx = safe_find_site(defects, new_defect_site)\n",
    "            if found:\n",
    "                swapped_defect_site = PeriodicSite(defects[idx].species, \n",
    "                                   defect_site.frac_coords, \n",
    "                                   defect_site.lattice)\n",
    "                new_defect_repr[idx] = swapped_defect_site\n",
    "            # check if got something new\n",
    "            is_new = True\n",
    "            for reprn in defect_reprs:\n",
    "                if checker.are_symmetrically_equivalent(reprn, \n",
    "                                                        new_defect_repr, \n",
    "                                                        symm_prec=0.01):\n",
    "                    is_new = False\n",
    "                    break\n",
    "            if is_new or len(defect_reprs) == 0:\n",
    "                result_structures.append(new_structure)\n",
    "                defect_reprs.append(new_defect_repr)\n",
    "    return result_structures, defect_reprs"
   ]
  },
  {
   "cell_type": "code",
   "execution_count": 9,
   "id": "44b397cd",
   "metadata": {},
   "outputs": [],
   "source": [
    "def get_energy_idx(defect_representation, group_df, checker):\n",
    "    for i, row in group_df.iterrows():\n",
    "        if checker.are_symmetrically_equivalent(defect_representation,\n",
    "                                                row.defect_representation,\n",
    "                                                symm_prec=0.01):\n",
    "            return row.energy_per_atom, row.idx\n",
    "    raise ValueError(f\"Not found symmetrically equivalent structure for {defect_representation}\")"
   ]
  },
  {
   "cell_type": "code",
   "execution_count": 10,
   "id": "d5c2386e",
   "metadata": {},
   "outputs": [],
   "source": [
    "finder = SpacegroupAnalyzer(dataset.get_full_structure(), symprec=1e-1)\n",
    "checker = finder.get_space_group_operations()"
   ]
  },
  {
   "cell_type": "code",
   "execution_count": 11,
   "id": "3f4d3779",
   "metadata": {},
   "outputs": [],
   "source": [
    "def generate_group_adj_dict(group_df, checker, thr=0.0):\n",
    "    \"\"\"\n",
    "    Parallel\n",
    "    \"\"\"\n",
    "    def get_item(i, row):\n",
    "        adj_dict = {}\n",
    "        cur_energy = row.energy_per_atom\n",
    "        ns, defect_reprs = generate_neighbouring_structures(\n",
    "            row.initial_structure, row.defect_representation, checker\n",
    "        )\n",
    "        adj_dict[row.idx] = []\n",
    "        for defect_repr in defect_reprs:\n",
    "            energy, idx = get_energy_idx(defect_repr, group_df, checker)\n",
    "            if energy - cur_energy <= thr:\n",
    "                adj_dict[row.idx].append(idx)\n",
    "        return adj_dict\n",
    "            \n",
    "    result = Parallel(n_jobs=-3, verbose=100)(\n",
    "        delayed(get_item)(i, row) for i, row in group_df.iterrows()\n",
    "    )\n",
    "    adj_dict = {}\n",
    "    for entry in result:\n",
    "        adj_dict |= entry\n",
    "    return adj_dict"
   ]
  },
  {
   "cell_type": "code",
   "execution_count": 12,
   "id": "3b5272de",
   "metadata": {},
   "outputs": [],
   "source": [
    "def check_reachable(adj_dict, min_idx):\n",
    "    is_reachable = True\n",
    "    digraph = nx.from_dict_of_lists(adj_dict, create_using=nx.DiGraph)\n",
    "    for node in digraph:\n",
    "        if not nx.has_path(digraph, node, min_idx):\n",
    "            print(f\"No path from {node} to {min_idx}!\")\n",
    "            is_reachable = False\n",
    "    return is_reachable"
   ]
  },
  {
   "cell_type": "code",
   "execution_count": 13,
   "id": "03da9119",
   "metadata": {},
   "outputs": [],
   "source": [
    "def check_all_groups(groups, data, checker):\n",
    "    all_adjs = {}\n",
    "    all_reachability = {}\n",
    "    for group in tqdm(groups):\n",
    "        group_df = data[data.group == group]\n",
    "        all_adjs[group] = generate_group_adj_dict(group_df, checker)\n",
    "        min_idx = group_df.iloc[group_df.energy_per_atom.argmin()].idx\n",
    "        all_reachability[group] = check_reachable(all_adjs[group], \n",
    "                                                     min_idx)\n",
    "    return all_adjs, all_reachability"
   ]
  },
  {
   "cell_type": "code",
   "execution_count": 14,
   "id": "e3e74a85",
   "metadata": {},
   "outputs": [],
   "source": [
    "from pymatgen.core.structure import Molecule, Element\n",
    "from pymatgen.io.babel import BabelMolAdaptor"
   ]
  },
  {
   "cell_type": "code",
   "execution_count": 68,
   "id": "dd3ce08c",
   "metadata": {},
   "outputs": [],
   "source": [
    "from openbabel import openbabel, pybel"
   ]
  },
  {
   "cell_type": "code",
   "execution_count": 15,
   "id": "65d8fc72",
   "metadata": {},
   "outputs": [
    {
     "data": {
      "text/plain": [
       "Structure Summary\n",
       "Lattice\n",
       "    abc : 25.5225256 25.5225256 14.879004\n",
       " angles : 90.0 90.0 119.99999999999999\n",
       " volume : 8393.668021812642\n",
       "      A : 25.5225256 0.0 1.5628039641098191e-15\n",
       "      B : -12.761262799999994 22.10315553833868 1.5628039641098191e-15\n",
       "      C : 0.0 0.0 14.879004\n",
       "PeriodicSite: X0+ (3.2031, 7.3604, 3.7198) [0.2920, 0.3330, 0.2500]\n",
       "PeriodicSite: Se (23.9274, 0.9210, 2.1549) [0.9583, 0.0417, 0.1448]\n",
       "PeriodicSite: Se (1.5952, 0.9210, 5.2846) [0.0833, 0.0417, 0.3552]"
      ]
     },
     "execution_count": 15,
     "metadata": {},
     "output_type": "execute_result"
    }
   ],
   "source": [
    "dataset[24].defect_representation"
   ]
  },
  {
   "cell_type": "code",
   "execution_count": 64,
   "id": "31a2827c",
   "metadata": {},
   "outputs": [],
   "source": [
    "def create_obmol(defect_representation):\n",
    "    mol = openbabel.OBMol()\n",
    "    n = len(defect_representation)\n",
    "    for defect in defect_representation:\n",
    "        a = mol.NewAtom()\n",
    "        coords = defect.coords\n",
    "        atomic_num = defect.specie.Z\n",
    "        if defect.specie.symbol == 'X':\n",
    "            atomic_num = 0\n",
    "        a.SetAtomicNum(atomic_num)\n",
    "        a.SetVector(*coords)\n",
    "    for i in range(n):\n",
    "        for j in range(i+1, n, 1):\n",
    "            mol.AddBond(i+1, j+1, 1)\n",
    "    return mol\n",
    "        "
   ]
  },
  {
   "cell_type": "code",
   "execution_count": 66,
   "id": "820310e4",
   "metadata": {},
   "outputs": [],
   "source": [
    "obmol = create_obmol(d24)"
   ]
  },
  {
   "cell_type": "code",
   "execution_count": 69,
   "id": "5076db65",
   "metadata": {},
   "outputs": [],
   "source": [
    "pbmol = pybel.Molecule(obmol)"
   ]
  },
  {
   "cell_type": "code",
   "execution_count": 73,
   "id": "4a4d3fdf",
   "metadata": {},
   "outputs": [],
   "source": [
    "pbmol.draw()"
   ]
  },
  {
   "cell_type": "code",
   "execution_count": 74,
   "id": "b75e73cc",
   "metadata": {},
   "outputs": [],
   "source": [
    "pbmol.write(\"sdf\", \"outputfile.sdf\")"
   ]
  },
  {
   "cell_type": "code",
   "execution_count": 16,
   "id": "5e401926",
   "metadata": {},
   "outputs": [],
   "source": [
    "d24 = dataset[24].defect_representation"
   ]
  },
  {
   "cell_type": "code",
   "execution_count": 33,
   "id": "88239859",
   "metadata": {},
   "outputs": [
    {
     "data": {
      "text/plain": [
       "Molecule Summary\n",
       "Site: X0+ (320.0000, 736.0000, 371.0000)\n",
       "Site: Se (2392.0000, 92.0000, 215.0000)\n",
       "Site: Se (159.0000, 92.0000, 528.0000)"
      ]
     },
     "execution_count": 33,
     "metadata": {},
     "output_type": "execute_result"
    }
   ],
   "source": [
    "pmg_mol = Molecule([site.species for site in d24], [[int(c*100) for c in site.coords] for site in d24 ])\n",
    "pmg_mol"
   ]
  },
  {
   "cell_type": "code",
   "execution_count": 38,
   "id": "8d03380d",
   "metadata": {},
   "outputs": [
    {
     "data": {
      "text/plain": [
       "34"
      ]
     },
     "execution_count": 38,
     "metadata": {},
     "output_type": "execute_result"
    }
   ],
   "source": [
    "pmg_mol[1].specie.Z"
   ]
  },
  {
   "cell_type": "code",
   "execution_count": 82,
   "id": "b1851e7c",
   "metadata": {},
   "outputs": [
    {
     "data": {
      "text/plain": [
       "openbabel.pybel.Fingerprint"
      ]
     },
     "execution_count": 82,
     "metadata": {},
     "output_type": "execute_result"
    }
   ],
   "source": [
    "pybel.Fingerprint"
   ]
  },
  {
   "cell_type": "code",
   "execution_count": 83,
   "id": "69371185",
   "metadata": {},
   "outputs": [],
   "source": [
    "spectromaker = pybel.ob.OBSpectrophore()"
   ]
  },
  {
   "cell_type": "code",
   "execution_count": 84,
   "id": "899e6c94",
   "metadata": {},
   "outputs": [],
   "source": [
    "myspec = spectromaker.GetSpectrophore(pbmol.OBMol)"
   ]
  },
  {
   "cell_type": "code",
   "execution_count": 86,
   "id": "69072478",
   "metadata": {},
   "outputs": [],
   "source": [
    "rdmol = Chem.SDMolSupplier('outputfile.sdf')"
   ]
  },
  {
   "cell_type": "code",
   "execution_count": 90,
   "id": "1934608c",
   "metadata": {},
   "outputs": [
    {
     "data": {
      "image/png": "[encoded data removed]",
      "text/html": [
       "<table><tr><td colspan=2 style=\"text-align:center\"><image src=\"data:image/png;base64,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\"></td></tr>\n",
       "<tr><th style=\"text-align:right\">Formula</th><td style=\"text-align:left\">Se2</td></tr></table>"
      ],
      "text/plain": [
       "<rdkit.Chem.rdchem.Mol at 0x7f27007e0400>"
      ]
     },
     "execution_count": 90,
     "metadata": {},
     "output_type": "execute_result"
    }
   ],
   "source": [
    "rdmol[0]"
   ]
  },
  {
   "cell_type": "code",
   "execution_count": 77,
   "id": "7634f0cf",
   "metadata": {},
   "outputs": [],
   "source": [
    "from rdkit import Chem"
   ]
  },
  {
   "cell_type": "code",
   "execution_count": 78,
   "id": "6cdb1240",
   "metadata": {},
   "outputs": [],
   "source": [
    "from e3fp.fingerprint.generate import fp, fprints_dict_from_mol"
   ]
  },
  {
   "cell_type": "code",
   "execution_count": 91,
   "id": "5591e8bc",
   "metadata": {},
   "outputs": [
    {
     "name": "stderr",
     "output_type": "stream",
     "text": [
      "2022-05-22 23:26:17,047|INFO|Generating fingerprints for .\n",
      "2022-05-22 23:26:17,055|ERROR|Error generating fingerprints for .\n",
      "Traceback (most recent call last):\n",
      "  File \"/home/user/anaconda3/envs/bacc/lib/python3.9/site-packages/e3fp/fingerprint/generate.py\", line 197, in fprints_dict_from_mol\n",
      "    fprint.name = MolItemName.from_str(name).to_conf_name(j)\n",
      "  File \"/home/user/anaconda3/envs/bacc/lib/python3.9/site-packages/e3fp/conformer/util.py\", line 65, in from_str\n",
      "    fields = cls.mol_item_name_to_dict(\n",
      "  File \"/home/user/anaconda3/envs/bacc/lib/python3.9/site-packages/e3fp/conformer/util.py\", line 136, in mol_item_name_to_dict\n",
      "    groups = match.groups()\n",
      "AttributeError: 'NoneType' object has no attribute 'groups'\n"
     ]
    },
    {
     "data": {
      "text/plain": [
       "{}"
      ]
     },
     "execution_count": 91,
     "metadata": {},
     "output_type": "execute_result"
    }
   ],
   "source": [
    "fprints_dict_from_mol(rdmol[0])"
   ]
  },
  {
   "cell_type": "code",
   "execution_count": 54,
   "id": "bea3a8b5",
   "metadata": {},
   "outputs": [],
   "source": [
    "import pybel"
   ]
  },
  {
   "cell_type": "code",
   "execution_count": 34,
   "id": "b7ba8133",
   "metadata": {},
   "outputs": [
    {
     "ename": "OverflowError",
     "evalue": "in method 'OBAtom_SetAtomicNum', argument 2 of type 'int'",
     "output_type": "error",
     "traceback": [
      "\u001b[0;31m---------------------------------------------------------------------------\u001b[0m",
      "\u001b[0;31mOverflowError\u001b[0m                             Traceback (most recent call last)",
      "\u001b[0;32m/tmp/ipykernel_44451/1153940811.py\u001b[0m in \u001b[0;36m<module>\u001b[0;34m\u001b[0m\n\u001b[0;32m----> 1\u001b[0;31m \u001b[0mBabelMolAdaptor\u001b[0m\u001b[0;34m(\u001b[0m\u001b[0mpmg_mol\u001b[0m\u001b[0;34m)\u001b[0m\u001b[0;34m.\u001b[0m\u001b[0mopenbabel_mol\u001b[0m\u001b[0;34m\u001b[0m\u001b[0;34m\u001b[0m\u001b[0m\n\u001b[0m",
      "\u001b[0;32m~/anaconda3/envs/bacc/lib/python3.9/site-packages/monty/dev.py\u001b[0m in \u001b[0;36mdecorated\u001b[0;34m(*args, **kwargs)\u001b[0m\n\u001b[1;32m     95\u001b[0m             \u001b[0;32mif\u001b[0m \u001b[0;32mnot\u001b[0m \u001b[0mself\u001b[0m\u001b[0;34m.\u001b[0m\u001b[0mcondition\u001b[0m\u001b[0;34m:\u001b[0m\u001b[0;34m\u001b[0m\u001b[0;34m\u001b[0m\u001b[0m\n\u001b[1;32m     96\u001b[0m                 \u001b[0;32mraise\u001b[0m \u001b[0mRuntimeError\u001b[0m\u001b[0;34m(\u001b[0m\u001b[0mself\u001b[0m\u001b[0;34m.\u001b[0m\u001b[0mmessage\u001b[0m\u001b[0;34m)\u001b[0m\u001b[0;34m\u001b[0m\u001b[0;34m\u001b[0m\u001b[0m\n\u001b[0;32m---> 97\u001b[0;31m             \u001b[0;32mreturn\u001b[0m \u001b[0m_callable\u001b[0m\u001b[0;34m(\u001b[0m\u001b[0;34m*\u001b[0m\u001b[0margs\u001b[0m\u001b[0;34m,\u001b[0m \u001b[0;34m**\u001b[0m\u001b[0mkwargs\u001b[0m\u001b[0;34m)\u001b[0m\u001b[0;34m\u001b[0m\u001b[0;34m\u001b[0m\u001b[0m\n\u001b[0m\u001b[1;32m     98\u001b[0m \u001b[0;34m\u001b[0m\u001b[0m\n\u001b[1;32m     99\u001b[0m         \u001b[0;32mreturn\u001b[0m \u001b[0mdecorated\u001b[0m\u001b[0;34m\u001b[0m\u001b[0;34m\u001b[0m\u001b[0m\n",
      "\u001b[0;32m~/anaconda3/envs/bacc/lib/python3.9/site-packages/pymatgen/io/babel.py\u001b[0m in \u001b[0;36m__init__\u001b[0;34m(self, mol)\u001b[0m\n\u001b[1;32m     65\u001b[0m                 \u001b[0mobatom\u001b[0m \u001b[0;34m=\u001b[0m \u001b[0mob\u001b[0m\u001b[0;34m.\u001b[0m\u001b[0mOBAtom\u001b[0m\u001b[0;34m(\u001b[0m\u001b[0;34m)\u001b[0m\u001b[0;34m\u001b[0m\u001b[0;34m\u001b[0m\u001b[0m\n\u001b[1;32m     66\u001b[0m                 \u001b[0mobatom\u001b[0m\u001b[0;34m.\u001b[0m\u001b[0mthisown\u001b[0m \u001b[0;34m=\u001b[0m \u001b[0;36m0\u001b[0m\u001b[0;34m\u001b[0m\u001b[0;34m\u001b[0m\u001b[0m\n\u001b[0;32m---> 67\u001b[0;31m                 \u001b[0mobatom\u001b[0m\u001b[0;34m.\u001b[0m\u001b[0mSetAtomicNum\u001b[0m\u001b[0;34m(\u001b[0m\u001b[0matomno\u001b[0m\u001b[0;34m)\u001b[0m\u001b[0;34m\u001b[0m\u001b[0;34m\u001b[0m\u001b[0m\n\u001b[0m\u001b[1;32m     68\u001b[0m                 \u001b[0mobatom\u001b[0m\u001b[0;34m.\u001b[0m\u001b[0mSetVector\u001b[0m\u001b[0;34m(\u001b[0m\u001b[0;34m*\u001b[0m\u001b[0mcoords\u001b[0m\u001b[0;34m)\u001b[0m\u001b[0;34m\u001b[0m\u001b[0;34m\u001b[0m\u001b[0m\n\u001b[1;32m     69\u001b[0m                 \u001b[0mobmol\u001b[0m\u001b[0;34m.\u001b[0m\u001b[0mAddAtom\u001b[0m\u001b[0;34m(\u001b[0m\u001b[0mobatom\u001b[0m\u001b[0;34m)\u001b[0m\u001b[0;34m\u001b[0m\u001b[0;34m\u001b[0m\u001b[0m\n",
      "\u001b[0;31mOverflowError\u001b[0m: in method 'OBAtom_SetAtomicNum', argument 2 of type 'int'"
     ]
    }
   ],
   "source": [
    "BabelMolAdaptor(pmg_mol).openbabel_mol\n"
   ]
  },
  {
   "cell_type": "code",
   "execution_count": 21,
   "id": "2b3d83be",
   "metadata": {},
   "outputs": [
    {
     "ename": "OverflowError",
     "evalue": "in method 'OBAtom_SetAtomicNum', argument 2 of type 'int'",
     "output_type": "error",
     "traceback": [
      "\u001b[0;31m---------------------------------------------------------------------------\u001b[0m",
      "\u001b[0;31mOverflowError\u001b[0m                             Traceback (most recent call last)",
      "\u001b[0;32m/tmp/ipykernel_44451/3789827432.py\u001b[0m in \u001b[0;36m<module>\u001b[0;34m\u001b[0m\n\u001b[0;32m----> 1\u001b[0;31m \u001b[0mmol\u001b[0m \u001b[0;34m=\u001b[0m \u001b[0mMolecule\u001b[0m\u001b[0;34m(\u001b[0m\u001b[0mBabelMolAdaptor\u001b[0m\u001b[0;34m(\u001b[0m\u001b[0mpmg_mol\u001b[0m\u001b[0;34m)\u001b[0m\u001b[0;34m.\u001b[0m\u001b[0mopenbabel_mol\u001b[0m\u001b[0;34m)\u001b[0m\u001b[0;34m\u001b[0m\u001b[0;34m\u001b[0m\u001b[0m\n\u001b[0m",
      "\u001b[0;32m~/anaconda3/envs/bacc/lib/python3.9/site-packages/monty/dev.py\u001b[0m in \u001b[0;36mdecorated\u001b[0;34m(*args, **kwargs)\u001b[0m\n\u001b[1;32m     95\u001b[0m             \u001b[0;32mif\u001b[0m \u001b[0;32mnot\u001b[0m \u001b[0mself\u001b[0m\u001b[0;34m.\u001b[0m\u001b[0mcondition\u001b[0m\u001b[0;34m:\u001b[0m\u001b[0;34m\u001b[0m\u001b[0;34m\u001b[0m\u001b[0m\n\u001b[1;32m     96\u001b[0m                 \u001b[0;32mraise\u001b[0m \u001b[0mRuntimeError\u001b[0m\u001b[0;34m(\u001b[0m\u001b[0mself\u001b[0m\u001b[0;34m.\u001b[0m\u001b[0mmessage\u001b[0m\u001b[0;34m)\u001b[0m\u001b[0;34m\u001b[0m\u001b[0;34m\u001b[0m\u001b[0m\n\u001b[0;32m---> 97\u001b[0;31m             \u001b[0;32mreturn\u001b[0m \u001b[0m_callable\u001b[0m\u001b[0;34m(\u001b[0m\u001b[0;34m*\u001b[0m\u001b[0margs\u001b[0m\u001b[0;34m,\u001b[0m \u001b[0;34m**\u001b[0m\u001b[0mkwargs\u001b[0m\u001b[0;34m)\u001b[0m\u001b[0;34m\u001b[0m\u001b[0;34m\u001b[0m\u001b[0m\n\u001b[0m\u001b[1;32m     98\u001b[0m \u001b[0;34m\u001b[0m\u001b[0m\n\u001b[1;32m     99\u001b[0m         \u001b[0;32mreturn\u001b[0m \u001b[0mdecorated\u001b[0m\u001b[0;34m\u001b[0m\u001b[0;34m\u001b[0m\u001b[0m\n",
      "\u001b[0;32m~/anaconda3/envs/bacc/lib/python3.9/site-packages/pymatgen/io/babel.py\u001b[0m in \u001b[0;36m__init__\u001b[0;34m(self, mol)\u001b[0m\n\u001b[1;32m     65\u001b[0m                 \u001b[0mobatom\u001b[0m \u001b[0;34m=\u001b[0m \u001b[0mob\u001b[0m\u001b[0;34m.\u001b[0m\u001b[0mOBAtom\u001b[0m\u001b[0;34m(\u001b[0m\u001b[0;34m)\u001b[0m\u001b[0;34m\u001b[0m\u001b[0;34m\u001b[0m\u001b[0m\n\u001b[1;32m     66\u001b[0m                 \u001b[0mobatom\u001b[0m\u001b[0;34m.\u001b[0m\u001b[0mthisown\u001b[0m \u001b[0;34m=\u001b[0m \u001b[0;36m0\u001b[0m\u001b[0;34m\u001b[0m\u001b[0;34m\u001b[0m\u001b[0m\n\u001b[0;32m---> 67\u001b[0;31m                 \u001b[0mobatom\u001b[0m\u001b[0;34m.\u001b[0m\u001b[0mSetAtomicNum\u001b[0m\u001b[0;34m(\u001b[0m\u001b[0matomno\u001b[0m\u001b[0;34m)\u001b[0m\u001b[0;34m\u001b[0m\u001b[0;34m\u001b[0m\u001b[0m\n\u001b[0m\u001b[1;32m     68\u001b[0m                 \u001b[0mobatom\u001b[0m\u001b[0;34m.\u001b[0m\u001b[0mSetVector\u001b[0m\u001b[0;34m(\u001b[0m\u001b[0;34m*\u001b[0m\u001b[0mcoords\u001b[0m\u001b[0;34m)\u001b[0m\u001b[0;34m\u001b[0m\u001b[0;34m\u001b[0m\u001b[0m\n\u001b[1;32m     69\u001b[0m                 \u001b[0mobmol\u001b[0m\u001b[0;34m.\u001b[0m\u001b[0mAddAtom\u001b[0m\u001b[0;34m(\u001b[0m\u001b[0mobatom\u001b[0m\u001b[0;34m)\u001b[0m\u001b[0;34m\u001b[0m\u001b[0;34m\u001b[0m\u001b[0m\n",
      "\u001b[0;31mOverflowError\u001b[0m: in method 'OBAtom_SetAtomicNum', argument 2 of type 'int'"
     ]
    }
   ],
   "source": [
    "mol = Molecule(BabelMolAdaptor(pmg_mol).openbabel_mol)"
   ]
  },
  {
   "cell_type": "code",
   "execution_count": 26,
   "id": "ba3f3902",
   "metadata": {},
   "outputs": [
    {
     "data": {
      "text/plain": [
       "{'__name__': 'pybel',\n",
       " '__doc__': 'Parsing, validation, compilation, and data exchange of Biological Expression Language (BEL).',\n",
       " '__package__': 'pybel',\n",
       " '__loader__': <_frozen_importlib_external.SourceFileLoader at 0x7f97ef49b640>,\n",
       " '__spec__': ModuleSpec(name='pybel', loader=<_frozen_importlib_external.SourceFileLoader object at 0x7f97ef49b640>, origin='/home/user/anaconda3/envs/bacc/lib/python3.9/site-packages/pybel/__init__.py', submodule_search_locations=['/home/user/anaconda3/envs/bacc/lib/python3.9/site-packages/pybel']),\n",
       " '__path__': ['/home/user/anaconda3/envs/bacc/lib/python3.9/site-packages/pybel'],\n",
       " '__file__': '/home/user/anaconda3/envs/bacc/lib/python3.9/site-packages/pybel/__init__.py',\n",
       " '__cached__': '/home/user/anaconda3/envs/bacc/lib/python3.9/site-packages/pybel/__pycache__/__init__.cpython-39.pyc',\n",
       " '__builtins__': {'__name__': 'builtins',\n",
       "  '__doc__': \"Built-in functions, exceptions, and other objects.\\n\\nNoteworthy: None is the `nil' object; Ellipsis represents `...' in slices.\",\n",
       "  '__package__': '',\n",
       "  '__loader__': _frozen_importlib.BuiltinImporter,\n",
       "  '__spec__': ModuleSpec(name='builtins', loader=<class '_frozen_importlib.BuiltinImporter'>, origin='built-in'),\n",
       "  '__build_class__': <function __build_class__>,\n",
       "  '__import__': <function __import__>,\n",
       "  'abs': <function abs(x, /)>,\n",
       "  'all': <function all(iterable, /)>,\n",
       "  'any': <function any(iterable, /)>,\n",
       "  'ascii': <function ascii(obj, /)>,\n",
       "  'bin': <function bin(number, /)>,\n",
       "  'breakpoint': <function breakpoint>,\n",
       "  'callable': <function callable(obj, /)>,\n",
       "  'chr': <function chr(i, /)>,\n",
       "  'compile': <function compile(source, filename, mode, flags=0, dont_inherit=False, optimize=-1, *, _feature_version=-1)>,\n",
       "  'delattr': <function delattr(obj, name, /)>,\n",
       "  'dir': <function dir>,\n",
       "  'divmod': <function divmod(x, y, /)>,\n",
       "  'eval': <function eval(source, globals=None, locals=None, /)>,\n",
       "  'exec': <function exec(source, globals=None, locals=None, /)>,\n",
       "  'format': <function format(value, format_spec='', /)>,\n",
       "  'getattr': <function getattr>,\n",
       "  'globals': <function globals()>,\n",
       "  'hasattr': <function hasattr(obj, name, /)>,\n",
       "  'hash': <function hash(obj, /)>,\n",
       "  'hex': <function hex(number, /)>,\n",
       "  'id': <function id(obj, /)>,\n",
       "  'input': <bound method Kernel.raw_input of <ipykernel.ipkernel.IPythonKernel object at 0x7f988aa68ca0>>,\n",
       "  'isinstance': <function isinstance(obj, class_or_tuple, /)>,\n",
       "  'issubclass': <function issubclass(cls, class_or_tuple, /)>,\n",
       "  'iter': <function iter>,\n",
       "  'len': <function len(obj, /)>,\n",
       "  'locals': <function locals()>,\n",
       "  'max': <function max>,\n",
       "  'min': <function min>,\n",
       "  'next': <function next>,\n",
       "  'oct': <function oct(number, /)>,\n",
       "  'ord': <function ord(c, /)>,\n",
       "  'pow': <function pow(base, exp, mod=None)>,\n",
       "  'print': <function print>,\n",
       "  'repr': <function repr(obj, /)>,\n",
       "  'round': <function round(number, ndigits=None)>,\n",
       "  'setattr': <function setattr(obj, name, value, /)>,\n",
       "  'sorted': <function sorted(iterable, /, *, key=None, reverse=False)>,\n",
       "  'sum': <function sum(iterable, /, start=0)>,\n",
       "  'vars': <function vars>,\n",
       "  'None': None,\n",
       "  'Ellipsis': Ellipsis,\n",
       "  'NotImplemented': NotImplemented,\n",
       "  'False': False,\n",
       "  'True': True,\n",
       "  'bool': bool,\n",
       "  'memoryview': memoryview,\n",
       "  'bytearray': bytearray,\n",
       "  'bytes': bytes,\n",
       "  'classmethod': classmethod,\n",
       "  'complex': complex,\n",
       "  'dict': dict,\n",
       "  'enumerate': enumerate,\n",
       "  'filter': filter,\n",
       "  'float': float,\n",
       "  'frozenset': frozenset,\n",
       "  'property': property,\n",
       "  'int': int,\n",
       "  'list': list,\n",
       "  'map': map,\n",
       "  'object': object,\n",
       "  'range': range,\n",
       "  'reversed': reversed,\n",
       "  'set': set,\n",
       "  'slice': slice,\n",
       "  'staticmethod': staticmethod,\n",
       "  'str': str,\n",
       "  'super': super,\n",
       "  'tuple': tuple,\n",
       "  'type': type,\n",
       "  'zip': zip,\n",
       "  '__debug__': True,\n",
       "  'BaseException': BaseException,\n",
       "  'Exception': Exception,\n",
       "  'TypeError': TypeError,\n",
       "  'StopAsyncIteration': StopAsyncIteration,\n",
       "  'StopIteration': StopIteration,\n",
       "  'GeneratorExit': GeneratorExit,\n",
       "  'SystemExit': SystemExit,\n",
       "  'KeyboardInterrupt': KeyboardInterrupt,\n",
       "  'ImportError': ImportError,\n",
       "  'ModuleNotFoundError': ModuleNotFoundError,\n",
       "  'OSError': OSError,\n",
       "  'EnvironmentError': OSError,\n",
       "  'IOError': OSError,\n",
       "  'EOFError': EOFError,\n",
       "  'RuntimeError': RuntimeError,\n",
       "  'RecursionError': RecursionError,\n",
       "  'NotImplementedError': NotImplementedError,\n",
       "  'NameError': NameError,\n",
       "  'UnboundLocalError': UnboundLocalError,\n",
       "  'AttributeError': AttributeError,\n",
       "  'SyntaxError': SyntaxError,\n",
       "  'IndentationError': IndentationError,\n",
       "  'TabError': TabError,\n",
       "  'LookupError': LookupError,\n",
       "  'IndexError': IndexError,\n",
       "  'KeyError': KeyError,\n",
       "  'ValueError': ValueError,\n",
       "  'UnicodeError': UnicodeError,\n",
       "  'UnicodeEncodeError': UnicodeEncodeError,\n",
       "  'UnicodeDecodeError': UnicodeDecodeError,\n",
       "  'UnicodeTranslateError': UnicodeTranslateError,\n",
       "  'AssertionError': AssertionError,\n",
       "  'ArithmeticError': ArithmeticError,\n",
       "  'FloatingPointError': FloatingPointError,\n",
       "  'OverflowError': OverflowError,\n",
       "  'ZeroDivisionError': ZeroDivisionError,\n",
       "  'SystemError': SystemError,\n",
       "  'ReferenceError': ReferenceError,\n",
       "  'MemoryError': MemoryError,\n",
       "  'BufferError': BufferError,\n",
       "  'Warning': Warning,\n",
       "  'UserWarning': UserWarning,\n",
       "  'DeprecationWarning': DeprecationWarning,\n",
       "  'PendingDeprecationWarning': PendingDeprecationWarning,\n",
       "  'SyntaxWarning': SyntaxWarning,\n",
       "  'RuntimeWarning': RuntimeWarning,\n",
       "  'FutureWarning': FutureWarning,\n",
       "  'ImportWarning': ImportWarning,\n",
       "  'UnicodeWarning': UnicodeWarning,\n",
       "  'BytesWarning': BytesWarning,\n",
       "  'ResourceWarning': ResourceWarning,\n",
       "  'ConnectionError': ConnectionError,\n",
       "  'BlockingIOError': BlockingIOError,\n",
       "  'BrokenPipeError': BrokenPipeError,\n",
       "  'ChildProcessError': ChildProcessError,\n",
       "  'ConnectionAbortedError': ConnectionAbortedError,\n",
       "  'ConnectionRefusedError': ConnectionRefusedError,\n",
       "  'ConnectionResetError': ConnectionResetError,\n",
       "  'FileExistsError': FileExistsError,\n",
       "  'FileNotFoundError': FileNotFoundError,\n",
       "  'IsADirectoryError': IsADirectoryError,\n",
       "  'NotADirectoryError': NotADirectoryError,\n",
       "  'InterruptedError': InterruptedError,\n",
       "  'PermissionError': PermissionError,\n",
       "  'ProcessLookupError': ProcessLookupError,\n",
       "  'TimeoutError': TimeoutError,\n",
       "  'open': <function io.open(file, mode='r', buffering=-1, encoding=None, errors=None, newline=None, closefd=True, opener=None)>,\n",
       "  'copyright': Copyright (c) 2001-2021 Python Software Foundation.\n",
       "  All Rights Reserved.\n",
       "  \n",
       "  Copyright (c) 2000 BeOpen.com.\n",
       "  All Rights Reserved.\n",
       "  \n",
       "  Copyright (c) 1995-2001 Corporation for National Research Initiatives.\n",
       "  All Rights Reserved.\n",
       "  \n",
       "  Copyright (c) 1991-1995 Stichting Mathematisch Centrum, Amsterdam.\n",
       "  All Rights Reserved.,\n",
       "  'credits':     Thanks to CWI, CNRI, BeOpen.com, Zope Corporation and a cast of thousands\n",
       "      for supporting Python development.  See www.python.org for more information.,\n",
       "  'license': Type license() to see the full license text,\n",
       "  'help': Type help() for interactive help, or help(object) for help about object.,\n",
       "  'execfile': <function _pydev_imps._pydev_execfile.execfile(file, glob=None, loc=None)>,\n",
       "  'runfile': <function _pydev_bundle.pydev_umd.runfile(filename, args=None, wdir=None, namespace=None)>,\n",
       "  '__IPYTHON__': True,\n",
       "  'display': <function IPython.core.display.display(*objs, include=None, exclude=None, metadata=None, transient=None, display_id=None, **kwargs)>,\n",
       "  '__pybind11_internals_v4_gcc_libstdcpp_cxxabi1014__': <capsule object NULL at 0x7f98335e9ab0>,\n",
       "  'get_ipython': <bound method InteractiveShell.get_ipython of <ipykernel.zmqshell.ZMQInteractiveShell object at 0x7f988aa68d30>>},\n",
       " 'config': <module 'pybel.config' from '/home/user/anaconda3/envs/bacc/lib/python3.9/site-packages/pybel/config.py'>,\n",
       " 'constants': <module 'pybel.constants' from '/home/user/anaconda3/envs/bacc/lib/python3.9/site-packages/pybel/constants.py'>,\n",
       " 'typing': <module 'pybel.typing' from '/home/user/anaconda3/envs/bacc/lib/python3.9/site-packages/pybel/typing.py'>,\n",
       " 'utils': <module 'pybel.utils' from '/home/user/anaconda3/envs/bacc/lib/python3.9/site-packages/pybel/utils.py'>,\n",
       " 'exceptions': <module 'pybel.exceptions' from '/home/user/anaconda3/envs/bacc/lib/python3.9/site-packages/pybel/exceptions.py'>,\n",
       " 'language': <module 'pybel.language' from '/home/user/anaconda3/envs/bacc/lib/python3.9/site-packages/pybel/language.py'>,\n",
       " 'dsl': <module 'pybel.dsl' from '/home/user/anaconda3/envs/bacc/lib/python3.9/site-packages/pybel/dsl/__init__.py'>,\n",
       " 'version': <module 'pybel.version' from '/home/user/anaconda3/envs/bacc/lib/python3.9/site-packages/pybel/version.py'>,\n",
       " 'canonicalize': <module 'pybel.canonicalize' from '/home/user/anaconda3/envs/bacc/lib/python3.9/site-packages/pybel/canonicalize.py'>,\n",
       " 'edge_to_bel': <function pybel.canonicalize.edge_to_bel(source: pybel.dsl.node_classes.BaseEntity, target: pybel.dsl.node_classes.BaseEntity, data: Mapping, sep: Optional[str] = None, use_identifiers: bool = True) -> str>,\n",
       " 'to_bel_script': <function pybel.canonicalize.to_bel_script(graph, path: Union[str, TextIO], use_identifiers: bool = True) -> None>,\n",
       " 'to_bel_script_gz': <function pybel.canonicalize.to_bel_script_gz(graph, path, **kwargs) -> None>,\n",
       " 'to_bel_script_lines': <function pybel.canonicalize.to_bel_script_lines(graph, use_identifiers: bool = True) -> Iterable[str]>,\n",
       " 'BaseAbundance': pybel.dsl.node_classes.BaseAbundance,\n",
       " 'BaseEntity': pybel.dsl.node_classes.BaseEntity,\n",
       " 'tokens': <module 'pybel.tokens' from '/home/user/anaconda3/envs/bacc/lib/python3.9/site-packages/pybel/tokens.py'>,\n",
       " 'struct': <module 'pybel.struct' from '/home/user/anaconda3/envs/bacc/lib/python3.9/site-packages/pybel/struct/__init__.py'>,\n",
       " 'resources': <module 'pybel.resources' from '/home/user/anaconda3/envs/bacc/lib/python3.9/site-packages/pybel/resources/__init__.py'>,\n",
       " 'parser': <module 'pybel.parser' from '/home/user/anaconda3/envs/bacc/lib/python3.9/site-packages/pybel/parser/__init__.py'>,\n",
       " 'manager': <module 'pybel.manager' from '/home/user/anaconda3/envs/bacc/lib/python3.9/site-packages/pybel/manager/__init__.py'>,\n",
       " 'io': <module 'pybel.io' from '/home/user/anaconda3/envs/bacc/lib/python3.9/site-packages/pybel/io/__init__.py'>,\n",
       " 'dump': <function pybel.io.api.dump(graph: pybel.struct.graph.BELGraph, path: str, **kwargs) -> None>,\n",
       " 'load': <function pybel.io.api.load(path: str, **kwargs) -> pybel.struct.graph.BELGraph>,\n",
       " 'from_s3': <function pybel.io.aws.from_s3(*, bucket: str, key: str, client: Optional[Any] = None) -> pybel.struct.graph.BELGraph>,\n",
       " 'to_s3': <function pybel.io.aws.to_s3(graph: pybel.struct.graph.BELGraph, *, bucket: str, key: str, client: Optional[Any] = None) -> None>,\n",
       " 'from_bel_commons': <function pybel.io.bel_commons_client.from_bel_commons(network_id: int, host: Optional[str] = None) -> pybel.struct.graph.BELGraph>,\n",
       " 'to_bel_commons': <function pybel.io.bel_commons_client.to_bel_commons(graph: pybel.struct.graph.BELGraph, host: Optional[str] = None, user: Optional[str] = None, password: Optional[str] = None, public: bool = True) -> requests.models.Response>,\n",
       " 'from_biodati': <function pybel.io.biodati_client.from_biodati(network_id: str, username: str = 'demo@biodati.com', password: str = 'demo', base_url: str = 'https://networkstore.demo.biodati.com') -> pybel.struct.graph.BELGraph>,\n",
       " 'to_biodati': <function pybel.io.biodati_client.to_biodati(graph: pybel.struct.graph.BELGraph, *, username: str = 'demo@biodati.com', password: str = 'demo', base_url: str = 'https://nanopubstore.demo.biodati.com', chunksize: Optional[int] = None, use_tqdm: bool = True, collections: Optional[Iterable[str]] = None, overwrite: bool = False, validate: bool = True, email: Union[bool, str] = False) -> requests.models.Response>,\n",
       " 'from_cx': <function pybel.io.cx.from_cx(cx: List[Dict]) -> pybel.struct.graph.BELGraph>,\n",
       " 'from_cx_file': <function pybel.io.cx.from_cx_file(path: Union[str, TextIO]) -> pybel.struct.graph.BELGraph>,\n",
       " 'from_cx_gz': <function pybel.io.cx.from_cx_gz(path: str) -> pybel.struct.graph.BELGraph>,\n",
       " 'from_cx_jsons': <function pybel.io.cx.from_cx_jsons(graph_json_str: str) -> pybel.struct.graph.BELGraph>,\n",
       " 'to_cx': <function pybel.io.cx.to_cx(graph: pybel.struct.graph.BELGraph) -> List[Dict]>,\n",
       " 'to_cx_file': <function pybel.io.cx.to_cx_file(graph: pybel.struct.graph.BELGraph, path: Union[str, TextIO], indent: Optional[int] = 2, **kwargs) -> None>,\n",
       " 'to_cx_gz': <function pybel.io.cx.to_cx_gz(graph, path: str, **kwargs) -> None>,\n",
       " 'to_cx_jsons': <function pybel.io.cx.to_cx_jsons(graph: pybel.struct.graph.BELGraph, **kwargs) -> str>,\n",
       " 'from_emmaa': <function pybel.io.emmaa.from_emmaa(model: str, *, date: Optional[str] = None, extension: Optional[str] = None, suppress_warnings: bool = False) -> pybel.struct.graph.BELGraph>,\n",
       " 'to_csv': <function pybel.io.extras.to_csv(graph: pybel.struct.graph.BELGraph, path: Union[str, TextIO], sep: Optional[str] = None) -> None>,\n",
       " 'to_gsea': <function pybel.io.extras.to_gsea(graph: pybel.struct.graph.BELGraph, path: Union[str, TextIO]) -> None>,\n",
       " 'to_sif': <function pybel.io.extras.to_sif(graph: pybel.struct.graph.BELGraph, path: Union[str, TextIO], sep: Optional[str] = None) -> None>,\n",
       " 'from_fraunhofer_orientdb': <function pybel.io.fraunhofer_orientdb.from_fraunhofer_orientdb(database: str = 'covid', user: str = 'covid_user', password: str = 'covid', query: Optional[str] = None) -> pybel.struct.graph.BELGraph>,\n",
       " 'from_bytes': <function pybel.io.gpickle.from_bytes(bytes_graph: bytes, check_version: bool = True) -> pybel.struct.graph.BELGraph>,\n",
       " 'from_bytes_gz': <function pybel.io.gpickle.from_bytes_gz(bytes_graph: bytes) -> pybel.struct.graph.BELGraph>,\n",
       " 'from_pickle': <function pybel.io.gpickle.from_pickle(path: Union[str, BinaryIO], check_version: bool = True) -> pybel.struct.graph.BELGraph>,\n",
       " 'from_pickle_gz': <function pybel.io.gpickle.from_pickle_gz(path: str) -> pybel.struct.graph.BELGraph>,\n",
       " 'to_bytes': <function pybel.io.gpickle.to_bytes(graph: pybel.struct.graph.BELGraph, protocol: int = 5) -> bytes>,\n",
       " 'to_bytes_gz': <function pybel.io.gpickle.to_bytes_gz(graph: pybel.struct.graph.BELGraph, protocol: int = 5) -> bytes>,\n",
       " 'to_pickle': <function pybel.io.gpickle.to_pickle(graph: pybel.struct.graph.BELGraph, path: Union[str, BinaryIO], protocol: int = 5) -> None>,\n",
       " 'to_pickle_gz': <function pybel.io.gpickle.to_pickle_gz(graph: pybel.struct.graph.BELGraph, path: str, protocol: int = 5) -> None>,\n",
       " 'from_graphdati': <function pybel.io.graphdati.from_graphdati(j, use_tqdm: bool = True) -> pybel.struct.graph.BELGraph>,\n",
       " 'from_graphdati_file': <function pybel.io.graphdati.from_graphdati_file(path: Union[str, TextIO]) -> pybel.struct.graph.BELGraph>,\n",
       " 'from_graphdati_gz': <function pybel.io.graphdati.from_graphdati_gz(path: str) -> pybel.struct.graph.BELGraph>,\n",
       " 'from_graphdati_jsons': <function pybel.io.graphdati.from_graphdati_jsons(s: str) -> pybel.struct.graph.BELGraph>,\n",
       " 'to_graphdati': <function pybel.io.graphdati.to_graphdati(graph, *, use_identifiers: bool = True, skip_unqualified: bool = True, use_tqdm: bool = False, metadata_extras: Optional[Mapping[str, Any]] = None) -> List[Mapping[str, Mapping[str, Any]]]>,\n",
       " 'to_graphdati_file': <function pybel.io.graphdati.to_graphdati_file(graph: pybel.struct.graph.BELGraph, path: Union[str, TextIO], use_identifiers: bool = True, **kwargs) -> None>,\n",
       " 'to_graphdati_gz': <function pybel.io.graphdati.to_graphdati_gz(graph: pybel.struct.graph.BELGraph, path: str, **kwargs) -> None>,\n",
       " 'to_graphdati_jsonl': <function pybel.io.graphdati.to_graphdati_jsonl(graph, file, use_identifiers: bool = True, use_tqdm: bool = True)>,\n",
       " 'to_graphdati_jsonl_gz': <function pybel.io.graphdati.to_graphdati_jsonl_gz(graph: pybel.struct.graph.BELGraph, path: str, **kwargs) -> None>,\n",
       " 'to_graphdati_jsons': <function pybel.io.graphdati.to_graphdati_jsons(graph: pybel.struct.graph.BELGraph, **kwargs) -> str>,\n",
       " 'to_graphml': <function pybel.io.graphml.to_graphml(graph: pybel.struct.graph.BELGraph, path: Union[str, BinaryIO], schema: Optional[str] = None) -> None>,\n",
       " 'from_hetionet_file': <function pybel.io.hetionet.hetionet.from_hetionet_file(file) -> pybel.struct.graph.BELGraph>,\n",
       " 'from_hetionet_gz': <function pybel.io.hetionet.hetionet.from_hetionet_gz(path: str) -> pybel.struct.graph.BELGraph>,\n",
       " 'from_hetionet_json': <function pybel.io.hetionet.hetionet.from_hetionet_json(hetionet_dict: Mapping[str, Any], use_tqdm: bool = True) -> pybel.struct.graph.BELGraph>,\n",
       " 'get_hetionet': <function pybel.io.hetionet.hetionet.get_hetionet() -> pybel.struct.graph.BELGraph>,\n",
       " 'from_hipathia_dfs': <function pybel.io.hipathia.from_hipathia_dfs(name: str, att_df: pandas.core.frame.DataFrame, sif_df: pandas.core.frame.DataFrame) -> pybel.struct.graph.BELGraph>,\n",
       " 'from_hipathia_paths': <function pybel.io.hipathia.from_hipathia_paths(name: str, att_path: str, sif_path: str) -> pybel.struct.graph.BELGraph>,\n",
       " 'to_hipathia': <function pybel.io.hipathia.to_hipathia(graph: pybel.struct.graph.BELGraph, directory: str, draw: bool = True) -> None>,\n",
       " 'to_hipathia_dfs': <function pybel.io.hipathia.to_hipathia_dfs(graph: pybel.struct.graph.BELGraph, draw_directory: Optional[str] = None) -> Union[Tuple[NoneType, NoneType], Tuple[pandas.core.frame.DataFrame, pandas.core.frame.DataFrame]]>,\n",
       " 'from_biopax': <function pybel.io.indra.from_biopax(path: str, encoding: Optional[str] = None, **kwargs)>,\n",
       " 'from_indra_pickle': <function pybel.io.indra.from_indra_pickle(path: str, **kwargs)>,\n",
       " 'from_indra_statements': <function pybel.io.indra.from_indra_statements(stmts, name: Optional[str] = None, version: Optional[str] = None, description: Optional[str] = None, authors: Optional[str] = None, contact: Optional[str] = None, license: Optional[str] = None, copyright: Optional[str] = None, disclaimer: Optional[str] = None)>,\n",
       " 'from_indra_statements_json': <function pybel.io.indra.from_indra_statements_json(stmts_json: List[Mapping[str, Any]], **kwargs)>,\n",
       " 'from_indra_statements_json_file': <function pybel.io.indra.from_indra_statements_json_file(file, **kwargs)>,\n",
       " 'to_indra_statements': <function pybel.io.indra.to_indra_statements(graph)>,\n",
       " 'to_indra_statements_json': <function pybel.io.indra.to_indra_statements_json(graph) -> List[Mapping[str, Any]]>,\n",
       " 'to_indra_statements_json_file': <function pybel.io.indra.to_indra_statements_json_file(graph, path: Union[str, TextIO], indent: Optional[int] = 2, **kwargs)>,\n",
       " 'from_cbn_jgif': <function pybel.io.jgif.from_cbn_jgif(graph_jgif_dict)>,\n",
       " 'from_cbn_jgif_file': <function pybel.io.jgif.from_cbn_jgif_file(path: Union[str, TextIO]) -> pybel.struct.graph.BELGraph>,\n",
       " 'from_jgif': <function pybel.io.jgif.from_jgif(graph_jgif_dict, parser_kwargs: Optional[Mapping[str, Any]] = None)>,\n",
       " 'from_jgif_file': <function pybel.io.jgif.from_jgif_file(path: Union[str, TextIO]) -> pybel.struct.graph.BELGraph>,\n",
       " 'from_jgif_gz': <function pybel.io.jgif.from_jgif_gz(path: str) -> pybel.struct.graph.BELGraph>,\n",
       " 'from_jgif_jsons': <function pybel.io.jgif.from_jgif_jsons(graph_json_str: str) -> pybel.struct.graph.BELGraph>,\n",
       " 'post_jgif': <function pybel.io.jgif.post_jgif(graph: pybel.struct.graph.BELGraph, url: str, **kwargs) -> requests.models.Response>,\n",
       " 'to_jgif': <function pybel.io.jgif.to_jgif(graph)>,\n",
       " 'to_jgif_file': <function pybel.io.jgif.to_jgif_file(graph: pybel.struct.graph.BELGraph, file: Union[str, TextIO], **kwargs) -> None>,\n",
       " 'to_jgif_gz': <function pybel.io.jgif.to_jgif_gz(graph, path: str, **kwargs) -> None>,\n",
       " 'to_jgif_jsons': <function pybel.io.jgif.to_jgif_jsons(graph: pybel.struct.graph.BELGraph, **kwargs) -> str>,\n",
       " 'to_jupyter': <function pybel.io.jupyter.inline.to_jupyter(graph: pybel.struct.graph.BELGraph, width: int = 1000, height: int = 650, color_map: Optional[Mapping[str, str]] = None)>,\n",
       " 'to_jupyter_str': <function pybel.io.jupyter.inline.to_jupyter_str(graph: pybel.struct.graph.BELGraph, width: int = 1000, height: int = 650, color_map: Optional[Mapping[str, str]] = None) -> str>,\n",
       " 'from_bel_script': <function pybel.io.lines.from_bel_script(path: Union[str, TextIO], **kwargs) -> pybel.struct.graph.BELGraph>,\n",
       " 'from_bel_script_url': <function pybel.io.lines.from_bel_script_url(url: str, **kwargs) -> pybel.struct.graph.BELGraph>,\n",
       " 'to_neo4j': <function pybel.io.neo4j.to_neo4j(graph, neo_connection, use_tqdm: bool = False)>,\n",
       " 'from_nodelink': <function pybel.io.nodelink.from_nodelink(graph_json_dict: Mapping[str, Any], check_version: bool = True) -> pybel.struct.graph.BELGraph>,\n",
       " 'from_nodelink_file': <function pybel.io.nodelink.from_nodelink_file(path: Union[str, TextIO], check_version: bool = True) -> pybel.struct.graph.BELGraph>,\n",
       " 'from_nodelink_gz': <function pybel.io.nodelink.from_nodelink_gz(path: str) -> pybel.struct.graph.BELGraph>,\n",
       " 'from_nodelink_jsons': <function pybel.io.nodelink.from_nodelink_jsons(graph_json_str: str, check_version: bool = True) -> pybel.struct.graph.BELGraph>,\n",
       " 'to_nodelink': <function pybel.io.nodelink.to_nodelink(graph: pybel.struct.graph.BELGraph) -> Mapping[str, Any]>,\n",
       " 'to_nodelink_file': <function pybel.io.nodelink.to_nodelink_file(graph: pybel.struct.graph.BELGraph, path: Union[str, TextIO], **kwargs) -> None>,\n",
       " 'to_nodelink_gz': <function pybel.io.nodelink.to_nodelink_gz(graph, path: str, **kwargs) -> None>,\n",
       " 'to_nodelink_jsons': <function pybel.io.nodelink.to_nodelink_jsons(graph: pybel.struct.graph.BELGraph, **kwargs) -> str>,\n",
       " 'to_npa_dfs': <function pybel.io.pynpa.to_npa_dfs(graph: pybel.struct.graph.BELGraph, cartesian_expansion: bool = False, nomenclature_method_first_layer: Optional[str] = None, nomenclature_method_second_layer: Optional[str] = None, direct_tf_only: bool = False) -> Tuple[pandas.core.frame.DataFrame, pandas.core.frame.DataFrame]>,\n",
       " 'to_npa_directory': <function pybel.io.pynpa.to_npa_directory(graph: pybel.struct.graph.BELGraph, directory: str, **kwargs) -> None>,\n",
       " 'from_sbel': <function pybel.io.sbel.from_sbel(it: Iterable[Any], includes_metadata: bool = True) -> pybel.struct.graph.BELGraph>,\n",
       " 'from_sbel_file': <function pybel.io.sbel.from_sbel_file(path: Union[str, TextIO]) -> pybel.struct.graph.BELGraph>,\n",
       " 'from_sbel_gz': <function pybel.io.sbel.from_sbel_gz(path: str) -> pybel.struct.graph.BELGraph>,\n",
       " 'to_sbel': <function pybel.io.sbel.to_sbel(graph: pybel.struct.graph.BELGraph) -> List[Any]>,\n",
       " 'to_sbel_file': <function pybel.io.sbel.to_sbel_file(graph: pybel.struct.graph.BELGraph, path: Union[str, TextIO], separators=(',', ':'), **kwargs) -> None>,\n",
       " 'to_sbel_gz': <function pybel.io.sbel.to_sbel_gz(graph: pybel.struct.graph.BELGraph, path: str, separators=(',', ':'), **kwargs) -> None>,\n",
       " 'to_spia_dfs': <function pybel.io.spia.to_spia_dfs(graph: pybel.struct.graph.BELGraph) -> Mapping[str, pandas.core.frame.DataFrame]>,\n",
       " 'to_spia_excel': <function pybel.io.spia.to_spia_excel(graph: pybel.struct.graph.BELGraph, path: str) -> None>,\n",
       " 'to_spia_tsvs': <function pybel.io.spia.to_spia_tsvs(graph: pybel.struct.graph.BELGraph, directory: str) -> None>,\n",
       " 'to_edgelist': <function pybel.io.triples.api.to_edgelist(graph: pybel.struct.graph.BELGraph, path: Union[str, TextIO], *, use_tqdm: bool = False, sep='\\t', raise_on_none: bool = False) -> None>,\n",
       " 'to_triples': <function pybel.io.triples.api.to_triples(graph: pybel.struct.graph.BELGraph, use_tqdm: bool = False, raise_on_none: bool = False) -> List[Tuple[str, str, str]]>,\n",
       " 'to_triples_file': <function pybel.io.triples.api.to_triples_file(graph: pybel.struct.graph.BELGraph, path: Union[str, TextIO], *, use_tqdm: bool = False, sep='\\t', raise_on_none: bool = False) -> None>,\n",
       " 'to_umbrella_nodelink': <function pybel.io.umbrella_nodelink.to_umbrella_nodelink(graph: pybel.struct.graph.BELGraph) -> Mapping[str, Any]>,\n",
       " 'to_umbrella_nodelink_file': <function pybel.io.umbrella_nodelink.to_umbrella_nodelink_file(graph: pybel.struct.graph.BELGraph, path: Union[str, TextIO], **kwargs) -> None>,\n",
       " 'to_umbrella_nodelink_gz': <function pybel.io.umbrella_nodelink.to_umbrella_nodelink_gz(graph, path: str, **kwargs) -> None>,\n",
       " 'Manager': pybel.manager.cache_manager.Manager,\n",
       " 'from_database': <function pybel.manager.database_io.from_database(name: str, version: Optional[str] = None, manager: Optional[pybel.manager.cache_manager.Manager] = None)>,\n",
       " 'to_database': <function pybel.manager.database_io.to_database(graph, manager: Optional[pybel.manager.cache_manager.Manager] = None, use_tqdm: bool = True)>,\n",
       " 'parse': <functools._lru_cache_wrapper at 0x7f9802f1bb80>,\n",
       " 'BELGraph': pybel.struct.graph.BELGraph,\n",
       " 'Pipeline': pybel.struct.pipeline.pipeline.Pipeline,\n",
       " 'Query': pybel.struct.query.query.Query,\n",
       " 'union': <function pybel.struct.operations.union(graphs, use_tqdm: bool = False)>,\n",
       " 'get_version': <function pybel.version.get_version(with_git_hash: bool = False)>}"
      ]
     },
     "execution_count": 26,
     "metadata": {},
     "output_type": "execute_result"
    }
   ],
   "source": [
    "pybel.__dict__"
   ]
  },
  {
   "cell_type": "code",
   "execution_count": 26,
   "id": "e1ffa45b",
   "metadata": {},
   "outputs": [
    {
     "name": "stdout",
     "output_type": "stream",
     "text": [
      "[Parallel(n_jobs=-3)]: Using backend LokyBackend with 6 concurrent workers.\n"
     ]
    },
    {
     "name": "stderr",
     "output_type": "stream",
     "text": [
      "/home/user/anaconda3/envs/bacc/lib/python3.9/site-packages/pymatgen/core/__init__.py:49: UserWarning: Error loading .pmgrc.yaml: [Errno 2] No such file or directory: '/home/user/.pmgrc.yaml'. You may need to reconfigure your yaml file.\n",
      "  warnings.warn(f\"Error loading .pmgrc.yaml: {ex}. You may need to reconfigure your yaml file.\")\n",
      "/home/user/anaconda3/envs/bacc/lib/python3.9/site-packages/pymatgen/core/__init__.py:49: UserWarning: Error loading .pmgrc.yaml: [Errno 2] No such file or directory: '/home/user/.pmgrc.yaml'. You may need to reconfigure your yaml file.\n",
      "  warnings.warn(f\"Error loading .pmgrc.yaml: {ex}. You may need to reconfigure your yaml file.\")\n",
      "/home/user/anaconda3/envs/bacc/lib/python3.9/site-packages/pymatgen/core/__init__.py:49: UserWarning: Error loading .pmgrc.yaml: [Errno 2] No such file or directory: '/home/user/.pmgrc.yaml'. You may need to reconfigure your yaml file.\n",
      "  warnings.warn(f\"Error loading .pmgrc.yaml: {ex}. You may need to reconfigure your yaml file.\")\n",
      "/home/user/anaconda3/envs/bacc/lib/python3.9/site-packages/pymatgen/core/__init__.py:49: UserWarning: Error loading .pmgrc.yaml: [Errno 2] No such file or directory: '/home/user/.pmgrc.yaml'. You may need to reconfigure your yaml file.\n",
      "  warnings.warn(f\"Error loading .pmgrc.yaml: {ex}. You may need to reconfigure your yaml file.\")\n",
      "/home/user/anaconda3/envs/bacc/lib/python3.9/site-packages/pymatgen/core/__init__.py:49: UserWarning: Error loading .pmgrc.yaml: [Errno 2] No such file or directory: '/home/user/.pmgrc.yaml'. You may need to reconfigure your yaml file.\n",
      "  warnings.warn(f\"Error loading .pmgrc.yaml: {ex}. You may need to reconfigure your yaml file.\")\n",
      "/home/user/anaconda3/envs/bacc/lib/python3.9/site-packages/pymatgen/core/__init__.py:49: UserWarning: Error loading .pmgrc.yaml: [Errno 2] No such file or directory: '/home/user/.pmgrc.yaml'. You may need to reconfigure your yaml file.\n",
      "  warnings.warn(f\"Error loading .pmgrc.yaml: {ex}. You may need to reconfigure your yaml file.\")\n"
     ]
    },
    {
     "name": "stdout",
     "output_type": "stream",
     "text": [
      "[Parallel(n_jobs=-3)]: Done   1 tasks      | elapsed:    3.3s\n",
      "[Parallel(n_jobs=-3)]: Done   2 out of  10 | elapsed:    3.5s remaining:   13.8s\n",
      "[Parallel(n_jobs=-3)]: Done   3 out of  10 | elapsed:    3.6s remaining:    8.3s\n",
      "[Parallel(n_jobs=-3)]: Done   4 out of  10 | elapsed:    4.7s remaining:    7.1s\n",
      "[Parallel(n_jobs=-3)]: Done   5 out of  10 | elapsed:    5.0s remaining:    5.0s\n",
      "[Parallel(n_jobs=-3)]: Done   6 out of  10 | elapsed:    5.5s remaining:    3.7s\n",
      "[Parallel(n_jobs=-3)]: Done   7 out of  10 | elapsed:    5.7s remaining:    2.5s\n",
      "[Parallel(n_jobs=-3)]: Done   8 out of  10 | elapsed:    6.0s remaining:    1.5s\n",
      "[Parallel(n_jobs=-3)]: Done  10 out of  10 | elapsed:    6.7s remaining:    0.0s\n",
      "[Parallel(n_jobs=-3)]: Done  10 out of  10 | elapsed:    6.7s finished\n"
     ]
    }
   ],
   "source": [
    "ad = generate_group_adj_dict(dataset.get_subgroup_df('X2_diff'), checker)"
   ]
  },
  {
   "cell_type": "code",
   "execution_count": 23,
   "id": "2acc806a",
   "metadata": {},
   "outputs": [
    {
     "data": {
      "text/plain": [
       "{1: [],\n",
       " 4: [4, 292, 208, 453],\n",
       " 208: [208, 1, 582],\n",
       " 292: [208],\n",
       " 370: [1, 582, 597, 370],\n",
       " 398: [4, 292, 398],\n",
       " 453: [208, 582],\n",
       " 500: [4, 453],\n",
       " 582: [1],\n",
       " 597: []}"
      ]
     },
     "execution_count": 23,
     "metadata": {},
     "output_type": "execute_result"
    }
   ],
   "source": [
    "ad"
   ]
  },
  {
   "cell_type": "code",
   "execution_count": 24,
   "id": "eb21739b",
   "metadata": {},
   "outputs": [
    {
     "name": "stdout",
     "output_type": "stream",
     "text": [
      "No path from 1 to 597!\n",
      "No path from 4 to 597!\n",
      "No path from 208 to 597!\n",
      "No path from 292 to 597!\n",
      "No path from 398 to 597!\n",
      "No path from 453 to 597!\n",
      "No path from 500 to 597!\n",
      "No path from 582 to 597!\n"
     ]
    },
    {
     "data": {
      "text/plain": [
       "False"
      ]
     },
     "execution_count": 24,
     "metadata": {},
     "output_type": "execute_result"
    }
   ],
   "source": [
    "check_reachable(ad, dataset.subgroup_energy_argmin_idx('X2_diff'))"
   ]
  },
  {
   "cell_type": "code",
   "execution_count": null,
   "id": "72cd738c",
   "metadata": {},
   "outputs": [],
   "source": [
    "dataset.data[dataset.data.idx == 597]"
   ]
  },
  {
   "cell_type": "code",
   "execution_count": null,
   "id": "fb15400b",
   "metadata": {},
   "outputs": [],
   "source": [
    "ad = generate_group_adj_dict(dataset.get_group_df('X2'), checker)\n",
    "check_reachable(ad, dataset.group_energy_argmin_idx('X2'))"
   ]
  },
  {
   "cell_type": "code",
   "execution_count": null,
   "id": "f1124f79",
   "metadata": {},
   "outputs": [],
   "source": [
    "dataset.get_subgroup_df('X2_diff')"
   ]
  },
  {
   "cell_type": "code",
   "execution_count": null,
   "id": "9a9086f1",
   "metadata": {},
   "outputs": [],
   "source": [
    "assert False"
   ]
  },
  {
   "cell_type": "code",
   "execution_count": null,
   "id": "75bd3cde",
   "metadata": {},
   "outputs": [],
   "source": [
    "group = 'X5'\n",
    "group_df = data[data.group == group]\n",
    "adj_dict = generate_group_adj_dict(group_df, checker)\n",
    "min_idx = group_df.iloc[group_df.energy_per_atom.argmin()].idx\n",
    "check_reachable(adj_dict, min_idx)"
   ]
  },
  {
   "cell_type": "code",
   "execution_count": null,
   "id": "81c68e31",
   "metadata": {},
   "outputs": [],
   "source": [
    "%time\n",
    "all_adjs, all_reachability = check_all_groups(data.group.unique(), data, \n",
    "                                                 checker)"
   ]
  },
  {
   "cell_type": "code",
   "execution_count": 18,
   "id": "5eac20d2",
   "metadata": {},
   "outputs": [
    {
     "name": "stdout",
     "output_type": "stream",
     "text": [
      "Collecting pybel\n",
      "  Downloading pybel-0.15.5-py3-none-any.whl (387 kB)\n",
      "\u001b[K     |████████████████████████████████| 387 kB 2.3 MB/s eta 0:00:01\n",
      "\u001b[?25hCollecting sqlalchemy\n",
      "  Downloading SQLAlchemy-1.4.36-cp39-cp39-manylinux_2_5_x86_64.manylinux1_x86_64.manylinux_2_17_x86_64.manylinux2014_x86_64.whl (1.6 MB)\n",
      "\u001b[K     |████████████████████████████████| 1.6 MB 3.3 MB/s eta 0:00:01\n",
      "\u001b[?25hRequirement already satisfied: tqdm in /home/user/anaconda3/envs/bacc/lib/python3.9/site-packages (from pybel) (4.62.3)\n",
      "Requirement already satisfied: pandas in /home/user/anaconda3/envs/bacc/lib/python3.9/site-packages (from pybel) (1.4.0)\n",
      "Collecting psycopg2-binary\n",
      "  Downloading psycopg2_binary-2.9.3-cp39-cp39-manylinux_2_17_x86_64.manylinux2014_x86_64.whl (3.0 MB)\n",
      "\u001b[K     |████████████████████████████████| 3.0 MB 8.1 MB/s eta 0:00:01\n",
      "\u001b[?25hRequirement already satisfied: jsonschema in /home/user/anaconda3/envs/bacc/lib/python3.9/site-packages (from pybel) (3.2.0)\n",
      "Requirement already satisfied: requests in /home/user/anaconda3/envs/bacc/lib/python3.9/site-packages (from pybel) (2.27.1)\n",
      "Requirement already satisfied: tabulate in /home/user/anaconda3/envs/bacc/lib/python3.9/site-packages (from pybel) (0.8.9)\n",
      "Collecting ratelimit\n",
      "  Downloading ratelimit-2.2.1.tar.gz (5.3 kB)\n",
      "Collecting bel-resources>=0.0.3\n",
      "  Downloading bel_resources-0.0.3-py3-none-any.whl (17 kB)\n",
      "Collecting click-plugins\n",
      "  Downloading click_plugins-1.1.1-py2.py3-none-any.whl (7.5 kB)\n",
      "Collecting more-itertools\n",
      "  Downloading more_itertools-8.13.0-py3-none-any.whl (51 kB)\n",
      "\u001b[K     |████████████████████████████████| 51 kB 464 kB/s eta 0:00:01\n",
      "\u001b[?25hCollecting requests-file\n",
      "  Downloading requests_file-1.5.1-py2.py3-none-any.whl (3.7 kB)\n",
      "Requirement already satisfied: pyparsing in /home/user/anaconda3/envs/bacc/lib/python3.9/site-packages (from pybel) (3.0.4)\n",
      "Collecting humanize\n",
      "  Downloading humanize-4.1.0-py3-none-any.whl (101 kB)\n",
      "\u001b[K     |████████████████████████████████| 101 kB 3.7 MB/s ta 0:00:01\n",
      "\u001b[?25hRequirement already satisfied: networkx>=2.4 in /home/user/anaconda3/envs/bacc/lib/python3.9/site-packages (from pybel) (2.6.3)\n",
      "Collecting pystow>=0.1.2\n",
      "  Downloading pystow-0.4.3-py3-none-any.whl (33 kB)\n",
      "Collecting click\n",
      "  Downloading click-8.1.3-py3-none-any.whl (96 kB)\n",
      "\u001b[K     |████████████████████████████████| 96 kB 3.0 MB/s eta 0:00:01\n",
      "\u001b[?25hCollecting bioregistry\n",
      "  Downloading bioregistry-0.4.120-py3-none-any.whl (2.8 MB)\n",
      "\u001b[K     |████████████████████████████████| 2.8 MB 4.2 MB/s eta 0:00:01\n",
      "\u001b[?25hCollecting multisplitby\n",
      "  Downloading multisplitby-0.0.1-py3-none-any.whl (4.0 kB)\n",
      "Collecting more-click\n",
      "  Downloading more_click-0.1.1-py3-none-any.whl (6.2 kB)\n",
      "Collecting pydantic\n",
      "  Downloading pydantic-1.9.1-cp39-cp39-manylinux_2_17_x86_64.manylinux2014_x86_64.whl (12.4 MB)\n",
      "\u001b[K     |████████████████████████████████| 12.4 MB 9.8 MB/s eta 0:00:01\n",
      "\u001b[?25hRequirement already satisfied: attrs>=17.4.0 in /home/user/anaconda3/envs/bacc/lib/python3.9/site-packages (from jsonschema->pybel) (21.4.0)\n",
      "Requirement already satisfied: setuptools in /home/user/anaconda3/envs/bacc/lib/python3.9/site-packages (from jsonschema->pybel) (58.0.4)\n",
      "Requirement already satisfied: pyrsistent>=0.14.0 in /home/user/anaconda3/envs/bacc/lib/python3.9/site-packages (from jsonschema->pybel) (0.18.0)\n",
      "Requirement already satisfied: six>=1.11.0 in /home/user/anaconda3/envs/bacc/lib/python3.9/site-packages (from jsonschema->pybel) (1.16.0)\n",
      "Requirement already satisfied: python-dateutil>=2.8.1 in /home/user/anaconda3/envs/bacc/lib/python3.9/site-packages (from pandas->pybel) (2.8.2)\n",
      "Requirement already satisfied: pytz>=2020.1 in /home/user/anaconda3/envs/bacc/lib/python3.9/site-packages (from pandas->pybel) (2021.3)\n",
      "Requirement already satisfied: numpy>=1.18.5 in /home/user/anaconda3/envs/bacc/lib/python3.9/site-packages (from pandas->pybel) (1.22.2)\n",
      "Collecting typing-extensions>=3.7.4.3\n",
      "  Downloading typing_extensions-4.2.0-py3-none-any.whl (24 kB)\n",
      "Requirement already satisfied: charset-normalizer~=2.0.0 in /home/user/anaconda3/envs/bacc/lib/python3.9/site-packages (from requests->pybel) (2.0.11)\n",
      "Requirement already satisfied: idna<4,>=2.5 in /home/user/anaconda3/envs/bacc/lib/python3.9/site-packages (from requests->pybel) (3.3)\n",
      "Requirement already satisfied: urllib3<1.27,>=1.21.1 in /home/user/anaconda3/envs/bacc/lib/python3.9/site-packages (from requests->pybel) (1.26.8)\n",
      "Requirement already satisfied: certifi>=2017.4.17 in /home/user/anaconda3/envs/bacc/lib/python3.9/site-packages (from requests->pybel) (2021.10.8)\n",
      "Collecting greenlet!=0.4.17\n",
      "  Downloading greenlet-1.1.2-cp39-cp39-manylinux_2_17_x86_64.manylinux2014_x86_64.whl (153 kB)\n",
      "\u001b[K     |████████████████████████████████| 153 kB 6.8 MB/s eta 0:00:01\n",
      "\u001b[?25hBuilding wheels for collected packages: ratelimit\n",
      "  Building wheel for ratelimit (setup.py) ... \u001b[?25ldone\n",
      "\u001b[?25h  Created wheel for ratelimit: filename=ratelimit-2.2.1-py3-none-any.whl size=5908 sha256=d362d5bf13523d8d4fa5f248f0699a19037f9f1bf4da63a88d4cc58df1cbbcdd\n",
      "  Stored in directory: /home/user/.cache/pip/wheels/14/1e/97/126009a0884bdf7e26436cace73d9a4f4596dada4fdc4950ce\n",
      "Successfully built ratelimit\n",
      "Installing collected packages: typing-extensions, click, requests-file, pystow, pydantic, multisplitby, more-click, greenlet, sqlalchemy, ratelimit, psycopg2-binary, more-itertools, humanize, click-plugins, bioregistry, bel-resources, pybel\n",
      "Successfully installed bel-resources-0.0.3 bioregistry-0.4.120 click-8.1.3 click-plugins-1.1.1 greenlet-1.1.2 humanize-4.1.0 more-click-0.1.1 more-itertools-8.13.0 multisplitby-0.0.1 psycopg2-binary-2.9.3 pybel-0.15.5 pydantic-1.9.1 pystow-0.4.3 ratelimit-2.2.1 requests-file-1.5.1 sqlalchemy-1.4.36 typing-extensions-4.2.0\n"
     ]
    }
   ],
   "source": [
    "!pip install pybel"
   ]
  },
  {
   "cell_type": "code",
   "execution_count": 75,
   "id": "0962e417",
   "metadata": {},
   "outputs": [
    {
     "name": "stdout",
     "output_type": "stream",
     "text": [
      "Collecting package metadata (current_repodata.json): done\n",
      "Solving environment: failed with initial frozen solve. Retrying with flexible solve.\n",
      "Solving environment: done\n",
      "\n",
      "\n",
      "==> WARNING: A newer version of conda exists. <==\n",
      "  current version: 4.10.1\n",
      "  latest version: 4.12.0\n",
      "\n",
      "Please update conda by running\n",
      "\n",
      "    $ conda update -n base conda\n",
      "\n",
      "\n",
      "Collecting package metadata (repodata.json): done\n",
      "Solving environment: done\n",
      "\n",
      "\n",
      "==> WARNING: A newer version of conda exists. <==\n",
      "  current version: 4.10.1\n",
      "  latest version: 4.12.0\n",
      "\n",
      "Please update conda by running\n",
      "\n",
      "    $ conda update -n base conda\n",
      "\n",
      "\n",
      "\n",
      "## Package Plan ##\n",
      "\n",
      "  environment location: /home/user/anaconda3/envs/bacc\n",
      "\n",
      "  added / updated specs:\n",
      "    - rdkit\n",
      "\n",
      "\n",
      "The following packages will be downloaded:\n",
      "\n",
      "    package                    |            build\n",
      "    ---------------------------|-----------------\n",
      "    alsa-lib-1.2.3             |       h516909a_0         560 KB  conda-forge\n",
      "    boost-1.74.0               |   py39h5472131_3         368 KB  conda-forge\n",
      "    boost-cpp-1.74.0           |       h312852a_4        16.3 MB  conda-forge\n",
      "    bzip2-1.0.8                |       h7f98852_4         484 KB  conda-forge\n",
      "    cycler-0.11.0              |     pyhd8ed1ab_0          10 KB  conda-forge\n",
      "    gettext-0.19.8.1           |    h0b5b191_1005         3.6 MB  conda-forge\n",
      "    glib-2.68.3                |       h9c3ff4c_0         449 KB  conda-forge\n",
      "    glib-tools-2.68.3          |       h9c3ff4c_0          86 KB  conda-forge\n",
      "    greenlet-1.1.0             |   py39he80948d_0          84 KB  conda-forge\n",
      "    gst-plugins-base-1.18.4    |       hf529b03_2         2.6 MB  conda-forge\n",
      "    gstreamer-1.18.4           |       h76c114f_2         2.0 MB  conda-forge\n",
      "    icu-68.1                   |       h58526e2_0        13.0 MB  conda-forge\n",
      "    jbig-2.1                   |    h7f98852_2003          43 KB  conda-forge\n",
      "    kiwisolver-1.3.1           |   py39h1a9c180_1          80 KB  conda-forge\n",
      "    krb5-1.19.2                |       hcc1bbae_0         1.4 MB  conda-forge\n",
      "    lcms2-2.12                 |       hddcbb42_0         443 KB  conda-forge\n",
      "    lerc-2.2.1                 |       h9c3ff4c_0         213 KB  conda-forge\n",
      "    libblas-3.9.0              |11_linux64_openblas          12 KB  conda-forge\n",
      "    libcblas-3.9.0             |11_linux64_openblas          11 KB  conda-forge\n",
      "    libclang-11.1.0            |default_ha53f305_1        19.2 MB  conda-forge\n",
      "    libdeflate-1.7             |       h7f98852_5          67 KB  conda-forge\n",
      "    libedit-3.1.20191231       |       he28a2e2_2         121 KB  conda-forge\n",
      "    libevent-2.1.10            |       hcdb4288_3         1.1 MB  conda-forge\n",
      "    libgfortran-ng-12.1.0      |      h69a702a_16          23 KB  conda-forge\n",
      "    libgfortran5-12.1.0        |      hdcd56e2_16         1.8 MB  conda-forge\n",
      "    libglib-2.68.3             |       h3e27bee_0         3.1 MB  conda-forge\n",
      "    libiconv-1.16              |       h516909a_0         1.4 MB  conda-forge\n",
      "    liblapack-3.9.0            |11_linux64_openblas          11 KB  conda-forge\n",
      "    libllvm11-11.1.0           |       hf817b99_2        29.1 MB  conda-forge\n",
      "    libogg-1.3.4               |       h7f98852_1         206 KB  conda-forge\n",
      "    libopenblas-0.3.17         |pthreads_h8fe5266_1         9.2 MB  conda-forge\n",
      "    libopus-1.3.1              |       h7f98852_1         255 KB  conda-forge\n",
      "    libpq-13.3                 |       hd57d9b9_0         2.7 MB  conda-forge\n",
      "    libtiff-4.3.0              |       hf544144_1         668 KB  conda-forge\n",
      "    libvorbis-1.3.7            |       h9c3ff4c_0         280 KB  conda-forge\n",
      "    libwebp-base-1.2.0         |       h7f98852_2         815 KB  conda-forge\n",
      "    libxkbcommon-1.0.3         |       he3ba5ed_0         581 KB  conda-forge\n",
      "    libxml2-2.9.12             |       h72842e0_0         772 KB  conda-forge\n",
      "    lz4-c-1.9.3                |       h9c3ff4c_1         179 KB  conda-forge\n",
      "    matplotlib-base-3.4.2      |   py39h2fa2bec_0         7.2 MB  conda-forge\n",
      "    mysql-common-8.0.25        |       ha770c72_2         1.6 MB  conda-forge\n",
      "    mysql-libs-8.0.25          |       hfa10184_2         1.8 MB  conda-forge\n",
      "    nspr-4.30                  |       h9c3ff4c_0         233 KB  conda-forge\n",
      "    nss-3.67                   |       hb5efdd6_0         2.1 MB  conda-forge\n",
      "    numpy-1.21.1               |   py39hdbf815f_0         6.2 MB  conda-forge\n",
      "    olefile-0.46               |     pyh9f0ad1d_1          32 KB  conda-forge\n",
      "    openjpeg-2.4.0             |       hb52868f_1         444 KB  conda-forge\n",
      "    pandas-1.3.1               |   py39hde0f152_0        13.0 MB  conda-forge\n",
      "    pillow-8.3.1               |   py39ha612740_0         687 KB  conda-forge\n",
      "    pycairo-1.20.1             |   py39hedcb9fc_0          77 KB  conda-forge\n",
      "    pyqt-5.12.3                |   py39hf3d152e_7          21 KB  conda-forge\n",
      "    pyqt-impl-5.12.3           |   py39h0fcd23e_7         5.9 MB  conda-forge\n",
      "    pyqt5-sip-4.19.18          |   py39he80948d_7         310 KB  conda-forge\n",
      "    pyqtchart-5.12             |   py39h0fcd23e_7         253 KB  conda-forge\n",
      "    pyqtwebengine-5.12.1       |   py39h0fcd23e_7         174 KB  conda-forge\n",
      "    pytz-2022.1                |     pyhd8ed1ab_0         242 KB  conda-forge\n",
      "    qt-5.12.9                  |       hda022c4_4        99.5 MB  conda-forge\n",
      "    rdkit-2021.03.4            |   py39hccf6a74_0        38.4 MB  conda-forge\n",
      "    reportlab-3.5.68           |   py39he59360d_0         2.4 MB  conda-forge\n",
      "    sqlalchemy-1.4.22          |   py39h3811e60_0         2.3 MB  conda-forge\n",
      "    zstd-1.5.0                 |       ha95c52a_0         490 KB  conda-forge\n",
      "    ------------------------------------------------------------\n",
      "                                           Total:       296.6 MB\n",
      "\n",
      "The following NEW packages will be INSTALLED:\n",
      "\n",
      "  alsa-lib           conda-forge/linux-64::alsa-lib-1.2.3-h516909a_0\n",
      "  boost              conda-forge/linux-64::boost-1.74.0-py39h5472131_3\n",
      "  boost-cpp          conda-forge/linux-64::boost-cpp-1.74.0-h312852a_4\n",
      "  bzip2              conda-forge/linux-64::bzip2-1.0.8-h7f98852_4\n",
      "  cycler             conda-forge/noarch::cycler-0.11.0-pyhd8ed1ab_0\n",
      "  gettext            conda-forge/linux-64::gettext-0.19.8.1-h0b5b191_1005\n",
      "  glib-tools         conda-forge/linux-64::glib-tools-2.68.3-h9c3ff4c_0\n",
      "  greenlet           conda-forge/linux-64::greenlet-1.1.0-py39he80948d_0\n",
      "  jbig               conda-forge/linux-64::jbig-2.1-h7f98852_2003\n",
      "  kiwisolver         conda-forge/linux-64::kiwisolver-1.3.1-py39h1a9c180_1\n",
      "  krb5               conda-forge/linux-64::krb5-1.19.2-hcc1bbae_0\n",
      "  lcms2              conda-forge/linux-64::lcms2-2.12-hddcbb42_0\n",
      "  lerc               conda-forge/linux-64::lerc-2.2.1-h9c3ff4c_0\n",
      "  libblas            conda-forge/linux-64::libblas-3.9.0-11_linux64_openblas\n",
      "  libcblas           conda-forge/linux-64::libcblas-3.9.0-11_linux64_openblas\n",
      "  libclang           conda-forge/linux-64::libclang-11.1.0-default_ha53f305_1\n",
      "  libdeflate         conda-forge/linux-64::libdeflate-1.7-h7f98852_5\n",
      "  libedit            conda-forge/linux-64::libedit-3.1.20191231-he28a2e2_2\n",
      "  libevent           conda-forge/linux-64::libevent-2.1.10-hcdb4288_3\n",
      "  libgfortran-ng     conda-forge/linux-64::libgfortran-ng-12.1.0-h69a702a_16\n",
      "  libgfortran5       conda-forge/linux-64::libgfortran5-12.1.0-hdcd56e2_16\n",
      "  libglib            conda-forge/linux-64::libglib-2.68.3-h3e27bee_0\n",
      "  libiconv           conda-forge/linux-64::libiconv-1.16-h516909a_0\n",
      "  liblapack          conda-forge/linux-64::liblapack-3.9.0-11_linux64_openblas\n",
      "  libllvm11          conda-forge/linux-64::libllvm11-11.1.0-hf817b99_2\n",
      "  libogg             conda-forge/linux-64::libogg-1.3.4-h7f98852_1\n",
      "  libopenblas        conda-forge/linux-64::libopenblas-0.3.17-pthreads_h8fe5266_1\n",
      "  libopus            conda-forge/linux-64::libopus-1.3.1-h7f98852_1\n",
      "  libpq              conda-forge/linux-64::libpq-13.3-hd57d9b9_0\n",
      "  libtiff            conda-forge/linux-64::libtiff-4.3.0-hf544144_1\n",
      "  libvorbis          conda-forge/linux-64::libvorbis-1.3.7-h9c3ff4c_0\n",
      "  libwebp-base       conda-forge/linux-64::libwebp-base-1.2.0-h7f98852_2\n",
      "  libxkbcommon       conda-forge/linux-64::libxkbcommon-1.0.3-he3ba5ed_0\n",
      "  lz4-c              conda-forge/linux-64::lz4-c-1.9.3-h9c3ff4c_1\n",
      "  matplotlib-base    conda-forge/linux-64::matplotlib-base-3.4.2-py39h2fa2bec_0\n",
      "  mysql-common       conda-forge/linux-64::mysql-common-8.0.25-ha770c72_2\n",
      "  mysql-libs         conda-forge/linux-64::mysql-libs-8.0.25-hfa10184_2\n",
      "  nspr               conda-forge/linux-64::nspr-4.30-h9c3ff4c_0\n",
      "  nss                conda-forge/linux-64::nss-3.67-hb5efdd6_0\n",
      "  numpy              conda-forge/linux-64::numpy-1.21.1-py39hdbf815f_0\n",
      "  olefile            conda-forge/noarch::olefile-0.46-pyh9f0ad1d_1\n",
      "  openjpeg           conda-forge/linux-64::openjpeg-2.4.0-hb52868f_1\n",
      "  pandas             conda-forge/linux-64::pandas-1.3.1-py39hde0f152_0\n",
      "  pillow             conda-forge/linux-64::pillow-8.3.1-py39ha612740_0\n",
      "  pycairo            conda-forge/linux-64::pycairo-1.20.1-py39hedcb9fc_0\n",
      "  pyqt-impl          conda-forge/linux-64::pyqt-impl-5.12.3-py39h0fcd23e_7\n",
      "  pyqt5-sip          conda-forge/linux-64::pyqt5-sip-4.19.18-py39he80948d_7\n",
      "  pyqtchart          conda-forge/linux-64::pyqtchart-5.12-py39h0fcd23e_7\n",
      "  pyqtwebengine      conda-forge/linux-64::pyqtwebengine-5.12.1-py39h0fcd23e_7\n",
      "  pytz               conda-forge/noarch::pytz-2022.1-pyhd8ed1ab_0\n",
      "  rdkit              conda-forge/linux-64::rdkit-2021.03.4-py39hccf6a74_0\n",
      "  reportlab          conda-forge/linux-64::reportlab-3.5.68-py39he59360d_0\n",
      "  sqlalchemy         conda-forge/linux-64::sqlalchemy-1.4.22-py39h3811e60_0\n",
      "  zstd               conda-forge/linux-64::zstd-1.5.0-ha95c52a_0\n",
      "\n",
      "The following packages will be UPDATED:\n",
      "\n",
      "  gst-plugins-base   pkgs/main::gst-plugins-base-1.14.0-h8~ --> conda-forge::gst-plugins-base-1.18.4-hf529b03_2\n",
      "  gstreamer          pkgs/main::gstreamer-1.14.0-h28cd5cc_2 --> conda-forge::gstreamer-1.18.4-h76c114f_2\n",
      "  icu                        pkgs/main::icu-58.2-he6710b0_3 --> conda-forge::icu-68.1-h58526e2_0\n",
      "  pyqt                 pkgs/main::pyqt-5.9.2-py39h2531618_6 --> conda-forge::pyqt-5.12.3-py39hf3d152e_7\n",
      "  qt                         pkgs/main::qt-5.9.7-h5867ecd_1 --> conda-forge::qt-5.12.9-hda022c4_4\n",
      "\n",
      "The following packages will be SUPERSEDED by a higher-priority channel:\n",
      "\n",
      "  glib                    pkgs/main::glib-2.69.1-h4ff587b_1 --> conda-forge::glib-2.68.3-h9c3ff4c_0\n",
      "  libxml2              pkgs/main::libxml2-2.9.12-h03d6c58_0 --> conda-forge::libxml2-2.9.12-h72842e0_0\n",
      "\n",
      "\n"
     ]
    },
    {
     "name": "stdout",
     "output_type": "stream",
     "text": [
      "Proceed ([y]/n)? ^C\r\n",
      "\r\n",
      "CondaSystemExit: \r\n",
      "Operation aborted.  Exiting.\r\n",
      "\r\n"
     ]
    }
   ],
   "source": [
    "!conda install -c conda-forge rdkit"
   ]
  },
  {
   "cell_type": "code",
   "execution_count": 76,
   "id": "75a3cb83",
   "metadata": {},
   "outputs": [
    {
     "data": {
      "text/plain": [
       "1"
      ]
     },
     "execution_count": 76,
     "metadata": {},
     "output_type": "execute_result"
    }
   ],
   "source": [
    "1"
   ]
  },
  {
   "cell_type": "code",
   "execution_count": null,
   "id": "f4d879e3",
   "metadata": {},
   "outputs": [],
   "source": []
  }
 ],
 "metadata": {
  "kernelspec": {
   "display_name": "Python 3 (ipykernel)",
   "language": "python",
   "name": "python3"
  },
  "language_info": {
   "codemirror_mode": {
    "name": "ipython",
    "version": 3
   },
   "file_extension": ".py",
   "mimetype": "text/x-python",
   "name": "python",
   "nbconvert_exporter": "python",
   "pygments_lexer": "ipython3",
   "version": "3.9.7"
  },
  "varInspector": {
   "cols": {
    "lenName": 16,
    "lenType": 16,
    "lenVar": 40
   },
   "kernels_config": {
    "python": {
     "delete_cmd_postfix": "",
     "delete_cmd_prefix": "del ",
     "library": "var_list.py",
     "varRefreshCmd": "print(var_dic_list())"
    },
    "r": {
     "delete_cmd_postfix": ") ",
     "delete_cmd_prefix": "rm(",
     "library": "var_list.r",
     "varRefreshCmd": "cat(var_dic_list()) "
    }
   },
   "types_to_exclude": [
    "module",
    "function",
    "builtin_function_or_method",
    "instance",
    "_Feature"
   ],
   "window_display": false
  }
 },
 "nbformat": 4,
 "nbformat_minor": 5
}
